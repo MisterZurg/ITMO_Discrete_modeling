{
  "cells": [
    {
      "cell_type": "markdown",
      "source": [
        "# Laboratory work 1 – Modeling of demographic processes\n",
        "\n",
        "Problem Statement\n",
        "- Determine the «survival» rates independently for men and women for all age groups (“0-4” -> “5-9” -> “10-14” ...) according to 2000-2005 years (data for Russia or any other country)\n",
        "- Determine the fertility rate for women in the age category “20- ... -39”\n",
        "- Calculate boys/girls ratio for newborn children\n",
        "- Predict the change in the country's population and demographic profile for 100 years and compare with existing prediction!\n",
        "\n",
        "**For that:**\n",
        "- Write out equations for modeling\n",
        "- Define input/output data and parameters"
      ],
      "metadata": {
        "datalore": {
          "node_id": "G3tMQYfvgFtS7o7pB6JMW9",
          "type": "MD",
          "hide_input_from_viewers": false,
          "hide_output_from_viewers": false,
          "report_properties": {
            "rowId": "0abSkfJBhMMDOckYgPfSfb"
          }
        },
        "id": "pmePLq7V6eGw"
      }
    },
    {
      "cell_type": "code",
      "source": [
        "import math\n",
        "from typing import Optional\n",
        "\n",
        "import numpy as np\n",
        "import pandas as pd\n",
        "!pip install openpyxl\n",
        "import openpyxl\n",
        "\n",
        "\n",
        "import scipy\n",
        "from scipy.sparse import diags\n",
        "from scipy.optimize import root\n",
        "from tqdm.notebook import tqdm\n",
        "\n",
        "from sklearn.metrics import (\n",
        "    mean_absolute_error as mae,\n",
        "    mean_squared_error as mse,\n",
        "    r2_score as r2,\n",
        ")\n",
        "\n",
        "import plotly.express as px\n",
        "import plotly.graph_objects as go"
      ],
      "execution_count": null,
      "outputs": [
        {
          "name": "stdout",
          "text": [
            "Collecting openpyxl\r\n",
            "  Downloading openpyxl-3.1.2-py2.py3-none-any.whl (249 kB)\r\n",
            "\u001b[?25l     \u001b[90m━━━━━━━━━━━━━━━━━━━━━━━━━━━━━━━━━━━━━━━━\u001b[0m \u001b[32m0.0/250.0 kB\u001b[0m \u001b[31m?\u001b[0m eta \u001b[36m-:--:--\u001b[0m\r\u001b[2K     \u001b[90m━━━━━━━━━━━━━━━━━━━━━━━━━━━━━━━━━━━━━━\u001b[0m \u001b[32m250.0/250.0 kB\u001b[0m \u001b[31m24.1 MB/s\u001b[0m eta \u001b[36m0:00:00\u001b[0m\r\n",
            "\u001b[?25hCollecting et-xmlfile (from openpyxl)\r\n",
            "  Downloading et_xmlfile-1.1.0-py3-none-any.whl (4.7 kB)\r\n",
            "Installing collected packages: et-xmlfile, openpyxl\r\n",
            "Successfully installed et-xmlfile-1.1.0 openpyxl-3.1.2\r\n"
          ],
          "output_type": "stream"
        }
      ],
      "metadata": {
        "datalore": {
          "node_id": "jkBzGMf82FQF2yBMM2ilVA",
          "type": "CODE",
          "hide_input_from_viewers": false,
          "hide_output_from_viewers": false,
          "report_properties": {
            "rowId": "C5l7K9SPzjcGARgjWeHg0O"
          }
        },
        "id": "8kGz14W-6eG0",
        "outputId": "a786d93d-4787-4f87-986d-66dcce54e12e"
      }
    },
    {
      "cell_type": "markdown",
      "source": [
        "# Importing Data\n",
        "> The predictions and anlysis was made for \"Republic of Korea\" region!\n",
        "\n",
        "![img](https://ichef.bbci.co.uk/news/976/cpsprodpb/3984/production/_129042741_bbcm_south-korea_country_profile_200323.png)"
      ],
      "metadata": {
        "datalore": {
          "node_id": "NrvQKbnUu0nL1CNoSKLjYz",
          "type": "MD",
          "hide_input_from_viewers": false,
          "hide_output_from_viewers": false,
          "report_properties": {
            "rowId": "COj9MrCF9jLYoc16ZmvMV9"
          }
        },
        "id": "f4hf-TkZ6eG2"
      }
    },
    {
      "cell_type": "code",
      "source": [
        "both_1950_2005_df = pd.read_excel(\n",
        "    \"/data/notebook_files/age_data_2005.xlsx\",\n",
        "    sheet_name=\"both; 1950-2005, estimates\"\n",
        ")\n",
        "\n",
        "m_1950_2005_df = pd.read_excel(\n",
        "    \"/data/notebook_files/age_data_2005.xlsx\",\n",
        "    sheet_name=\"m; 1950-2005, estimates\"\n",
        ")\n",
        "\n",
        "f_1950_2005_df = pd.read_excel(\n",
        "    \"/data/notebook_files/age_data_2005.xlsx\",\n",
        "    sheet_name=\"f; 1950-2005, estimates\"\n",
        ")"
      ],
      "execution_count": null,
      "outputs": [],
      "metadata": {
        "datalore": {
          "node_id": "rgt0FvTeWL1dorCkQkqXxj",
          "type": "CODE",
          "hide_input_from_viewers": false,
          "hide_output_from_viewers": false,
          "report_properties": {
            "rowId": "pCY5uxHHyT2RIJdD8ue2ao"
          }
        },
        "id": "RTQTDbSy6eG2"
      }
    },
    {
      "cell_type": "markdown",
      "source": [
        "## Constants"
      ],
      "metadata": {
        "datalore": {
          "node_id": "lwAZypCKSa9Mq4UoDOb6Kj",
          "type": "MD",
          "hide_input_from_viewers": true,
          "hide_output_from_viewers": true
        },
        "id": "ND3fS0h-6eG3"
      }
    },
    {
      "cell_type": "code",
      "source": [
        "AGE_GROUPS = [f\"{k*5} - {(k+1)*5-1}\" for k in range(20)] + [\"100+\"]\n",
        "SURVIVAL_RATES = [f\"SR: {k*5} - {(k+1)*5-1}\" for k in range(1,20)] + [\"100+\"]\n",
        "YEARS = np.sort(both_1950_2005_df[\"Year\"].unique())\n",
        "REGION = \"Republic of Korea\""
      ],
      "execution_count": null,
      "outputs": [],
      "metadata": {
        "datalore": {
          "node_id": "7tsxkRpkRnkhOVAorfp5CD",
          "type": "CODE",
          "hide_input_from_viewers": true,
          "hide_output_from_viewers": true
        },
        "id": "-khFI4ga6eG3"
      }
    },
    {
      "cell_type": "code",
      "source": [
        "def dfPreprocessing(df : pd.DataFrame,\n",
        "                    region: str,\n",
        "                    years : np.ndarray,\n",
        "                    ) -> pd.DataFrame:\n",
        "    df = df[df[\"Region\"] == region]\\\n",
        "            .replace(\"-\", np.nan)\\\n",
        "            .reset_index(drop=True)\n",
        "\n",
        "    df.loc[df[\"Year\"].isin(years[1:]), SURVIVAL_RATES] = df[df['Year'].isin(years[1:])][AGE_GROUPS[1:]].values / df[df['Year'].isin(years[:-1])][AGE_GROUPS[:-1]].values\n",
        "    return df\n"
      ],
      "execution_count": null,
      "outputs": [],
      "metadata": {
        "datalore": {
          "node_id": "jwlmNfQHjA12XbQNPPZmjC",
          "type": "CODE",
          "hide_input_from_viewers": true,
          "hide_output_from_viewers": true
        },
        "id": "EjEDEsGW6eG3"
      }
    },
    {
      "cell_type": "code",
      "source": [
        "both_cleaned_1950_2005_df = dfPreprocessing(both_1950_2005_df, REGION, YEARS)\n",
        "m_cleaned_1950_2005_df  = dfPreprocessing(m_1950_2005_df, REGION, YEARS)\n",
        "f_cleaned_1950_2005_df  = dfPreprocessing(f_1950_2005_df, REGION, YEARS)"
      ],
      "execution_count": null,
      "outputs": [],
      "metadata": {
        "datalore": {
          "node_id": "4YwpdkWzkNiJZkmyn201ry",
          "type": "CODE",
          "hide_input_from_viewers": true,
          "hide_output_from_viewers": true
        },
        "id": "JXswQMuN6eG4"
      }
    },
    {
      "cell_type": "code",
      "source": [
        "def raft(df_true: pd.DataFrame,\n",
        "         years, features,\n",
        "         df_pred: Optional[pd.DataFrame] = None,\n",
        "         remove=None, prefixes=None,\n",
        "         pltTitle : str = \"\",\n",
        "         yTitle: str = \"\") -> None:\n",
        "\n",
        "    fig = go.Figure()\n",
        "    # Only thing I figured is - I could do this\n",
        "    for j, year in enumerate(years):\n",
        "        subdata = df_true[df_true[\"Year\"]==year][features].dropna(axis=1)\n",
        "        X = subdata.columns\n",
        "        if remove is not None:\n",
        "            X = [k.replace(remove, \"\") for k in X]\n",
        "        Y = subdata.values.reshape(-1)\n",
        "        if prefixes is not None:\n",
        "            lbl = f\"{year}-{prefixes[j]}\"  # i\n",
        "        else:\n",
        "            lbl = f\"{year}\"\n",
        "\n",
        "            fig.add_trace(go.Scatter(x=X, y=Y, mode=\"lines\", name=lbl, line={\"dash\": \"solid\"}))\n",
        "\n",
        "    if df_pred is not None:\n",
        "        for j, year in enumerate(years):\n",
        "            pred_subdata = df_pred[df_pred[\"Year\"]==year][features].dropna(axis=1)\n",
        "            pred_X = pred_subdata.columns\n",
        "            if remove is not None:\n",
        "                pred_X = [k.replace(remove, \"\") for k in pred_X]\n",
        "            pred_Y = pred_subdata.values.reshape(-1)\n",
        "            if prefixes is not None:\n",
        "                lbl = f\"{year}-{prefixes[j]}\" # i\n",
        "            else:\n",
        "                lbl = f\"{year}\"\n",
        "\n",
        "            fig.add_trace(go.Scatter(x=pred_X, y=pred_Y, mode=\"lines\", name=lbl+\"-pred\", line={\"dash\": \"dot\"}))\n",
        "\n",
        "    # Removing repeated legend names\n",
        "    names = set()\n",
        "    fig.for_each_trace(\n",
        "        lambda trace:\n",
        "            trace.update(showlegend=False)\n",
        "            if (trace.name in names) else names.add(trace.name))\n",
        "\n",
        "    fig.update_layout(title=pltTitle, legend_title=\"year\")\n",
        "    fig.update_xaxes(title_text=\"Age Groups\")\n",
        "    fig.update_yaxes(title_text=yTitle)\n",
        "    fig.show()"
      ],
      "execution_count": null,
      "outputs": [],
      "metadata": {
        "datalore": {
          "node_id": "w1uEWwDnvzi4eS3cs29Z3k",
          "type": "CODE",
          "hide_input_from_viewers": true,
          "hide_output_from_viewers": true
        },
        "id": "jJi0hOjj6eG4"
      }
    },
    {
      "cell_type": "markdown",
      "source": [
        "# Data Overview"
      ],
      "metadata": {
        "datalore": {
          "node_id": "N7tx6mkPKL2AzWcrzZux2a",
          "type": "MD",
          "hide_input_from_viewers": false,
          "hide_output_from_viewers": false,
          "report_properties": {
            "rowId": "AY4DgESR3V6cMWP7lD59ab"
          }
        },
        "id": "d7eHPcDI6eG5"
      }
    },
    {
      "cell_type": "code",
      "source": [
        "raft(both_cleaned_1950_2005_df, features=AGE_GROUPS, years=both_cleaned_1950_2005_df[\"Year\"].unique()[-5:], pltTitle=\"Both\", yTitle=\"Population\")"
      ],
      "execution_count": null,
      "outputs": [
        {
          "data": {
            "application/vnd.plotly.v1+json": {
              "data": [
                {
                  "line": {
                    "dash": "solid"
                  },
                  "mode": "lines",
                  "name": "1985",
                  "x": [
                    "0 - 4",
                    "5 - 9",
                    "10 - 14",
                    "15 - 19",
                    "20 - 24",
                    "25 - 29",
                    "30 - 34",
                    "35 - 39",
                    "40 - 44",
                    "45 - 49",
                    "50 - 54",
                    "55 - 59",
                    "60 - 64",
                    "65 - 69",
                    "70 - 74",
                    "75 - 79",
                    "80 - 84"
                  ],
                  "y": [
                    3718.049,
                    3975.291,
                    4535.607,
                    4347.958,
                    4255.931,
                    4094.412,
                    3153.392,
                    2594.255,
                    2229.572,
                    2131.677,
                    1715.29,
                    1278.891,
                    1025.672,
                    721.953,
                    503.925,
                    314.233,
                    209.636
                  ],
                  "type": "scatter"
                },
                {
                  "line": {
                    "dash": "solid"
                  },
                  "mode": "lines",
                  "name": "1990",
                  "x": [
                    "0 - 4",
                    "5 - 9",
                    "10 - 14",
                    "15 - 19",
                    "20 - 24",
                    "25 - 29",
                    "30 - 34",
                    "35 - 39",
                    "40 - 44",
                    "45 - 49",
                    "50 - 54",
                    "55 - 59",
                    "60 - 64",
                    "65 - 69",
                    "70 - 74",
                    "75 - 79",
                    "80 - 84"
                  ],
                  "y": [
                    3279.672,
                    3835.51,
                    3962.069,
                    4464.016,
                    4288.624,
                    4276.189,
                    4096.389,
                    3017.939,
                    2503.634,
                    2202.152,
                    2038.791,
                    1604.348,
                    1155.614,
                    903.878,
                    595.961,
                    367.998,
                    276.493
                  ],
                  "type": "scatter"
                },
                {
                  "line": {
                    "dash": "solid"
                  },
                  "mode": "lines",
                  "name": "1995",
                  "x": [
                    "0 - 4",
                    "5 - 9",
                    "10 - 14",
                    "15 - 19",
                    "20 - 24",
                    "25 - 29",
                    "30 - 34",
                    "35 - 39",
                    "40 - 44",
                    "45 - 49",
                    "50 - 54",
                    "55 - 59",
                    "60 - 64",
                    "65 - 69",
                    "70 - 74",
                    "75 - 79",
                    "80 - 84",
                    "85 - 89",
                    "90 - 94",
                    "95 - 99"
                  ],
                  "y": [
                    3437.635,
                    3261.825,
                    3819.22,
                    3929.738,
                    4386.278,
                    4203.392,
                    4221.278,
                    4048.421,
                    2968.89,
                    2446.718,
                    2153.52,
                    1978.469,
                    1519.713,
                    1061.299,
                    779.908,
                    459.242,
                    221.714,
                    87.152,
                    19.497,
                    2.535
                  ],
                  "type": "scatter"
                },
                {
                  "line": {
                    "dash": "solid"
                  },
                  "mode": "lines",
                  "name": "2000",
                  "x": [
                    "0 - 4",
                    "5 - 9",
                    "10 - 14",
                    "15 - 19",
                    "20 - 24",
                    "25 - 29",
                    "30 - 34",
                    "35 - 39",
                    "40 - 44",
                    "45 - 49",
                    "50 - 54",
                    "55 - 59",
                    "60 - 64",
                    "65 - 69",
                    "70 - 74",
                    "75 - 79",
                    "80 - 84",
                    "85 - 89",
                    "90 - 94",
                    "95 - 99",
                    "100+"
                  ],
                  "y": [
                    3076.248,
                    3423.032,
                    3249.711,
                    3788.337,
                    3867.231,
                    4299.565,
                    4128.669,
                    4172.465,
                    3996.344,
                    2917.48,
                    2400.234,
                    2109.263,
                    1909.229,
                    1424.821,
                    939.082,
                    619.028,
                    307.553,
                    115.051,
                    31.215,
                    4.335,
                    0.12702169625246548
                  ],
                  "type": "scatter"
                },
                {
                  "line": {
                    "dash": "solid"
                  },
                  "mode": "lines",
                  "name": "2005",
                  "x": [
                    "0 - 4",
                    "5 - 9",
                    "10 - 14",
                    "15 - 19",
                    "20 - 24",
                    "25 - 29",
                    "30 - 34",
                    "35 - 39",
                    "40 - 44",
                    "45 - 49",
                    "50 - 54",
                    "55 - 59",
                    "60 - 64",
                    "65 - 69",
                    "70 - 74",
                    "75 - 79",
                    "80 - 84",
                    "85 - 89",
                    "90 - 94",
                    "95 - 99",
                    "100+"
                  ],
                  "y": [
                    2412.492,
                    3065.435,
                    3412.371,
                    3222.039,
                    3730.163,
                    3787.355,
                    4230.462,
                    4088.549,
                    4130.34,
                    3942.167,
                    2873.22,
                    2361.818,
                    2050.028,
                    1800.963,
                    1276.277,
                    768.098,
                    435.968,
                    173.15,
                    47.066,
                    8.313,
                    0.15271049596309114
                  ],
                  "type": "scatter"
                }
              ],
              "layout": {
                "template": {
                  "data": {
                    "histogram2dcontour": [
                      {
                        "type": "histogram2dcontour",
                        "colorbar": {
                          "outlinewidth": 0,
                          "ticks": ""
                        },
                        "colorscale": [
                          [
                            0,
                            "#0d0887"
                          ],
                          [
                            0.1111111111111111,
                            "#46039f"
                          ],
                          [
                            0.2222222222222222,
                            "#7201a8"
                          ],
                          [
                            0.3333333333333333,
                            "#9c179e"
                          ],
                          [
                            0.4444444444444444,
                            "#bd3786"
                          ],
                          [
                            0.5555555555555556,
                            "#d8576b"
                          ],
                          [
                            0.6666666666666666,
                            "#ed7953"
                          ],
                          [
                            0.7777777777777778,
                            "#fb9f3a"
                          ],
                          [
                            0.8888888888888888,
                            "#fdca26"
                          ],
                          [
                            1,
                            "#f0f921"
                          ]
                        ]
                      }
                    ],
                    "choropleth": [
                      {
                        "type": "choropleth",
                        "colorbar": {
                          "outlinewidth": 0,
                          "ticks": ""
                        }
                      }
                    ],
                    "histogram2d": [
                      {
                        "type": "histogram2d",
                        "colorbar": {
                          "outlinewidth": 0,
                          "ticks": ""
                        },
                        "colorscale": [
                          [
                            0,
                            "#0d0887"
                          ],
                          [
                            0.1111111111111111,
                            "#46039f"
                          ],
                          [
                            0.2222222222222222,
                            "#7201a8"
                          ],
                          [
                            0.3333333333333333,
                            "#9c179e"
                          ],
                          [
                            0.4444444444444444,
                            "#bd3786"
                          ],
                          [
                            0.5555555555555556,
                            "#d8576b"
                          ],
                          [
                            0.6666666666666666,
                            "#ed7953"
                          ],
                          [
                            0.7777777777777778,
                            "#fb9f3a"
                          ],
                          [
                            0.8888888888888888,
                            "#fdca26"
                          ],
                          [
                            1,
                            "#f0f921"
                          ]
                        ]
                      }
                    ],
                    "heatmap": [
                      {
                        "type": "heatmap",
                        "colorbar": {
                          "outlinewidth": 0,
                          "ticks": ""
                        },
                        "colorscale": [
                          [
                            0,
                            "#0d0887"
                          ],
                          [
                            0.1111111111111111,
                            "#46039f"
                          ],
                          [
                            0.2222222222222222,
                            "#7201a8"
                          ],
                          [
                            0.3333333333333333,
                            "#9c179e"
                          ],
                          [
                            0.4444444444444444,
                            "#bd3786"
                          ],
                          [
                            0.5555555555555556,
                            "#d8576b"
                          ],
                          [
                            0.6666666666666666,
                            "#ed7953"
                          ],
                          [
                            0.7777777777777778,
                            "#fb9f3a"
                          ],
                          [
                            0.8888888888888888,
                            "#fdca26"
                          ],
                          [
                            1,
                            "#f0f921"
                          ]
                        ]
                      }
                    ],
                    "heatmapgl": [
                      {
                        "type": "heatmapgl",
                        "colorbar": {
                          "outlinewidth": 0,
                          "ticks": ""
                        },
                        "colorscale": [
                          [
                            0,
                            "#0d0887"
                          ],
                          [
                            0.1111111111111111,
                            "#46039f"
                          ],
                          [
                            0.2222222222222222,
                            "#7201a8"
                          ],
                          [
                            0.3333333333333333,
                            "#9c179e"
                          ],
                          [
                            0.4444444444444444,
                            "#bd3786"
                          ],
                          [
                            0.5555555555555556,
                            "#d8576b"
                          ],
                          [
                            0.6666666666666666,
                            "#ed7953"
                          ],
                          [
                            0.7777777777777778,
                            "#fb9f3a"
                          ],
                          [
                            0.8888888888888888,
                            "#fdca26"
                          ],
                          [
                            1,
                            "#f0f921"
                          ]
                        ]
                      }
                    ],
                    "contourcarpet": [
                      {
                        "type": "contourcarpet",
                        "colorbar": {
                          "outlinewidth": 0,
                          "ticks": ""
                        }
                      }
                    ],
                    "contour": [
                      {
                        "type": "contour",
                        "colorbar": {
                          "outlinewidth": 0,
                          "ticks": ""
                        },
                        "colorscale": [
                          [
                            0,
                            "#0d0887"
                          ],
                          [
                            0.1111111111111111,
                            "#46039f"
                          ],
                          [
                            0.2222222222222222,
                            "#7201a8"
                          ],
                          [
                            0.3333333333333333,
                            "#9c179e"
                          ],
                          [
                            0.4444444444444444,
                            "#bd3786"
                          ],
                          [
                            0.5555555555555556,
                            "#d8576b"
                          ],
                          [
                            0.6666666666666666,
                            "#ed7953"
                          ],
                          [
                            0.7777777777777778,
                            "#fb9f3a"
                          ],
                          [
                            0.8888888888888888,
                            "#fdca26"
                          ],
                          [
                            1,
                            "#f0f921"
                          ]
                        ]
                      }
                    ],
                    "surface": [
                      {
                        "type": "surface",
                        "colorbar": {
                          "outlinewidth": 0,
                          "ticks": ""
                        },
                        "colorscale": [
                          [
                            0,
                            "#0d0887"
                          ],
                          [
                            0.1111111111111111,
                            "#46039f"
                          ],
                          [
                            0.2222222222222222,
                            "#7201a8"
                          ],
                          [
                            0.3333333333333333,
                            "#9c179e"
                          ],
                          [
                            0.4444444444444444,
                            "#bd3786"
                          ],
                          [
                            0.5555555555555556,
                            "#d8576b"
                          ],
                          [
                            0.6666666666666666,
                            "#ed7953"
                          ],
                          [
                            0.7777777777777778,
                            "#fb9f3a"
                          ],
                          [
                            0.8888888888888888,
                            "#fdca26"
                          ],
                          [
                            1,
                            "#f0f921"
                          ]
                        ]
                      }
                    ],
                    "mesh3d": [
                      {
                        "type": "mesh3d",
                        "colorbar": {
                          "outlinewidth": 0,
                          "ticks": ""
                        }
                      }
                    ],
                    "scatter": [
                      {
                        "fillpattern": {
                          "fillmode": "overlay",
                          "size": 10,
                          "solidity": 0.2
                        },
                        "type": "scatter"
                      }
                    ],
                    "parcoords": [
                      {
                        "type": "parcoords",
                        "line": {
                          "colorbar": {
                            "outlinewidth": 0,
                            "ticks": ""
                          }
                        }
                      }
                    ],
                    "scatterpolargl": [
                      {
                        "type": "scatterpolargl",
                        "marker": {
                          "colorbar": {
                            "outlinewidth": 0,
                            "ticks": ""
                          }
                        }
                      }
                    ],
                    "bar": [
                      {
                        "error_x": {
                          "color": "#2a3f5f"
                        },
                        "error_y": {
                          "color": "#2a3f5f"
                        },
                        "marker": {
                          "line": {
                            "color": "#E5ECF6",
                            "width": 0.5
                          },
                          "pattern": {
                            "fillmode": "overlay",
                            "size": 10,
                            "solidity": 0.2
                          }
                        },
                        "type": "bar"
                      }
                    ],
                    "scattergeo": [
                      {
                        "type": "scattergeo",
                        "marker": {
                          "colorbar": {
                            "outlinewidth": 0,
                            "ticks": ""
                          }
                        }
                      }
                    ],
                    "scatterpolar": [
                      {
                        "type": "scatterpolar",
                        "marker": {
                          "colorbar": {
                            "outlinewidth": 0,
                            "ticks": ""
                          }
                        }
                      }
                    ],
                    "histogram": [
                      {
                        "marker": {
                          "pattern": {
                            "fillmode": "overlay",
                            "size": 10,
                            "solidity": 0.2
                          }
                        },
                        "type": "histogram"
                      }
                    ],
                    "scattergl": [
                      {
                        "type": "scattergl",
                        "marker": {
                          "colorbar": {
                            "outlinewidth": 0,
                            "ticks": ""
                          }
                        }
                      }
                    ],
                    "scatter3d": [
                      {
                        "type": "scatter3d",
                        "line": {
                          "colorbar": {
                            "outlinewidth": 0,
                            "ticks": ""
                          }
                        },
                        "marker": {
                          "colorbar": {
                            "outlinewidth": 0,
                            "ticks": ""
                          }
                        }
                      }
                    ],
                    "scattermapbox": [
                      {
                        "type": "scattermapbox",
                        "marker": {
                          "colorbar": {
                            "outlinewidth": 0,
                            "ticks": ""
                          }
                        }
                      }
                    ],
                    "scatterternary": [
                      {
                        "type": "scatterternary",
                        "marker": {
                          "colorbar": {
                            "outlinewidth": 0,
                            "ticks": ""
                          }
                        }
                      }
                    ],
                    "scattercarpet": [
                      {
                        "type": "scattercarpet",
                        "marker": {
                          "colorbar": {
                            "outlinewidth": 0,
                            "ticks": ""
                          }
                        }
                      }
                    ],
                    "carpet": [
                      {
                        "aaxis": {
                          "endlinecolor": "#2a3f5f",
                          "gridcolor": "white",
                          "linecolor": "white",
                          "minorgridcolor": "white",
                          "startlinecolor": "#2a3f5f"
                        },
                        "baxis": {
                          "endlinecolor": "#2a3f5f",
                          "gridcolor": "white",
                          "linecolor": "white",
                          "minorgridcolor": "white",
                          "startlinecolor": "#2a3f5f"
                        },
                        "type": "carpet"
                      }
                    ],
                    "table": [
                      {
                        "cells": {
                          "fill": {
                            "color": "#EBF0F8"
                          },
                          "line": {
                            "color": "white"
                          }
                        },
                        "header": {
                          "fill": {
                            "color": "#C8D4E3"
                          },
                          "line": {
                            "color": "white"
                          }
                        },
                        "type": "table"
                      }
                    ],
                    "barpolar": [
                      {
                        "marker": {
                          "line": {
                            "color": "#E5ECF6",
                            "width": 0.5
                          },
                          "pattern": {
                            "fillmode": "overlay",
                            "size": 10,
                            "solidity": 0.2
                          }
                        },
                        "type": "barpolar"
                      }
                    ],
                    "pie": [
                      {
                        "automargin": true,
                        "type": "pie"
                      }
                    ]
                  },
                  "layout": {
                    "autotypenumbers": "strict",
                    "colorway": [
                      "#636efa",
                      "#EF553B",
                      "#00cc96",
                      "#ab63fa",
                      "#FFA15A",
                      "#19d3f3",
                      "#FF6692",
                      "#B6E880",
                      "#FF97FF",
                      "#FECB52"
                    ],
                    "font": {
                      "color": "#2a3f5f"
                    },
                    "hovermode": "closest",
                    "hoverlabel": {
                      "align": "left"
                    },
                    "paper_bgcolor": "white",
                    "plot_bgcolor": "#E5ECF6",
                    "polar": {
                      "bgcolor": "#E5ECF6",
                      "angularaxis": {
                        "gridcolor": "white",
                        "linecolor": "white",
                        "ticks": ""
                      },
                      "radialaxis": {
                        "gridcolor": "white",
                        "linecolor": "white",
                        "ticks": ""
                      }
                    },
                    "ternary": {
                      "bgcolor": "#E5ECF6",
                      "aaxis": {
                        "gridcolor": "white",
                        "linecolor": "white",
                        "ticks": ""
                      },
                      "baxis": {
                        "gridcolor": "white",
                        "linecolor": "white",
                        "ticks": ""
                      },
                      "caxis": {
                        "gridcolor": "white",
                        "linecolor": "white",
                        "ticks": ""
                      }
                    },
                    "coloraxis": {
                      "colorbar": {
                        "outlinewidth": 0,
                        "ticks": ""
                      }
                    },
                    "colorscale": {
                      "sequential": [
                        [
                          0,
                          "#0d0887"
                        ],
                        [
                          0.1111111111111111,
                          "#46039f"
                        ],
                        [
                          0.2222222222222222,
                          "#7201a8"
                        ],
                        [
                          0.3333333333333333,
                          "#9c179e"
                        ],
                        [
                          0.4444444444444444,
                          "#bd3786"
                        ],
                        [
                          0.5555555555555556,
                          "#d8576b"
                        ],
                        [
                          0.6666666666666666,
                          "#ed7953"
                        ],
                        [
                          0.7777777777777778,
                          "#fb9f3a"
                        ],
                        [
                          0.8888888888888888,
                          "#fdca26"
                        ],
                        [
                          1,
                          "#f0f921"
                        ]
                      ],
                      "sequentialminus": [
                        [
                          0,
                          "#0d0887"
                        ],
                        [
                          0.1111111111111111,
                          "#46039f"
                        ],
                        [
                          0.2222222222222222,
                          "#7201a8"
                        ],
                        [
                          0.3333333333333333,
                          "#9c179e"
                        ],
                        [
                          0.4444444444444444,
                          "#bd3786"
                        ],
                        [
                          0.5555555555555556,
                          "#d8576b"
                        ],
                        [
                          0.6666666666666666,
                          "#ed7953"
                        ],
                        [
                          0.7777777777777778,
                          "#fb9f3a"
                        ],
                        [
                          0.8888888888888888,
                          "#fdca26"
                        ],
                        [
                          1,
                          "#f0f921"
                        ]
                      ],
                      "diverging": [
                        [
                          0,
                          "#8e0152"
                        ],
                        [
                          0.1,
                          "#c51b7d"
                        ],
                        [
                          0.2,
                          "#de77ae"
                        ],
                        [
                          0.3,
                          "#f1b6da"
                        ],
                        [
                          0.4,
                          "#fde0ef"
                        ],
                        [
                          0.5,
                          "#f7f7f7"
                        ],
                        [
                          0.6,
                          "#e6f5d0"
                        ],
                        [
                          0.7,
                          "#b8e186"
                        ],
                        [
                          0.8,
                          "#7fbc41"
                        ],
                        [
                          0.9,
                          "#4d9221"
                        ],
                        [
                          1,
                          "#276419"
                        ]
                      ]
                    },
                    "xaxis": {
                      "gridcolor": "white",
                      "linecolor": "white",
                      "ticks": "",
                      "title": {
                        "standoff": 15
                      },
                      "zerolinecolor": "white",
                      "automargin": true,
                      "zerolinewidth": 2
                    },
                    "yaxis": {
                      "gridcolor": "white",
                      "linecolor": "white",
                      "ticks": "",
                      "title": {
                        "standoff": 15
                      },
                      "zerolinecolor": "white",
                      "automargin": true,
                      "zerolinewidth": 2
                    },
                    "scene": {
                      "xaxis": {
                        "backgroundcolor": "#E5ECF6",
                        "gridcolor": "white",
                        "linecolor": "white",
                        "showbackground": true,
                        "ticks": "",
                        "zerolinecolor": "white",
                        "gridwidth": 2
                      },
                      "yaxis": {
                        "backgroundcolor": "#E5ECF6",
                        "gridcolor": "white",
                        "linecolor": "white",
                        "showbackground": true,
                        "ticks": "",
                        "zerolinecolor": "white",
                        "gridwidth": 2
                      },
                      "zaxis": {
                        "backgroundcolor": "#E5ECF6",
                        "gridcolor": "white",
                        "linecolor": "white",
                        "showbackground": true,
                        "ticks": "",
                        "zerolinecolor": "white",
                        "gridwidth": 2
                      }
                    },
                    "shapedefaults": {
                      "line": {
                        "color": "#2a3f5f"
                      }
                    },
                    "annotationdefaults": {
                      "arrowcolor": "#2a3f5f",
                      "arrowhead": 0,
                      "arrowwidth": 1
                    },
                    "geo": {
                      "bgcolor": "white",
                      "landcolor": "#E5ECF6",
                      "subunitcolor": "white",
                      "showland": true,
                      "showlakes": true,
                      "lakecolor": "white"
                    },
                    "title": {
                      "x": 0.05
                    },
                    "mapbox": {
                      "style": "light"
                    }
                  }
                },
                "title": {
                  "text": "Both"
                },
                "legend": {
                  "title": {
                    "text": "year"
                  }
                },
                "xaxis": {
                  "title": {
                    "text": "Age Groups"
                  }
                },
                "yaxis": {
                  "title": {
                    "text": "Population"
                  }
                }
              },
              "config": {
                "plotlyServerURL": "https://plot.ly"
              }
            }
          },
          "metadata": {},
          "output_type": "display_data"
        }
      ],
      "metadata": {
        "datalore": {
          "node_id": "loMqIOryfUcYdDkJstbP5O",
          "type": "CODE",
          "hide_input_from_viewers": true,
          "hide_output_from_viewers": true
        },
        "id": "IH0rV9us6eG5",
        "outputId": "cf243057-9c0a-49e2-e61d-762c61e927ea"
      }
    },
    {
      "cell_type": "code",
      "source": [
        "raft(m_cleaned_1950_2005_df, features=AGE_GROUPS, years=m_cleaned_1950_2005_df[\"Year\"].unique()[-5:], pltTitle=\"Sigma Males\", yTitle=\"Population\")"
      ],
      "execution_count": null,
      "outputs": [
        {
          "data": {
            "application/vnd.plotly.v1+json": {
              "data": [
                {
                  "line": {
                    "dash": "solid"
                  },
                  "mode": "lines",
                  "name": "1985",
                  "x": [
                    "0 - 4",
                    "5 - 9",
                    "10 - 14",
                    "15 - 19",
                    "20 - 24",
                    "25 - 29",
                    "30 - 34",
                    "35 - 39",
                    "40 - 44",
                    "45 - 49",
                    "50 - 54",
                    "55 - 59",
                    "60 - 64",
                    "65 - 69",
                    "70 - 74",
                    "75 - 79",
                    "80 - 84"
                  ],
                  "y": [
                    1942.859,
                    2062.699,
                    2358.241,
                    2269.882,
                    2208.946,
                    2044.418,
                    1620.911,
                    1339.587,
                    1129.355,
                    1080.605,
                    825.689,
                    574.833,
                    456.007,
                    308.745,
                    197.028,
                    105.623,
                    50.171
                  ],
                  "type": "scatter"
                },
                {
                  "line": {
                    "dash": "solid"
                  },
                  "mode": "lines",
                  "name": "1990",
                  "x": [
                    "0 - 4",
                    "5 - 9",
                    "10 - 14",
                    "15 - 19",
                    "20 - 24",
                    "25 - 29",
                    "30 - 34",
                    "35 - 39",
                    "40 - 44",
                    "45 - 49",
                    "50 - 54",
                    "55 - 59",
                    "60 - 64",
                    "65 - 69",
                    "70 - 74",
                    "75 - 79",
                    "80 - 84"
                  ],
                  "y": [
                    1732.971,
                    1983.931,
                    2044.337,
                    2296.976,
                    2205.154,
                    2181.042,
                    2089.064,
                    1554.173,
                    1284.426,
                    1121.953,
                    1020.714,
                    748.808,
                    496.492,
                    379.81,
                    234.037,
                    123.56,
                    70.728
                  ],
                  "type": "scatter"
                },
                {
                  "line": {
                    "dash": "solid"
                  },
                  "mode": "lines",
                  "name": "1995",
                  "x": [
                    "0 - 4",
                    "5 - 9",
                    "10 - 14",
                    "15 - 19",
                    "20 - 24",
                    "25 - 29",
                    "30 - 34",
                    "35 - 39",
                    "40 - 44",
                    "45 - 49",
                    "50 - 54",
                    "55 - 59",
                    "60 - 64",
                    "65 - 69",
                    "70 - 74",
                    "75 - 79",
                    "80 - 84",
                    "85 - 89",
                    "90 - 94",
                    "95 - 99"
                  ],
                  "y": [
                    1823.546,
                    1720.961,
                    1974.149,
                    2025.573,
                    2250.391,
                    2151.565,
                    2144.406,
                    2056.389,
                    1519.282,
                    1243.272,
                    1084.018,
                    972.524,
                    688.857,
                    439.071,
                    311.704,
                    167.96,
                    67.581,
                    22.15,
                    4.029,
                    0.555
                  ],
                  "type": "scatter"
                },
                {
                  "line": {
                    "dash": "solid"
                  },
                  "mode": "lines",
                  "name": "2000",
                  "x": [
                    "0 - 4",
                    "5 - 9",
                    "10 - 14",
                    "15 - 19",
                    "20 - 24",
                    "25 - 29",
                    "30 - 34",
                    "35 - 39",
                    "40 - 44",
                    "45 - 49",
                    "50 - 54",
                    "55 - 59",
                    "60 - 64",
                    "65 - 69",
                    "70 - 74",
                    "75 - 79",
                    "80 - 84",
                    "85 - 89",
                    "90 - 94",
                    "95 - 99",
                    "100+"
                  ],
                  "y": [
                    1613.265,
                    1814.809,
                    1714.11,
                    1954.589,
                    1986.128,
                    2197.75,
                    2106.643,
                    2112.836,
                    2018.909,
                    1480.398,
                    1205.178,
                    1042.832,
                    914.038,
                    623.953,
                    369.881,
                    229.583,
                    101.45,
                    31.121,
                    7.116,
                    0.834,
                    0.12612612612612611
                  ],
                  "type": "scatter"
                },
                {
                  "line": {
                    "dash": "solid"
                  },
                  "mode": "lines",
                  "name": "2005",
                  "x": [
                    "0 - 4",
                    "5 - 9",
                    "10 - 14",
                    "15 - 19",
                    "20 - 24",
                    "25 - 29",
                    "30 - 34",
                    "35 - 39",
                    "40 - 44",
                    "45 - 49",
                    "50 - 54",
                    "55 - 59",
                    "60 - 64",
                    "65 - 69",
                    "70 - 74",
                    "75 - 79",
                    "80 - 84",
                    "85 - 89",
                    "90 - 94",
                    "95 - 99",
                    "100+"
                  ],
                  "y": [
                    1247.827,
                    1607.444,
                    1809.041,
                    1696.854,
                    1918.486,
                    1938.761,
                    2157.301,
                    2081.732,
                    2083.252,
                    1978.378,
                    1443.895,
                    1167.915,
                    990.26,
                    835.593,
                    532.874,
                    279.455,
                    143.383,
                    48.359,
                    10.292,
                    1.498,
                    0.12709832134292567
                  ],
                  "type": "scatter"
                }
              ],
              "layout": {
                "template": {
                  "data": {
                    "histogram2dcontour": [
                      {
                        "type": "histogram2dcontour",
                        "colorbar": {
                          "outlinewidth": 0,
                          "ticks": ""
                        },
                        "colorscale": [
                          [
                            0,
                            "#0d0887"
                          ],
                          [
                            0.1111111111111111,
                            "#46039f"
                          ],
                          [
                            0.2222222222222222,
                            "#7201a8"
                          ],
                          [
                            0.3333333333333333,
                            "#9c179e"
                          ],
                          [
                            0.4444444444444444,
                            "#bd3786"
                          ],
                          [
                            0.5555555555555556,
                            "#d8576b"
                          ],
                          [
                            0.6666666666666666,
                            "#ed7953"
                          ],
                          [
                            0.7777777777777778,
                            "#fb9f3a"
                          ],
                          [
                            0.8888888888888888,
                            "#fdca26"
                          ],
                          [
                            1,
                            "#f0f921"
                          ]
                        ]
                      }
                    ],
                    "choropleth": [
                      {
                        "type": "choropleth",
                        "colorbar": {
                          "outlinewidth": 0,
                          "ticks": ""
                        }
                      }
                    ],
                    "histogram2d": [
                      {
                        "type": "histogram2d",
                        "colorbar": {
                          "outlinewidth": 0,
                          "ticks": ""
                        },
                        "colorscale": [
                          [
                            0,
                            "#0d0887"
                          ],
                          [
                            0.1111111111111111,
                            "#46039f"
                          ],
                          [
                            0.2222222222222222,
                            "#7201a8"
                          ],
                          [
                            0.3333333333333333,
                            "#9c179e"
                          ],
                          [
                            0.4444444444444444,
                            "#bd3786"
                          ],
                          [
                            0.5555555555555556,
                            "#d8576b"
                          ],
                          [
                            0.6666666666666666,
                            "#ed7953"
                          ],
                          [
                            0.7777777777777778,
                            "#fb9f3a"
                          ],
                          [
                            0.8888888888888888,
                            "#fdca26"
                          ],
                          [
                            1,
                            "#f0f921"
                          ]
                        ]
                      }
                    ],
                    "heatmap": [
                      {
                        "type": "heatmap",
                        "colorbar": {
                          "outlinewidth": 0,
                          "ticks": ""
                        },
                        "colorscale": [
                          [
                            0,
                            "#0d0887"
                          ],
                          [
                            0.1111111111111111,
                            "#46039f"
                          ],
                          [
                            0.2222222222222222,
                            "#7201a8"
                          ],
                          [
                            0.3333333333333333,
                            "#9c179e"
                          ],
                          [
                            0.4444444444444444,
                            "#bd3786"
                          ],
                          [
                            0.5555555555555556,
                            "#d8576b"
                          ],
                          [
                            0.6666666666666666,
                            "#ed7953"
                          ],
                          [
                            0.7777777777777778,
                            "#fb9f3a"
                          ],
                          [
                            0.8888888888888888,
                            "#fdca26"
                          ],
                          [
                            1,
                            "#f0f921"
                          ]
                        ]
                      }
                    ],
                    "heatmapgl": [
                      {
                        "type": "heatmapgl",
                        "colorbar": {
                          "outlinewidth": 0,
                          "ticks": ""
                        },
                        "colorscale": [
                          [
                            0,
                            "#0d0887"
                          ],
                          [
                            0.1111111111111111,
                            "#46039f"
                          ],
                          [
                            0.2222222222222222,
                            "#7201a8"
                          ],
                          [
                            0.3333333333333333,
                            "#9c179e"
                          ],
                          [
                            0.4444444444444444,
                            "#bd3786"
                          ],
                          [
                            0.5555555555555556,
                            "#d8576b"
                          ],
                          [
                            0.6666666666666666,
                            "#ed7953"
                          ],
                          [
                            0.7777777777777778,
                            "#fb9f3a"
                          ],
                          [
                            0.8888888888888888,
                            "#fdca26"
                          ],
                          [
                            1,
                            "#f0f921"
                          ]
                        ]
                      }
                    ],
                    "contourcarpet": [
                      {
                        "type": "contourcarpet",
                        "colorbar": {
                          "outlinewidth": 0,
                          "ticks": ""
                        }
                      }
                    ],
                    "contour": [
                      {
                        "type": "contour",
                        "colorbar": {
                          "outlinewidth": 0,
                          "ticks": ""
                        },
                        "colorscale": [
                          [
                            0,
                            "#0d0887"
                          ],
                          [
                            0.1111111111111111,
                            "#46039f"
                          ],
                          [
                            0.2222222222222222,
                            "#7201a8"
                          ],
                          [
                            0.3333333333333333,
                            "#9c179e"
                          ],
                          [
                            0.4444444444444444,
                            "#bd3786"
                          ],
                          [
                            0.5555555555555556,
                            "#d8576b"
                          ],
                          [
                            0.6666666666666666,
                            "#ed7953"
                          ],
                          [
                            0.7777777777777778,
                            "#fb9f3a"
                          ],
                          [
                            0.8888888888888888,
                            "#fdca26"
                          ],
                          [
                            1,
                            "#f0f921"
                          ]
                        ]
                      }
                    ],
                    "surface": [
                      {
                        "type": "surface",
                        "colorbar": {
                          "outlinewidth": 0,
                          "ticks": ""
                        },
                        "colorscale": [
                          [
                            0,
                            "#0d0887"
                          ],
                          [
                            0.1111111111111111,
                            "#46039f"
                          ],
                          [
                            0.2222222222222222,
                            "#7201a8"
                          ],
                          [
                            0.3333333333333333,
                            "#9c179e"
                          ],
                          [
                            0.4444444444444444,
                            "#bd3786"
                          ],
                          [
                            0.5555555555555556,
                            "#d8576b"
                          ],
                          [
                            0.6666666666666666,
                            "#ed7953"
                          ],
                          [
                            0.7777777777777778,
                            "#fb9f3a"
                          ],
                          [
                            0.8888888888888888,
                            "#fdca26"
                          ],
                          [
                            1,
                            "#f0f921"
                          ]
                        ]
                      }
                    ],
                    "mesh3d": [
                      {
                        "type": "mesh3d",
                        "colorbar": {
                          "outlinewidth": 0,
                          "ticks": ""
                        }
                      }
                    ],
                    "scatter": [
                      {
                        "fillpattern": {
                          "fillmode": "overlay",
                          "size": 10,
                          "solidity": 0.2
                        },
                        "type": "scatter"
                      }
                    ],
                    "parcoords": [
                      {
                        "type": "parcoords",
                        "line": {
                          "colorbar": {
                            "outlinewidth": 0,
                            "ticks": ""
                          }
                        }
                      }
                    ],
                    "scatterpolargl": [
                      {
                        "type": "scatterpolargl",
                        "marker": {
                          "colorbar": {
                            "outlinewidth": 0,
                            "ticks": ""
                          }
                        }
                      }
                    ],
                    "bar": [
                      {
                        "error_x": {
                          "color": "#2a3f5f"
                        },
                        "error_y": {
                          "color": "#2a3f5f"
                        },
                        "marker": {
                          "line": {
                            "color": "#E5ECF6",
                            "width": 0.5
                          },
                          "pattern": {
                            "fillmode": "overlay",
                            "size": 10,
                            "solidity": 0.2
                          }
                        },
                        "type": "bar"
                      }
                    ],
                    "scattergeo": [
                      {
                        "type": "scattergeo",
                        "marker": {
                          "colorbar": {
                            "outlinewidth": 0,
                            "ticks": ""
                          }
                        }
                      }
                    ],
                    "scatterpolar": [
                      {
                        "type": "scatterpolar",
                        "marker": {
                          "colorbar": {
                            "outlinewidth": 0,
                            "ticks": ""
                          }
                        }
                      }
                    ],
                    "histogram": [
                      {
                        "marker": {
                          "pattern": {
                            "fillmode": "overlay",
                            "size": 10,
                            "solidity": 0.2
                          }
                        },
                        "type": "histogram"
                      }
                    ],
                    "scattergl": [
                      {
                        "type": "scattergl",
                        "marker": {
                          "colorbar": {
                            "outlinewidth": 0,
                            "ticks": ""
                          }
                        }
                      }
                    ],
                    "scatter3d": [
                      {
                        "type": "scatter3d",
                        "line": {
                          "colorbar": {
                            "outlinewidth": 0,
                            "ticks": ""
                          }
                        },
                        "marker": {
                          "colorbar": {
                            "outlinewidth": 0,
                            "ticks": ""
                          }
                        }
                      }
                    ],
                    "scattermapbox": [
                      {
                        "type": "scattermapbox",
                        "marker": {
                          "colorbar": {
                            "outlinewidth": 0,
                            "ticks": ""
                          }
                        }
                      }
                    ],
                    "scatterternary": [
                      {
                        "type": "scatterternary",
                        "marker": {
                          "colorbar": {
                            "outlinewidth": 0,
                            "ticks": ""
                          }
                        }
                      }
                    ],
                    "scattercarpet": [
                      {
                        "type": "scattercarpet",
                        "marker": {
                          "colorbar": {
                            "outlinewidth": 0,
                            "ticks": ""
                          }
                        }
                      }
                    ],
                    "carpet": [
                      {
                        "aaxis": {
                          "endlinecolor": "#2a3f5f",
                          "gridcolor": "white",
                          "linecolor": "white",
                          "minorgridcolor": "white",
                          "startlinecolor": "#2a3f5f"
                        },
                        "baxis": {
                          "endlinecolor": "#2a3f5f",
                          "gridcolor": "white",
                          "linecolor": "white",
                          "minorgridcolor": "white",
                          "startlinecolor": "#2a3f5f"
                        },
                        "type": "carpet"
                      }
                    ],
                    "table": [
                      {
                        "cells": {
                          "fill": {
                            "color": "#EBF0F8"
                          },
                          "line": {
                            "color": "white"
                          }
                        },
                        "header": {
                          "fill": {
                            "color": "#C8D4E3"
                          },
                          "line": {
                            "color": "white"
                          }
                        },
                        "type": "table"
                      }
                    ],
                    "barpolar": [
                      {
                        "marker": {
                          "line": {
                            "color": "#E5ECF6",
                            "width": 0.5
                          },
                          "pattern": {
                            "fillmode": "overlay",
                            "size": 10,
                            "solidity": 0.2
                          }
                        },
                        "type": "barpolar"
                      }
                    ],
                    "pie": [
                      {
                        "automargin": true,
                        "type": "pie"
                      }
                    ]
                  },
                  "layout": {
                    "autotypenumbers": "strict",
                    "colorway": [
                      "#636efa",
                      "#EF553B",
                      "#00cc96",
                      "#ab63fa",
                      "#FFA15A",
                      "#19d3f3",
                      "#FF6692",
                      "#B6E880",
                      "#FF97FF",
                      "#FECB52"
                    ],
                    "font": {
                      "color": "#2a3f5f"
                    },
                    "hovermode": "closest",
                    "hoverlabel": {
                      "align": "left"
                    },
                    "paper_bgcolor": "white",
                    "plot_bgcolor": "#E5ECF6",
                    "polar": {
                      "bgcolor": "#E5ECF6",
                      "angularaxis": {
                        "gridcolor": "white",
                        "linecolor": "white",
                        "ticks": ""
                      },
                      "radialaxis": {
                        "gridcolor": "white",
                        "linecolor": "white",
                        "ticks": ""
                      }
                    },
                    "ternary": {
                      "bgcolor": "#E5ECF6",
                      "aaxis": {
                        "gridcolor": "white",
                        "linecolor": "white",
                        "ticks": ""
                      },
                      "baxis": {
                        "gridcolor": "white",
                        "linecolor": "white",
                        "ticks": ""
                      },
                      "caxis": {
                        "gridcolor": "white",
                        "linecolor": "white",
                        "ticks": ""
                      }
                    },
                    "coloraxis": {
                      "colorbar": {
                        "outlinewidth": 0,
                        "ticks": ""
                      }
                    },
                    "colorscale": {
                      "sequential": [
                        [
                          0,
                          "#0d0887"
                        ],
                        [
                          0.1111111111111111,
                          "#46039f"
                        ],
                        [
                          0.2222222222222222,
                          "#7201a8"
                        ],
                        [
                          0.3333333333333333,
                          "#9c179e"
                        ],
                        [
                          0.4444444444444444,
                          "#bd3786"
                        ],
                        [
                          0.5555555555555556,
                          "#d8576b"
                        ],
                        [
                          0.6666666666666666,
                          "#ed7953"
                        ],
                        [
                          0.7777777777777778,
                          "#fb9f3a"
                        ],
                        [
                          0.8888888888888888,
                          "#fdca26"
                        ],
                        [
                          1,
                          "#f0f921"
                        ]
                      ],
                      "sequentialminus": [
                        [
                          0,
                          "#0d0887"
                        ],
                        [
                          0.1111111111111111,
                          "#46039f"
                        ],
                        [
                          0.2222222222222222,
                          "#7201a8"
                        ],
                        [
                          0.3333333333333333,
                          "#9c179e"
                        ],
                        [
                          0.4444444444444444,
                          "#bd3786"
                        ],
                        [
                          0.5555555555555556,
                          "#d8576b"
                        ],
                        [
                          0.6666666666666666,
                          "#ed7953"
                        ],
                        [
                          0.7777777777777778,
                          "#fb9f3a"
                        ],
                        [
                          0.8888888888888888,
                          "#fdca26"
                        ],
                        [
                          1,
                          "#f0f921"
                        ]
                      ],
                      "diverging": [
                        [
                          0,
                          "#8e0152"
                        ],
                        [
                          0.1,
                          "#c51b7d"
                        ],
                        [
                          0.2,
                          "#de77ae"
                        ],
                        [
                          0.3,
                          "#f1b6da"
                        ],
                        [
                          0.4,
                          "#fde0ef"
                        ],
                        [
                          0.5,
                          "#f7f7f7"
                        ],
                        [
                          0.6,
                          "#e6f5d0"
                        ],
                        [
                          0.7,
                          "#b8e186"
                        ],
                        [
                          0.8,
                          "#7fbc41"
                        ],
                        [
                          0.9,
                          "#4d9221"
                        ],
                        [
                          1,
                          "#276419"
                        ]
                      ]
                    },
                    "xaxis": {
                      "gridcolor": "white",
                      "linecolor": "white",
                      "ticks": "",
                      "title": {
                        "standoff": 15
                      },
                      "zerolinecolor": "white",
                      "automargin": true,
                      "zerolinewidth": 2
                    },
                    "yaxis": {
                      "gridcolor": "white",
                      "linecolor": "white",
                      "ticks": "",
                      "title": {
                        "standoff": 15
                      },
                      "zerolinecolor": "white",
                      "automargin": true,
                      "zerolinewidth": 2
                    },
                    "scene": {
                      "xaxis": {
                        "backgroundcolor": "#E5ECF6",
                        "gridcolor": "white",
                        "linecolor": "white",
                        "showbackground": true,
                        "ticks": "",
                        "zerolinecolor": "white",
                        "gridwidth": 2
                      },
                      "yaxis": {
                        "backgroundcolor": "#E5ECF6",
                        "gridcolor": "white",
                        "linecolor": "white",
                        "showbackground": true,
                        "ticks": "",
                        "zerolinecolor": "white",
                        "gridwidth": 2
                      },
                      "zaxis": {
                        "backgroundcolor": "#E5ECF6",
                        "gridcolor": "white",
                        "linecolor": "white",
                        "showbackground": true,
                        "ticks": "",
                        "zerolinecolor": "white",
                        "gridwidth": 2
                      }
                    },
                    "shapedefaults": {
                      "line": {
                        "color": "#2a3f5f"
                      }
                    },
                    "annotationdefaults": {
                      "arrowcolor": "#2a3f5f",
                      "arrowhead": 0,
                      "arrowwidth": 1
                    },
                    "geo": {
                      "bgcolor": "white",
                      "landcolor": "#E5ECF6",
                      "subunitcolor": "white",
                      "showland": true,
                      "showlakes": true,
                      "lakecolor": "white"
                    },
                    "title": {
                      "x": 0.05
                    },
                    "mapbox": {
                      "style": "light"
                    }
                  }
                },
                "title": {
                  "text": "Sigma Males"
                },
                "legend": {
                  "title": {
                    "text": "year"
                  }
                },
                "xaxis": {
                  "title": {
                    "text": "Age Groups"
                  }
                },
                "yaxis": {
                  "title": {
                    "text": "Population"
                  }
                }
              },
              "config": {
                "plotlyServerURL": "https://plot.ly"
              }
            }
          },
          "metadata": {},
          "output_type": "display_data"
        }
      ],
      "metadata": {
        "datalore": {
          "node_id": "n0An0mgy4Ifnnr7VQ010f6",
          "type": "CODE",
          "hide_input_from_viewers": true,
          "hide_output_from_viewers": true
        },
        "id": "Pq1rpsrD6eG5",
        "outputId": "fabcba96-51df-4eb8-92b6-3f9f54da0794"
      }
    },
    {
      "cell_type": "code",
      "source": [
        "raft(f_cleaned_1950_2005_df, features=AGE_GROUPS, years=f_cleaned_1950_2005_df[\"Year\"].unique()[-5:], pltTitle=\"Women\", yTitle=\"Population\")"
      ],
      "execution_count": null,
      "outputs": [
        {
          "data": {
            "application/vnd.plotly.v1+json": {
              "data": [
                {
                  "line": {
                    "dash": "solid"
                  },
                  "mode": "lines",
                  "name": "1985",
                  "x": [
                    "0 - 4",
                    "5 - 9",
                    "10 - 14",
                    "15 - 19",
                    "20 - 24",
                    "25 - 29",
                    "30 - 34",
                    "35 - 39",
                    "40 - 44",
                    "45 - 49",
                    "50 - 54",
                    "55 - 59",
                    "60 - 64",
                    "65 - 69",
                    "70 - 74",
                    "75 - 79",
                    "80 - 84"
                  ],
                  "y": [
                    1775.19,
                    1912.592,
                    2177.366,
                    2078.076,
                    2046.985,
                    2049.994,
                    1532.481,
                    1254.668,
                    1100.217,
                    1051.072,
                    889.601,
                    704.058,
                    569.665,
                    413.208,
                    306.897,
                    208.61,
                    159.465
                  ],
                  "type": "scatter"
                },
                {
                  "line": {
                    "dash": "solid"
                  },
                  "mode": "lines",
                  "name": "1990",
                  "x": [
                    "0 - 4",
                    "5 - 9",
                    "10 - 14",
                    "15 - 19",
                    "20 - 24",
                    "25 - 29",
                    "30 - 34",
                    "35 - 39",
                    "40 - 44",
                    "45 - 49",
                    "50 - 54",
                    "55 - 59",
                    "60 - 64",
                    "65 - 69",
                    "70 - 74",
                    "75 - 79",
                    "80 - 84"
                  ],
                  "y": [
                    1546.701,
                    1851.579,
                    1917.732,
                    2167.04,
                    2083.47,
                    2095.147,
                    2007.325,
                    1463.766,
                    1219.208,
                    1080.199,
                    1018.077,
                    855.54,
                    659.122,
                    524.068,
                    361.924,
                    244.438,
                    205.765
                  ],
                  "type": "scatter"
                },
                {
                  "line": {
                    "dash": "solid"
                  },
                  "mode": "lines",
                  "name": "1995",
                  "x": [
                    "0 - 4",
                    "5 - 9",
                    "10 - 14",
                    "15 - 19",
                    "20 - 24",
                    "25 - 29",
                    "30 - 34",
                    "35 - 39",
                    "40 - 44",
                    "45 - 49",
                    "50 - 54",
                    "55 - 59",
                    "60 - 64",
                    "65 - 69",
                    "70 - 74",
                    "75 - 79",
                    "80 - 84",
                    "85 - 89",
                    "90 - 94",
                    "95 - 99"
                  ],
                  "y": [
                    1614.089,
                    1540.864,
                    1845.071,
                    1904.165,
                    2135.887,
                    2051.827,
                    2076.872,
                    1992.032,
                    1449.608,
                    1203.446,
                    1069.502,
                    1005.945,
                    830.856,
                    622.228,
                    468.204,
                    291.282,
                    154.133,
                    65.002,
                    15.468,
                    1.98
                  ],
                  "type": "scatter"
                },
                {
                  "line": {
                    "dash": "solid"
                  },
                  "mode": "lines",
                  "name": "2000",
                  "x": [
                    "0 - 4",
                    "5 - 9",
                    "10 - 14",
                    "15 - 19",
                    "20 - 24",
                    "25 - 29",
                    "30 - 34",
                    "35 - 39",
                    "40 - 44",
                    "45 - 49",
                    "50 - 54",
                    "55 - 59",
                    "60 - 64",
                    "65 - 69",
                    "70 - 74",
                    "75 - 79",
                    "80 - 84",
                    "85 - 89",
                    "90 - 94",
                    "95 - 99",
                    "100+"
                  ],
                  "y": [
                    1462.983,
                    1608.223,
                    1535.601,
                    1833.748,
                    1881.103,
                    2101.815,
                    2022.026,
                    2059.629,
                    1977.435,
                    1437.082,
                    1195.056,
                    1066.431,
                    995.191,
                    800.868,
                    569.201,
                    389.445,
                    206.103,
                    83.93,
                    24.099,
                    3.501,
                    0.1272727272727273
                  ],
                  "type": "scatter"
                },
                {
                  "line": {
                    "dash": "solid"
                  },
                  "mode": "lines",
                  "name": "2005",
                  "x": [
                    "0 - 4",
                    "5 - 9",
                    "10 - 14",
                    "15 - 19",
                    "20 - 24",
                    "25 - 29",
                    "30 - 34",
                    "35 - 39",
                    "40 - 44",
                    "45 - 49",
                    "50 - 54",
                    "55 - 59",
                    "60 - 64",
                    "65 - 69",
                    "70 - 74",
                    "75 - 79",
                    "80 - 84",
                    "85 - 89",
                    "90 - 94",
                    "95 - 99",
                    "100+"
                  ],
                  "y": [
                    1164.665,
                    1457.991,
                    1603.33,
                    1525.185,
                    1811.677,
                    1848.594,
                    2073.161,
                    2006.817,
                    2047.088,
                    1963.789,
                    1429.325,
                    1193.903,
                    1059.768,
                    965.37,
                    743.403,
                    488.643,
                    292.585,
                    124.791,
                    36.774,
                    6.815,
                    0.1588117680662668
                  ],
                  "type": "scatter"
                }
              ],
              "layout": {
                "template": {
                  "data": {
                    "histogram2dcontour": [
                      {
                        "type": "histogram2dcontour",
                        "colorbar": {
                          "outlinewidth": 0,
                          "ticks": ""
                        },
                        "colorscale": [
                          [
                            0,
                            "#0d0887"
                          ],
                          [
                            0.1111111111111111,
                            "#46039f"
                          ],
                          [
                            0.2222222222222222,
                            "#7201a8"
                          ],
                          [
                            0.3333333333333333,
                            "#9c179e"
                          ],
                          [
                            0.4444444444444444,
                            "#bd3786"
                          ],
                          [
                            0.5555555555555556,
                            "#d8576b"
                          ],
                          [
                            0.6666666666666666,
                            "#ed7953"
                          ],
                          [
                            0.7777777777777778,
                            "#fb9f3a"
                          ],
                          [
                            0.8888888888888888,
                            "#fdca26"
                          ],
                          [
                            1,
                            "#f0f921"
                          ]
                        ]
                      }
                    ],
                    "choropleth": [
                      {
                        "type": "choropleth",
                        "colorbar": {
                          "outlinewidth": 0,
                          "ticks": ""
                        }
                      }
                    ],
                    "histogram2d": [
                      {
                        "type": "histogram2d",
                        "colorbar": {
                          "outlinewidth": 0,
                          "ticks": ""
                        },
                        "colorscale": [
                          [
                            0,
                            "#0d0887"
                          ],
                          [
                            0.1111111111111111,
                            "#46039f"
                          ],
                          [
                            0.2222222222222222,
                            "#7201a8"
                          ],
                          [
                            0.3333333333333333,
                            "#9c179e"
                          ],
                          [
                            0.4444444444444444,
                            "#bd3786"
                          ],
                          [
                            0.5555555555555556,
                            "#d8576b"
                          ],
                          [
                            0.6666666666666666,
                            "#ed7953"
                          ],
                          [
                            0.7777777777777778,
                            "#fb9f3a"
                          ],
                          [
                            0.8888888888888888,
                            "#fdca26"
                          ],
                          [
                            1,
                            "#f0f921"
                          ]
                        ]
                      }
                    ],
                    "heatmap": [
                      {
                        "type": "heatmap",
                        "colorbar": {
                          "outlinewidth": 0,
                          "ticks": ""
                        },
                        "colorscale": [
                          [
                            0,
                            "#0d0887"
                          ],
                          [
                            0.1111111111111111,
                            "#46039f"
                          ],
                          [
                            0.2222222222222222,
                            "#7201a8"
                          ],
                          [
                            0.3333333333333333,
                            "#9c179e"
                          ],
                          [
                            0.4444444444444444,
                            "#bd3786"
                          ],
                          [
                            0.5555555555555556,
                            "#d8576b"
                          ],
                          [
                            0.6666666666666666,
                            "#ed7953"
                          ],
                          [
                            0.7777777777777778,
                            "#fb9f3a"
                          ],
                          [
                            0.8888888888888888,
                            "#fdca26"
                          ],
                          [
                            1,
                            "#f0f921"
                          ]
                        ]
                      }
                    ],
                    "heatmapgl": [
                      {
                        "type": "heatmapgl",
                        "colorbar": {
                          "outlinewidth": 0,
                          "ticks": ""
                        },
                        "colorscale": [
                          [
                            0,
                            "#0d0887"
                          ],
                          [
                            0.1111111111111111,
                            "#46039f"
                          ],
                          [
                            0.2222222222222222,
                            "#7201a8"
                          ],
                          [
                            0.3333333333333333,
                            "#9c179e"
                          ],
                          [
                            0.4444444444444444,
                            "#bd3786"
                          ],
                          [
                            0.5555555555555556,
                            "#d8576b"
                          ],
                          [
                            0.6666666666666666,
                            "#ed7953"
                          ],
                          [
                            0.7777777777777778,
                            "#fb9f3a"
                          ],
                          [
                            0.8888888888888888,
                            "#fdca26"
                          ],
                          [
                            1,
                            "#f0f921"
                          ]
                        ]
                      }
                    ],
                    "contourcarpet": [
                      {
                        "type": "contourcarpet",
                        "colorbar": {
                          "outlinewidth": 0,
                          "ticks": ""
                        }
                      }
                    ],
                    "contour": [
                      {
                        "type": "contour",
                        "colorbar": {
                          "outlinewidth": 0,
                          "ticks": ""
                        },
                        "colorscale": [
                          [
                            0,
                            "#0d0887"
                          ],
                          [
                            0.1111111111111111,
                            "#46039f"
                          ],
                          [
                            0.2222222222222222,
                            "#7201a8"
                          ],
                          [
                            0.3333333333333333,
                            "#9c179e"
                          ],
                          [
                            0.4444444444444444,
                            "#bd3786"
                          ],
                          [
                            0.5555555555555556,
                            "#d8576b"
                          ],
                          [
                            0.6666666666666666,
                            "#ed7953"
                          ],
                          [
                            0.7777777777777778,
                            "#fb9f3a"
                          ],
                          [
                            0.8888888888888888,
                            "#fdca26"
                          ],
                          [
                            1,
                            "#f0f921"
                          ]
                        ]
                      }
                    ],
                    "surface": [
                      {
                        "type": "surface",
                        "colorbar": {
                          "outlinewidth": 0,
                          "ticks": ""
                        },
                        "colorscale": [
                          [
                            0,
                            "#0d0887"
                          ],
                          [
                            0.1111111111111111,
                            "#46039f"
                          ],
                          [
                            0.2222222222222222,
                            "#7201a8"
                          ],
                          [
                            0.3333333333333333,
                            "#9c179e"
                          ],
                          [
                            0.4444444444444444,
                            "#bd3786"
                          ],
                          [
                            0.5555555555555556,
                            "#d8576b"
                          ],
                          [
                            0.6666666666666666,
                            "#ed7953"
                          ],
                          [
                            0.7777777777777778,
                            "#fb9f3a"
                          ],
                          [
                            0.8888888888888888,
                            "#fdca26"
                          ],
                          [
                            1,
                            "#f0f921"
                          ]
                        ]
                      }
                    ],
                    "mesh3d": [
                      {
                        "type": "mesh3d",
                        "colorbar": {
                          "outlinewidth": 0,
                          "ticks": ""
                        }
                      }
                    ],
                    "scatter": [
                      {
                        "fillpattern": {
                          "fillmode": "overlay",
                          "size": 10,
                          "solidity": 0.2
                        },
                        "type": "scatter"
                      }
                    ],
                    "parcoords": [
                      {
                        "type": "parcoords",
                        "line": {
                          "colorbar": {
                            "outlinewidth": 0,
                            "ticks": ""
                          }
                        }
                      }
                    ],
                    "scatterpolargl": [
                      {
                        "type": "scatterpolargl",
                        "marker": {
                          "colorbar": {
                            "outlinewidth": 0,
                            "ticks": ""
                          }
                        }
                      }
                    ],
                    "bar": [
                      {
                        "error_x": {
                          "color": "#2a3f5f"
                        },
                        "error_y": {
                          "color": "#2a3f5f"
                        },
                        "marker": {
                          "line": {
                            "color": "#E5ECF6",
                            "width": 0.5
                          },
                          "pattern": {
                            "fillmode": "overlay",
                            "size": 10,
                            "solidity": 0.2
                          }
                        },
                        "type": "bar"
                      }
                    ],
                    "scattergeo": [
                      {
                        "type": "scattergeo",
                        "marker": {
                          "colorbar": {
                            "outlinewidth": 0,
                            "ticks": ""
                          }
                        }
                      }
                    ],
                    "scatterpolar": [
                      {
                        "type": "scatterpolar",
                        "marker": {
                          "colorbar": {
                            "outlinewidth": 0,
                            "ticks": ""
                          }
                        }
                      }
                    ],
                    "histogram": [
                      {
                        "marker": {
                          "pattern": {
                            "fillmode": "overlay",
                            "size": 10,
                            "solidity": 0.2
                          }
                        },
                        "type": "histogram"
                      }
                    ],
                    "scattergl": [
                      {
                        "type": "scattergl",
                        "marker": {
                          "colorbar": {
                            "outlinewidth": 0,
                            "ticks": ""
                          }
                        }
                      }
                    ],
                    "scatter3d": [
                      {
                        "type": "scatter3d",
                        "line": {
                          "colorbar": {
                            "outlinewidth": 0,
                            "ticks": ""
                          }
                        },
                        "marker": {
                          "colorbar": {
                            "outlinewidth": 0,
                            "ticks": ""
                          }
                        }
                      }
                    ],
                    "scattermapbox": [
                      {
                        "type": "scattermapbox",
                        "marker": {
                          "colorbar": {
                            "outlinewidth": 0,
                            "ticks": ""
                          }
                        }
                      }
                    ],
                    "scatterternary": [
                      {
                        "type": "scatterternary",
                        "marker": {
                          "colorbar": {
                            "outlinewidth": 0,
                            "ticks": ""
                          }
                        }
                      }
                    ],
                    "scattercarpet": [
                      {
                        "type": "scattercarpet",
                        "marker": {
                          "colorbar": {
                            "outlinewidth": 0,
                            "ticks": ""
                          }
                        }
                      }
                    ],
                    "carpet": [
                      {
                        "aaxis": {
                          "endlinecolor": "#2a3f5f",
                          "gridcolor": "white",
                          "linecolor": "white",
                          "minorgridcolor": "white",
                          "startlinecolor": "#2a3f5f"
                        },
                        "baxis": {
                          "endlinecolor": "#2a3f5f",
                          "gridcolor": "white",
                          "linecolor": "white",
                          "minorgridcolor": "white",
                          "startlinecolor": "#2a3f5f"
                        },
                        "type": "carpet"
                      }
                    ],
                    "table": [
                      {
                        "cells": {
                          "fill": {
                            "color": "#EBF0F8"
                          },
                          "line": {
                            "color": "white"
                          }
                        },
                        "header": {
                          "fill": {
                            "color": "#C8D4E3"
                          },
                          "line": {
                            "color": "white"
                          }
                        },
                        "type": "table"
                      }
                    ],
                    "barpolar": [
                      {
                        "marker": {
                          "line": {
                            "color": "#E5ECF6",
                            "width": 0.5
                          },
                          "pattern": {
                            "fillmode": "overlay",
                            "size": 10,
                            "solidity": 0.2
                          }
                        },
                        "type": "barpolar"
                      }
                    ],
                    "pie": [
                      {
                        "automargin": true,
                        "type": "pie"
                      }
                    ]
                  },
                  "layout": {
                    "autotypenumbers": "strict",
                    "colorway": [
                      "#636efa",
                      "#EF553B",
                      "#00cc96",
                      "#ab63fa",
                      "#FFA15A",
                      "#19d3f3",
                      "#FF6692",
                      "#B6E880",
                      "#FF97FF",
                      "#FECB52"
                    ],
                    "font": {
                      "color": "#2a3f5f"
                    },
                    "hovermode": "closest",
                    "hoverlabel": {
                      "align": "left"
                    },
                    "paper_bgcolor": "white",
                    "plot_bgcolor": "#E5ECF6",
                    "polar": {
                      "bgcolor": "#E5ECF6",
                      "angularaxis": {
                        "gridcolor": "white",
                        "linecolor": "white",
                        "ticks": ""
                      },
                      "radialaxis": {
                        "gridcolor": "white",
                        "linecolor": "white",
                        "ticks": ""
                      }
                    },
                    "ternary": {
                      "bgcolor": "#E5ECF6",
                      "aaxis": {
                        "gridcolor": "white",
                        "linecolor": "white",
                        "ticks": ""
                      },
                      "baxis": {
                        "gridcolor": "white",
                        "linecolor": "white",
                        "ticks": ""
                      },
                      "caxis": {
                        "gridcolor": "white",
                        "linecolor": "white",
                        "ticks": ""
                      }
                    },
                    "coloraxis": {
                      "colorbar": {
                        "outlinewidth": 0,
                        "ticks": ""
                      }
                    },
                    "colorscale": {
                      "sequential": [
                        [
                          0,
                          "#0d0887"
                        ],
                        [
                          0.1111111111111111,
                          "#46039f"
                        ],
                        [
                          0.2222222222222222,
                          "#7201a8"
                        ],
                        [
                          0.3333333333333333,
                          "#9c179e"
                        ],
                        [
                          0.4444444444444444,
                          "#bd3786"
                        ],
                        [
                          0.5555555555555556,
                          "#d8576b"
                        ],
                        [
                          0.6666666666666666,
                          "#ed7953"
                        ],
                        [
                          0.7777777777777778,
                          "#fb9f3a"
                        ],
                        [
                          0.8888888888888888,
                          "#fdca26"
                        ],
                        [
                          1,
                          "#f0f921"
                        ]
                      ],
                      "sequentialminus": [
                        [
                          0,
                          "#0d0887"
                        ],
                        [
                          0.1111111111111111,
                          "#46039f"
                        ],
                        [
                          0.2222222222222222,
                          "#7201a8"
                        ],
                        [
                          0.3333333333333333,
                          "#9c179e"
                        ],
                        [
                          0.4444444444444444,
                          "#bd3786"
                        ],
                        [
                          0.5555555555555556,
                          "#d8576b"
                        ],
                        [
                          0.6666666666666666,
                          "#ed7953"
                        ],
                        [
                          0.7777777777777778,
                          "#fb9f3a"
                        ],
                        [
                          0.8888888888888888,
                          "#fdca26"
                        ],
                        [
                          1,
                          "#f0f921"
                        ]
                      ],
                      "diverging": [
                        [
                          0,
                          "#8e0152"
                        ],
                        [
                          0.1,
                          "#c51b7d"
                        ],
                        [
                          0.2,
                          "#de77ae"
                        ],
                        [
                          0.3,
                          "#f1b6da"
                        ],
                        [
                          0.4,
                          "#fde0ef"
                        ],
                        [
                          0.5,
                          "#f7f7f7"
                        ],
                        [
                          0.6,
                          "#e6f5d0"
                        ],
                        [
                          0.7,
                          "#b8e186"
                        ],
                        [
                          0.8,
                          "#7fbc41"
                        ],
                        [
                          0.9,
                          "#4d9221"
                        ],
                        [
                          1,
                          "#276419"
                        ]
                      ]
                    },
                    "xaxis": {
                      "gridcolor": "white",
                      "linecolor": "white",
                      "ticks": "",
                      "title": {
                        "standoff": 15
                      },
                      "zerolinecolor": "white",
                      "automargin": true,
                      "zerolinewidth": 2
                    },
                    "yaxis": {
                      "gridcolor": "white",
                      "linecolor": "white",
                      "ticks": "",
                      "title": {
                        "standoff": 15
                      },
                      "zerolinecolor": "white",
                      "automargin": true,
                      "zerolinewidth": 2
                    },
                    "scene": {
                      "xaxis": {
                        "backgroundcolor": "#E5ECF6",
                        "gridcolor": "white",
                        "linecolor": "white",
                        "showbackground": true,
                        "ticks": "",
                        "zerolinecolor": "white",
                        "gridwidth": 2
                      },
                      "yaxis": {
                        "backgroundcolor": "#E5ECF6",
                        "gridcolor": "white",
                        "linecolor": "white",
                        "showbackground": true,
                        "ticks": "",
                        "zerolinecolor": "white",
                        "gridwidth": 2
                      },
                      "zaxis": {
                        "backgroundcolor": "#E5ECF6",
                        "gridcolor": "white",
                        "linecolor": "white",
                        "showbackground": true,
                        "ticks": "",
                        "zerolinecolor": "white",
                        "gridwidth": 2
                      }
                    },
                    "shapedefaults": {
                      "line": {
                        "color": "#2a3f5f"
                      }
                    },
                    "annotationdefaults": {
                      "arrowcolor": "#2a3f5f",
                      "arrowhead": 0,
                      "arrowwidth": 1
                    },
                    "geo": {
                      "bgcolor": "white",
                      "landcolor": "#E5ECF6",
                      "subunitcolor": "white",
                      "showland": true,
                      "showlakes": true,
                      "lakecolor": "white"
                    },
                    "title": {
                      "x": 0.05
                    },
                    "mapbox": {
                      "style": "light"
                    }
                  }
                },
                "title": {
                  "text": "Women"
                },
                "legend": {
                  "title": {
                    "text": "year"
                  }
                },
                "xaxis": {
                  "title": {
                    "text": "Age Groups"
                  }
                },
                "yaxis": {
                  "title": {
                    "text": "Population"
                  }
                }
              },
              "config": {
                "plotlyServerURL": "https://plot.ly"
              }
            }
          },
          "metadata": {},
          "output_type": "display_data"
        }
      ],
      "metadata": {
        "datalore": {
          "node_id": "HgQAs6q78aibujqo8WEc92",
          "type": "CODE",
          "hide_input_from_viewers": true,
          "hide_output_from_viewers": true
        },
        "id": "KtXUYeN76eG5",
        "outputId": "b62c3860-485b-4421-9b14-ba20f3526c0d"
      }
    },
    {
      "cell_type": "markdown",
      "source": [
        "### «Survival» rates according to 2000-2005 years"
      ],
      "metadata": {
        "datalore": {
          "node_id": "53oL2JbrFrYbxlOXobFgMd",
          "type": "MD",
          "hide_input_from_viewers": true,
          "hide_output_from_viewers": true
        },
        "id": "UBCC5pCj6eG5"
      }
    },
    {
      "cell_type": "code",
      "source": [
        "raft(both_cleaned_1950_2005_df, features=SURVIVAL_RATES, years=both_cleaned_1950_2005_df[\"Year\"].unique(),  pltTitle=\"Both\", yTitle=\"Survival Rate\", remove='SR: ')"
      ],
      "execution_count": null,
      "outputs": [
        {
          "data": {
            "application/vnd.plotly.v1+json": {
              "data": [
                {
                  "line": {
                    "dash": "solid"
                  },
                  "mode": "lines",
                  "name": "1950",
                  "x": [],
                  "y": [],
                  "type": "scatter"
                },
                {
                  "line": {
                    "dash": "solid"
                  },
                  "mode": "lines",
                  "name": "1955",
                  "x": [
                    "5 - 9",
                    "10 - 14",
                    "15 - 19",
                    "20 - 24",
                    "25 - 29",
                    "30 - 34",
                    "35 - 39",
                    "40 - 44",
                    "45 - 49",
                    "50 - 54",
                    "55 - 59",
                    "60 - 64",
                    "65 - 69",
                    "70 - 74",
                    "75 - 79",
                    "80 - 84"
                  ],
                  "y": [
                    0.9023183560441045,
                    0.9525960667077411,
                    1.007734317418287,
                    1.0724819490156958,
                    1.0064988837700348,
                    1.0355187560959982,
                    1.0144514359799348,
                    0.9807169463195898,
                    0.9859588542894229,
                    0.88068009756581,
                    0.8775641178008603,
                    0.7098815935605837,
                    0.7167612193991303,
                    0.7462662520743043,
                    1.0137474038176244,
                    1.0756360842246155
                  ],
                  "type": "scatter"
                },
                {
                  "line": {
                    "dash": "solid"
                  },
                  "mode": "lines",
                  "name": "1960",
                  "x": [
                    "5 - 9",
                    "10 - 14",
                    "15 - 19",
                    "20 - 24",
                    "25 - 29",
                    "30 - 34",
                    "35 - 39",
                    "40 - 44",
                    "45 - 49",
                    "50 - 54",
                    "55 - 59",
                    "60 - 64",
                    "65 - 69",
                    "70 - 74",
                    "75 - 79",
                    "80 - 84"
                  ],
                  "y": [
                    0.9570599844506907,
                    0.9844679815861372,
                    0.9836133410576844,
                    0.9774860076589656,
                    0.972798819478603,
                    0.9695550351288057,
                    0.9650051564111378,
                    0.9586818333890934,
                    0.9500478468899521,
                    0.9356056273590301,
                    0.9141919349796812,
                    0.8808234019501626,
                    0.8312898479646885,
                    0.7591623036649215,
                    0.6563039723661486,
                    0.6577839721254355
                  ],
                  "type": "scatter"
                },
                {
                  "line": {
                    "dash": "solid"
                  },
                  "mode": "lines",
                  "name": "1965",
                  "x": [
                    "5 - 9",
                    "10 - 14",
                    "15 - 19",
                    "20 - 24",
                    "25 - 29",
                    "30 - 34",
                    "35 - 39",
                    "40 - 44",
                    "45 - 49",
                    "50 - 54",
                    "55 - 59",
                    "60 - 64",
                    "65 - 69",
                    "70 - 74",
                    "75 - 79",
                    "80 - 84"
                  ],
                  "y": [
                    0.9624371805334823,
                    0.9845341498469037,
                    0.9835386253041362,
                    0.9779554059739166,
                    0.9740830032719131,
                    0.9713303332153511,
                    0.9670734808034579,
                    0.9613850099743518,
                    0.9524515791310417,
                    0.9385576148267526,
                    0.9177261613691932,
                    0.8851085655667636,
                    0.8370233702337023,
                    0.7666666666666666,
                    0.6657200811359026,
                    0.6783223684210526
                  ],
                  "type": "scatter"
                },
                {
                  "line": {
                    "dash": "solid"
                  },
                  "mode": "lines",
                  "name": "1970",
                  "x": [
                    "5 - 9",
                    "10 - 14",
                    "15 - 19",
                    "20 - 24",
                    "25 - 29",
                    "30 - 34",
                    "35 - 39",
                    "40 - 44",
                    "45 - 49",
                    "50 - 54",
                    "55 - 59",
                    "60 - 64",
                    "65 - 69",
                    "70 - 74",
                    "75 - 79",
                    "80 - 84"
                  ],
                  "y": [
                    0.9763605442176871,
                    0.993684868230201,
                    0.9931135159150773,
                    0.9884813111205598,
                    0.9851157188333477,
                    0.9822770264297711,
                    0.9785007808433108,
                    0.9733140528460628,
                    0.9645027419593893,
                    0.9509022625263349,
                    0.9300279029834729,
                    0.8980951112295191,
                    0.8510720494494881,
                    0.7810433504775899,
                    0.6810311658330127,
                    0.7031748933577088
                  ],
                  "type": "scatter"
                },
                {
                  "line": {
                    "dash": "solid"
                  },
                  "mode": "lines",
                  "name": "1975",
                  "x": [
                    "5 - 9",
                    "10 - 14",
                    "15 - 19",
                    "20 - 24",
                    "25 - 29",
                    "30 - 34",
                    "35 - 39",
                    "40 - 44",
                    "45 - 49",
                    "50 - 54",
                    "55 - 59",
                    "60 - 64",
                    "65 - 69",
                    "70 - 74",
                    "75 - 79",
                    "80 - 84"
                  ],
                  "y": [
                    0.9786530435377564,
                    0.991704406897753,
                    0.990860094318437,
                    0.9868025819645938,
                    0.9838501544597817,
                    0.9817903930131006,
                    0.9786726659167604,
                    0.9736128105548757,
                    0.9657617504051863,
                    0.9525931617364579,
                    0.9324727868220789,
                    0.9020309254558043,
                    0.8559774547611985,
                    0.7877893781207445,
                    0.689244277202885,
                    0.7305084745762712
                  ],
                  "type": "scatter"
                },
                {
                  "line": {
                    "dash": "solid"
                  },
                  "mode": "lines",
                  "name": "1980",
                  "x": [
                    "5 - 9",
                    "10 - 14",
                    "15 - 19",
                    "20 - 24",
                    "25 - 29",
                    "30 - 34",
                    "35 - 39",
                    "40 - 44",
                    "45 - 49",
                    "50 - 54",
                    "55 - 59",
                    "60 - 64",
                    "65 - 69",
                    "70 - 74",
                    "75 - 79",
                    "80 - 84"
                  ],
                  "y": [
                    0.9545424054736936,
                    1.0253781081773903,
                    1.0228994225744836,
                    0.9299005054053441,
                    1.010006152650497,
                    0.9666136724960255,
                    0.9949739803407018,
                    0.9765068272723093,
                    0.9496748811540353,
                    0.9593734703866863,
                    0.8888530408130344,
                    0.8512396694214877,
                    0.8148906230011513,
                    0.7503032403396291,
                    0.665514261019879,
                    0.6915514103730663
                  ],
                  "type": "scatter"
                },
                {
                  "line": {
                    "dash": "solid"
                  },
                  "mode": "lines",
                  "name": "1985",
                  "x": [
                    "5 - 9",
                    "10 - 14",
                    "15 - 19",
                    "20 - 24",
                    "25 - 29",
                    "30 - 34",
                    "35 - 39",
                    "40 - 44",
                    "45 - 49",
                    "50 - 54",
                    "55 - 59",
                    "60 - 64",
                    "65 - 69",
                    "70 - 74",
                    "75 - 79",
                    "80 - 84"
                  ],
                  "y": [
                    0.9262094594594595,
                    1.062451862262825,
                    0.9881722727272726,
                    0.9134859411890963,
                    0.997906897392152,
                    1.011026611093299,
                    1.0667166940789474,
                    0.9966794814483684,
                    1.003614406779661,
                    0.9869332566168009,
                    0.9321362973760934,
                    0.9307368421052632,
                    0.8761565533980582,
                    0.7910910518053376,
                    0.7257113163972286,
                    0.9075151515151515
                  ],
                  "type": "scatter"
                },
                {
                  "line": {
                    "dash": "solid"
                  },
                  "mode": "lines",
                  "name": "1990",
                  "x": [
                    "5 - 9",
                    "10 - 14",
                    "15 - 19",
                    "20 - 24",
                    "25 - 29",
                    "30 - 34",
                    "35 - 39",
                    "40 - 44",
                    "45 - 49",
                    "50 - 54",
                    "55 - 59",
                    "60 - 64",
                    "65 - 69",
                    "70 - 74",
                    "75 - 79",
                    "80 - 84"
                  ],
                  "y": [
                    1.0315921065053204,
                    0.9966739541834798,
                    0.9842157841276812,
                    0.9863535940319571,
                    1.0047599455912233,
                    1.0004828532155534,
                    0.9570453023284133,
                    0.9650685842370931,
                    0.9877016754785223,
                    0.9564258562624637,
                    0.935321724023343,
                    0.9036063276698326,
                    0.8812544361160293,
                    0.8254844844470486,
                    0.730263432058342,
                    0.879898037443553
                  ],
                  "type": "scatter"
                },
                {
                  "line": {
                    "dash": "solid"
                  },
                  "mode": "lines",
                  "name": "1995",
                  "x": [
                    "5 - 9",
                    "10 - 14",
                    "15 - 19",
                    "20 - 24",
                    "25 - 29",
                    "30 - 34",
                    "35 - 39",
                    "40 - 44",
                    "45 - 49",
                    "50 - 54",
                    "55 - 59",
                    "60 - 64",
                    "65 - 69",
                    "70 - 74",
                    "75 - 79",
                    "80 - 84",
                    "85 - 89"
                  ],
                  "y": [
                    0.9945582972931439,
                    0.9957528464272025,
                    0.9918398695227165,
                    0.9825856358937783,
                    0.9801260264364514,
                    0.9871588931172125,
                    0.9882901745903525,
                    0.9837475177596366,
                    0.9772666452045307,
                    0.9779161474775583,
                    0.9704128574238361,
                    0.9472464826833081,
                    0.9183853778164681,
                    0.8628465345986959,
                    0.7705906930151469,
                    0.6024869700378807,
                    0.31520508656638685
                  ],
                  "type": "scatter"
                },
                {
                  "line": {
                    "dash": "solid"
                  },
                  "mode": "lines",
                  "name": "2000",
                  "x": [
                    "5 - 9",
                    "10 - 14",
                    "15 - 19",
                    "20 - 24",
                    "25 - 29",
                    "30 - 34",
                    "35 - 39",
                    "40 - 44",
                    "45 - 49",
                    "50 - 54",
                    "55 - 59",
                    "60 - 64",
                    "65 - 69",
                    "70 - 74",
                    "75 - 79",
                    "80 - 84",
                    "85 - 89",
                    "90 - 94",
                    "95 - 99",
                    "100+"
                  ],
                  "y": [
                    0.9957520213751605,
                    0.9962861281644478,
                    0.9919137939160353,
                    0.9840938505315113,
                    0.9802308472012032,
                    0.9822231664332044,
                    0.9884364403386842,
                    0.9871364662914258,
                    0.9826837639656573,
                    0.9810014885246278,
                    0.9794489951335488,
                    0.9650032424061231,
                    0.9375592628344956,
                    0.88484206618493,
                    0.7937192591946742,
                    0.6696970224848772,
                    0.5189162614900277,
                    0.3581673398200844,
                    0.2223418987536544,
                    0.12702169625246548
                  ],
                  "type": "scatter"
                },
                {
                  "line": {
                    "dash": "solid"
                  },
                  "mode": "lines",
                  "name": "2005",
                  "x": [
                    "5 - 9",
                    "10 - 14",
                    "15 - 19",
                    "20 - 24",
                    "25 - 29",
                    "30 - 34",
                    "35 - 39",
                    "40 - 44",
                    "45 - 49",
                    "50 - 54",
                    "55 - 59",
                    "60 - 64",
                    "65 - 69",
                    "70 - 74",
                    "75 - 79",
                    "80 - 84",
                    "85 - 89",
                    "90 - 94",
                    "95 - 99",
                    "100+"
                  ],
                  "y": [
                    0.9964850038098358,
                    0.9968855096884867,
                    0.9914847812620877,
                    0.9846439215940926,
                    0.9793454282922328,
                    0.9839279089861418,
                    0.9902825825950203,
                    0.9899040495246815,
                    0.9864433592303365,
                    0.9848293732947612,
                    0.9839948938311849,
                    0.9719167311046559,
                    0.9432933398769869,
                    0.8957455006628904,
                    0.8179243133187517,
                    0.704278320205225,
                    0.5629923948067488,
                    0.40908814351896117,
                    0.2663142719846228,
                    0.15271049596309114
                  ],
                  "type": "scatter"
                }
              ],
              "layout": {
                "template": {
                  "data": {
                    "histogram2dcontour": [
                      {
                        "type": "histogram2dcontour",
                        "colorbar": {
                          "outlinewidth": 0,
                          "ticks": ""
                        },
                        "colorscale": [
                          [
                            0,
                            "#0d0887"
                          ],
                          [
                            0.1111111111111111,
                            "#46039f"
                          ],
                          [
                            0.2222222222222222,
                            "#7201a8"
                          ],
                          [
                            0.3333333333333333,
                            "#9c179e"
                          ],
                          [
                            0.4444444444444444,
                            "#bd3786"
                          ],
                          [
                            0.5555555555555556,
                            "#d8576b"
                          ],
                          [
                            0.6666666666666666,
                            "#ed7953"
                          ],
                          [
                            0.7777777777777778,
                            "#fb9f3a"
                          ],
                          [
                            0.8888888888888888,
                            "#fdca26"
                          ],
                          [
                            1,
                            "#f0f921"
                          ]
                        ]
                      }
                    ],
                    "choropleth": [
                      {
                        "type": "choropleth",
                        "colorbar": {
                          "outlinewidth": 0,
                          "ticks": ""
                        }
                      }
                    ],
                    "histogram2d": [
                      {
                        "type": "histogram2d",
                        "colorbar": {
                          "outlinewidth": 0,
                          "ticks": ""
                        },
                        "colorscale": [
                          [
                            0,
                            "#0d0887"
                          ],
                          [
                            0.1111111111111111,
                            "#46039f"
                          ],
                          [
                            0.2222222222222222,
                            "#7201a8"
                          ],
                          [
                            0.3333333333333333,
                            "#9c179e"
                          ],
                          [
                            0.4444444444444444,
                            "#bd3786"
                          ],
                          [
                            0.5555555555555556,
                            "#d8576b"
                          ],
                          [
                            0.6666666666666666,
                            "#ed7953"
                          ],
                          [
                            0.7777777777777778,
                            "#fb9f3a"
                          ],
                          [
                            0.8888888888888888,
                            "#fdca26"
                          ],
                          [
                            1,
                            "#f0f921"
                          ]
                        ]
                      }
                    ],
                    "heatmap": [
                      {
                        "type": "heatmap",
                        "colorbar": {
                          "outlinewidth": 0,
                          "ticks": ""
                        },
                        "colorscale": [
                          [
                            0,
                            "#0d0887"
                          ],
                          [
                            0.1111111111111111,
                            "#46039f"
                          ],
                          [
                            0.2222222222222222,
                            "#7201a8"
                          ],
                          [
                            0.3333333333333333,
                            "#9c179e"
                          ],
                          [
                            0.4444444444444444,
                            "#bd3786"
                          ],
                          [
                            0.5555555555555556,
                            "#d8576b"
                          ],
                          [
                            0.6666666666666666,
                            "#ed7953"
                          ],
                          [
                            0.7777777777777778,
                            "#fb9f3a"
                          ],
                          [
                            0.8888888888888888,
                            "#fdca26"
                          ],
                          [
                            1,
                            "#f0f921"
                          ]
                        ]
                      }
                    ],
                    "heatmapgl": [
                      {
                        "type": "heatmapgl",
                        "colorbar": {
                          "outlinewidth": 0,
                          "ticks": ""
                        },
                        "colorscale": [
                          [
                            0,
                            "#0d0887"
                          ],
                          [
                            0.1111111111111111,
                            "#46039f"
                          ],
                          [
                            0.2222222222222222,
                            "#7201a8"
                          ],
                          [
                            0.3333333333333333,
                            "#9c179e"
                          ],
                          [
                            0.4444444444444444,
                            "#bd3786"
                          ],
                          [
                            0.5555555555555556,
                            "#d8576b"
                          ],
                          [
                            0.6666666666666666,
                            "#ed7953"
                          ],
                          [
                            0.7777777777777778,
                            "#fb9f3a"
                          ],
                          [
                            0.8888888888888888,
                            "#fdca26"
                          ],
                          [
                            1,
                            "#f0f921"
                          ]
                        ]
                      }
                    ],
                    "contourcarpet": [
                      {
                        "type": "contourcarpet",
                        "colorbar": {
                          "outlinewidth": 0,
                          "ticks": ""
                        }
                      }
                    ],
                    "contour": [
                      {
                        "type": "contour",
                        "colorbar": {
                          "outlinewidth": 0,
                          "ticks": ""
                        },
                        "colorscale": [
                          [
                            0,
                            "#0d0887"
                          ],
                          [
                            0.1111111111111111,
                            "#46039f"
                          ],
                          [
                            0.2222222222222222,
                            "#7201a8"
                          ],
                          [
                            0.3333333333333333,
                            "#9c179e"
                          ],
                          [
                            0.4444444444444444,
                            "#bd3786"
                          ],
                          [
                            0.5555555555555556,
                            "#d8576b"
                          ],
                          [
                            0.6666666666666666,
                            "#ed7953"
                          ],
                          [
                            0.7777777777777778,
                            "#fb9f3a"
                          ],
                          [
                            0.8888888888888888,
                            "#fdca26"
                          ],
                          [
                            1,
                            "#f0f921"
                          ]
                        ]
                      }
                    ],
                    "surface": [
                      {
                        "type": "surface",
                        "colorbar": {
                          "outlinewidth": 0,
                          "ticks": ""
                        },
                        "colorscale": [
                          [
                            0,
                            "#0d0887"
                          ],
                          [
                            0.1111111111111111,
                            "#46039f"
                          ],
                          [
                            0.2222222222222222,
                            "#7201a8"
                          ],
                          [
                            0.3333333333333333,
                            "#9c179e"
                          ],
                          [
                            0.4444444444444444,
                            "#bd3786"
                          ],
                          [
                            0.5555555555555556,
                            "#d8576b"
                          ],
                          [
                            0.6666666666666666,
                            "#ed7953"
                          ],
                          [
                            0.7777777777777778,
                            "#fb9f3a"
                          ],
                          [
                            0.8888888888888888,
                            "#fdca26"
                          ],
                          [
                            1,
                            "#f0f921"
                          ]
                        ]
                      }
                    ],
                    "mesh3d": [
                      {
                        "type": "mesh3d",
                        "colorbar": {
                          "outlinewidth": 0,
                          "ticks": ""
                        }
                      }
                    ],
                    "scatter": [
                      {
                        "fillpattern": {
                          "fillmode": "overlay",
                          "size": 10,
                          "solidity": 0.2
                        },
                        "type": "scatter"
                      }
                    ],
                    "parcoords": [
                      {
                        "type": "parcoords",
                        "line": {
                          "colorbar": {
                            "outlinewidth": 0,
                            "ticks": ""
                          }
                        }
                      }
                    ],
                    "scatterpolargl": [
                      {
                        "type": "scatterpolargl",
                        "marker": {
                          "colorbar": {
                            "outlinewidth": 0,
                            "ticks": ""
                          }
                        }
                      }
                    ],
                    "bar": [
                      {
                        "error_x": {
                          "color": "#2a3f5f"
                        },
                        "error_y": {
                          "color": "#2a3f5f"
                        },
                        "marker": {
                          "line": {
                            "color": "#E5ECF6",
                            "width": 0.5
                          },
                          "pattern": {
                            "fillmode": "overlay",
                            "size": 10,
                            "solidity": 0.2
                          }
                        },
                        "type": "bar"
                      }
                    ],
                    "scattergeo": [
                      {
                        "type": "scattergeo",
                        "marker": {
                          "colorbar": {
                            "outlinewidth": 0,
                            "ticks": ""
                          }
                        }
                      }
                    ],
                    "scatterpolar": [
                      {
                        "type": "scatterpolar",
                        "marker": {
                          "colorbar": {
                            "outlinewidth": 0,
                            "ticks": ""
                          }
                        }
                      }
                    ],
                    "histogram": [
                      {
                        "marker": {
                          "pattern": {
                            "fillmode": "overlay",
                            "size": 10,
                            "solidity": 0.2
                          }
                        },
                        "type": "histogram"
                      }
                    ],
                    "scattergl": [
                      {
                        "type": "scattergl",
                        "marker": {
                          "colorbar": {
                            "outlinewidth": 0,
                            "ticks": ""
                          }
                        }
                      }
                    ],
                    "scatter3d": [
                      {
                        "type": "scatter3d",
                        "line": {
                          "colorbar": {
                            "outlinewidth": 0,
                            "ticks": ""
                          }
                        },
                        "marker": {
                          "colorbar": {
                            "outlinewidth": 0,
                            "ticks": ""
                          }
                        }
                      }
                    ],
                    "scattermapbox": [
                      {
                        "type": "scattermapbox",
                        "marker": {
                          "colorbar": {
                            "outlinewidth": 0,
                            "ticks": ""
                          }
                        }
                      }
                    ],
                    "scatterternary": [
                      {
                        "type": "scatterternary",
                        "marker": {
                          "colorbar": {
                            "outlinewidth": 0,
                            "ticks": ""
                          }
                        }
                      }
                    ],
                    "scattercarpet": [
                      {
                        "type": "scattercarpet",
                        "marker": {
                          "colorbar": {
                            "outlinewidth": 0,
                            "ticks": ""
                          }
                        }
                      }
                    ],
                    "carpet": [
                      {
                        "aaxis": {
                          "endlinecolor": "#2a3f5f",
                          "gridcolor": "white",
                          "linecolor": "white",
                          "minorgridcolor": "white",
                          "startlinecolor": "#2a3f5f"
                        },
                        "baxis": {
                          "endlinecolor": "#2a3f5f",
                          "gridcolor": "white",
                          "linecolor": "white",
                          "minorgridcolor": "white",
                          "startlinecolor": "#2a3f5f"
                        },
                        "type": "carpet"
                      }
                    ],
                    "table": [
                      {
                        "cells": {
                          "fill": {
                            "color": "#EBF0F8"
                          },
                          "line": {
                            "color": "white"
                          }
                        },
                        "header": {
                          "fill": {
                            "color": "#C8D4E3"
                          },
                          "line": {
                            "color": "white"
                          }
                        },
                        "type": "table"
                      }
                    ],
                    "barpolar": [
                      {
                        "marker": {
                          "line": {
                            "color": "#E5ECF6",
                            "width": 0.5
                          },
                          "pattern": {
                            "fillmode": "overlay",
                            "size": 10,
                            "solidity": 0.2
                          }
                        },
                        "type": "barpolar"
                      }
                    ],
                    "pie": [
                      {
                        "automargin": true,
                        "type": "pie"
                      }
                    ]
                  },
                  "layout": {
                    "autotypenumbers": "strict",
                    "colorway": [
                      "#636efa",
                      "#EF553B",
                      "#00cc96",
                      "#ab63fa",
                      "#FFA15A",
                      "#19d3f3",
                      "#FF6692",
                      "#B6E880",
                      "#FF97FF",
                      "#FECB52"
                    ],
                    "font": {
                      "color": "#2a3f5f"
                    },
                    "hovermode": "closest",
                    "hoverlabel": {
                      "align": "left"
                    },
                    "paper_bgcolor": "white",
                    "plot_bgcolor": "#E5ECF6",
                    "polar": {
                      "bgcolor": "#E5ECF6",
                      "angularaxis": {
                        "gridcolor": "white",
                        "linecolor": "white",
                        "ticks": ""
                      },
                      "radialaxis": {
                        "gridcolor": "white",
                        "linecolor": "white",
                        "ticks": ""
                      }
                    },
                    "ternary": {
                      "bgcolor": "#E5ECF6",
                      "aaxis": {
                        "gridcolor": "white",
                        "linecolor": "white",
                        "ticks": ""
                      },
                      "baxis": {
                        "gridcolor": "white",
                        "linecolor": "white",
                        "ticks": ""
                      },
                      "caxis": {
                        "gridcolor": "white",
                        "linecolor": "white",
                        "ticks": ""
                      }
                    },
                    "coloraxis": {
                      "colorbar": {
                        "outlinewidth": 0,
                        "ticks": ""
                      }
                    },
                    "colorscale": {
                      "sequential": [
                        [
                          0,
                          "#0d0887"
                        ],
                        [
                          0.1111111111111111,
                          "#46039f"
                        ],
                        [
                          0.2222222222222222,
                          "#7201a8"
                        ],
                        [
                          0.3333333333333333,
                          "#9c179e"
                        ],
                        [
                          0.4444444444444444,
                          "#bd3786"
                        ],
                        [
                          0.5555555555555556,
                          "#d8576b"
                        ],
                        [
                          0.6666666666666666,
                          "#ed7953"
                        ],
                        [
                          0.7777777777777778,
                          "#fb9f3a"
                        ],
                        [
                          0.8888888888888888,
                          "#fdca26"
                        ],
                        [
                          1,
                          "#f0f921"
                        ]
                      ],
                      "sequentialminus": [
                        [
                          0,
                          "#0d0887"
                        ],
                        [
                          0.1111111111111111,
                          "#46039f"
                        ],
                        [
                          0.2222222222222222,
                          "#7201a8"
                        ],
                        [
                          0.3333333333333333,
                          "#9c179e"
                        ],
                        [
                          0.4444444444444444,
                          "#bd3786"
                        ],
                        [
                          0.5555555555555556,
                          "#d8576b"
                        ],
                        [
                          0.6666666666666666,
                          "#ed7953"
                        ],
                        [
                          0.7777777777777778,
                          "#fb9f3a"
                        ],
                        [
                          0.8888888888888888,
                          "#fdca26"
                        ],
                        [
                          1,
                          "#f0f921"
                        ]
                      ],
                      "diverging": [
                        [
                          0,
                          "#8e0152"
                        ],
                        [
                          0.1,
                          "#c51b7d"
                        ],
                        [
                          0.2,
                          "#de77ae"
                        ],
                        [
                          0.3,
                          "#f1b6da"
                        ],
                        [
                          0.4,
                          "#fde0ef"
                        ],
                        [
                          0.5,
                          "#f7f7f7"
                        ],
                        [
                          0.6,
                          "#e6f5d0"
                        ],
                        [
                          0.7,
                          "#b8e186"
                        ],
                        [
                          0.8,
                          "#7fbc41"
                        ],
                        [
                          0.9,
                          "#4d9221"
                        ],
                        [
                          1,
                          "#276419"
                        ]
                      ]
                    },
                    "xaxis": {
                      "gridcolor": "white",
                      "linecolor": "white",
                      "ticks": "",
                      "title": {
                        "standoff": 15
                      },
                      "zerolinecolor": "white",
                      "automargin": true,
                      "zerolinewidth": 2
                    },
                    "yaxis": {
                      "gridcolor": "white",
                      "linecolor": "white",
                      "ticks": "",
                      "title": {
                        "standoff": 15
                      },
                      "zerolinecolor": "white",
                      "automargin": true,
                      "zerolinewidth": 2
                    },
                    "scene": {
                      "xaxis": {
                        "backgroundcolor": "#E5ECF6",
                        "gridcolor": "white",
                        "linecolor": "white",
                        "showbackground": true,
                        "ticks": "",
                        "zerolinecolor": "white",
                        "gridwidth": 2
                      },
                      "yaxis": {
                        "backgroundcolor": "#E5ECF6",
                        "gridcolor": "white",
                        "linecolor": "white",
                        "showbackground": true,
                        "ticks": "",
                        "zerolinecolor": "white",
                        "gridwidth": 2
                      },
                      "zaxis": {
                        "backgroundcolor": "#E5ECF6",
                        "gridcolor": "white",
                        "linecolor": "white",
                        "showbackground": true,
                        "ticks": "",
                        "zerolinecolor": "white",
                        "gridwidth": 2
                      }
                    },
                    "shapedefaults": {
                      "line": {
                        "color": "#2a3f5f"
                      }
                    },
                    "annotationdefaults": {
                      "arrowcolor": "#2a3f5f",
                      "arrowhead": 0,
                      "arrowwidth": 1
                    },
                    "geo": {
                      "bgcolor": "white",
                      "landcolor": "#E5ECF6",
                      "subunitcolor": "white",
                      "showland": true,
                      "showlakes": true,
                      "lakecolor": "white"
                    },
                    "title": {
                      "x": 0.05
                    },
                    "mapbox": {
                      "style": "light"
                    }
                  }
                },
                "title": {
                  "text": "Both"
                },
                "legend": {
                  "title": {
                    "text": "year"
                  }
                },
                "xaxis": {
                  "title": {
                    "text": "Age Groups"
                  }
                },
                "yaxis": {
                  "title": {
                    "text": "Survival Rate"
                  }
                }
              },
              "config": {
                "plotlyServerURL": "https://plot.ly"
              }
            }
          },
          "metadata": {},
          "output_type": "display_data"
        }
      ],
      "metadata": {
        "datalore": {
          "node_id": "l1Y62SqgBnkeMmml14Qm3e",
          "type": "CODE",
          "hide_input_from_viewers": true,
          "hide_output_from_viewers": true
        },
        "id": "4MfRV8oH6eG6",
        "outputId": "c8fa14ad-fe8b-4224-866a-176c065e4f22"
      }
    },
    {
      "cell_type": "code",
      "source": [
        "raft(m_cleaned_1950_2005_df, features=SURVIVAL_RATES, years=m_cleaned_1950_2005_df[\"Year\"].unique(), pltTitle=\"Males\", yTitle=\"Survival Rate\", remove='SR: ')"
      ],
      "execution_count": null,
      "outputs": [
        {
          "data": {
            "application/vnd.plotly.v1+json": {
              "data": [
                {
                  "line": {
                    "dash": "solid"
                  },
                  "mode": "lines",
                  "name": "1950",
                  "x": [],
                  "y": [],
                  "type": "scatter"
                },
                {
                  "line": {
                    "dash": "solid"
                  },
                  "mode": "lines",
                  "name": "1955",
                  "x": [
                    "5 - 9",
                    "10 - 14",
                    "15 - 19",
                    "20 - 24",
                    "25 - 29",
                    "30 - 34",
                    "35 - 39",
                    "40 - 44",
                    "45 - 49",
                    "50 - 54",
                    "55 - 59",
                    "60 - 64",
                    "65 - 69",
                    "70 - 74",
                    "75 - 79",
                    "80 - 84"
                  ],
                  "y": [
                    0.9033433150757554,
                    0.9665827567463418,
                    1.0029138883128845,
                    1.0452679343128781,
                    0.952002242620408,
                    1.006792207719487,
                    0.9867714236506935,
                    0.928239785016334,
                    0.9037980490895386,
                    0.7651111469939179,
                    0.731195665668183,
                    0.5665270875291596,
                    0.5415450201997659,
                    0.6311749449033749,
                    0.8538405470132936,
                    0.8845999195818255
                  ],
                  "type": "scatter"
                },
                {
                  "line": {
                    "dash": "solid"
                  },
                  "mode": "lines",
                  "name": "1960",
                  "x": [
                    "5 - 9",
                    "10 - 14",
                    "15 - 19",
                    "20 - 24",
                    "25 - 29",
                    "30 - 34",
                    "35 - 39",
                    "40 - 44",
                    "45 - 49",
                    "50 - 54",
                    "55 - 59",
                    "60 - 64",
                    "65 - 69",
                    "70 - 74",
                    "75 - 79",
                    "80 - 84"
                  ],
                  "y": [
                    0.9563280379858139,
                    0.9846746077861709,
                    0.9837938578721336,
                    0.9769990866063273,
                    0.9719737626714371,
                    0.9688675574004411,
                    0.9637096774193548,
                    0.9554521276595743,
                    0.9440109246976199,
                    0.9262750785593425,
                    0.9008090045726346,
                    0.8624292555507184,
                    0.8081841432225064,
                    0.7325483599663583,
                    0.6282660332541568,
                    0.6178861788617885
                  ],
                  "type": "scatter"
                },
                {
                  "line": {
                    "dash": "solid"
                  },
                  "mode": "lines",
                  "name": "1965",
                  "x": [
                    "5 - 9",
                    "10 - 14",
                    "15 - 19",
                    "20 - 24",
                    "25 - 29",
                    "30 - 34",
                    "35 - 39",
                    "40 - 44",
                    "45 - 49",
                    "50 - 54",
                    "55 - 59",
                    "60 - 64",
                    "65 - 69",
                    "70 - 74",
                    "75 - 79",
                    "80 - 84"
                  ],
                  "y": [
                    0.9613074278139111,
                    0.9844305504474684,
                    0.9834034078335915,
                    0.9771847459023146,
                    0.9730579636240015,
                    0.9705521472392639,
                    0.9655911099210069,
                    0.9583032751406724,
                    0.9471120389700766,
                    0.9301508576152099,
                    0.9055323590814196,
                    0.8680203045685279,
                    0.8147400302877336,
                    0.7397151898734177,
                    0.6360505166475316,
                    0.6257088846880908
                  ],
                  "type": "scatter"
                },
                {
                  "line": {
                    "dash": "solid"
                  },
                  "mode": "lines",
                  "name": "1970",
                  "x": [
                    "5 - 9",
                    "10 - 14",
                    "15 - 19",
                    "20 - 24",
                    "25 - 29",
                    "30 - 34",
                    "35 - 39",
                    "40 - 44",
                    "45 - 49",
                    "50 - 54",
                    "55 - 59",
                    "60 - 64",
                    "65 - 69",
                    "70 - 74",
                    "75 - 79",
                    "80 - 84"
                  ],
                  "y": [
                    0.9751290666229616,
                    0.9934496875673346,
                    0.9928393524283935,
                    0.9874737473747375,
                    0.9839851652056641,
                    0.9813957550877804,
                    0.9771386430678466,
                    0.9706045479755961,
                    0.959500150557061,
                    0.9432402645113888,
                    0.9184625638746944,
                    0.8815561959654178,
                    0.8290598290598291,
                    0.7546468401486989,
                    0.651336898395722,
                    0.655072202166065
                  ],
                  "type": "scatter"
                },
                {
                  "line": {
                    "dash": "solid"
                  },
                  "mode": "lines",
                  "name": "1975",
                  "x": [
                    "5 - 9",
                    "10 - 14",
                    "15 - 19",
                    "20 - 24",
                    "25 - 29",
                    "30 - 34",
                    "35 - 39",
                    "40 - 44",
                    "45 - 49",
                    "50 - 54",
                    "55 - 59",
                    "60 - 64",
                    "65 - 69",
                    "70 - 74",
                    "75 - 79",
                    "80 - 84"
                  ],
                  "y": [
                    0.9773488454080735,
                    0.9913441741249632,
                    0.9903266386153645,
                    0.9855754154907495,
                    0.9826053930877325,
                    0.9808120609902347,
                    0.9773940904236385,
                    0.9712129380053908,
                    0.9611428571428571,
                    0.9455515455829281,
                    0.921713729308666,
                    0.8863086598935656,
                    0.8352402745995424,
                    0.7623440043407488,
                    0.6600985221674878,
                    0.6683251231527094
                  ],
                  "type": "scatter"
                },
                {
                  "line": {
                    "dash": "solid"
                  },
                  "mode": "lines",
                  "name": "1980",
                  "x": [
                    "5 - 9",
                    "10 - 14",
                    "15 - 19",
                    "20 - 24",
                    "25 - 29",
                    "30 - 34",
                    "35 - 39",
                    "40 - 44",
                    "45 - 49",
                    "50 - 54",
                    "55 - 59",
                    "60 - 64",
                    "65 - 69",
                    "70 - 74",
                    "75 - 79",
                    "80 - 84"
                  ],
                  "y": [
                    0.9706218664790218,
                    1.0280458111642168,
                    1.024456406561268,
                    0.9286027157249234,
                    1.0168628698695514,
                    0.9516079158936303,
                    0.994759825327511,
                    0.9825168457475869,
                    0.9347246891651866,
                    0.9571938168846612,
                    0.854629936939927,
                    0.8134375660257764,
                    0.7860262008733625,
                    0.6966731898238747,
                    0.6120996441281139,
                    0.5846019900497512
                  ],
                  "type": "scatter"
                },
                {
                  "line": {
                    "dash": "solid"
                  },
                  "mode": "lines",
                  "name": "1985",
                  "x": [
                    "5 - 9",
                    "10 - 14",
                    "15 - 19",
                    "20 - 24",
                    "25 - 29",
                    "30 - 34",
                    "35 - 39",
                    "40 - 44",
                    "45 - 49",
                    "50 - 54",
                    "55 - 59",
                    "60 - 64",
                    "65 - 69",
                    "70 - 74",
                    "75 - 79",
                    "80 - 84"
                  ],
                  "y": [
                    0.9363136631865638,
                    1.068527865881287,
                    0.9955622807017545,
                    0.9139205626810095,
                    0.9643481132075471,
                    1.014337296620776,
                    1.0882103980503655,
                    0.9915320456540826,
                    1.0014874884151992,
                    0.9806282660332541,
                    0.8925978260869565,
                    0.8854504854368932,
                    0.801935064935065,
                    0.684125,
                    0.5933876404494383,
                    0.5833837209302325
                  ],
                  "type": "scatter"
                },
                {
                  "line": {
                    "dash": "solid"
                  },
                  "mode": "lines",
                  "name": "1990",
                  "x": [
                    "5 - 9",
                    "10 - 14",
                    "15 - 19",
                    "20 - 24",
                    "25 - 29",
                    "30 - 34",
                    "35 - 39",
                    "40 - 44",
                    "45 - 49",
                    "50 - 54",
                    "55 - 59",
                    "60 - 64",
                    "65 - 69",
                    "70 - 74",
                    "75 - 79",
                    "80 - 84"
                  ],
                  "y": [
                    1.0211399797926664,
                    0.9910980710224807,
                    0.9740208909946015,
                    0.9714839802245226,
                    0.9873677310355256,
                    1.0218379998610851,
                    0.9588268572426246,
                    0.958822383316649,
                    0.9934458164173355,
                    0.9445764178400063,
                    0.9068886711582691,
                    0.8637152007626564,
                    0.832903880861478,
                    0.7580268506372573,
                    0.6271189881641188,
                    0.66962688050898
                  ],
                  "type": "scatter"
                },
                {
                  "line": {
                    "dash": "solid"
                  },
                  "mode": "lines",
                  "name": "1995",
                  "x": [
                    "5 - 9",
                    "10 - 14",
                    "15 - 19",
                    "20 - 24",
                    "25 - 29",
                    "30 - 34",
                    "35 - 39",
                    "40 - 44",
                    "45 - 49",
                    "50 - 54",
                    "55 - 59",
                    "60 - 64",
                    "65 - 69",
                    "70 - 74",
                    "75 - 79",
                    "80 - 84",
                    "85 - 89"
                  ],
                  "y": [
                    0.99306970514798,
                    0.9950693849735701,
                    0.9908214741502992,
                    0.9797189870508007,
                    0.9756982959013294,
                    0.983202524298019,
                    0.9843590239456523,
                    0.9775501182944241,
                    0.9679592284802706,
                    0.9661884232227197,
                    0.9527879503955075,
                    0.9199380882682877,
                    0.8843465755742288,
                    0.8206840262236381,
                    0.7176643009438679,
                    0.546948850760764,
                    0.31317158692455604
                  ],
                  "type": "scatter"
                },
                {
                  "line": {
                    "dash": "solid"
                  },
                  "mode": "lines",
                  "name": "2000",
                  "x": [
                    "5 - 9",
                    "10 - 14",
                    "15 - 19",
                    "20 - 24",
                    "25 - 29",
                    "30 - 34",
                    "35 - 39",
                    "40 - 44",
                    "45 - 49",
                    "50 - 54",
                    "55 - 59",
                    "60 - 64",
                    "65 - 69",
                    "70 - 74",
                    "75 - 79",
                    "80 - 84",
                    "85 - 89",
                    "90 - 94",
                    "95 - 99",
                    "100+"
                  ],
                  "y": [
                    0.9952087855200801,
                    0.9960190846858237,
                    0.990091933283658,
                    0.9805264979341647,
                    0.9766080649984824,
                    0.9791212443035651,
                    0.9852779744134272,
                    0.9817738764406929,
                    0.9744063314118117,
                    0.9693598826322801,
                    0.962006165949274,
                    0.9398616383760195,
                    0.905780154661998,
                    0.842417285587069,
                    0.736541719066807,
                    0.6040128602048107,
                    0.4604992527485535,
                    0.3212641083521445,
                    0.20699925539836186,
                    0.12612612612612611
                  ],
                  "type": "scatter"
                },
                {
                  "line": {
                    "dash": "solid"
                  },
                  "mode": "lines",
                  "name": "2005",
                  "x": [
                    "5 - 9",
                    "10 - 14",
                    "15 - 19",
                    "20 - 24",
                    "25 - 29",
                    "30 - 34",
                    "35 - 39",
                    "40 - 44",
                    "45 - 49",
                    "50 - 54",
                    "55 - 59",
                    "60 - 64",
                    "65 - 69",
                    "70 - 74",
                    "75 - 79",
                    "80 - 84",
                    "85 - 89",
                    "90 - 94",
                    "95 - 99",
                    "100+"
                  ],
                  "y": [
                    0.9963917893216551,
                    0.9968217041021947,
                    0.9899329681292334,
                    0.9815291091886837,
                    0.9761510839180556,
                    0.9815952678876123,
                    0.9881750253839877,
                    0.9859979667139334,
                    0.9799243056522111,
                    0.9753424416947335,
                    0.9690809158481153,
                    0.9495872777206682,
                    0.9141775287241887,
                    0.8540290694972218,
                    0.7555267775311519,
                    0.6245366599443339,
                    0.4766781665845244,
                    0.33070916744320555,
                    0.2105115233277122,
                    0.12709832134292567
                  ],
                  "type": "scatter"
                }
              ],
              "layout": {
                "template": {
                  "data": {
                    "histogram2dcontour": [
                      {
                        "type": "histogram2dcontour",
                        "colorbar": {
                          "outlinewidth": 0,
                          "ticks": ""
                        },
                        "colorscale": [
                          [
                            0,
                            "#0d0887"
                          ],
                          [
                            0.1111111111111111,
                            "#46039f"
                          ],
                          [
                            0.2222222222222222,
                            "#7201a8"
                          ],
                          [
                            0.3333333333333333,
                            "#9c179e"
                          ],
                          [
                            0.4444444444444444,
                            "#bd3786"
                          ],
                          [
                            0.5555555555555556,
                            "#d8576b"
                          ],
                          [
                            0.6666666666666666,
                            "#ed7953"
                          ],
                          [
                            0.7777777777777778,
                            "#fb9f3a"
                          ],
                          [
                            0.8888888888888888,
                            "#fdca26"
                          ],
                          [
                            1,
                            "#f0f921"
                          ]
                        ]
                      }
                    ],
                    "choropleth": [
                      {
                        "type": "choropleth",
                        "colorbar": {
                          "outlinewidth": 0,
                          "ticks": ""
                        }
                      }
                    ],
                    "histogram2d": [
                      {
                        "type": "histogram2d",
                        "colorbar": {
                          "outlinewidth": 0,
                          "ticks": ""
                        },
                        "colorscale": [
                          [
                            0,
                            "#0d0887"
                          ],
                          [
                            0.1111111111111111,
                            "#46039f"
                          ],
                          [
                            0.2222222222222222,
                            "#7201a8"
                          ],
                          [
                            0.3333333333333333,
                            "#9c179e"
                          ],
                          [
                            0.4444444444444444,
                            "#bd3786"
                          ],
                          [
                            0.5555555555555556,
                            "#d8576b"
                          ],
                          [
                            0.6666666666666666,
                            "#ed7953"
                          ],
                          [
                            0.7777777777777778,
                            "#fb9f3a"
                          ],
                          [
                            0.8888888888888888,
                            "#fdca26"
                          ],
                          [
                            1,
                            "#f0f921"
                          ]
                        ]
                      }
                    ],
                    "heatmap": [
                      {
                        "type": "heatmap",
                        "colorbar": {
                          "outlinewidth": 0,
                          "ticks": ""
                        },
                        "colorscale": [
                          [
                            0,
                            "#0d0887"
                          ],
                          [
                            0.1111111111111111,
                            "#46039f"
                          ],
                          [
                            0.2222222222222222,
                            "#7201a8"
                          ],
                          [
                            0.3333333333333333,
                            "#9c179e"
                          ],
                          [
                            0.4444444444444444,
                            "#bd3786"
                          ],
                          [
                            0.5555555555555556,
                            "#d8576b"
                          ],
                          [
                            0.6666666666666666,
                            "#ed7953"
                          ],
                          [
                            0.7777777777777778,
                            "#fb9f3a"
                          ],
                          [
                            0.8888888888888888,
                            "#fdca26"
                          ],
                          [
                            1,
                            "#f0f921"
                          ]
                        ]
                      }
                    ],
                    "heatmapgl": [
                      {
                        "type": "heatmapgl",
                        "colorbar": {
                          "outlinewidth": 0,
                          "ticks": ""
                        },
                        "colorscale": [
                          [
                            0,
                            "#0d0887"
                          ],
                          [
                            0.1111111111111111,
                            "#46039f"
                          ],
                          [
                            0.2222222222222222,
                            "#7201a8"
                          ],
                          [
                            0.3333333333333333,
                            "#9c179e"
                          ],
                          [
                            0.4444444444444444,
                            "#bd3786"
                          ],
                          [
                            0.5555555555555556,
                            "#d8576b"
                          ],
                          [
                            0.6666666666666666,
                            "#ed7953"
                          ],
                          [
                            0.7777777777777778,
                            "#fb9f3a"
                          ],
                          [
                            0.8888888888888888,
                            "#fdca26"
                          ],
                          [
                            1,
                            "#f0f921"
                          ]
                        ]
                      }
                    ],
                    "contourcarpet": [
                      {
                        "type": "contourcarpet",
                        "colorbar": {
                          "outlinewidth": 0,
                          "ticks": ""
                        }
                      }
                    ],
                    "contour": [
                      {
                        "type": "contour",
                        "colorbar": {
                          "outlinewidth": 0,
                          "ticks": ""
                        },
                        "colorscale": [
                          [
                            0,
                            "#0d0887"
                          ],
                          [
                            0.1111111111111111,
                            "#46039f"
                          ],
                          [
                            0.2222222222222222,
                            "#7201a8"
                          ],
                          [
                            0.3333333333333333,
                            "#9c179e"
                          ],
                          [
                            0.4444444444444444,
                            "#bd3786"
                          ],
                          [
                            0.5555555555555556,
                            "#d8576b"
                          ],
                          [
                            0.6666666666666666,
                            "#ed7953"
                          ],
                          [
                            0.7777777777777778,
                            "#fb9f3a"
                          ],
                          [
                            0.8888888888888888,
                            "#fdca26"
                          ],
                          [
                            1,
                            "#f0f921"
                          ]
                        ]
                      }
                    ],
                    "surface": [
                      {
                        "type": "surface",
                        "colorbar": {
                          "outlinewidth": 0,
                          "ticks": ""
                        },
                        "colorscale": [
                          [
                            0,
                            "#0d0887"
                          ],
                          [
                            0.1111111111111111,
                            "#46039f"
                          ],
                          [
                            0.2222222222222222,
                            "#7201a8"
                          ],
                          [
                            0.3333333333333333,
                            "#9c179e"
                          ],
                          [
                            0.4444444444444444,
                            "#bd3786"
                          ],
                          [
                            0.5555555555555556,
                            "#d8576b"
                          ],
                          [
                            0.6666666666666666,
                            "#ed7953"
                          ],
                          [
                            0.7777777777777778,
                            "#fb9f3a"
                          ],
                          [
                            0.8888888888888888,
                            "#fdca26"
                          ],
                          [
                            1,
                            "#f0f921"
                          ]
                        ]
                      }
                    ],
                    "mesh3d": [
                      {
                        "type": "mesh3d",
                        "colorbar": {
                          "outlinewidth": 0,
                          "ticks": ""
                        }
                      }
                    ],
                    "scatter": [
                      {
                        "fillpattern": {
                          "fillmode": "overlay",
                          "size": 10,
                          "solidity": 0.2
                        },
                        "type": "scatter"
                      }
                    ],
                    "parcoords": [
                      {
                        "type": "parcoords",
                        "line": {
                          "colorbar": {
                            "outlinewidth": 0,
                            "ticks": ""
                          }
                        }
                      }
                    ],
                    "scatterpolargl": [
                      {
                        "type": "scatterpolargl",
                        "marker": {
                          "colorbar": {
                            "outlinewidth": 0,
                            "ticks": ""
                          }
                        }
                      }
                    ],
                    "bar": [
                      {
                        "error_x": {
                          "color": "#2a3f5f"
                        },
                        "error_y": {
                          "color": "#2a3f5f"
                        },
                        "marker": {
                          "line": {
                            "color": "#E5ECF6",
                            "width": 0.5
                          },
                          "pattern": {
                            "fillmode": "overlay",
                            "size": 10,
                            "solidity": 0.2
                          }
                        },
                        "type": "bar"
                      }
                    ],
                    "scattergeo": [
                      {
                        "type": "scattergeo",
                        "marker": {
                          "colorbar": {
                            "outlinewidth": 0,
                            "ticks": ""
                          }
                        }
                      }
                    ],
                    "scatterpolar": [
                      {
                        "type": "scatterpolar",
                        "marker": {
                          "colorbar": {
                            "outlinewidth": 0,
                            "ticks": ""
                          }
                        }
                      }
                    ],
                    "histogram": [
                      {
                        "marker": {
                          "pattern": {
                            "fillmode": "overlay",
                            "size": 10,
                            "solidity": 0.2
                          }
                        },
                        "type": "histogram"
                      }
                    ],
                    "scattergl": [
                      {
                        "type": "scattergl",
                        "marker": {
                          "colorbar": {
                            "outlinewidth": 0,
                            "ticks": ""
                          }
                        }
                      }
                    ],
                    "scatter3d": [
                      {
                        "type": "scatter3d",
                        "line": {
                          "colorbar": {
                            "outlinewidth": 0,
                            "ticks": ""
                          }
                        },
                        "marker": {
                          "colorbar": {
                            "outlinewidth": 0,
                            "ticks": ""
                          }
                        }
                      }
                    ],
                    "scattermapbox": [
                      {
                        "type": "scattermapbox",
                        "marker": {
                          "colorbar": {
                            "outlinewidth": 0,
                            "ticks": ""
                          }
                        }
                      }
                    ],
                    "scatterternary": [
                      {
                        "type": "scatterternary",
                        "marker": {
                          "colorbar": {
                            "outlinewidth": 0,
                            "ticks": ""
                          }
                        }
                      }
                    ],
                    "scattercarpet": [
                      {
                        "type": "scattercarpet",
                        "marker": {
                          "colorbar": {
                            "outlinewidth": 0,
                            "ticks": ""
                          }
                        }
                      }
                    ],
                    "carpet": [
                      {
                        "aaxis": {
                          "endlinecolor": "#2a3f5f",
                          "gridcolor": "white",
                          "linecolor": "white",
                          "minorgridcolor": "white",
                          "startlinecolor": "#2a3f5f"
                        },
                        "baxis": {
                          "endlinecolor": "#2a3f5f",
                          "gridcolor": "white",
                          "linecolor": "white",
                          "minorgridcolor": "white",
                          "startlinecolor": "#2a3f5f"
                        },
                        "type": "carpet"
                      }
                    ],
                    "table": [
                      {
                        "cells": {
                          "fill": {
                            "color": "#EBF0F8"
                          },
                          "line": {
                            "color": "white"
                          }
                        },
                        "header": {
                          "fill": {
                            "color": "#C8D4E3"
                          },
                          "line": {
                            "color": "white"
                          }
                        },
                        "type": "table"
                      }
                    ],
                    "barpolar": [
                      {
                        "marker": {
                          "line": {
                            "color": "#E5ECF6",
                            "width": 0.5
                          },
                          "pattern": {
                            "fillmode": "overlay",
                            "size": 10,
                            "solidity": 0.2
                          }
                        },
                        "type": "barpolar"
                      }
                    ],
                    "pie": [
                      {
                        "automargin": true,
                        "type": "pie"
                      }
                    ]
                  },
                  "layout": {
                    "autotypenumbers": "strict",
                    "colorway": [
                      "#636efa",
                      "#EF553B",
                      "#00cc96",
                      "#ab63fa",
                      "#FFA15A",
                      "#19d3f3",
                      "#FF6692",
                      "#B6E880",
                      "#FF97FF",
                      "#FECB52"
                    ],
                    "font": {
                      "color": "#2a3f5f"
                    },
                    "hovermode": "closest",
                    "hoverlabel": {
                      "align": "left"
                    },
                    "paper_bgcolor": "white",
                    "plot_bgcolor": "#E5ECF6",
                    "polar": {
                      "bgcolor": "#E5ECF6",
                      "angularaxis": {
                        "gridcolor": "white",
                        "linecolor": "white",
                        "ticks": ""
                      },
                      "radialaxis": {
                        "gridcolor": "white",
                        "linecolor": "white",
                        "ticks": ""
                      }
                    },
                    "ternary": {
                      "bgcolor": "#E5ECF6",
                      "aaxis": {
                        "gridcolor": "white",
                        "linecolor": "white",
                        "ticks": ""
                      },
                      "baxis": {
                        "gridcolor": "white",
                        "linecolor": "white",
                        "ticks": ""
                      },
                      "caxis": {
                        "gridcolor": "white",
                        "linecolor": "white",
                        "ticks": ""
                      }
                    },
                    "coloraxis": {
                      "colorbar": {
                        "outlinewidth": 0,
                        "ticks": ""
                      }
                    },
                    "colorscale": {
                      "sequential": [
                        [
                          0,
                          "#0d0887"
                        ],
                        [
                          0.1111111111111111,
                          "#46039f"
                        ],
                        [
                          0.2222222222222222,
                          "#7201a8"
                        ],
                        [
                          0.3333333333333333,
                          "#9c179e"
                        ],
                        [
                          0.4444444444444444,
                          "#bd3786"
                        ],
                        [
                          0.5555555555555556,
                          "#d8576b"
                        ],
                        [
                          0.6666666666666666,
                          "#ed7953"
                        ],
                        [
                          0.7777777777777778,
                          "#fb9f3a"
                        ],
                        [
                          0.8888888888888888,
                          "#fdca26"
                        ],
                        [
                          1,
                          "#f0f921"
                        ]
                      ],
                      "sequentialminus": [
                        [
                          0,
                          "#0d0887"
                        ],
                        [
                          0.1111111111111111,
                          "#46039f"
                        ],
                        [
                          0.2222222222222222,
                          "#7201a8"
                        ],
                        [
                          0.3333333333333333,
                          "#9c179e"
                        ],
                        [
                          0.4444444444444444,
                          "#bd3786"
                        ],
                        [
                          0.5555555555555556,
                          "#d8576b"
                        ],
                        [
                          0.6666666666666666,
                          "#ed7953"
                        ],
                        [
                          0.7777777777777778,
                          "#fb9f3a"
                        ],
                        [
                          0.8888888888888888,
                          "#fdca26"
                        ],
                        [
                          1,
                          "#f0f921"
                        ]
                      ],
                      "diverging": [
                        [
                          0,
                          "#8e0152"
                        ],
                        [
                          0.1,
                          "#c51b7d"
                        ],
                        [
                          0.2,
                          "#de77ae"
                        ],
                        [
                          0.3,
                          "#f1b6da"
                        ],
                        [
                          0.4,
                          "#fde0ef"
                        ],
                        [
                          0.5,
                          "#f7f7f7"
                        ],
                        [
                          0.6,
                          "#e6f5d0"
                        ],
                        [
                          0.7,
                          "#b8e186"
                        ],
                        [
                          0.8,
                          "#7fbc41"
                        ],
                        [
                          0.9,
                          "#4d9221"
                        ],
                        [
                          1,
                          "#276419"
                        ]
                      ]
                    },
                    "xaxis": {
                      "gridcolor": "white",
                      "linecolor": "white",
                      "ticks": "",
                      "title": {
                        "standoff": 15
                      },
                      "zerolinecolor": "white",
                      "automargin": true,
                      "zerolinewidth": 2
                    },
                    "yaxis": {
                      "gridcolor": "white",
                      "linecolor": "white",
                      "ticks": "",
                      "title": {
                        "standoff": 15
                      },
                      "zerolinecolor": "white",
                      "automargin": true,
                      "zerolinewidth": 2
                    },
                    "scene": {
                      "xaxis": {
                        "backgroundcolor": "#E5ECF6",
                        "gridcolor": "white",
                        "linecolor": "white",
                        "showbackground": true,
                        "ticks": "",
                        "zerolinecolor": "white",
                        "gridwidth": 2
                      },
                      "yaxis": {
                        "backgroundcolor": "#E5ECF6",
                        "gridcolor": "white",
                        "linecolor": "white",
                        "showbackground": true,
                        "ticks": "",
                        "zerolinecolor": "white",
                        "gridwidth": 2
                      },
                      "zaxis": {
                        "backgroundcolor": "#E5ECF6",
                        "gridcolor": "white",
                        "linecolor": "white",
                        "showbackground": true,
                        "ticks": "",
                        "zerolinecolor": "white",
                        "gridwidth": 2
                      }
                    },
                    "shapedefaults": {
                      "line": {
                        "color": "#2a3f5f"
                      }
                    },
                    "annotationdefaults": {
                      "arrowcolor": "#2a3f5f",
                      "arrowhead": 0,
                      "arrowwidth": 1
                    },
                    "geo": {
                      "bgcolor": "white",
                      "landcolor": "#E5ECF6",
                      "subunitcolor": "white",
                      "showland": true,
                      "showlakes": true,
                      "lakecolor": "white"
                    },
                    "title": {
                      "x": 0.05
                    },
                    "mapbox": {
                      "style": "light"
                    }
                  }
                },
                "title": {
                  "text": "Males"
                },
                "legend": {
                  "title": {
                    "text": "year"
                  }
                },
                "xaxis": {
                  "title": {
                    "text": "Age Groups"
                  }
                },
                "yaxis": {
                  "title": {
                    "text": "Survival Rate"
                  }
                }
              },
              "config": {
                "plotlyServerURL": "https://plot.ly"
              }
            }
          },
          "metadata": {},
          "output_type": "display_data"
        }
      ],
      "metadata": {
        "datalore": {
          "node_id": "9e1xg18fb1cMquI3alK5BA",
          "type": "CODE",
          "hide_input_from_viewers": true,
          "hide_output_from_viewers": true
        },
        "id": "SNOPhYIL6eG6",
        "outputId": "6a139f9d-fb5c-40de-fff9-15eb2aa1535d"
      }
    },
    {
      "cell_type": "code",
      "source": [
        "raft(f_cleaned_1950_2005_df, features=SURVIVAL_RATES, years=f_cleaned_1950_2005_df[\"Year\"].unique(), pltTitle=\"Women\", yTitle=\"Survival Rate\", remove='SR: ')"
      ],
      "execution_count": null,
      "outputs": [
        {
          "data": {
            "application/vnd.plotly.v1+json": {
              "data": [
                {
                  "line": {
                    "dash": "solid"
                  },
                  "mode": "lines",
                  "name": "1950",
                  "x": [],
                  "y": [],
                  "type": "scatter"
                },
                {
                  "line": {
                    "dash": "solid"
                  },
                  "mode": "lines",
                  "name": "1955",
                  "x": [
                    "5 - 9",
                    "10 - 14",
                    "15 - 19",
                    "20 - 24",
                    "25 - 29",
                    "30 - 34",
                    "35 - 39",
                    "40 - 44",
                    "45 - 49",
                    "50 - 54",
                    "55 - 59",
                    "60 - 64",
                    "65 - 69",
                    "70 - 74",
                    "75 - 79",
                    "80 - 84"
                  ],
                  "y": [
                    0.9012312861073571,
                    0.9384242884045677,
                    1.0127361070665994,
                    1.1005606771427867,
                    1.0614988857813739,
                    1.0652476885588371,
                    1.044114726060506,
                    1.0371718171351538,
                    1.0736196319018405,
                    1.0016793273674007,
                    1.0226491060891953,
                    0.8425102381415176,
                    0.8815478918668854,
                    0.8330366276145426,
                    1.123528570747748,
                    1.2033582861160512
                  ],
                  "type": "scatter"
                },
                {
                  "line": {
                    "dash": "solid"
                  },
                  "mode": "lines",
                  "name": "1960",
                  "x": [
                    "5 - 9",
                    "10 - 14",
                    "15 - 19",
                    "20 - 24",
                    "25 - 29",
                    "30 - 34",
                    "35 - 39",
                    "40 - 44",
                    "45 - 49",
                    "50 - 54",
                    "55 - 59",
                    "60 - 64",
                    "65 - 69",
                    "70 - 74",
                    "75 - 79",
                    "80 - 84"
                  ],
                  "y": [
                    0.957822132698529,
                    0.9842483205930045,
                    0.9834249471458775,
                    0.9779863481228669,
                    0.9736073237241918,
                    0.9701772924738756,
                    0.9662722698218414,
                    0.9619528619528619,
                    0.9558602554470323,
                    0.94398610508033,
                    0.9248945147679325,
                    0.8938599197778463,
                    0.8456642800318217,
                    0.7745383867832847,
                    0.6723202170963364,
                    0.6786002120890774
                  ],
                  "type": "scatter"
                },
                {
                  "line": {
                    "dash": "solid"
                  },
                  "mode": "lines",
                  "name": "1965",
                  "x": [
                    "5 - 9",
                    "10 - 14",
                    "15 - 19",
                    "20 - 24",
                    "25 - 29",
                    "30 - 34",
                    "35 - 39",
                    "40 - 44",
                    "45 - 49",
                    "50 - 54",
                    "55 - 59",
                    "60 - 64",
                    "65 - 69",
                    "70 - 74",
                    "75 - 79",
                    "80 - 84"
                  ],
                  "y": [
                    0.9636533916068323,
                    0.9846418557226612,
                    0.9836824350827647,
                    0.9787599965603233,
                    0.9751352294538475,
                    0.9720916274882464,
                    0.9684134091734238,
                    0.9643912737508797,
                    0.9578228911445572,
                    0.9465513853409314,
                    0.9284728610855565,
                    0.8984184914841848,
                    0.8522609596133932,
                    0.7826904985888994,
                    0.6819322459222082,
                    0.7064076690211907
                  ],
                  "type": "scatter"
                },
                {
                  "line": {
                    "dash": "solid"
                  },
                  "mode": "lines",
                  "name": "1970",
                  "x": [
                    "5 - 9",
                    "10 - 14",
                    "15 - 19",
                    "20 - 24",
                    "25 - 29",
                    "30 - 34",
                    "35 - 39",
                    "40 - 44",
                    "45 - 49",
                    "50 - 54",
                    "55 - 59",
                    "60 - 64",
                    "65 - 69",
                    "70 - 74",
                    "75 - 79",
                    "80 - 84"
                  ],
                  "y": [
                    0.9776884333303879,
                    0.993937430581266,
                    0.9933984855349169,
                    0.9895525959007895,
                    0.9862941486557721,
                    0.983179744117384,
                    0.9798312409960899,
                    0.9757560609847536,
                    0.9693520140105079,
                    0.9585236616115477,
                    0.9408345443221923,
                    0.9123111221203865,
                    0.8676371022342587,
                    0.7982989064398541,
                    0.6977163461538461,
                    0.7276908923643054
                  ],
                  "type": "scatter"
                },
                {
                  "line": {
                    "dash": "solid"
                  },
                  "mode": "lines",
                  "name": "1975",
                  "x": [
                    "5 - 9",
                    "10 - 14",
                    "15 - 19",
                    "20 - 24",
                    "25 - 29",
                    "30 - 34",
                    "35 - 39",
                    "40 - 44",
                    "45 - 49",
                    "50 - 54",
                    "55 - 59",
                    "60 - 64",
                    "65 - 69",
                    "70 - 74",
                    "75 - 79",
                    "80 - 84"
                  ],
                  "y": [
                    0.9800519971637911,
                    0.9920918252067423,
                    0.9914326954416354,
                    0.9880773991790995,
                    0.9851708575112832,
                    0.9828077676821665,
                    0.97997997997998,
                    0.9759504305818104,
                    0.9699026639344263,
                    0.959349593495935,
                    0.9430041936713686,
                    0.9163724624889674,
                    0.8732011946782514,
                    0.8060866172454154,
                    0.7072552004058854,
                    0.7631266149870801
                  ],
                  "type": "scatter"
                },
                {
                  "line": {
                    "dash": "solid"
                  },
                  "mode": "lines",
                  "name": "1980",
                  "x": [
                    "5 - 9",
                    "10 - 14",
                    "15 - 19",
                    "20 - 24",
                    "25 - 29",
                    "30 - 34",
                    "35 - 39",
                    "40 - 44",
                    "45 - 49",
                    "50 - 54",
                    "55 - 59",
                    "60 - 64",
                    "65 - 69",
                    "70 - 74",
                    "75 - 79",
                    "80 - 84"
                  ],
                  "y": [
                    0.937912212872413,
                    1.0225244778854965,
                    1.0212262002368588,
                    0.9312919738881321,
                    1.0029012264275354,
                    0.9824934554973821,
                    0.9951962294933382,
                    0.9703779366700714,
                    0.964166576993436,
                    0.9613099168097188,
                    0.921217827997489,
                    0.8874065089953508,
                    0.840356368889959,
                    0.792910447761194,
                    0.7018393030009681,
                    0.7532352941176471
                  ],
                  "type": "scatter"
                },
                {
                  "line": {
                    "dash": "solid"
                  },
                  "mode": "lines",
                  "name": "1985",
                  "x": [
                    "5 - 9",
                    "10 - 14",
                    "15 - 19",
                    "20 - 24",
                    "25 - 29",
                    "30 - 34",
                    "35 - 39",
                    "40 - 44",
                    "45 - 49",
                    "50 - 54",
                    "55 - 59",
                    "60 - 64",
                    "65 - 69",
                    "70 - 74",
                    "75 - 79",
                    "80 - 84"
                  ],
                  "y": [
                    0.9155538535184299,
                    1.055948593598448,
                    0.9802245283018868,
                    0.9130173951828724,
                    1.0337841654059508,
                    1.0075483234714004,
                    1.0446860949208991,
                    1.0020191256830602,
                    1.0058105263157893,
                    0.9928582589285714,
                    0.9671126373626373,
                    0.9704684838160136,
                    0.941248291571754,
                    0.8793610315186247,
                    0.8180784313725491,
                    1.0997586206896552
                  ],
                  "type": "scatter"
                },
                {
                  "line": {
                    "dash": "solid"
                  },
                  "mode": "lines",
                  "name": "1990",
                  "x": [
                    "5 - 9",
                    "10 - 14",
                    "15 - 19",
                    "20 - 24",
                    "25 - 29",
                    "30 - 34",
                    "35 - 39",
                    "40 - 44",
                    "45 - 49",
                    "50 - 54",
                    "55 - 59",
                    "60 - 64",
                    "65 - 69",
                    "70 - 74",
                    "75 - 79",
                    "80 - 84"
                  ],
                  "y": [
                    1.0430314501546312,
                    1.0026874524205893,
                    0.995257572681855,
                    1.002595670225728,
                    1.0235282622979651,
                    0.9791857927389055,
                    0.9551609448991538,
                    0.9717375433182326,
                    0.9818054074787065,
                    0.9686082399683372,
                    0.9617120484351973,
                    0.9361757127963889,
                    0.9199582210597457,
                    0.8758881725426418,
                    0.7964822073855398,
                    0.9863621111164372
                  ],
                  "type": "scatter"
                },
                {
                  "line": {
                    "dash": "solid"
                  },
                  "mode": "lines",
                  "name": "1995",
                  "x": [
                    "5 - 9",
                    "10 - 14",
                    "15 - 19",
                    "20 - 24",
                    "25 - 29",
                    "30 - 34",
                    "35 - 39",
                    "40 - 44",
                    "45 - 49",
                    "50 - 54",
                    "55 - 59",
                    "60 - 64",
                    "65 - 69",
                    "70 - 74",
                    "75 - 79",
                    "80 - 84",
                    "85 - 89"
                  ],
                  "y": [
                    0.9962261613589182,
                    0.9964851621237873,
                    0.9929254974104827,
                    0.9856241693738926,
                    0.9848123563094263,
                    0.9912774616769133,
                    0.9923814031111056,
                    0.9903276889885404,
                    0.987071935223522,
                    0.9900971950538743,
                    0.9880834160873884,
                    0.971148046847605,
                    0.9440255370022546,
                    0.8934031461566057,
                    0.8048153756037179,
                    0.6305607147824807,
                    0.3159040653172308
                  ],
                  "type": "scatter"
                },
                {
                  "line": {
                    "dash": "solid"
                  },
                  "mode": "lines",
                  "name": "2000",
                  "x": [
                    "5 - 9",
                    "10 - 14",
                    "15 - 19",
                    "20 - 24",
                    "25 - 29",
                    "30 - 34",
                    "35 - 39",
                    "40 - 44",
                    "45 - 49",
                    "50 - 54",
                    "55 - 59",
                    "60 - 64",
                    "65 - 69",
                    "70 - 74",
                    "75 - 79",
                    "80 - 84",
                    "85 - 89",
                    "90 - 94",
                    "95 - 99",
                    "100+"
                  ],
                  "y": [
                    0.9963657518265722,
                    0.9965843838262171,
                    0.9938631087909355,
                    0.9878886546071376,
                    0.9840478452277671,
                    0.985475871016416,
                    0.9916976106375357,
                    0.9926723064689724,
                    0.9913590432723882,
                    0.9930283535779754,
                    0.997128570119551,
                    0.9893095546973244,
                    0.9639071030359052,
                    0.9147788270537489,
                    0.8317848630084322,
                    0.7075720435866275,
                    0.5445297243289886,
                    0.37074243869419404,
                    0.22633824670287045,
                    0.1272727272727273
                  ],
                  "type": "scatter"
                },
                {
                  "line": {
                    "dash": "solid"
                  },
                  "mode": "lines",
                  "name": "2005",
                  "x": [
                    "5 - 9",
                    "10 - 14",
                    "15 - 19",
                    "20 - 24",
                    "25 - 29",
                    "30 - 34",
                    "35 - 39",
                    "40 - 44",
                    "45 - 49",
                    "50 - 54",
                    "55 - 59",
                    "60 - 64",
                    "65 - 69",
                    "70 - 74",
                    "75 - 79",
                    "80 - 84",
                    "85 - 89",
                    "90 - 94",
                    "95 - 99",
                    "100+"
                  ],
                  "y": [
                    0.9965877935697134,
                    0.9969575114893892,
                    0.99321698800665,
                    0.9879639950527552,
                    0.9827181180403199,
                    0.9863670208843309,
                    0.9924783360846992,
                    0.9939110393182462,
                    0.9930991410589982,
                    0.9946022565170254,
                    0.9990351916562906,
                    0.9937520570951145,
                    0.9700348978236338,
                    0.9282466024363565,
                    0.8584717876461917,
                    0.7512870880355377,
                    0.6054788139910626,
                    0.43815083998570237,
                    0.282791817087846,
                    0.1588117680662668
                  ],
                  "type": "scatter"
                }
              ],
              "layout": {
                "template": {
                  "data": {
                    "histogram2dcontour": [
                      {
                        "type": "histogram2dcontour",
                        "colorbar": {
                          "outlinewidth": 0,
                          "ticks": ""
                        },
                        "colorscale": [
                          [
                            0,
                            "#0d0887"
                          ],
                          [
                            0.1111111111111111,
                            "#46039f"
                          ],
                          [
                            0.2222222222222222,
                            "#7201a8"
                          ],
                          [
                            0.3333333333333333,
                            "#9c179e"
                          ],
                          [
                            0.4444444444444444,
                            "#bd3786"
                          ],
                          [
                            0.5555555555555556,
                            "#d8576b"
                          ],
                          [
                            0.6666666666666666,
                            "#ed7953"
                          ],
                          [
                            0.7777777777777778,
                            "#fb9f3a"
                          ],
                          [
                            0.8888888888888888,
                            "#fdca26"
                          ],
                          [
                            1,
                            "#f0f921"
                          ]
                        ]
                      }
                    ],
                    "choropleth": [
                      {
                        "type": "choropleth",
                        "colorbar": {
                          "outlinewidth": 0,
                          "ticks": ""
                        }
                      }
                    ],
                    "histogram2d": [
                      {
                        "type": "histogram2d",
                        "colorbar": {
                          "outlinewidth": 0,
                          "ticks": ""
                        },
                        "colorscale": [
                          [
                            0,
                            "#0d0887"
                          ],
                          [
                            0.1111111111111111,
                            "#46039f"
                          ],
                          [
                            0.2222222222222222,
                            "#7201a8"
                          ],
                          [
                            0.3333333333333333,
                            "#9c179e"
                          ],
                          [
                            0.4444444444444444,
                            "#bd3786"
                          ],
                          [
                            0.5555555555555556,
                            "#d8576b"
                          ],
                          [
                            0.6666666666666666,
                            "#ed7953"
                          ],
                          [
                            0.7777777777777778,
                            "#fb9f3a"
                          ],
                          [
                            0.8888888888888888,
                            "#fdca26"
                          ],
                          [
                            1,
                            "#f0f921"
                          ]
                        ]
                      }
                    ],
                    "heatmap": [
                      {
                        "type": "heatmap",
                        "colorbar": {
                          "outlinewidth": 0,
                          "ticks": ""
                        },
                        "colorscale": [
                          [
                            0,
                            "#0d0887"
                          ],
                          [
                            0.1111111111111111,
                            "#46039f"
                          ],
                          [
                            0.2222222222222222,
                            "#7201a8"
                          ],
                          [
                            0.3333333333333333,
                            "#9c179e"
                          ],
                          [
                            0.4444444444444444,
                            "#bd3786"
                          ],
                          [
                            0.5555555555555556,
                            "#d8576b"
                          ],
                          [
                            0.6666666666666666,
                            "#ed7953"
                          ],
                          [
                            0.7777777777777778,
                            "#fb9f3a"
                          ],
                          [
                            0.8888888888888888,
                            "#fdca26"
                          ],
                          [
                            1,
                            "#f0f921"
                          ]
                        ]
                      }
                    ],
                    "heatmapgl": [
                      {
                        "type": "heatmapgl",
                        "colorbar": {
                          "outlinewidth": 0,
                          "ticks": ""
                        },
                        "colorscale": [
                          [
                            0,
                            "#0d0887"
                          ],
                          [
                            0.1111111111111111,
                            "#46039f"
                          ],
                          [
                            0.2222222222222222,
                            "#7201a8"
                          ],
                          [
                            0.3333333333333333,
                            "#9c179e"
                          ],
                          [
                            0.4444444444444444,
                            "#bd3786"
                          ],
                          [
                            0.5555555555555556,
                            "#d8576b"
                          ],
                          [
                            0.6666666666666666,
                            "#ed7953"
                          ],
                          [
                            0.7777777777777778,
                            "#fb9f3a"
                          ],
                          [
                            0.8888888888888888,
                            "#fdca26"
                          ],
                          [
                            1,
                            "#f0f921"
                          ]
                        ]
                      }
                    ],
                    "contourcarpet": [
                      {
                        "type": "contourcarpet",
                        "colorbar": {
                          "outlinewidth": 0,
                          "ticks": ""
                        }
                      }
                    ],
                    "contour": [
                      {
                        "type": "contour",
                        "colorbar": {
                          "outlinewidth": 0,
                          "ticks": ""
                        },
                        "colorscale": [
                          [
                            0,
                            "#0d0887"
                          ],
                          [
                            0.1111111111111111,
                            "#46039f"
                          ],
                          [
                            0.2222222222222222,
                            "#7201a8"
                          ],
                          [
                            0.3333333333333333,
                            "#9c179e"
                          ],
                          [
                            0.4444444444444444,
                            "#bd3786"
                          ],
                          [
                            0.5555555555555556,
                            "#d8576b"
                          ],
                          [
                            0.6666666666666666,
                            "#ed7953"
                          ],
                          [
                            0.7777777777777778,
                            "#fb9f3a"
                          ],
                          [
                            0.8888888888888888,
                            "#fdca26"
                          ],
                          [
                            1,
                            "#f0f921"
                          ]
                        ]
                      }
                    ],
                    "surface": [
                      {
                        "type": "surface",
                        "colorbar": {
                          "outlinewidth": 0,
                          "ticks": ""
                        },
                        "colorscale": [
                          [
                            0,
                            "#0d0887"
                          ],
                          [
                            0.1111111111111111,
                            "#46039f"
                          ],
                          [
                            0.2222222222222222,
                            "#7201a8"
                          ],
                          [
                            0.3333333333333333,
                            "#9c179e"
                          ],
                          [
                            0.4444444444444444,
                            "#bd3786"
                          ],
                          [
                            0.5555555555555556,
                            "#d8576b"
                          ],
                          [
                            0.6666666666666666,
                            "#ed7953"
                          ],
                          [
                            0.7777777777777778,
                            "#fb9f3a"
                          ],
                          [
                            0.8888888888888888,
                            "#fdca26"
                          ],
                          [
                            1,
                            "#f0f921"
                          ]
                        ]
                      }
                    ],
                    "mesh3d": [
                      {
                        "type": "mesh3d",
                        "colorbar": {
                          "outlinewidth": 0,
                          "ticks": ""
                        }
                      }
                    ],
                    "scatter": [
                      {
                        "fillpattern": {
                          "fillmode": "overlay",
                          "size": 10,
                          "solidity": 0.2
                        },
                        "type": "scatter"
                      }
                    ],
                    "parcoords": [
                      {
                        "type": "parcoords",
                        "line": {
                          "colorbar": {
                            "outlinewidth": 0,
                            "ticks": ""
                          }
                        }
                      }
                    ],
                    "scatterpolargl": [
                      {
                        "type": "scatterpolargl",
                        "marker": {
                          "colorbar": {
                            "outlinewidth": 0,
                            "ticks": ""
                          }
                        }
                      }
                    ],
                    "bar": [
                      {
                        "error_x": {
                          "color": "#2a3f5f"
                        },
                        "error_y": {
                          "color": "#2a3f5f"
                        },
                        "marker": {
                          "line": {
                            "color": "#E5ECF6",
                            "width": 0.5
                          },
                          "pattern": {
                            "fillmode": "overlay",
                            "size": 10,
                            "solidity": 0.2
                          }
                        },
                        "type": "bar"
                      }
                    ],
                    "scattergeo": [
                      {
                        "type": "scattergeo",
                        "marker": {
                          "colorbar": {
                            "outlinewidth": 0,
                            "ticks": ""
                          }
                        }
                      }
                    ],
                    "scatterpolar": [
                      {
                        "type": "scatterpolar",
                        "marker": {
                          "colorbar": {
                            "outlinewidth": 0,
                            "ticks": ""
                          }
                        }
                      }
                    ],
                    "histogram": [
                      {
                        "marker": {
                          "pattern": {
                            "fillmode": "overlay",
                            "size": 10,
                            "solidity": 0.2
                          }
                        },
                        "type": "histogram"
                      }
                    ],
                    "scattergl": [
                      {
                        "type": "scattergl",
                        "marker": {
                          "colorbar": {
                            "outlinewidth": 0,
                            "ticks": ""
                          }
                        }
                      }
                    ],
                    "scatter3d": [
                      {
                        "type": "scatter3d",
                        "line": {
                          "colorbar": {
                            "outlinewidth": 0,
                            "ticks": ""
                          }
                        },
                        "marker": {
                          "colorbar": {
                            "outlinewidth": 0,
                            "ticks": ""
                          }
                        }
                      }
                    ],
                    "scattermapbox": [
                      {
                        "type": "scattermapbox",
                        "marker": {
                          "colorbar": {
                            "outlinewidth": 0,
                            "ticks": ""
                          }
                        }
                      }
                    ],
                    "scatterternary": [
                      {
                        "type": "scatterternary",
                        "marker": {
                          "colorbar": {
                            "outlinewidth": 0,
                            "ticks": ""
                          }
                        }
                      }
                    ],
                    "scattercarpet": [
                      {
                        "type": "scattercarpet",
                        "marker": {
                          "colorbar": {
                            "outlinewidth": 0,
                            "ticks": ""
                          }
                        }
                      }
                    ],
                    "carpet": [
                      {
                        "aaxis": {
                          "endlinecolor": "#2a3f5f",
                          "gridcolor": "white",
                          "linecolor": "white",
                          "minorgridcolor": "white",
                          "startlinecolor": "#2a3f5f"
                        },
                        "baxis": {
                          "endlinecolor": "#2a3f5f",
                          "gridcolor": "white",
                          "linecolor": "white",
                          "minorgridcolor": "white",
                          "startlinecolor": "#2a3f5f"
                        },
                        "type": "carpet"
                      }
                    ],
                    "table": [
                      {
                        "cells": {
                          "fill": {
                            "color": "#EBF0F8"
                          },
                          "line": {
                            "color": "white"
                          }
                        },
                        "header": {
                          "fill": {
                            "color": "#C8D4E3"
                          },
                          "line": {
                            "color": "white"
                          }
                        },
                        "type": "table"
                      }
                    ],
                    "barpolar": [
                      {
                        "marker": {
                          "line": {
                            "color": "#E5ECF6",
                            "width": 0.5
                          },
                          "pattern": {
                            "fillmode": "overlay",
                            "size": 10,
                            "solidity": 0.2
                          }
                        },
                        "type": "barpolar"
                      }
                    ],
                    "pie": [
                      {
                        "automargin": true,
                        "type": "pie"
                      }
                    ]
                  },
                  "layout": {
                    "autotypenumbers": "strict",
                    "colorway": [
                      "#636efa",
                      "#EF553B",
                      "#00cc96",
                      "#ab63fa",
                      "#FFA15A",
                      "#19d3f3",
                      "#FF6692",
                      "#B6E880",
                      "#FF97FF",
                      "#FECB52"
                    ],
                    "font": {
                      "color": "#2a3f5f"
                    },
                    "hovermode": "closest",
                    "hoverlabel": {
                      "align": "left"
                    },
                    "paper_bgcolor": "white",
                    "plot_bgcolor": "#E5ECF6",
                    "polar": {
                      "bgcolor": "#E5ECF6",
                      "angularaxis": {
                        "gridcolor": "white",
                        "linecolor": "white",
                        "ticks": ""
                      },
                      "radialaxis": {
                        "gridcolor": "white",
                        "linecolor": "white",
                        "ticks": ""
                      }
                    },
                    "ternary": {
                      "bgcolor": "#E5ECF6",
                      "aaxis": {
                        "gridcolor": "white",
                        "linecolor": "white",
                        "ticks": ""
                      },
                      "baxis": {
                        "gridcolor": "white",
                        "linecolor": "white",
                        "ticks": ""
                      },
                      "caxis": {
                        "gridcolor": "white",
                        "linecolor": "white",
                        "ticks": ""
                      }
                    },
                    "coloraxis": {
                      "colorbar": {
                        "outlinewidth": 0,
                        "ticks": ""
                      }
                    },
                    "colorscale": {
                      "sequential": [
                        [
                          0,
                          "#0d0887"
                        ],
                        [
                          0.1111111111111111,
                          "#46039f"
                        ],
                        [
                          0.2222222222222222,
                          "#7201a8"
                        ],
                        [
                          0.3333333333333333,
                          "#9c179e"
                        ],
                        [
                          0.4444444444444444,
                          "#bd3786"
                        ],
                        [
                          0.5555555555555556,
                          "#d8576b"
                        ],
                        [
                          0.6666666666666666,
                          "#ed7953"
                        ],
                        [
                          0.7777777777777778,
                          "#fb9f3a"
                        ],
                        [
                          0.8888888888888888,
                          "#fdca26"
                        ],
                        [
                          1,
                          "#f0f921"
                        ]
                      ],
                      "sequentialminus": [
                        [
                          0,
                          "#0d0887"
                        ],
                        [
                          0.1111111111111111,
                          "#46039f"
                        ],
                        [
                          0.2222222222222222,
                          "#7201a8"
                        ],
                        [
                          0.3333333333333333,
                          "#9c179e"
                        ],
                        [
                          0.4444444444444444,
                          "#bd3786"
                        ],
                        [
                          0.5555555555555556,
                          "#d8576b"
                        ],
                        [
                          0.6666666666666666,
                          "#ed7953"
                        ],
                        [
                          0.7777777777777778,
                          "#fb9f3a"
                        ],
                        [
                          0.8888888888888888,
                          "#fdca26"
                        ],
                        [
                          1,
                          "#f0f921"
                        ]
                      ],
                      "diverging": [
                        [
                          0,
                          "#8e0152"
                        ],
                        [
                          0.1,
                          "#c51b7d"
                        ],
                        [
                          0.2,
                          "#de77ae"
                        ],
                        [
                          0.3,
                          "#f1b6da"
                        ],
                        [
                          0.4,
                          "#fde0ef"
                        ],
                        [
                          0.5,
                          "#f7f7f7"
                        ],
                        [
                          0.6,
                          "#e6f5d0"
                        ],
                        [
                          0.7,
                          "#b8e186"
                        ],
                        [
                          0.8,
                          "#7fbc41"
                        ],
                        [
                          0.9,
                          "#4d9221"
                        ],
                        [
                          1,
                          "#276419"
                        ]
                      ]
                    },
                    "xaxis": {
                      "gridcolor": "white",
                      "linecolor": "white",
                      "ticks": "",
                      "title": {
                        "standoff": 15
                      },
                      "zerolinecolor": "white",
                      "automargin": true,
                      "zerolinewidth": 2
                    },
                    "yaxis": {
                      "gridcolor": "white",
                      "linecolor": "white",
                      "ticks": "",
                      "title": {
                        "standoff": 15
                      },
                      "zerolinecolor": "white",
                      "automargin": true,
                      "zerolinewidth": 2
                    },
                    "scene": {
                      "xaxis": {
                        "backgroundcolor": "#E5ECF6",
                        "gridcolor": "white",
                        "linecolor": "white",
                        "showbackground": true,
                        "ticks": "",
                        "zerolinecolor": "white",
                        "gridwidth": 2
                      },
                      "yaxis": {
                        "backgroundcolor": "#E5ECF6",
                        "gridcolor": "white",
                        "linecolor": "white",
                        "showbackground": true,
                        "ticks": "",
                        "zerolinecolor": "white",
                        "gridwidth": 2
                      },
                      "zaxis": {
                        "backgroundcolor": "#E5ECF6",
                        "gridcolor": "white",
                        "linecolor": "white",
                        "showbackground": true,
                        "ticks": "",
                        "zerolinecolor": "white",
                        "gridwidth": 2
                      }
                    },
                    "shapedefaults": {
                      "line": {
                        "color": "#2a3f5f"
                      }
                    },
                    "annotationdefaults": {
                      "arrowcolor": "#2a3f5f",
                      "arrowhead": 0,
                      "arrowwidth": 1
                    },
                    "geo": {
                      "bgcolor": "white",
                      "landcolor": "#E5ECF6",
                      "subunitcolor": "white",
                      "showland": true,
                      "showlakes": true,
                      "lakecolor": "white"
                    },
                    "title": {
                      "x": 0.05
                    },
                    "mapbox": {
                      "style": "light"
                    }
                  }
                },
                "title": {
                  "text": "Women"
                },
                "legend": {
                  "title": {
                    "text": "year"
                  }
                },
                "xaxis": {
                  "title": {
                    "text": "Age Groups"
                  }
                },
                "yaxis": {
                  "title": {
                    "text": "Survival Rate"
                  }
                }
              },
              "config": {
                "plotlyServerURL": "https://plot.ly"
              }
            }
          },
          "metadata": {},
          "output_type": "display_data"
        }
      ],
      "metadata": {
        "datalore": {
          "node_id": "yNI5BQR7QGpnD5Do9eEhKy",
          "type": "CODE",
          "hide_input_from_viewers": false,
          "hide_output_from_viewers": false,
          "report_properties": {
            "rowId": "LL2xpZpVMCzDLBA87RfKJ7"
          }
        },
        "id": "kBMw_N8O6eG6",
        "outputId": "1ada1795-7105-4cf8-c7d6-6c84a0da0977"
      }
    },
    {
      "cell_type": "markdown",
      "source": [
        "# The country's population and demographic profile for 100 years and compare with existing prediction!"
      ],
      "metadata": {
        "datalore": {
          "node_id": "KhIctMEFqxxQIODBtaSrf3",
          "type": "MD",
          "hide_input_from_viewers": false,
          "hide_output_from_viewers": false,
          "report_properties": {
            "rowId": "QSb2HRCAn9xChK5T8oV3IY"
          }
        },
        "id": "vOo99zjz6eG6"
      }
    },
    {
      "cell_type": "markdown",
      "source": [
        "## Equations for modeling"
      ],
      "metadata": {
        "datalore": {
          "node_id": "D2vjobty89tgUgH8foN4cQ",
          "type": "MD",
          "hide_input_from_viewers": false,
          "hide_output_from_viewers": false,
          "report_properties": {
            "rowId": "mTO5Qz5FGrZPCjN270VtYe"
          }
        },
        "id": "DvkE_q_r6eG6"
      }
    },
    {
      "cell_type": "markdown",
      "source": [
        "$ n - number\\ of\\ age\\ groups\\\\ $\n",
        "$ K = [0, 1, 2, ..., k-1, k, k+1, ...] - time\\ periods\\ ids\\ to\\ consider\\\\ $\n",
        "$ Suppose\\ we\\ know\\ all\\ information\\ at\\ K[0]\\ and\\ K[1] \\\\ $\n",
        "$ \\\\ $\n",
        "$ P_{kn}^F - females\\ population\\ number\\ of\\ age\\ group\\ n\\ at\\ year\\ k\\\\ $\n",
        "$ P_{kn}^M - males\\ population\\ number\\ of\\ age\\ group\\ n\\ at\\ year\\ k\\\\ $\n",
        "$ P_k^F = [P_{k,0}^F, P_{k,1}^F, ..., P_{k,n-1}^F] - females\\ demographic\\ profile\\ at\\ year\\ k\\\\ $\n",
        "$ P_k^M = [P_{k,0}^M, P_{k,1}^M, ..., P_{k,n-1}^M] - males\\ demographic\\ profile\\ at\\ year\\ k\\\\ $\n",
        "$ \\\\ $\n",
        "$ SR^F = \\frac{P_{1,1:n+1}^F}{P_{0,0:n}^F} - females\\ survival\\ rate\\ profile\\\\ $\n",
        "$ SR^M = \\frac{P_{1,1:n+1}^M}{P_{0,0:n}^M} - males\\ survival\\ rate\\ profile\\\\ $\n",
        "$ \\\\ $\n",
        "$ FR = \\frac{P_{1,0}^F}{\\sum_{i={n_1}}^{n_2} P_{1,i}^F} - fertility\\ rate\\\\ $\n",
        "$ \\ [n_1,...,n_2] - productive\\ ages\\ range\\ \\\\ $\n",
        "$ \\gamma_1,\\gamma_2 - tuning\\ parameters\\\\ $\n",
        "$ \\\\ $\n",
        "$ BG = \\frac{P_{1,0}^M}{P_{1,0}^F} - boys/girs\\ ratio\\\\ $\n",
        "$ \\\\ $\n",
        "$ Formulas\\ to\\ calculate\\ new\\ profiles:\\\\ $\n",
        "$ for\\ k=1,2,..: \\\\ $\n",
        "$ \\ \\ \\ \\color{purple}{P_{k+1,1:n+1}^F = \\gamma_2 SR^F \\cdot P_{k,0:n}^F}\\\\ $\n",
        "$ \\ \\ \\ \\color{purple}{P_{k+1,1:n+1}^M = \\gamma_2 SR^M \\cdot P_{k,0:n}^M}\\\\ $\n",
        "$ \\ \\ \\ \\color{purple}{P_{k+1,0}^F = \\gamma^{k-1}_1 FR^F \\sum_{i={n_1}}^{n_2} P_{k+1,i}^F}\\\\ $\n",
        "$ \\ \\ \\ \\color{purple}{P_{k+1,0}^M = P_{k+1,0}^F BG} \\\\ $\n",
        "$ \\ \\ \\ \\color{purple}{P_{k+1} = P_{k+1}^F + P_{k+1}^M - total\\ demographic\\ profile} \\\\ $"
      ],
      "metadata": {
        "datalore": {
          "node_id": "oAHhdFhVL6aLEzdWiuteII",
          "type": "MD",
          "hide_input_from_viewers": false,
          "hide_output_from_viewers": false,
          "report_properties": {
            "rowId": "wa9O70AH9vNK10JanuAoNZ"
          }
        },
        "id": "-O7CEtxP6eG6"
      }
    },
    {
      "cell_type": "markdown",
      "source": [
        "## Model() returns three \"predicted\" dataframes both, males, females population from 2010 - 2050"
      ],
      "metadata": {
        "datalore": {
          "node_id": "eILT7DHn4MVcq0NbR84ERK",
          "type": "MD",
          "hide_input_from_viewers": false,
          "hide_output_from_viewers": false,
          "report_properties": {
            "rowId": "vuGY13Jeh3xyqfKF1QsOsJ"
          }
        },
        "id": "2KgoMe1i6eG6"
      }
    },
    {
      "cell_type": "code",
      "source": [
        "def myModel(man_df, wman_df, n1=4, n2=8, k_max=9, gamma1=1, gamma2=1):\n",
        "    sr_m = man_df[man_df[\"Year\"]==2005][SURVIVAL_RATES].mean(axis=0).values\n",
        "    sr_f = wman_df[wman_df[\"Year\"]==2005][SURVIVAL_RATES].mean(axis=0).values\n",
        "\n",
        "    df_prof_m = [man_df[man_df[\"Year\"]==2005][AGE_GROUPS].values.reshape(-1)]\n",
        "    df_prof_f = [wman_df[wman_df[\"Year\"]==2005][AGE_GROUPS].values.reshape(-1)]\n",
        "\n",
        "    fert_rate = wman_df[-3:][\"FR\"].mean()\n",
        "    malesfemales_ratio = (man_df[man_df[\"Year\"]==2005][AGE_GROUPS[0]] \\\n",
        "                / wman_df[wman_df[\"Year\"]==2005][AGE_GROUPS[0]]).values[0]\n",
        "\n",
        "    years = [2005]\n",
        "\n",
        "    for k in range(k_max):\n",
        "        prof_m, prof_f = np.zeros(len(AGE_GROUPS)), np.zeros(len(AGE_GROUPS))\n",
        "        prof_f[1:] = gamma2 * sr_f * df_prof_f[-1][:-1]\n",
        "        prof_m[1:] = gamma2 * sr_m * df_prof_m[-1][:-1]\n",
        "        prof_f[0] = gamma1**k * fert_rate * (prof_f[n1:n2]).sum()\n",
        "        prof_m[0] = gamma1**k * fert_rate * (prof_f[n1:n2]).sum() * malesfemales_ratio\n",
        "\n",
        "        df_prof_m.append(prof_m)\n",
        "        df_prof_f.append(prof_f)\n",
        "        years.append(years[-1] + 5)\n",
        "\n",
        "    prof = [df_prof_m[k] + df_prof_f[k] for k in range(len(years))]\n",
        "    pred = pd.DataFrame()\n",
        "    pred[\"Year\"] = years[1:]\n",
        "    pred[AGE_GROUPS] = np.array(prof[1:])\n",
        "\n",
        "    pred_m = pd.DataFrame()\n",
        "    pred_m[\"Year\"] = years[1:]\n",
        "    pred_m[AGE_GROUPS] = np.array(df_prof_m[1:])\n",
        "\n",
        "    pred_f = pd.DataFrame()\n",
        "    pred_f[\"Year\"] = years[1:]\n",
        "    pred_f[AGE_GROUPS] = np.array(df_prof_f[1:])\n",
        "\n",
        "    return pred, pred_m, pred_f"
      ],
      "execution_count": null,
      "outputs": [],
      "metadata": {
        "datalore": {
          "node_id": "zWivcZ1EJ4hPYXwI8vWuiF",
          "type": "CODE",
          "hide_input_from_viewers": true,
          "hide_output_from_viewers": true
        },
        "id": "uWL9juYj6eG6"
      }
    },
    {
      "cell_type": "markdown",
      "source": [
        "## Evaluate(true, pred) returns metrics"
      ],
      "metadata": {
        "datalore": {
          "node_id": "qoVhmA3XyZfIxzjsCbnCOp",
          "type": "MD",
          "hide_input_from_viewers": true,
          "hide_output_from_viewers": true
        },
        "id": "4kr3WfuY6eG6"
      }
    },
    {
      "cell_type": "code",
      "source": [
        "def myEvaluate(df_tr, df_pred):\n",
        "    MAE = mae(\n",
        "        df_tr[AGE_GROUPS].values.T,\n",
        "        df_pred[AGE_GROUPS].values.T,\n",
        "        multioutput=\"raw_values\"\n",
        "    )\n",
        "    RMSE = mse(\n",
        "        df_tr[AGE_GROUPS].values.T,\n",
        "        df_pred[AGE_GROUPS].values.T,\n",
        "        squared=False,\n",
        "        multioutput=\"raw_values\"\n",
        "    )\n",
        "    R2 = r2(\n",
        "        df_tr[AGE_GROUPS].values.T,\n",
        "        df_pred[AGE_GROUPS].values.T,\n",
        "        multioutput=\"raw_values\"\n",
        "    )\n",
        "\n",
        "    df = pd.DataFrame()\n",
        "    df[\"Year\"] = df_tr[\"Year\"]\n",
        "    df[\"Orig_Est\"] = df_tr[AGE_GROUPS].sum(axis=1).apply(int)\n",
        "    df[\"Pred\"] = df_pred[AGE_GROUPS].sum(axis=1).apply(int)\n",
        "    df[\"MAE\"] = np.round(MAE, 0).astype(\"int\")\n",
        "    df[\"RMSE\"] = np.round(RMSE, 0).astype(\"int\")\n",
        "    df[\"R2\"] = np.round(R2, 3)\n",
        "    return df"
      ],
      "execution_count": null,
      "outputs": [],
      "metadata": {
        "datalore": {
          "node_id": "7u9orbPYLtUNqTwnq1w5At",
          "type": "CODE",
          "hide_input_from_viewers": false,
          "hide_output_from_viewers": false,
          "report_properties": {
            "rowId": "inm7rLlTre8QreIZF9QgSY"
          }
        },
        "id": "KXEpywnO6eG7"
      }
    },
    {
      "cell_type": "markdown",
      "source": [
        "## Getting three predicted df"
      ],
      "metadata": {
        "datalore": {
          "node_id": "LtWHOwJ8DyJclb2YtUoxmk",
          "type": "MD",
          "hide_input_from_viewers": false,
          "hide_output_from_viewers": false,
          "report_properties": {
            "rowId": "R5QQSCzqtLjLW2FsQvQLag"
          }
        },
        "id": "xkmgssX66eG7"
      }
    },
    {
      "cell_type": "code",
      "source": [
        "n1, n2 = 4, 8\n",
        "gamma1 = 1 # .04\n",
        "gamma2 = 1 #.0085\n",
        "kmax = 9\n",
        "m_cleaned_1950_2005_df[\"FR\"] = m_cleaned_1950_2005_df[AGE_GROUPS[0]]/m_cleaned_1950_2005_df[AGE_GROUPS[n1:n2]].sum(axis=1)\n",
        "f_cleaned_1950_2005_df[\"FR\"] = f_cleaned_1950_2005_df[AGE_GROUPS[0]]/f_cleaned_1950_2005_df[AGE_GROUPS[n1:n2]].sum(axis=1)\n",
        "both_pred_2010_2050_df, m_pred_2010_2050_df, f_pred_2010_2050_df = myModel(m_cleaned_1950_2005_df, f_cleaned_1950_2005_df, n1, n2, kmax, gamma1, gamma2)"
      ],
      "execution_count": null,
      "outputs": [],
      "metadata": {
        "datalore": {
          "node_id": "Qt4M8gV5mCLn8D9t1GNcKB",
          "type": "CODE",
          "hide_input_from_viewers": false,
          "hide_output_from_viewers": false,
          "report_properties": {
            "rowId": "jGD2afxcvob0oFptuz8hGb"
          }
        },
        "id": "Z3eMeteQ6eG7"
      }
    },
    {
      "cell_type": "markdown",
      "source": [
        "# Compare original data & predicted"
      ],
      "metadata": {
        "datalore": {
          "node_id": "MTHNXciLS1Z3SSBmQL2cCf",
          "type": "MD",
          "hide_input_from_viewers": false,
          "hide_output_from_viewers": false,
          "report_properties": {
            "rowId": "Unn3npPjB3rNeuuSovIlbE"
          }
        },
        "id": "clDUPqDZ6eG7"
      }
    },
    {
      "cell_type": "markdown",
      "source": [
        "## Both"
      ],
      "metadata": {
        "datalore": {
          "node_id": "yJtGYSCzg7CiMvPfpVdXFs",
          "type": "MD",
          "hide_input_from_viewers": false,
          "hide_output_from_viewers": false,
          "report_properties": {
            "rowId": "vuDwh7ZPMmEANJKBgHILzE"
          }
        },
        "id": "2pwSuQR76eG7"
      }
    },
    {
      "cell_type": "code",
      "source": [
        "both_2010_2050_df = pd.read_excel(\n",
        "    \"/data/notebook_files/age_data_2005.xlsx\",\n",
        "    sheet_name='both; 2010-50, medium-fertility'\n",
        ")"
      ],
      "execution_count": null,
      "outputs": [],
      "metadata": {
        "datalore": {
          "node_id": "NBb0DmOBNYLZUHJD4b5sse",
          "type": "CODE",
          "hide_input_from_viewers": true,
          "hide_output_from_viewers": true
        },
        "id": "FKWDplYp6eG7"
      }
    },
    {
      "cell_type": "code",
      "source": [
        "YEARS_2010_2050 = np.sort(both_2010_2050_df[\"Year\"].unique())"
      ],
      "execution_count": null,
      "outputs": [],
      "metadata": {
        "datalore": {
          "node_id": "46QSBH5GRYurfEhgrjZ9Yt",
          "type": "CODE",
          "hide_input_from_viewers": true,
          "hide_output_from_viewers": true
        },
        "id": "oc1r3qSu6eG7"
      }
    },
    {
      "cell_type": "code",
      "source": [
        "both_cleaned_2010_2050_df = dfPreprocessing(both_2010_2050_df, REGION, YEARS_2010_2050)\n",
        "both_cleaned_2010_2050_df[\"FR\"] = both_cleaned_2010_2050_df[AGE_GROUPS[0]]/both_cleaned_2010_2050_df[AGE_GROUPS[n1:n2]].sum(axis=1)"
      ],
      "execution_count": null,
      "outputs": [],
      "metadata": {
        "datalore": {
          "node_id": "CBXNidKe9SuCGaMEpibHV5",
          "type": "CODE",
          "hide_input_from_viewers": true,
          "hide_output_from_viewers": true
        },
        "id": "0kPoCSS56eG7"
      }
    },
    {
      "cell_type": "code",
      "source": [
        "myEvaluate(both_cleaned_2010_2050_df, both_pred_2010_2050_df)"
      ],
      "execution_count": null,
      "outputs": [
        {
          "data": {
            "text/html": [
              "<div>\n",
              "<style scoped>\n",
              "    .dataframe tbody tr th:only-of-type {\n",
              "        vertical-align: middle;\n",
              "    }\n",
              "\n",
              "    .dataframe tbody tr th {\n",
              "        vertical-align: top;\n",
              "    }\n",
              "\n",
              "    .dataframe thead th {\n",
              "        text-align: right;\n",
              "    }\n",
              "</style>\n",
              "<table border=\"1\" class=\"dataframe\">\n",
              "  <thead>\n",
              "    <tr style=\"text-align: right;\">\n",
              "      <th></th>\n",
              "      <th>Year</th>\n",
              "      <th>Orig_Est</th>\n",
              "      <th>Pred</th>\n",
              "      <th>MAE</th>\n",
              "      <th>RMSE</th>\n",
              "      <th>R2</th>\n",
              "    </tr>\n",
              "  </thead>\n",
              "  <tbody>\n",
              "    <tr>\n",
              "      <th>0</th>\n",
              "      <td>2010</td>\n",
              "      <td>48565</td>\n",
              "      <td>48777</td>\n",
              "      <td>36</td>\n",
              "      <td>88</td>\n",
              "      <td>0.996</td>\n",
              "    </tr>\n",
              "    <tr>\n",
              "      <th>1</th>\n",
              "      <td>2015</td>\n",
              "      <td>49089</td>\n",
              "      <td>49239</td>\n",
              "      <td>66</td>\n",
              "      <td>108</td>\n",
              "      <td>0.994</td>\n",
              "    </tr>\n",
              "    <tr>\n",
              "      <th>2</th>\n",
              "      <td>2020</td>\n",
              "      <td>49387</td>\n",
              "      <td>49228</td>\n",
              "      <td>89</td>\n",
              "      <td>121</td>\n",
              "      <td>0.992</td>\n",
              "    </tr>\n",
              "    <tr>\n",
              "      <th>3</th>\n",
              "      <td>2025</td>\n",
              "      <td>49445</td>\n",
              "      <td>48660</td>\n",
              "      <td>109</td>\n",
              "      <td>136</td>\n",
              "      <td>0.989</td>\n",
              "    </tr>\n",
              "    <tr>\n",
              "      <th>4</th>\n",
              "      <td>2030</td>\n",
              "      <td>49140</td>\n",
              "      <td>47672</td>\n",
              "      <td>130</td>\n",
              "      <td>153</td>\n",
              "      <td>0.984</td>\n",
              "    </tr>\n",
              "    <tr>\n",
              "      <th>5</th>\n",
              "      <td>2035</td>\n",
              "      <td>48416</td>\n",
              "      <td>46189</td>\n",
              "      <td>158</td>\n",
              "      <td>180</td>\n",
              "      <td>0.975</td>\n",
              "    </tr>\n",
              "    <tr>\n",
              "      <th>6</th>\n",
              "      <td>2040</td>\n",
              "      <td>47353</td>\n",
              "      <td>44240</td>\n",
              "      <td>191</td>\n",
              "      <td>225</td>\n",
              "      <td>0.954</td>\n",
              "    </tr>\n",
              "    <tr>\n",
              "      <th>7</th>\n",
              "      <td>2045</td>\n",
              "      <td>46042</td>\n",
              "      <td>41953</td>\n",
              "      <td>229</td>\n",
              "      <td>284</td>\n",
              "      <td>0.913</td>\n",
              "    </tr>\n",
              "    <tr>\n",
              "      <th>8</th>\n",
              "      <td>2050</td>\n",
              "      <td>44540</td>\n",
              "      <td>39412</td>\n",
              "      <td>275</td>\n",
              "      <td>344</td>\n",
              "      <td>0.843</td>\n",
              "    </tr>\n",
              "  </tbody>\n",
              "</table>\n",
              "</div>"
            ]
          },
          "metadata": {},
          "output_type": "display_data"
        }
      ],
      "metadata": {
        "datalore": {
          "node_id": "ICh4X0ifbjMfPFr4oE8Bic",
          "type": "CODE",
          "hide_input_from_viewers": true,
          "hide_output_from_viewers": true
        },
        "id": "6IIRLRbo6eG7",
        "outputId": "450faf03-4d07-470a-e061-00919b88b0d5"
      }
    },
    {
      "cell_type": "code",
      "source": [
        "raft(both_cleaned_2010_2050_df, features=AGE_GROUPS, years=both_cleaned_2010_2050_df[\"Year\"].unique(), pltTitle=\"Both\", yTitle=\"Population\")"
      ],
      "execution_count": null,
      "outputs": [
        {
          "data": {
            "application/vnd.plotly.v1+json": {
              "data": [
                {
                  "line": {
                    "dash": "solid"
                  },
                  "mode": "lines",
                  "name": "2010",
                  "x": [
                    "0 - 4",
                    "5 - 9",
                    "10 - 14",
                    "15 - 19",
                    "20 - 24",
                    "25 - 29",
                    "30 - 34",
                    "35 - 39",
                    "40 - 44",
                    "45 - 49",
                    "50 - 54",
                    "55 - 59",
                    "60 - 64",
                    "65 - 69",
                    "70 - 74",
                    "75 - 79",
                    "80 - 84",
                    "85 - 89",
                    "90 - 94",
                    "95 - 99",
                    "100+"
                  ],
                  "y": [
                    2223.961,
                    2409.136,
                    3062.623,
                    3406.574,
                    3210.706,
                    3715.307,
                    3771.06,
                    4208.445,
                    4058.393,
                    4084.183,
                    3875.527,
                    2793.96,
                    2257.451,
                    1914.04,
                    1608.119,
                    1054.432,
                    559.116,
                    259.557,
                    77.363,
                    14.25,
                    1.44
                  ],
                  "type": "scatter"
                },
                {
                  "line": {
                    "dash": "solid"
                  },
                  "mode": "lines",
                  "name": "2015",
                  "x": [
                    "0 - 4",
                    "5 - 9",
                    "10 - 14",
                    "15 - 19",
                    "20 - 24",
                    "25 - 29",
                    "30 - 34",
                    "35 - 39",
                    "40 - 44",
                    "45 - 49",
                    "50 - 54",
                    "55 - 59",
                    "60 - 64",
                    "65 - 69",
                    "70 - 74",
                    "75 - 79",
                    "80 - 84",
                    "85 - 89",
                    "90 - 94",
                    "95 - 99",
                    "100+"
                  ],
                  "y": [
                    2175.622,
                    2221.257,
                    2407.181,
                    3057.939,
                    3396.204,
                    3198.411,
                    3701.182,
                    3754.057,
                    4182.482,
                    4019.656,
                    4024.191,
                    3781.644,
                    2683.207,
                    2120.992,
                    1725.508,
                    1347.395,
                    788.216,
                    351.738,
                    126.212,
                    26.234,
                    0.1985964912280702
                  ],
                  "type": "scatter"
                },
                {
                  "line": {
                    "dash": "solid"
                  },
                  "mode": "lines",
                  "name": "2020",
                  "x": [
                    "0 - 4",
                    "5 - 9",
                    "10 - 14",
                    "15 - 19",
                    "20 - 24",
                    "25 - 29",
                    "30 - 34",
                    "35 - 39",
                    "40 - 44",
                    "45 - 49",
                    "50 - 54",
                    "55 - 59",
                    "60 - 64",
                    "65 - 69",
                    "70 - 74",
                    "75 - 79",
                    "80 - 84",
                    "85 - 89",
                    "90 - 94",
                    "95 - 99",
                    "100+"
                  ],
                  "y": [
                    2139.442,
                    2173.203,
                    2219.615,
                    2403.462,
                    3048.993,
                    3384.365,
                    3186.387,
                    3685.933,
                    3732.98,
                    4146.883,
                    3966.692,
                    3937.006,
                    3647.545,
                    2535.502,
                    1930.06,
                    1468.673,
                    1031.509,
                    517.01,
                    184.524,
                    47.379,
                    0.22123961271632234
                  ],
                  "type": "scatter"
                },
                {
                  "line": {
                    "dash": "solid"
                  },
                  "mode": "lines",
                  "name": "2025",
                  "x": [
                    "0 - 4",
                    "5 - 9",
                    "10 - 14",
                    "15 - 19",
                    "20 - 24",
                    "25 - 29",
                    "30 - 34",
                    "35 - 39",
                    "40 - 44",
                    "45 - 49",
                    "50 - 54",
                    "55 - 59",
                    "60 - 64",
                    "65 - 69",
                    "70 - 74",
                    "75 - 79",
                    "80 - 84",
                    "85 - 89",
                    "90 - 94",
                    "95 - 99",
                    "100+"
                  ],
                  "y": [
                    2106.516,
                    2137.241,
                    2171.738,
                    2216.314,
                    2395.976,
                    3038.416,
                    3372.676,
                    3173.74,
                    3667.066,
                    3704.155,
                    4097.698,
                    3889.02,
                    3810.634,
                    3464.522,
                    2325.432,
                    1664.996,
                    1150.049,
                    698.307,
                    285.387,
                    75.261,
                    0.244644251672682
                  ],
                  "type": "scatter"
                },
                {
                  "line": {
                    "dash": "solid"
                  },
                  "mode": "lines",
                  "name": "2030",
                  "x": [
                    "0 - 4",
                    "5 - 9",
                    "10 - 14",
                    "15 - 19",
                    "20 - 24",
                    "25 - 29",
                    "30 - 34",
                    "35 - 39",
                    "40 - 44",
                    "45 - 49",
                    "50 - 54",
                    "55 - 59",
                    "60 - 64",
                    "65 - 69",
                    "70 - 74",
                    "75 - 79",
                    "80 - 84",
                    "85 - 89",
                    "90 - 94",
                    "95 - 99",
                    "100+"
                  ],
                  "y": [
                    1985.182,
                    2104.446,
                    2135.886,
                    2168.626,
                    2209.361,
                    2386.771,
                    3027.928,
                    3360.28,
                    3158.207,
                    3640.947,
                    3663.6,
                    4023.921,
                    3773.382,
                    3632.505,
                    3197.178,
                    2026.017,
                    1325.815,
                    799.209,
                    398.539,
                    122.509,
                    0.2688112036778677
                  ],
                  "type": "scatter"
                },
                {
                  "line": {
                    "dash": "solid"
                  },
                  "mode": "lines",
                  "name": "2035",
                  "x": [
                    "0 - 4",
                    "5 - 9",
                    "10 - 14",
                    "15 - 19",
                    "20 - 24",
                    "25 - 29",
                    "30 - 34",
                    "35 - 39",
                    "40 - 44",
                    "45 - 49",
                    "50 - 54",
                    "55 - 59",
                    "60 - 64",
                    "65 - 69",
                    "70 - 74",
                    "75 - 79",
                    "80 - 84",
                    "85 - 89",
                    "90 - 94",
                    "95 - 99",
                    "100+"
                  ],
                  "y": [
                    1844.97,
                    1983.253,
                    2103.172,
                    2132.907,
                    2161.938,
                    2200.659,
                    2377.771,
                    3016.999,
                    3344.878,
                    3136.729,
                    3603.636,
                    3601.86,
                    3911.824,
                    3606.335,
                    3366.84,
                    2807.51,
                    1632.307,
                    938.484,
                    467.815,
                    175.908,
                    0.2813670832347011
                  ],
                  "type": "scatter"
                },
                {
                  "line": {
                    "dash": "solid"
                  },
                  "mode": "lines",
                  "name": "2040",
                  "x": [
                    "0 - 4",
                    "5 - 9",
                    "10 - 14",
                    "15 - 19",
                    "20 - 24",
                    "25 - 29",
                    "30 - 34",
                    "35 - 39",
                    "40 - 44",
                    "45 - 49",
                    "50 - 54",
                    "55 - 59",
                    "60 - 64",
                    "65 - 69",
                    "70 - 74",
                    "75 - 79",
                    "80 - 84",
                    "85 - 89",
                    "90 - 94",
                    "95 - 99",
                    "100+"
                  ],
                  "y": [
                    1779.273,
                    1843.177,
                    1982.08,
                    2100.311,
                    2126.445,
                    2153.501,
                    2192.225,
                    2368.833,
                    3003.757,
                    3323.593,
                    3106.196,
                    3546.765,
                    3507.615,
                    3748.203,
                    3355.546,
                    2976.729,
                    2288.725,
                    1174.806,
                    562.519,
                    212.722,
                    0.29769538622461744
                  ],
                  "type": "scatter"
                },
                {
                  "line": {
                    "dash": "solid"
                  },
                  "mode": "lines",
                  "name": "2045",
                  "x": [
                    "0 - 4",
                    "5 - 9",
                    "10 - 14",
                    "15 - 19",
                    "20 - 24",
                    "25 - 29",
                    "30 - 34",
                    "35 - 39",
                    "40 - 44",
                    "45 - 49",
                    "50 - 54",
                    "55 - 59",
                    "60 - 64",
                    "65 - 69",
                    "70 - 74",
                    "75 - 79",
                    "80 - 84",
                    "85 - 89",
                    "90 - 94",
                    "95 - 99",
                    "100+"
                  ],
                  "y": [
                    1779.313,
                    1777.566,
                    1842.097,
                    1979.359,
                    2094.051,
                    2118.235,
                    2145.351,
                    2184.039,
                    2358.522,
                    2985.761,
                    3293.28,
                    3059.784,
                    3459.608,
                    3368.845,
                    3501.051,
                    2984.899,
                    2451.803,
                    1675.309,
                    719.869,
                    263.558,
                    0.3212079615648593
                  ],
                  "type": "scatter"
                },
                {
                  "line": {
                    "dash": "solid"
                  },
                  "mode": "lines",
                  "name": "2050",
                  "x": [
                    "0 - 4",
                    "5 - 9",
                    "10 - 14",
                    "15 - 19",
                    "20 - 24",
                    "25 - 29",
                    "30 - 34",
                    "35 - 39",
                    "40 - 44",
                    "45 - 49",
                    "50 - 54",
                    "55 - 59",
                    "60 - 64",
                    "65 - 69",
                    "70 - 74",
                    "75 - 79",
                    "80 - 84",
                    "85 - 89",
                    "90 - 94",
                    "95 - 99",
                    "100+"
                  ],
                  "y": [
                    1799.76,
                    1777.651,
                    1776.54,
                    1839.492,
                    1973.319,
                    2086.033,
                    2110.324,
                    2137.546,
                    2174.843,
                    2344.983,
                    2960.247,
                    3247.044,
                    2988.314,
                    3329.901,
                    3157.788,
                    3133.271,
                    2481.636,
                    1822.506,
                    1051.228,
                    347.522,
                    0.3363168638402173
                  ],
                  "type": "scatter"
                }
              ],
              "layout": {
                "template": {
                  "data": {
                    "histogram2dcontour": [
                      {
                        "type": "histogram2dcontour",
                        "colorbar": {
                          "outlinewidth": 0,
                          "ticks": ""
                        },
                        "colorscale": [
                          [
                            0,
                            "#0d0887"
                          ],
                          [
                            0.1111111111111111,
                            "#46039f"
                          ],
                          [
                            0.2222222222222222,
                            "#7201a8"
                          ],
                          [
                            0.3333333333333333,
                            "#9c179e"
                          ],
                          [
                            0.4444444444444444,
                            "#bd3786"
                          ],
                          [
                            0.5555555555555556,
                            "#d8576b"
                          ],
                          [
                            0.6666666666666666,
                            "#ed7953"
                          ],
                          [
                            0.7777777777777778,
                            "#fb9f3a"
                          ],
                          [
                            0.8888888888888888,
                            "#fdca26"
                          ],
                          [
                            1,
                            "#f0f921"
                          ]
                        ]
                      }
                    ],
                    "choropleth": [
                      {
                        "type": "choropleth",
                        "colorbar": {
                          "outlinewidth": 0,
                          "ticks": ""
                        }
                      }
                    ],
                    "histogram2d": [
                      {
                        "type": "histogram2d",
                        "colorbar": {
                          "outlinewidth": 0,
                          "ticks": ""
                        },
                        "colorscale": [
                          [
                            0,
                            "#0d0887"
                          ],
                          [
                            0.1111111111111111,
                            "#46039f"
                          ],
                          [
                            0.2222222222222222,
                            "#7201a8"
                          ],
                          [
                            0.3333333333333333,
                            "#9c179e"
                          ],
                          [
                            0.4444444444444444,
                            "#bd3786"
                          ],
                          [
                            0.5555555555555556,
                            "#d8576b"
                          ],
                          [
                            0.6666666666666666,
                            "#ed7953"
                          ],
                          [
                            0.7777777777777778,
                            "#fb9f3a"
                          ],
                          [
                            0.8888888888888888,
                            "#fdca26"
                          ],
                          [
                            1,
                            "#f0f921"
                          ]
                        ]
                      }
                    ],
                    "heatmap": [
                      {
                        "type": "heatmap",
                        "colorbar": {
                          "outlinewidth": 0,
                          "ticks": ""
                        },
                        "colorscale": [
                          [
                            0,
                            "#0d0887"
                          ],
                          [
                            0.1111111111111111,
                            "#46039f"
                          ],
                          [
                            0.2222222222222222,
                            "#7201a8"
                          ],
                          [
                            0.3333333333333333,
                            "#9c179e"
                          ],
                          [
                            0.4444444444444444,
                            "#bd3786"
                          ],
                          [
                            0.5555555555555556,
                            "#d8576b"
                          ],
                          [
                            0.6666666666666666,
                            "#ed7953"
                          ],
                          [
                            0.7777777777777778,
                            "#fb9f3a"
                          ],
                          [
                            0.8888888888888888,
                            "#fdca26"
                          ],
                          [
                            1,
                            "#f0f921"
                          ]
                        ]
                      }
                    ],
                    "heatmapgl": [
                      {
                        "type": "heatmapgl",
                        "colorbar": {
                          "outlinewidth": 0,
                          "ticks": ""
                        },
                        "colorscale": [
                          [
                            0,
                            "#0d0887"
                          ],
                          [
                            0.1111111111111111,
                            "#46039f"
                          ],
                          [
                            0.2222222222222222,
                            "#7201a8"
                          ],
                          [
                            0.3333333333333333,
                            "#9c179e"
                          ],
                          [
                            0.4444444444444444,
                            "#bd3786"
                          ],
                          [
                            0.5555555555555556,
                            "#d8576b"
                          ],
                          [
                            0.6666666666666666,
                            "#ed7953"
                          ],
                          [
                            0.7777777777777778,
                            "#fb9f3a"
                          ],
                          [
                            0.8888888888888888,
                            "#fdca26"
                          ],
                          [
                            1,
                            "#f0f921"
                          ]
                        ]
                      }
                    ],
                    "contourcarpet": [
                      {
                        "type": "contourcarpet",
                        "colorbar": {
                          "outlinewidth": 0,
                          "ticks": ""
                        }
                      }
                    ],
                    "contour": [
                      {
                        "type": "contour",
                        "colorbar": {
                          "outlinewidth": 0,
                          "ticks": ""
                        },
                        "colorscale": [
                          [
                            0,
                            "#0d0887"
                          ],
                          [
                            0.1111111111111111,
                            "#46039f"
                          ],
                          [
                            0.2222222222222222,
                            "#7201a8"
                          ],
                          [
                            0.3333333333333333,
                            "#9c179e"
                          ],
                          [
                            0.4444444444444444,
                            "#bd3786"
                          ],
                          [
                            0.5555555555555556,
                            "#d8576b"
                          ],
                          [
                            0.6666666666666666,
                            "#ed7953"
                          ],
                          [
                            0.7777777777777778,
                            "#fb9f3a"
                          ],
                          [
                            0.8888888888888888,
                            "#fdca26"
                          ],
                          [
                            1,
                            "#f0f921"
                          ]
                        ]
                      }
                    ],
                    "surface": [
                      {
                        "type": "surface",
                        "colorbar": {
                          "outlinewidth": 0,
                          "ticks": ""
                        },
                        "colorscale": [
                          [
                            0,
                            "#0d0887"
                          ],
                          [
                            0.1111111111111111,
                            "#46039f"
                          ],
                          [
                            0.2222222222222222,
                            "#7201a8"
                          ],
                          [
                            0.3333333333333333,
                            "#9c179e"
                          ],
                          [
                            0.4444444444444444,
                            "#bd3786"
                          ],
                          [
                            0.5555555555555556,
                            "#d8576b"
                          ],
                          [
                            0.6666666666666666,
                            "#ed7953"
                          ],
                          [
                            0.7777777777777778,
                            "#fb9f3a"
                          ],
                          [
                            0.8888888888888888,
                            "#fdca26"
                          ],
                          [
                            1,
                            "#f0f921"
                          ]
                        ]
                      }
                    ],
                    "mesh3d": [
                      {
                        "type": "mesh3d",
                        "colorbar": {
                          "outlinewidth": 0,
                          "ticks": ""
                        }
                      }
                    ],
                    "scatter": [
                      {
                        "fillpattern": {
                          "fillmode": "overlay",
                          "size": 10,
                          "solidity": 0.2
                        },
                        "type": "scatter"
                      }
                    ],
                    "parcoords": [
                      {
                        "type": "parcoords",
                        "line": {
                          "colorbar": {
                            "outlinewidth": 0,
                            "ticks": ""
                          }
                        }
                      }
                    ],
                    "scatterpolargl": [
                      {
                        "type": "scatterpolargl",
                        "marker": {
                          "colorbar": {
                            "outlinewidth": 0,
                            "ticks": ""
                          }
                        }
                      }
                    ],
                    "bar": [
                      {
                        "error_x": {
                          "color": "#2a3f5f"
                        },
                        "error_y": {
                          "color": "#2a3f5f"
                        },
                        "marker": {
                          "line": {
                            "color": "#E5ECF6",
                            "width": 0.5
                          },
                          "pattern": {
                            "fillmode": "overlay",
                            "size": 10,
                            "solidity": 0.2
                          }
                        },
                        "type": "bar"
                      }
                    ],
                    "scattergeo": [
                      {
                        "type": "scattergeo",
                        "marker": {
                          "colorbar": {
                            "outlinewidth": 0,
                            "ticks": ""
                          }
                        }
                      }
                    ],
                    "scatterpolar": [
                      {
                        "type": "scatterpolar",
                        "marker": {
                          "colorbar": {
                            "outlinewidth": 0,
                            "ticks": ""
                          }
                        }
                      }
                    ],
                    "histogram": [
                      {
                        "marker": {
                          "pattern": {
                            "fillmode": "overlay",
                            "size": 10,
                            "solidity": 0.2
                          }
                        },
                        "type": "histogram"
                      }
                    ],
                    "scattergl": [
                      {
                        "type": "scattergl",
                        "marker": {
                          "colorbar": {
                            "outlinewidth": 0,
                            "ticks": ""
                          }
                        }
                      }
                    ],
                    "scatter3d": [
                      {
                        "type": "scatter3d",
                        "line": {
                          "colorbar": {
                            "outlinewidth": 0,
                            "ticks": ""
                          }
                        },
                        "marker": {
                          "colorbar": {
                            "outlinewidth": 0,
                            "ticks": ""
                          }
                        }
                      }
                    ],
                    "scattermapbox": [
                      {
                        "type": "scattermapbox",
                        "marker": {
                          "colorbar": {
                            "outlinewidth": 0,
                            "ticks": ""
                          }
                        }
                      }
                    ],
                    "scatterternary": [
                      {
                        "type": "scatterternary",
                        "marker": {
                          "colorbar": {
                            "outlinewidth": 0,
                            "ticks": ""
                          }
                        }
                      }
                    ],
                    "scattercarpet": [
                      {
                        "type": "scattercarpet",
                        "marker": {
                          "colorbar": {
                            "outlinewidth": 0,
                            "ticks": ""
                          }
                        }
                      }
                    ],
                    "carpet": [
                      {
                        "aaxis": {
                          "endlinecolor": "#2a3f5f",
                          "gridcolor": "white",
                          "linecolor": "white",
                          "minorgridcolor": "white",
                          "startlinecolor": "#2a3f5f"
                        },
                        "baxis": {
                          "endlinecolor": "#2a3f5f",
                          "gridcolor": "white",
                          "linecolor": "white",
                          "minorgridcolor": "white",
                          "startlinecolor": "#2a3f5f"
                        },
                        "type": "carpet"
                      }
                    ],
                    "table": [
                      {
                        "cells": {
                          "fill": {
                            "color": "#EBF0F8"
                          },
                          "line": {
                            "color": "white"
                          }
                        },
                        "header": {
                          "fill": {
                            "color": "#C8D4E3"
                          },
                          "line": {
                            "color": "white"
                          }
                        },
                        "type": "table"
                      }
                    ],
                    "barpolar": [
                      {
                        "marker": {
                          "line": {
                            "color": "#E5ECF6",
                            "width": 0.5
                          },
                          "pattern": {
                            "fillmode": "overlay",
                            "size": 10,
                            "solidity": 0.2
                          }
                        },
                        "type": "barpolar"
                      }
                    ],
                    "pie": [
                      {
                        "automargin": true,
                        "type": "pie"
                      }
                    ]
                  },
                  "layout": {
                    "autotypenumbers": "strict",
                    "colorway": [
                      "#636efa",
                      "#EF553B",
                      "#00cc96",
                      "#ab63fa",
                      "#FFA15A",
                      "#19d3f3",
                      "#FF6692",
                      "#B6E880",
                      "#FF97FF",
                      "#FECB52"
                    ],
                    "font": {
                      "color": "#2a3f5f"
                    },
                    "hovermode": "closest",
                    "hoverlabel": {
                      "align": "left"
                    },
                    "paper_bgcolor": "white",
                    "plot_bgcolor": "#E5ECF6",
                    "polar": {
                      "bgcolor": "#E5ECF6",
                      "angularaxis": {
                        "gridcolor": "white",
                        "linecolor": "white",
                        "ticks": ""
                      },
                      "radialaxis": {
                        "gridcolor": "white",
                        "linecolor": "white",
                        "ticks": ""
                      }
                    },
                    "ternary": {
                      "bgcolor": "#E5ECF6",
                      "aaxis": {
                        "gridcolor": "white",
                        "linecolor": "white",
                        "ticks": ""
                      },
                      "baxis": {
                        "gridcolor": "white",
                        "linecolor": "white",
                        "ticks": ""
                      },
                      "caxis": {
                        "gridcolor": "white",
                        "linecolor": "white",
                        "ticks": ""
                      }
                    },
                    "coloraxis": {
                      "colorbar": {
                        "outlinewidth": 0,
                        "ticks": ""
                      }
                    },
                    "colorscale": {
                      "sequential": [
                        [
                          0,
                          "#0d0887"
                        ],
                        [
                          0.1111111111111111,
                          "#46039f"
                        ],
                        [
                          0.2222222222222222,
                          "#7201a8"
                        ],
                        [
                          0.3333333333333333,
                          "#9c179e"
                        ],
                        [
                          0.4444444444444444,
                          "#bd3786"
                        ],
                        [
                          0.5555555555555556,
                          "#d8576b"
                        ],
                        [
                          0.6666666666666666,
                          "#ed7953"
                        ],
                        [
                          0.7777777777777778,
                          "#fb9f3a"
                        ],
                        [
                          0.8888888888888888,
                          "#fdca26"
                        ],
                        [
                          1,
                          "#f0f921"
                        ]
                      ],
                      "sequentialminus": [
                        [
                          0,
                          "#0d0887"
                        ],
                        [
                          0.1111111111111111,
                          "#46039f"
                        ],
                        [
                          0.2222222222222222,
                          "#7201a8"
                        ],
                        [
                          0.3333333333333333,
                          "#9c179e"
                        ],
                        [
                          0.4444444444444444,
                          "#bd3786"
                        ],
                        [
                          0.5555555555555556,
                          "#d8576b"
                        ],
                        [
                          0.6666666666666666,
                          "#ed7953"
                        ],
                        [
                          0.7777777777777778,
                          "#fb9f3a"
                        ],
                        [
                          0.8888888888888888,
                          "#fdca26"
                        ],
                        [
                          1,
                          "#f0f921"
                        ]
                      ],
                      "diverging": [
                        [
                          0,
                          "#8e0152"
                        ],
                        [
                          0.1,
                          "#c51b7d"
                        ],
                        [
                          0.2,
                          "#de77ae"
                        ],
                        [
                          0.3,
                          "#f1b6da"
                        ],
                        [
                          0.4,
                          "#fde0ef"
                        ],
                        [
                          0.5,
                          "#f7f7f7"
                        ],
                        [
                          0.6,
                          "#e6f5d0"
                        ],
                        [
                          0.7,
                          "#b8e186"
                        ],
                        [
                          0.8,
                          "#7fbc41"
                        ],
                        [
                          0.9,
                          "#4d9221"
                        ],
                        [
                          1,
                          "#276419"
                        ]
                      ]
                    },
                    "xaxis": {
                      "gridcolor": "white",
                      "linecolor": "white",
                      "ticks": "",
                      "title": {
                        "standoff": 15
                      },
                      "zerolinecolor": "white",
                      "automargin": true,
                      "zerolinewidth": 2
                    },
                    "yaxis": {
                      "gridcolor": "white",
                      "linecolor": "white",
                      "ticks": "",
                      "title": {
                        "standoff": 15
                      },
                      "zerolinecolor": "white",
                      "automargin": true,
                      "zerolinewidth": 2
                    },
                    "scene": {
                      "xaxis": {
                        "backgroundcolor": "#E5ECF6",
                        "gridcolor": "white",
                        "linecolor": "white",
                        "showbackground": true,
                        "ticks": "",
                        "zerolinecolor": "white",
                        "gridwidth": 2
                      },
                      "yaxis": {
                        "backgroundcolor": "#E5ECF6",
                        "gridcolor": "white",
                        "linecolor": "white",
                        "showbackground": true,
                        "ticks": "",
                        "zerolinecolor": "white",
                        "gridwidth": 2
                      },
                      "zaxis": {
                        "backgroundcolor": "#E5ECF6",
                        "gridcolor": "white",
                        "linecolor": "white",
                        "showbackground": true,
                        "ticks": "",
                        "zerolinecolor": "white",
                        "gridwidth": 2
                      }
                    },
                    "shapedefaults": {
                      "line": {
                        "color": "#2a3f5f"
                      }
                    },
                    "annotationdefaults": {
                      "arrowcolor": "#2a3f5f",
                      "arrowhead": 0,
                      "arrowwidth": 1
                    },
                    "geo": {
                      "bgcolor": "white",
                      "landcolor": "#E5ECF6",
                      "subunitcolor": "white",
                      "showland": true,
                      "showlakes": true,
                      "lakecolor": "white"
                    },
                    "title": {
                      "x": 0.05
                    },
                    "mapbox": {
                      "style": "light"
                    }
                  }
                },
                "title": {
                  "text": "Both"
                },
                "legend": {
                  "title": {
                    "text": "year"
                  }
                },
                "xaxis": {
                  "title": {
                    "text": "Age Groups"
                  }
                },
                "yaxis": {
                  "title": {
                    "text": "Population"
                  }
                }
              },
              "config": {
                "plotlyServerURL": "https://plot.ly"
              }
            }
          },
          "metadata": {},
          "output_type": "display_data"
        }
      ],
      "metadata": {
        "datalore": {
          "node_id": "xlj0OD93h3cMXjStIig8JQ",
          "type": "CODE",
          "hide_input_from_viewers": false,
          "hide_output_from_viewers": false,
          "report_properties": {
            "rowId": "oQDRxu6mIPoOX7mAxoigRv"
          }
        },
        "id": "RoElwg716eG7",
        "outputId": "bb722ba2-89c1-4770-9dc7-5df9575bf316"
      }
    },
    {
      "cell_type": "code",
      "source": [
        "raft(both_pred_2010_2050_df, features=AGE_GROUPS, years=both_pred_2010_2050_df[\"Year\"].unique(), pltTitle=\"Prediction Both\", yTitle=\"Population\")"
      ],
      "execution_count": null,
      "outputs": [
        {
          "data": {
            "application/vnd.plotly.v1+json": {
              "data": [
                {
                  "line": {
                    "dash": "solid"
                  },
                  "mode": "lines",
                  "name": "2010",
                  "x": [
                    "0 - 4",
                    "5 - 9",
                    "10 - 14",
                    "15 - 19",
                    "20 - 24",
                    "25 - 29",
                    "30 - 34",
                    "35 - 39",
                    "40 - 44",
                    "45 - 49",
                    "50 - 54",
                    "55 - 59",
                    "60 - 64",
                    "65 - 69",
                    "70 - 74",
                    "75 - 79",
                    "80 - 84",
                    "85 - 89",
                    "90 - 94",
                    "95 - 99",
                    "100+"
                  ],
                  "y": [
                    2610.143973991375,
                    2404.0154998917433,
                    3055.8901464627743,
                    3383.2839199781783,
                    3172.339460837791,
                    3653.1000003185472,
                    3726.4707797697038,
                    4189.358350151593,
                    4047.181089434855,
                    4074.3906040707625,
                    3882.7849998384563,
                    2827.197064302642,
                    2295.480787681163,
                    1933.2853831911718,
                    1609.7221348623775,
                    1040.791078401677,
                    541.6410688636931,
                    245.50156435096392,
                    70.67004610104176,
                    12.565970879677264,
                    1.272695484743311
                  ],
                  "type": "scatter"
                },
                {
                  "line": {
                    "dash": "solid"
                  },
                  "mode": "lines",
                  "name": "2015",
                  "x": [
                    "0 - 4",
                    "5 - 9",
                    "10 - 14",
                    "15 - 19",
                    "20 - 24",
                    "25 - 29",
                    "30 - 34",
                    "35 - 39",
                    "40 - 44",
                    "45 - 49",
                    "50 - 54",
                    "55 - 59",
                    "60 - 64",
                    "65 - 69",
                    "70 - 74",
                    "75 - 79",
                    "80 - 84",
                    "85 - 89",
                    "90 - 94",
                    "95 - 99",
                    "100+"
                  ],
                  "y": [
                    2410.4886479389197,
                    2600.9730065112326,
                    2396.532457691715,
                    3029.8999067375676,
                    3331.0389156607007,
                    3106.5779932638816,
                    3594.361148874793,
                    3690.2519803707255,
                    4146.980495149465,
                    3992.2096136032606,
                    4013.080539035271,
                    3821.2392048193074,
                    2747.735282829388,
                    2164.7485696869153,
                    1727.3784271650525,
                    1308.4373472861778,
                    730.903103181643,
                    305.472628863796,
                    100.22334202910356,
                    18.828949025219032,
                    1.9269141876476672
                  ],
                  "type": "scatter"
                },
                {
                  "line": {
                    "dash": "solid"
                  },
                  "mode": "lines",
                  "name": "2020",
                  "x": [
                    "0 - 4",
                    "5 - 9",
                    "10 - 14",
                    "15 - 19",
                    "20 - 24",
                    "25 - 29",
                    "30 - 34",
                    "35 - 39",
                    "40 - 44",
                    "45 - 49",
                    "50 - 54",
                    "55 - 59",
                    "60 - 64",
                    "65 - 69",
                    "70 - 74",
                    "75 - 79",
                    "80 - 84",
                    "85 - 89",
                    "90 - 94",
                    "95 - 99",
                    "100+"
                  ],
                  "y": [
                    2248.8352333050675,
                    2402.0191867820718,
                    2592.876889506274,
                    2376.206623971152,
                    2983.2249727840135,
                    3261.9290827754025,
                    3056.468207528641,
                    3559.4149466445338,
                    3652.9010564893224,
                    4090.670033603248,
                    3931.9219516382145,
                    3949.566948296876,
                    3714.7790675407696,
                    2591.180811760277,
                    1934.1745463248712,
                    1403.3157878049308,
                    914.6733798451999,
                    410.1608613790006,
                    124.90452313228472,
                    26.708577970362057,
                    2.883490253522976
                  ],
                  "type": "scatter"
                },
                {
                  "line": {
                    "dash": "solid"
                  },
                  "mode": "lines",
                  "name": "2025",
                  "x": [
                    "0 - 4",
                    "5 - 9",
                    "10 - 14",
                    "15 - 19",
                    "20 - 24",
                    "25 - 29",
                    "30 - 34",
                    "35 - 39",
                    "40 - 44",
                    "45 - 49",
                    "50 - 54",
                    "55 - 59",
                    "60 - 64",
                    "65 - 69",
                    "70 - 74",
                    "75 - 79",
                    "80 - 84",
                    "85 - 89",
                    "90 - 94",
                    "95 - 99",
                    "100+"
                  ],
                  "y": [
                    2007.0076163633255,
                    2240.9337554562035,
                    2394.5423585583035,
                    2570.885789680004,
                    2339.711652808326,
                    2921.4449780714635,
                    3209.271751644028,
                    3026.6109620420066,
                    3523.367494066999,
                    3603.2635566104545,
                    4028.9193652708445,
                    3869.3646759643984,
                    3839.673019451895,
                    3504.281291500117,
                    2315.1043975559405,
                    1571.2979769567246,
                    980.2555348055525,
                    510.44496694326506,
                    166.8348618106919,
                    33.333313920199785,
                    4.090736755305193
                  ],
                  "type": "scatter"
                },
                {
                  "line": {
                    "dash": "solid"
                  },
                  "mode": "lines",
                  "name": "2030",
                  "x": [
                    "0 - 4",
                    "5 - 9",
                    "10 - 14",
                    "15 - 19",
                    "20 - 24",
                    "25 - 29",
                    "30 - 34",
                    "35 - 39",
                    "40 - 44",
                    "45 - 49",
                    "50 - 54",
                    "55 - 59",
                    "60 - 64",
                    "65 - 69",
                    "70 - 74",
                    "75 - 79",
                    "80 - 84",
                    "85 - 89",
                    "90 - 94",
                    "95 - 99",
                    "100+"
                  ],
                  "y": [
                    1908.215091710877,
                    1999.9558208434332,
                    2233.958342086239,
                    2374.2334035676504,
                    2531.40083840902,
                    2291.3687847744914,
                    2874.3649878849483,
                    3177.8848316829326,
                    2995.703150429058,
                    3475.455882627977,
                    3548.8186401338307,
                    3964.855426789666,
                    3761.226367586337,
                    3622.2717697858825,
                    3132.361801711754,
                    1880.65973285277,
                    1097.5779203393367,
                    546.5368982239984,
                    206.4064913210472,
                    44.31453962839751,
                    5.110043042202946
                  ],
                  "type": "scatter"
                },
                {
                  "line": {
                    "dash": "solid"
                  },
                  "mode": "lines",
                  "name": "2035",
                  "x": [
                    "0 - 4",
                    "5 - 9",
                    "10 - 14",
                    "15 - 19",
                    "20 - 24",
                    "25 - 29",
                    "30 - 34",
                    "35 - 39",
                    "40 - 44",
                    "45 - 49",
                    "50 - 54",
                    "55 - 59",
                    "60 - 64",
                    "65 - 69",
                    "70 - 74",
                    "75 - 79",
                    "80 - 84",
                    "85 - 89",
                    "90 - 94",
                    "95 - 99",
                    "100+"
                  ],
                  "y": [
                    1753.1472838392156,
                    1901.5104123040792,
                    1993.7305058210313,
                    2215.0113565554675,
                    2337.7687381118267,
                    2479.097309243338,
                    2254.521336807044,
                    2846.325283783538,
                    3145.3648120168064,
                    2954.544457625185,
                    3422.8926860790516,
                    3492.3093094779088,
                    3854.1014633774244,
                    3547.68244701169,
                    3238.04648917781,
                    2546.329169993945,
                    1313.5733438141683,
                    611.9372308734423,
                    220.78210044330245,
                    54.533288949732125,
                    6.773050099086653
                  ],
                  "type": "scatter"
                },
                {
                  "line": {
                    "dash": "solid"
                  },
                  "mode": "lines",
                  "name": "2040",
                  "x": [
                    "0 - 4",
                    "5 - 9",
                    "10 - 14",
                    "15 - 19",
                    "20 - 24",
                    "25 - 29",
                    "30 - 34",
                    "35 - 39",
                    "40 - 44",
                    "45 - 49",
                    "50 - 54",
                    "55 - 59",
                    "60 - 64",
                    "65 - 69",
                    "70 - 74",
                    "75 - 79",
                    "80 - 84",
                    "85 - 89",
                    "90 - 94",
                    "95 - 99",
                    "100+"
                  ],
                  "y": [
                    1622.7680877673772,
                    1746.9874486392428,
                    1895.5915308909998,
                    1976.8209769661776,
                    2180.9921030245064,
                    2289.466014370414,
                    2439.231003253849,
                    2232.5980828476204,
                    2817.3289575417975,
                    3102.0387804857774,
                    2909.250397074582,
                    3368.3127910557914,
                    3394.640119579233,
                    3635.349691611103,
                    3170.6392998511174,
                    2632.5081372660115,
                    1780.2652749484964,
                    732.294533842268,
                    247.19630940951004,
                    58.27864311720843,
                    8.30615060387218
                  ],
                  "type": "scatter"
                },
                {
                  "line": {
                    "dash": "solid"
                  },
                  "mode": "lines",
                  "name": "2045",
                  "x": [
                    "0 - 4",
                    "5 - 9",
                    "10 - 14",
                    "15 - 19",
                    "20 - 24",
                    "25 - 29",
                    "30 - 34",
                    "35 - 39",
                    "40 - 44",
                    "45 - 49",
                    "50 - 54",
                    "55 - 59",
                    "60 - 64",
                    "65 - 69",
                    "70 - 74",
                    "75 - 79",
                    "80 - 84",
                    "85 - 89",
                    "90 - 94",
                    "95 - 99",
                    "100+"
                  ],
                  "y": [
                    1553.5169975257754,
                    1617.0663511930647,
                    1741.549554914483,
                    1879.5143531605934,
                    1946.4599705534092,
                    2135.9286810883905,
                    2252.6491648094407,
                    2415.511608863123,
                    2209.981119003168,
                    2778.7370507498435,
                    3054.323330122391,
                    2861.9275901747123,
                    3274.001545481388,
                    3201.824981161767,
                    3249.0707537595445,
                    2576.8088973659715,
                    1840.7793681670914,
                    993.6589391437791,
                    295.7863182620623,
                    65.24978444221973,
                    8.871405243221842
                  ],
                  "type": "scatter"
                },
                {
                  "line": {
                    "dash": "solid"
                  },
                  "mode": "lines",
                  "name": "2050",
                  "x": [
                    "0 - 4",
                    "5 - 9",
                    "10 - 14",
                    "15 - 19",
                    "20 - 24",
                    "25 - 29",
                    "30 - 34",
                    "35 - 39",
                    "40 - 44",
                    "45 - 49",
                    "50 - 54",
                    "55 - 59",
                    "60 - 64",
                    "65 - 69",
                    "70 - 74",
                    "75 - 79",
                    "80 - 84",
                    "85 - 89",
                    "90 - 94",
                    "95 - 99",
                    "100+"
                  ],
                  "y": [
                    1436.0832499202384,
                    1548.0585806698,
                    1612.0328662813545,
                    1726.7788613001735,
                    1850.6478306003287,
                    1906.2424260638304,
                    2101.5808618017063,
                    2230.744116090078,
                    2391.0416699416346,
                    2179.918287575942,
                    2736.305581038446,
                    3004.3951698219316,
                    2780.4412026323444,
                    3087.9037763782944,
                    2861.4339648414502,
                    2640.651007149596,
                    1800.9499393006422,
                    1027.6137511233942,
                    401.8705293596652,
                    78.06853571039339,
                    9.932453955418552
                  ],
                  "type": "scatter"
                }
              ],
              "layout": {
                "template": {
                  "data": {
                    "histogram2dcontour": [
                      {
                        "type": "histogram2dcontour",
                        "colorbar": {
                          "outlinewidth": 0,
                          "ticks": ""
                        },
                        "colorscale": [
                          [
                            0,
                            "#0d0887"
                          ],
                          [
                            0.1111111111111111,
                            "#46039f"
                          ],
                          [
                            0.2222222222222222,
                            "#7201a8"
                          ],
                          [
                            0.3333333333333333,
                            "#9c179e"
                          ],
                          [
                            0.4444444444444444,
                            "#bd3786"
                          ],
                          [
                            0.5555555555555556,
                            "#d8576b"
                          ],
                          [
                            0.6666666666666666,
                            "#ed7953"
                          ],
                          [
                            0.7777777777777778,
                            "#fb9f3a"
                          ],
                          [
                            0.8888888888888888,
                            "#fdca26"
                          ],
                          [
                            1,
                            "#f0f921"
                          ]
                        ]
                      }
                    ],
                    "choropleth": [
                      {
                        "type": "choropleth",
                        "colorbar": {
                          "outlinewidth": 0,
                          "ticks": ""
                        }
                      }
                    ],
                    "histogram2d": [
                      {
                        "type": "histogram2d",
                        "colorbar": {
                          "outlinewidth": 0,
                          "ticks": ""
                        },
                        "colorscale": [
                          [
                            0,
                            "#0d0887"
                          ],
                          [
                            0.1111111111111111,
                            "#46039f"
                          ],
                          [
                            0.2222222222222222,
                            "#7201a8"
                          ],
                          [
                            0.3333333333333333,
                            "#9c179e"
                          ],
                          [
                            0.4444444444444444,
                            "#bd3786"
                          ],
                          [
                            0.5555555555555556,
                            "#d8576b"
                          ],
                          [
                            0.6666666666666666,
                            "#ed7953"
                          ],
                          [
                            0.7777777777777778,
                            "#fb9f3a"
                          ],
                          [
                            0.8888888888888888,
                            "#fdca26"
                          ],
                          [
                            1,
                            "#f0f921"
                          ]
                        ]
                      }
                    ],
                    "heatmap": [
                      {
                        "type": "heatmap",
                        "colorbar": {
                          "outlinewidth": 0,
                          "ticks": ""
                        },
                        "colorscale": [
                          [
                            0,
                            "#0d0887"
                          ],
                          [
                            0.1111111111111111,
                            "#46039f"
                          ],
                          [
                            0.2222222222222222,
                            "#7201a8"
                          ],
                          [
                            0.3333333333333333,
                            "#9c179e"
                          ],
                          [
                            0.4444444444444444,
                            "#bd3786"
                          ],
                          [
                            0.5555555555555556,
                            "#d8576b"
                          ],
                          [
                            0.6666666666666666,
                            "#ed7953"
                          ],
                          [
                            0.7777777777777778,
                            "#fb9f3a"
                          ],
                          [
                            0.8888888888888888,
                            "#fdca26"
                          ],
                          [
                            1,
                            "#f0f921"
                          ]
                        ]
                      }
                    ],
                    "heatmapgl": [
                      {
                        "type": "heatmapgl",
                        "colorbar": {
                          "outlinewidth": 0,
                          "ticks": ""
                        },
                        "colorscale": [
                          [
                            0,
                            "#0d0887"
                          ],
                          [
                            0.1111111111111111,
                            "#46039f"
                          ],
                          [
                            0.2222222222222222,
                            "#7201a8"
                          ],
                          [
                            0.3333333333333333,
                            "#9c179e"
                          ],
                          [
                            0.4444444444444444,
                            "#bd3786"
                          ],
                          [
                            0.5555555555555556,
                            "#d8576b"
                          ],
                          [
                            0.6666666666666666,
                            "#ed7953"
                          ],
                          [
                            0.7777777777777778,
                            "#fb9f3a"
                          ],
                          [
                            0.8888888888888888,
                            "#fdca26"
                          ],
                          [
                            1,
                            "#f0f921"
                          ]
                        ]
                      }
                    ],
                    "contourcarpet": [
                      {
                        "type": "contourcarpet",
                        "colorbar": {
                          "outlinewidth": 0,
                          "ticks": ""
                        }
                      }
                    ],
                    "contour": [
                      {
                        "type": "contour",
                        "colorbar": {
                          "outlinewidth": 0,
                          "ticks": ""
                        },
                        "colorscale": [
                          [
                            0,
                            "#0d0887"
                          ],
                          [
                            0.1111111111111111,
                            "#46039f"
                          ],
                          [
                            0.2222222222222222,
                            "#7201a8"
                          ],
                          [
                            0.3333333333333333,
                            "#9c179e"
                          ],
                          [
                            0.4444444444444444,
                            "#bd3786"
                          ],
                          [
                            0.5555555555555556,
                            "#d8576b"
                          ],
                          [
                            0.6666666666666666,
                            "#ed7953"
                          ],
                          [
                            0.7777777777777778,
                            "#fb9f3a"
                          ],
                          [
                            0.8888888888888888,
                            "#fdca26"
                          ],
                          [
                            1,
                            "#f0f921"
                          ]
                        ]
                      }
                    ],
                    "surface": [
                      {
                        "type": "surface",
                        "colorbar": {
                          "outlinewidth": 0,
                          "ticks": ""
                        },
                        "colorscale": [
                          [
                            0,
                            "#0d0887"
                          ],
                          [
                            0.1111111111111111,
                            "#46039f"
                          ],
                          [
                            0.2222222222222222,
                            "#7201a8"
                          ],
                          [
                            0.3333333333333333,
                            "#9c179e"
                          ],
                          [
                            0.4444444444444444,
                            "#bd3786"
                          ],
                          [
                            0.5555555555555556,
                            "#d8576b"
                          ],
                          [
                            0.6666666666666666,
                            "#ed7953"
                          ],
                          [
                            0.7777777777777778,
                            "#fb9f3a"
                          ],
                          [
                            0.8888888888888888,
                            "#fdca26"
                          ],
                          [
                            1,
                            "#f0f921"
                          ]
                        ]
                      }
                    ],
                    "mesh3d": [
                      {
                        "type": "mesh3d",
                        "colorbar": {
                          "outlinewidth": 0,
                          "ticks": ""
                        }
                      }
                    ],
                    "scatter": [
                      {
                        "fillpattern": {
                          "fillmode": "overlay",
                          "size": 10,
                          "solidity": 0.2
                        },
                        "type": "scatter"
                      }
                    ],
                    "parcoords": [
                      {
                        "type": "parcoords",
                        "line": {
                          "colorbar": {
                            "outlinewidth": 0,
                            "ticks": ""
                          }
                        }
                      }
                    ],
                    "scatterpolargl": [
                      {
                        "type": "scatterpolargl",
                        "marker": {
                          "colorbar": {
                            "outlinewidth": 0,
                            "ticks": ""
                          }
                        }
                      }
                    ],
                    "bar": [
                      {
                        "error_x": {
                          "color": "#2a3f5f"
                        },
                        "error_y": {
                          "color": "#2a3f5f"
                        },
                        "marker": {
                          "line": {
                            "color": "#E5ECF6",
                            "width": 0.5
                          },
                          "pattern": {
                            "fillmode": "overlay",
                            "size": 10,
                            "solidity": 0.2
                          }
                        },
                        "type": "bar"
                      }
                    ],
                    "scattergeo": [
                      {
                        "type": "scattergeo",
                        "marker": {
                          "colorbar": {
                            "outlinewidth": 0,
                            "ticks": ""
                          }
                        }
                      }
                    ],
                    "scatterpolar": [
                      {
                        "type": "scatterpolar",
                        "marker": {
                          "colorbar": {
                            "outlinewidth": 0,
                            "ticks": ""
                          }
                        }
                      }
                    ],
                    "histogram": [
                      {
                        "marker": {
                          "pattern": {
                            "fillmode": "overlay",
                            "size": 10,
                            "solidity": 0.2
                          }
                        },
                        "type": "histogram"
                      }
                    ],
                    "scattergl": [
                      {
                        "type": "scattergl",
                        "marker": {
                          "colorbar": {
                            "outlinewidth": 0,
                            "ticks": ""
                          }
                        }
                      }
                    ],
                    "scatter3d": [
                      {
                        "type": "scatter3d",
                        "line": {
                          "colorbar": {
                            "outlinewidth": 0,
                            "ticks": ""
                          }
                        },
                        "marker": {
                          "colorbar": {
                            "outlinewidth": 0,
                            "ticks": ""
                          }
                        }
                      }
                    ],
                    "scattermapbox": [
                      {
                        "type": "scattermapbox",
                        "marker": {
                          "colorbar": {
                            "outlinewidth": 0,
                            "ticks": ""
                          }
                        }
                      }
                    ],
                    "scatterternary": [
                      {
                        "type": "scatterternary",
                        "marker": {
                          "colorbar": {
                            "outlinewidth": 0,
                            "ticks": ""
                          }
                        }
                      }
                    ],
                    "scattercarpet": [
                      {
                        "type": "scattercarpet",
                        "marker": {
                          "colorbar": {
                            "outlinewidth": 0,
                            "ticks": ""
                          }
                        }
                      }
                    ],
                    "carpet": [
                      {
                        "aaxis": {
                          "endlinecolor": "#2a3f5f",
                          "gridcolor": "white",
                          "linecolor": "white",
                          "minorgridcolor": "white",
                          "startlinecolor": "#2a3f5f"
                        },
                        "baxis": {
                          "endlinecolor": "#2a3f5f",
                          "gridcolor": "white",
                          "linecolor": "white",
                          "minorgridcolor": "white",
                          "startlinecolor": "#2a3f5f"
                        },
                        "type": "carpet"
                      }
                    ],
                    "table": [
                      {
                        "cells": {
                          "fill": {
                            "color": "#EBF0F8"
                          },
                          "line": {
                            "color": "white"
                          }
                        },
                        "header": {
                          "fill": {
                            "color": "#C8D4E3"
                          },
                          "line": {
                            "color": "white"
                          }
                        },
                        "type": "table"
                      }
                    ],
                    "barpolar": [
                      {
                        "marker": {
                          "line": {
                            "color": "#E5ECF6",
                            "width": 0.5
                          },
                          "pattern": {
                            "fillmode": "overlay",
                            "size": 10,
                            "solidity": 0.2
                          }
                        },
                        "type": "barpolar"
                      }
                    ],
                    "pie": [
                      {
                        "automargin": true,
                        "type": "pie"
                      }
                    ]
                  },
                  "layout": {
                    "autotypenumbers": "strict",
                    "colorway": [
                      "#636efa",
                      "#EF553B",
                      "#00cc96",
                      "#ab63fa",
                      "#FFA15A",
                      "#19d3f3",
                      "#FF6692",
                      "#B6E880",
                      "#FF97FF",
                      "#FECB52"
                    ],
                    "font": {
                      "color": "#2a3f5f"
                    },
                    "hovermode": "closest",
                    "hoverlabel": {
                      "align": "left"
                    },
                    "paper_bgcolor": "white",
                    "plot_bgcolor": "#E5ECF6",
                    "polar": {
                      "bgcolor": "#E5ECF6",
                      "angularaxis": {
                        "gridcolor": "white",
                        "linecolor": "white",
                        "ticks": ""
                      },
                      "radialaxis": {
                        "gridcolor": "white",
                        "linecolor": "white",
                        "ticks": ""
                      }
                    },
                    "ternary": {
                      "bgcolor": "#E5ECF6",
                      "aaxis": {
                        "gridcolor": "white",
                        "linecolor": "white",
                        "ticks": ""
                      },
                      "baxis": {
                        "gridcolor": "white",
                        "linecolor": "white",
                        "ticks": ""
                      },
                      "caxis": {
                        "gridcolor": "white",
                        "linecolor": "white",
                        "ticks": ""
                      }
                    },
                    "coloraxis": {
                      "colorbar": {
                        "outlinewidth": 0,
                        "ticks": ""
                      }
                    },
                    "colorscale": {
                      "sequential": [
                        [
                          0,
                          "#0d0887"
                        ],
                        [
                          0.1111111111111111,
                          "#46039f"
                        ],
                        [
                          0.2222222222222222,
                          "#7201a8"
                        ],
                        [
                          0.3333333333333333,
                          "#9c179e"
                        ],
                        [
                          0.4444444444444444,
                          "#bd3786"
                        ],
                        [
                          0.5555555555555556,
                          "#d8576b"
                        ],
                        [
                          0.6666666666666666,
                          "#ed7953"
                        ],
                        [
                          0.7777777777777778,
                          "#fb9f3a"
                        ],
                        [
                          0.8888888888888888,
                          "#fdca26"
                        ],
                        [
                          1,
                          "#f0f921"
                        ]
                      ],
                      "sequentialminus": [
                        [
                          0,
                          "#0d0887"
                        ],
                        [
                          0.1111111111111111,
                          "#46039f"
                        ],
                        [
                          0.2222222222222222,
                          "#7201a8"
                        ],
                        [
                          0.3333333333333333,
                          "#9c179e"
                        ],
                        [
                          0.4444444444444444,
                          "#bd3786"
                        ],
                        [
                          0.5555555555555556,
                          "#d8576b"
                        ],
                        [
                          0.6666666666666666,
                          "#ed7953"
                        ],
                        [
                          0.7777777777777778,
                          "#fb9f3a"
                        ],
                        [
                          0.8888888888888888,
                          "#fdca26"
                        ],
                        [
                          1,
                          "#f0f921"
                        ]
                      ],
                      "diverging": [
                        [
                          0,
                          "#8e0152"
                        ],
                        [
                          0.1,
                          "#c51b7d"
                        ],
                        [
                          0.2,
                          "#de77ae"
                        ],
                        [
                          0.3,
                          "#f1b6da"
                        ],
                        [
                          0.4,
                          "#fde0ef"
                        ],
                        [
                          0.5,
                          "#f7f7f7"
                        ],
                        [
                          0.6,
                          "#e6f5d0"
                        ],
                        [
                          0.7,
                          "#b8e186"
                        ],
                        [
                          0.8,
                          "#7fbc41"
                        ],
                        [
                          0.9,
                          "#4d9221"
                        ],
                        [
                          1,
                          "#276419"
                        ]
                      ]
                    },
                    "xaxis": {
                      "gridcolor": "white",
                      "linecolor": "white",
                      "ticks": "",
                      "title": {
                        "standoff": 15
                      },
                      "zerolinecolor": "white",
                      "automargin": true,
                      "zerolinewidth": 2
                    },
                    "yaxis": {
                      "gridcolor": "white",
                      "linecolor": "white",
                      "ticks": "",
                      "title": {
                        "standoff": 15
                      },
                      "zerolinecolor": "white",
                      "automargin": true,
                      "zerolinewidth": 2
                    },
                    "scene": {
                      "xaxis": {
                        "backgroundcolor": "#E5ECF6",
                        "gridcolor": "white",
                        "linecolor": "white",
                        "showbackground": true,
                        "ticks": "",
                        "zerolinecolor": "white",
                        "gridwidth": 2
                      },
                      "yaxis": {
                        "backgroundcolor": "#E5ECF6",
                        "gridcolor": "white",
                        "linecolor": "white",
                        "showbackground": true,
                        "ticks": "",
                        "zerolinecolor": "white",
                        "gridwidth": 2
                      },
                      "zaxis": {
                        "backgroundcolor": "#E5ECF6",
                        "gridcolor": "white",
                        "linecolor": "white",
                        "showbackground": true,
                        "ticks": "",
                        "zerolinecolor": "white",
                        "gridwidth": 2
                      }
                    },
                    "shapedefaults": {
                      "line": {
                        "color": "#2a3f5f"
                      }
                    },
                    "annotationdefaults": {
                      "arrowcolor": "#2a3f5f",
                      "arrowhead": 0,
                      "arrowwidth": 1
                    },
                    "geo": {
                      "bgcolor": "white",
                      "landcolor": "#E5ECF6",
                      "subunitcolor": "white",
                      "showland": true,
                      "showlakes": true,
                      "lakecolor": "white"
                    },
                    "title": {
                      "x": 0.05
                    },
                    "mapbox": {
                      "style": "light"
                    }
                  }
                },
                "title": {
                  "text": "Prediction Both"
                },
                "legend": {
                  "title": {
                    "text": "year"
                  }
                },
                "xaxis": {
                  "title": {
                    "text": "Age Groups"
                  }
                },
                "yaxis": {
                  "title": {
                    "text": "Population"
                  }
                }
              },
              "config": {
                "plotlyServerURL": "https://plot.ly"
              }
            }
          },
          "metadata": {},
          "output_type": "display_data"
        }
      ],
      "metadata": {
        "datalore": {
          "node_id": "PwawHh7QoS9ZFNJnYq5Mec",
          "type": "CODE",
          "hide_input_from_viewers": false,
          "hide_output_from_viewers": false,
          "report_properties": {
            "rowId": "3TPQ6Wyaupx4OWR8zZnr2D"
          }
        },
        "id": "fipwuN-B6eG7",
        "outputId": "27f508d3-1d5c-4688-e946-e9b1f689e52d"
      }
    },
    {
      "cell_type": "code",
      "source": [
        "raft(\n",
        "    df_true=both_cleaned_2010_2050_df,\n",
        "    df_pred=both_pred_2010_2050_df,\n",
        "    features=AGE_GROUPS,\n",
        "    years=both_pred_2010_2050_df[\"Year\"].unique()[:3],\n",
        "    pltTitle=\"Both | True & Pred\",\n",
        "    yTitle=\"Population\"\n",
        ")"
      ],
      "execution_count": null,
      "outputs": [
        {
          "data": {
            "application/vnd.plotly.v1+json": {
              "data": [
                {
                  "line": {
                    "dash": "solid"
                  },
                  "mode": "lines",
                  "name": "2010",
                  "x": [
                    "0 - 4",
                    "5 - 9",
                    "10 - 14",
                    "15 - 19",
                    "20 - 24",
                    "25 - 29",
                    "30 - 34",
                    "35 - 39",
                    "40 - 44",
                    "45 - 49",
                    "50 - 54",
                    "55 - 59",
                    "60 - 64",
                    "65 - 69",
                    "70 - 74",
                    "75 - 79",
                    "80 - 84",
                    "85 - 89",
                    "90 - 94",
                    "95 - 99",
                    "100+"
                  ],
                  "y": [
                    2223.961,
                    2409.136,
                    3062.623,
                    3406.574,
                    3210.706,
                    3715.307,
                    3771.06,
                    4208.445,
                    4058.393,
                    4084.183,
                    3875.527,
                    2793.96,
                    2257.451,
                    1914.04,
                    1608.119,
                    1054.432,
                    559.116,
                    259.557,
                    77.363,
                    14.25,
                    1.44
                  ],
                  "type": "scatter"
                },
                {
                  "line": {
                    "dash": "solid"
                  },
                  "mode": "lines",
                  "name": "2015",
                  "x": [
                    "0 - 4",
                    "5 - 9",
                    "10 - 14",
                    "15 - 19",
                    "20 - 24",
                    "25 - 29",
                    "30 - 34",
                    "35 - 39",
                    "40 - 44",
                    "45 - 49",
                    "50 - 54",
                    "55 - 59",
                    "60 - 64",
                    "65 - 69",
                    "70 - 74",
                    "75 - 79",
                    "80 - 84",
                    "85 - 89",
                    "90 - 94",
                    "95 - 99",
                    "100+"
                  ],
                  "y": [
                    2175.622,
                    2221.257,
                    2407.181,
                    3057.939,
                    3396.204,
                    3198.411,
                    3701.182,
                    3754.057,
                    4182.482,
                    4019.656,
                    4024.191,
                    3781.644,
                    2683.207,
                    2120.992,
                    1725.508,
                    1347.395,
                    788.216,
                    351.738,
                    126.212,
                    26.234,
                    0.1985964912280702
                  ],
                  "type": "scatter"
                },
                {
                  "line": {
                    "dash": "solid"
                  },
                  "mode": "lines",
                  "name": "2020",
                  "x": [
                    "0 - 4",
                    "5 - 9",
                    "10 - 14",
                    "15 - 19",
                    "20 - 24",
                    "25 - 29",
                    "30 - 34",
                    "35 - 39",
                    "40 - 44",
                    "45 - 49",
                    "50 - 54",
                    "55 - 59",
                    "60 - 64",
                    "65 - 69",
                    "70 - 74",
                    "75 - 79",
                    "80 - 84",
                    "85 - 89",
                    "90 - 94",
                    "95 - 99",
                    "100+"
                  ],
                  "y": [
                    2139.442,
                    2173.203,
                    2219.615,
                    2403.462,
                    3048.993,
                    3384.365,
                    3186.387,
                    3685.933,
                    3732.98,
                    4146.883,
                    3966.692,
                    3937.006,
                    3647.545,
                    2535.502,
                    1930.06,
                    1468.673,
                    1031.509,
                    517.01,
                    184.524,
                    47.379,
                    0.22123961271632234
                  ],
                  "type": "scatter"
                },
                {
                  "line": {
                    "dash": "dot"
                  },
                  "mode": "lines",
                  "name": "2010-pred",
                  "x": [
                    "0 - 4",
                    "5 - 9",
                    "10 - 14",
                    "15 - 19",
                    "20 - 24",
                    "25 - 29",
                    "30 - 34",
                    "35 - 39",
                    "40 - 44",
                    "45 - 49",
                    "50 - 54",
                    "55 - 59",
                    "60 - 64",
                    "65 - 69",
                    "70 - 74",
                    "75 - 79",
                    "80 - 84",
                    "85 - 89",
                    "90 - 94",
                    "95 - 99",
                    "100+"
                  ],
                  "y": [
                    2610.143973991375,
                    2404.0154998917433,
                    3055.8901464627743,
                    3383.2839199781783,
                    3172.339460837791,
                    3653.1000003185472,
                    3726.4707797697038,
                    4189.358350151593,
                    4047.181089434855,
                    4074.3906040707625,
                    3882.7849998384563,
                    2827.197064302642,
                    2295.480787681163,
                    1933.2853831911718,
                    1609.7221348623775,
                    1040.791078401677,
                    541.6410688636931,
                    245.50156435096392,
                    70.67004610104176,
                    12.565970879677264,
                    1.272695484743311
                  ],
                  "type": "scatter"
                },
                {
                  "line": {
                    "dash": "dot"
                  },
                  "mode": "lines",
                  "name": "2015-pred",
                  "x": [
                    "0 - 4",
                    "5 - 9",
                    "10 - 14",
                    "15 - 19",
                    "20 - 24",
                    "25 - 29",
                    "30 - 34",
                    "35 - 39",
                    "40 - 44",
                    "45 - 49",
                    "50 - 54",
                    "55 - 59",
                    "60 - 64",
                    "65 - 69",
                    "70 - 74",
                    "75 - 79",
                    "80 - 84",
                    "85 - 89",
                    "90 - 94",
                    "95 - 99",
                    "100+"
                  ],
                  "y": [
                    2410.4886479389197,
                    2600.9730065112326,
                    2396.532457691715,
                    3029.8999067375676,
                    3331.0389156607007,
                    3106.5779932638816,
                    3594.361148874793,
                    3690.2519803707255,
                    4146.980495149465,
                    3992.2096136032606,
                    4013.080539035271,
                    3821.2392048193074,
                    2747.735282829388,
                    2164.7485696869153,
                    1727.3784271650525,
                    1308.4373472861778,
                    730.903103181643,
                    305.472628863796,
                    100.22334202910356,
                    18.828949025219032,
                    1.9269141876476672
                  ],
                  "type": "scatter"
                },
                {
                  "line": {
                    "dash": "dot"
                  },
                  "mode": "lines",
                  "name": "2020-pred",
                  "x": [
                    "0 - 4",
                    "5 - 9",
                    "10 - 14",
                    "15 - 19",
                    "20 - 24",
                    "25 - 29",
                    "30 - 34",
                    "35 - 39",
                    "40 - 44",
                    "45 - 49",
                    "50 - 54",
                    "55 - 59",
                    "60 - 64",
                    "65 - 69",
                    "70 - 74",
                    "75 - 79",
                    "80 - 84",
                    "85 - 89",
                    "90 - 94",
                    "95 - 99",
                    "100+"
                  ],
                  "y": [
                    2248.8352333050675,
                    2402.0191867820718,
                    2592.876889506274,
                    2376.206623971152,
                    2983.2249727840135,
                    3261.9290827754025,
                    3056.468207528641,
                    3559.4149466445338,
                    3652.9010564893224,
                    4090.670033603248,
                    3931.9219516382145,
                    3949.566948296876,
                    3714.7790675407696,
                    2591.180811760277,
                    1934.1745463248712,
                    1403.3157878049308,
                    914.6733798451999,
                    410.1608613790006,
                    124.90452313228472,
                    26.708577970362057,
                    2.883490253522976
                  ],
                  "type": "scatter"
                }
              ],
              "layout": {
                "template": {
                  "data": {
                    "histogram2dcontour": [
                      {
                        "type": "histogram2dcontour",
                        "colorbar": {
                          "outlinewidth": 0,
                          "ticks": ""
                        },
                        "colorscale": [
                          [
                            0,
                            "#0d0887"
                          ],
                          [
                            0.1111111111111111,
                            "#46039f"
                          ],
                          [
                            0.2222222222222222,
                            "#7201a8"
                          ],
                          [
                            0.3333333333333333,
                            "#9c179e"
                          ],
                          [
                            0.4444444444444444,
                            "#bd3786"
                          ],
                          [
                            0.5555555555555556,
                            "#d8576b"
                          ],
                          [
                            0.6666666666666666,
                            "#ed7953"
                          ],
                          [
                            0.7777777777777778,
                            "#fb9f3a"
                          ],
                          [
                            0.8888888888888888,
                            "#fdca26"
                          ],
                          [
                            1,
                            "#f0f921"
                          ]
                        ]
                      }
                    ],
                    "choropleth": [
                      {
                        "type": "choropleth",
                        "colorbar": {
                          "outlinewidth": 0,
                          "ticks": ""
                        }
                      }
                    ],
                    "histogram2d": [
                      {
                        "type": "histogram2d",
                        "colorbar": {
                          "outlinewidth": 0,
                          "ticks": ""
                        },
                        "colorscale": [
                          [
                            0,
                            "#0d0887"
                          ],
                          [
                            0.1111111111111111,
                            "#46039f"
                          ],
                          [
                            0.2222222222222222,
                            "#7201a8"
                          ],
                          [
                            0.3333333333333333,
                            "#9c179e"
                          ],
                          [
                            0.4444444444444444,
                            "#bd3786"
                          ],
                          [
                            0.5555555555555556,
                            "#d8576b"
                          ],
                          [
                            0.6666666666666666,
                            "#ed7953"
                          ],
                          [
                            0.7777777777777778,
                            "#fb9f3a"
                          ],
                          [
                            0.8888888888888888,
                            "#fdca26"
                          ],
                          [
                            1,
                            "#f0f921"
                          ]
                        ]
                      }
                    ],
                    "heatmap": [
                      {
                        "type": "heatmap",
                        "colorbar": {
                          "outlinewidth": 0,
                          "ticks": ""
                        },
                        "colorscale": [
                          [
                            0,
                            "#0d0887"
                          ],
                          [
                            0.1111111111111111,
                            "#46039f"
                          ],
                          [
                            0.2222222222222222,
                            "#7201a8"
                          ],
                          [
                            0.3333333333333333,
                            "#9c179e"
                          ],
                          [
                            0.4444444444444444,
                            "#bd3786"
                          ],
                          [
                            0.5555555555555556,
                            "#d8576b"
                          ],
                          [
                            0.6666666666666666,
                            "#ed7953"
                          ],
                          [
                            0.7777777777777778,
                            "#fb9f3a"
                          ],
                          [
                            0.8888888888888888,
                            "#fdca26"
                          ],
                          [
                            1,
                            "#f0f921"
                          ]
                        ]
                      }
                    ],
                    "heatmapgl": [
                      {
                        "type": "heatmapgl",
                        "colorbar": {
                          "outlinewidth": 0,
                          "ticks": ""
                        },
                        "colorscale": [
                          [
                            0,
                            "#0d0887"
                          ],
                          [
                            0.1111111111111111,
                            "#46039f"
                          ],
                          [
                            0.2222222222222222,
                            "#7201a8"
                          ],
                          [
                            0.3333333333333333,
                            "#9c179e"
                          ],
                          [
                            0.4444444444444444,
                            "#bd3786"
                          ],
                          [
                            0.5555555555555556,
                            "#d8576b"
                          ],
                          [
                            0.6666666666666666,
                            "#ed7953"
                          ],
                          [
                            0.7777777777777778,
                            "#fb9f3a"
                          ],
                          [
                            0.8888888888888888,
                            "#fdca26"
                          ],
                          [
                            1,
                            "#f0f921"
                          ]
                        ]
                      }
                    ],
                    "contourcarpet": [
                      {
                        "type": "contourcarpet",
                        "colorbar": {
                          "outlinewidth": 0,
                          "ticks": ""
                        }
                      }
                    ],
                    "contour": [
                      {
                        "type": "contour",
                        "colorbar": {
                          "outlinewidth": 0,
                          "ticks": ""
                        },
                        "colorscale": [
                          [
                            0,
                            "#0d0887"
                          ],
                          [
                            0.1111111111111111,
                            "#46039f"
                          ],
                          [
                            0.2222222222222222,
                            "#7201a8"
                          ],
                          [
                            0.3333333333333333,
                            "#9c179e"
                          ],
                          [
                            0.4444444444444444,
                            "#bd3786"
                          ],
                          [
                            0.5555555555555556,
                            "#d8576b"
                          ],
                          [
                            0.6666666666666666,
                            "#ed7953"
                          ],
                          [
                            0.7777777777777778,
                            "#fb9f3a"
                          ],
                          [
                            0.8888888888888888,
                            "#fdca26"
                          ],
                          [
                            1,
                            "#f0f921"
                          ]
                        ]
                      }
                    ],
                    "surface": [
                      {
                        "type": "surface",
                        "colorbar": {
                          "outlinewidth": 0,
                          "ticks": ""
                        },
                        "colorscale": [
                          [
                            0,
                            "#0d0887"
                          ],
                          [
                            0.1111111111111111,
                            "#46039f"
                          ],
                          [
                            0.2222222222222222,
                            "#7201a8"
                          ],
                          [
                            0.3333333333333333,
                            "#9c179e"
                          ],
                          [
                            0.4444444444444444,
                            "#bd3786"
                          ],
                          [
                            0.5555555555555556,
                            "#d8576b"
                          ],
                          [
                            0.6666666666666666,
                            "#ed7953"
                          ],
                          [
                            0.7777777777777778,
                            "#fb9f3a"
                          ],
                          [
                            0.8888888888888888,
                            "#fdca26"
                          ],
                          [
                            1,
                            "#f0f921"
                          ]
                        ]
                      }
                    ],
                    "mesh3d": [
                      {
                        "type": "mesh3d",
                        "colorbar": {
                          "outlinewidth": 0,
                          "ticks": ""
                        }
                      }
                    ],
                    "scatter": [
                      {
                        "fillpattern": {
                          "fillmode": "overlay",
                          "size": 10,
                          "solidity": 0.2
                        },
                        "type": "scatter"
                      }
                    ],
                    "parcoords": [
                      {
                        "type": "parcoords",
                        "line": {
                          "colorbar": {
                            "outlinewidth": 0,
                            "ticks": ""
                          }
                        }
                      }
                    ],
                    "scatterpolargl": [
                      {
                        "type": "scatterpolargl",
                        "marker": {
                          "colorbar": {
                            "outlinewidth": 0,
                            "ticks": ""
                          }
                        }
                      }
                    ],
                    "bar": [
                      {
                        "error_x": {
                          "color": "#2a3f5f"
                        },
                        "error_y": {
                          "color": "#2a3f5f"
                        },
                        "marker": {
                          "line": {
                            "color": "#E5ECF6",
                            "width": 0.5
                          },
                          "pattern": {
                            "fillmode": "overlay",
                            "size": 10,
                            "solidity": 0.2
                          }
                        },
                        "type": "bar"
                      }
                    ],
                    "scattergeo": [
                      {
                        "type": "scattergeo",
                        "marker": {
                          "colorbar": {
                            "outlinewidth": 0,
                            "ticks": ""
                          }
                        }
                      }
                    ],
                    "scatterpolar": [
                      {
                        "type": "scatterpolar",
                        "marker": {
                          "colorbar": {
                            "outlinewidth": 0,
                            "ticks": ""
                          }
                        }
                      }
                    ],
                    "histogram": [
                      {
                        "marker": {
                          "pattern": {
                            "fillmode": "overlay",
                            "size": 10,
                            "solidity": 0.2
                          }
                        },
                        "type": "histogram"
                      }
                    ],
                    "scattergl": [
                      {
                        "type": "scattergl",
                        "marker": {
                          "colorbar": {
                            "outlinewidth": 0,
                            "ticks": ""
                          }
                        }
                      }
                    ],
                    "scatter3d": [
                      {
                        "type": "scatter3d",
                        "line": {
                          "colorbar": {
                            "outlinewidth": 0,
                            "ticks": ""
                          }
                        },
                        "marker": {
                          "colorbar": {
                            "outlinewidth": 0,
                            "ticks": ""
                          }
                        }
                      }
                    ],
                    "scattermapbox": [
                      {
                        "type": "scattermapbox",
                        "marker": {
                          "colorbar": {
                            "outlinewidth": 0,
                            "ticks": ""
                          }
                        }
                      }
                    ],
                    "scatterternary": [
                      {
                        "type": "scatterternary",
                        "marker": {
                          "colorbar": {
                            "outlinewidth": 0,
                            "ticks": ""
                          }
                        }
                      }
                    ],
                    "scattercarpet": [
                      {
                        "type": "scattercarpet",
                        "marker": {
                          "colorbar": {
                            "outlinewidth": 0,
                            "ticks": ""
                          }
                        }
                      }
                    ],
                    "carpet": [
                      {
                        "aaxis": {
                          "endlinecolor": "#2a3f5f",
                          "gridcolor": "white",
                          "linecolor": "white",
                          "minorgridcolor": "white",
                          "startlinecolor": "#2a3f5f"
                        },
                        "baxis": {
                          "endlinecolor": "#2a3f5f",
                          "gridcolor": "white",
                          "linecolor": "white",
                          "minorgridcolor": "white",
                          "startlinecolor": "#2a3f5f"
                        },
                        "type": "carpet"
                      }
                    ],
                    "table": [
                      {
                        "cells": {
                          "fill": {
                            "color": "#EBF0F8"
                          },
                          "line": {
                            "color": "white"
                          }
                        },
                        "header": {
                          "fill": {
                            "color": "#C8D4E3"
                          },
                          "line": {
                            "color": "white"
                          }
                        },
                        "type": "table"
                      }
                    ],
                    "barpolar": [
                      {
                        "marker": {
                          "line": {
                            "color": "#E5ECF6",
                            "width": 0.5
                          },
                          "pattern": {
                            "fillmode": "overlay",
                            "size": 10,
                            "solidity": 0.2
                          }
                        },
                        "type": "barpolar"
                      }
                    ],
                    "pie": [
                      {
                        "automargin": true,
                        "type": "pie"
                      }
                    ]
                  },
                  "layout": {
                    "autotypenumbers": "strict",
                    "colorway": [
                      "#636efa",
                      "#EF553B",
                      "#00cc96",
                      "#ab63fa",
                      "#FFA15A",
                      "#19d3f3",
                      "#FF6692",
                      "#B6E880",
                      "#FF97FF",
                      "#FECB52"
                    ],
                    "font": {
                      "color": "#2a3f5f"
                    },
                    "hovermode": "closest",
                    "hoverlabel": {
                      "align": "left"
                    },
                    "paper_bgcolor": "white",
                    "plot_bgcolor": "#E5ECF6",
                    "polar": {
                      "bgcolor": "#E5ECF6",
                      "angularaxis": {
                        "gridcolor": "white",
                        "linecolor": "white",
                        "ticks": ""
                      },
                      "radialaxis": {
                        "gridcolor": "white",
                        "linecolor": "white",
                        "ticks": ""
                      }
                    },
                    "ternary": {
                      "bgcolor": "#E5ECF6",
                      "aaxis": {
                        "gridcolor": "white",
                        "linecolor": "white",
                        "ticks": ""
                      },
                      "baxis": {
                        "gridcolor": "white",
                        "linecolor": "white",
                        "ticks": ""
                      },
                      "caxis": {
                        "gridcolor": "white",
                        "linecolor": "white",
                        "ticks": ""
                      }
                    },
                    "coloraxis": {
                      "colorbar": {
                        "outlinewidth": 0,
                        "ticks": ""
                      }
                    },
                    "colorscale": {
                      "sequential": [
                        [
                          0,
                          "#0d0887"
                        ],
                        [
                          0.1111111111111111,
                          "#46039f"
                        ],
                        [
                          0.2222222222222222,
                          "#7201a8"
                        ],
                        [
                          0.3333333333333333,
                          "#9c179e"
                        ],
                        [
                          0.4444444444444444,
                          "#bd3786"
                        ],
                        [
                          0.5555555555555556,
                          "#d8576b"
                        ],
                        [
                          0.6666666666666666,
                          "#ed7953"
                        ],
                        [
                          0.7777777777777778,
                          "#fb9f3a"
                        ],
                        [
                          0.8888888888888888,
                          "#fdca26"
                        ],
                        [
                          1,
                          "#f0f921"
                        ]
                      ],
                      "sequentialminus": [
                        [
                          0,
                          "#0d0887"
                        ],
                        [
                          0.1111111111111111,
                          "#46039f"
                        ],
                        [
                          0.2222222222222222,
                          "#7201a8"
                        ],
                        [
                          0.3333333333333333,
                          "#9c179e"
                        ],
                        [
                          0.4444444444444444,
                          "#bd3786"
                        ],
                        [
                          0.5555555555555556,
                          "#d8576b"
                        ],
                        [
                          0.6666666666666666,
                          "#ed7953"
                        ],
                        [
                          0.7777777777777778,
                          "#fb9f3a"
                        ],
                        [
                          0.8888888888888888,
                          "#fdca26"
                        ],
                        [
                          1,
                          "#f0f921"
                        ]
                      ],
                      "diverging": [
                        [
                          0,
                          "#8e0152"
                        ],
                        [
                          0.1,
                          "#c51b7d"
                        ],
                        [
                          0.2,
                          "#de77ae"
                        ],
                        [
                          0.3,
                          "#f1b6da"
                        ],
                        [
                          0.4,
                          "#fde0ef"
                        ],
                        [
                          0.5,
                          "#f7f7f7"
                        ],
                        [
                          0.6,
                          "#e6f5d0"
                        ],
                        [
                          0.7,
                          "#b8e186"
                        ],
                        [
                          0.8,
                          "#7fbc41"
                        ],
                        [
                          0.9,
                          "#4d9221"
                        ],
                        [
                          1,
                          "#276419"
                        ]
                      ]
                    },
                    "xaxis": {
                      "gridcolor": "white",
                      "linecolor": "white",
                      "ticks": "",
                      "title": {
                        "standoff": 15
                      },
                      "zerolinecolor": "white",
                      "automargin": true,
                      "zerolinewidth": 2
                    },
                    "yaxis": {
                      "gridcolor": "white",
                      "linecolor": "white",
                      "ticks": "",
                      "title": {
                        "standoff": 15
                      },
                      "zerolinecolor": "white",
                      "automargin": true,
                      "zerolinewidth": 2
                    },
                    "scene": {
                      "xaxis": {
                        "backgroundcolor": "#E5ECF6",
                        "gridcolor": "white",
                        "linecolor": "white",
                        "showbackground": true,
                        "ticks": "",
                        "zerolinecolor": "white",
                        "gridwidth": 2
                      },
                      "yaxis": {
                        "backgroundcolor": "#E5ECF6",
                        "gridcolor": "white",
                        "linecolor": "white",
                        "showbackground": true,
                        "ticks": "",
                        "zerolinecolor": "white",
                        "gridwidth": 2
                      },
                      "zaxis": {
                        "backgroundcolor": "#E5ECF6",
                        "gridcolor": "white",
                        "linecolor": "white",
                        "showbackground": true,
                        "ticks": "",
                        "zerolinecolor": "white",
                        "gridwidth": 2
                      }
                    },
                    "shapedefaults": {
                      "line": {
                        "color": "#2a3f5f"
                      }
                    },
                    "annotationdefaults": {
                      "arrowcolor": "#2a3f5f",
                      "arrowhead": 0,
                      "arrowwidth": 1
                    },
                    "geo": {
                      "bgcolor": "white",
                      "landcolor": "#E5ECF6",
                      "subunitcolor": "white",
                      "showland": true,
                      "showlakes": true,
                      "lakecolor": "white"
                    },
                    "title": {
                      "x": 0.05
                    },
                    "mapbox": {
                      "style": "light"
                    }
                  }
                },
                "title": {
                  "text": "Both | True & Pred"
                },
                "legend": {
                  "title": {
                    "text": "year"
                  }
                },
                "xaxis": {
                  "title": {
                    "text": "Age Groups"
                  }
                },
                "yaxis": {
                  "title": {
                    "text": "Population"
                  }
                }
              },
              "config": {
                "plotlyServerURL": "https://plot.ly"
              }
            }
          },
          "metadata": {},
          "output_type": "display_data"
        }
      ],
      "metadata": {
        "datalore": {
          "node_id": "nOfzqBGDHW2CrlTp75yYLk",
          "type": "CODE",
          "hide_input_from_viewers": true,
          "hide_output_from_viewers": true
        },
        "id": "-jMsGJt76eG8",
        "outputId": "28107170-fa8c-4be8-c4e3-d86b64af10b3"
      }
    },
    {
      "cell_type": "code",
      "source": [
        "raft(\n",
        "    df_true=both_cleaned_2010_2050_df,\n",
        "    df_pred=both_pred_2010_2050_df,\n",
        "    features=AGE_GROUPS,\n",
        "    years=both_pred_2010_2050_df[\"Year\"].unique()[3:6],\n",
        "    pltTitle=\"Both | True & Pred\",\n",
        "    yTitle=\"Population\"\n",
        ")"
      ],
      "execution_count": null,
      "outputs": [
        {
          "data": {
            "application/vnd.plotly.v1+json": {
              "data": [
                {
                  "line": {
                    "dash": "solid"
                  },
                  "mode": "lines",
                  "name": "2025",
                  "x": [
                    "0 - 4",
                    "5 - 9",
                    "10 - 14",
                    "15 - 19",
                    "20 - 24",
                    "25 - 29",
                    "30 - 34",
                    "35 - 39",
                    "40 - 44",
                    "45 - 49",
                    "50 - 54",
                    "55 - 59",
                    "60 - 64",
                    "65 - 69",
                    "70 - 74",
                    "75 - 79",
                    "80 - 84",
                    "85 - 89",
                    "90 - 94",
                    "95 - 99",
                    "100+"
                  ],
                  "y": [
                    2106.516,
                    2137.241,
                    2171.738,
                    2216.314,
                    2395.976,
                    3038.416,
                    3372.676,
                    3173.74,
                    3667.066,
                    3704.155,
                    4097.698,
                    3889.02,
                    3810.634,
                    3464.522,
                    2325.432,
                    1664.996,
                    1150.049,
                    698.307,
                    285.387,
                    75.261,
                    0.244644251672682
                  ],
                  "type": "scatter"
                },
                {
                  "line": {
                    "dash": "solid"
                  },
                  "mode": "lines",
                  "name": "2030",
                  "x": [
                    "0 - 4",
                    "5 - 9",
                    "10 - 14",
                    "15 - 19",
                    "20 - 24",
                    "25 - 29",
                    "30 - 34",
                    "35 - 39",
                    "40 - 44",
                    "45 - 49",
                    "50 - 54",
                    "55 - 59",
                    "60 - 64",
                    "65 - 69",
                    "70 - 74",
                    "75 - 79",
                    "80 - 84",
                    "85 - 89",
                    "90 - 94",
                    "95 - 99",
                    "100+"
                  ],
                  "y": [
                    1985.182,
                    2104.446,
                    2135.886,
                    2168.626,
                    2209.361,
                    2386.771,
                    3027.928,
                    3360.28,
                    3158.207,
                    3640.947,
                    3663.6,
                    4023.921,
                    3773.382,
                    3632.505,
                    3197.178,
                    2026.017,
                    1325.815,
                    799.209,
                    398.539,
                    122.509,
                    0.2688112036778677
                  ],
                  "type": "scatter"
                },
                {
                  "line": {
                    "dash": "solid"
                  },
                  "mode": "lines",
                  "name": "2035",
                  "x": [
                    "0 - 4",
                    "5 - 9",
                    "10 - 14",
                    "15 - 19",
                    "20 - 24",
                    "25 - 29",
                    "30 - 34",
                    "35 - 39",
                    "40 - 44",
                    "45 - 49",
                    "50 - 54",
                    "55 - 59",
                    "60 - 64",
                    "65 - 69",
                    "70 - 74",
                    "75 - 79",
                    "80 - 84",
                    "85 - 89",
                    "90 - 94",
                    "95 - 99",
                    "100+"
                  ],
                  "y": [
                    1844.97,
                    1983.253,
                    2103.172,
                    2132.907,
                    2161.938,
                    2200.659,
                    2377.771,
                    3016.999,
                    3344.878,
                    3136.729,
                    3603.636,
                    3601.86,
                    3911.824,
                    3606.335,
                    3366.84,
                    2807.51,
                    1632.307,
                    938.484,
                    467.815,
                    175.908,
                    0.2813670832347011
                  ],
                  "type": "scatter"
                },
                {
                  "line": {
                    "dash": "dot"
                  },
                  "mode": "lines",
                  "name": "2025-pred",
                  "x": [
                    "0 - 4",
                    "5 - 9",
                    "10 - 14",
                    "15 - 19",
                    "20 - 24",
                    "25 - 29",
                    "30 - 34",
                    "35 - 39",
                    "40 - 44",
                    "45 - 49",
                    "50 - 54",
                    "55 - 59",
                    "60 - 64",
                    "65 - 69",
                    "70 - 74",
                    "75 - 79",
                    "80 - 84",
                    "85 - 89",
                    "90 - 94",
                    "95 - 99",
                    "100+"
                  ],
                  "y": [
                    2007.0076163633255,
                    2240.9337554562035,
                    2394.5423585583035,
                    2570.885789680004,
                    2339.711652808326,
                    2921.4449780714635,
                    3209.271751644028,
                    3026.6109620420066,
                    3523.367494066999,
                    3603.2635566104545,
                    4028.9193652708445,
                    3869.3646759643984,
                    3839.673019451895,
                    3504.281291500117,
                    2315.1043975559405,
                    1571.2979769567246,
                    980.2555348055525,
                    510.44496694326506,
                    166.8348618106919,
                    33.333313920199785,
                    4.090736755305193
                  ],
                  "type": "scatter"
                },
                {
                  "line": {
                    "dash": "dot"
                  },
                  "mode": "lines",
                  "name": "2030-pred",
                  "x": [
                    "0 - 4",
                    "5 - 9",
                    "10 - 14",
                    "15 - 19",
                    "20 - 24",
                    "25 - 29",
                    "30 - 34",
                    "35 - 39",
                    "40 - 44",
                    "45 - 49",
                    "50 - 54",
                    "55 - 59",
                    "60 - 64",
                    "65 - 69",
                    "70 - 74",
                    "75 - 79",
                    "80 - 84",
                    "85 - 89",
                    "90 - 94",
                    "95 - 99",
                    "100+"
                  ],
                  "y": [
                    1908.215091710877,
                    1999.9558208434332,
                    2233.958342086239,
                    2374.2334035676504,
                    2531.40083840902,
                    2291.3687847744914,
                    2874.3649878849483,
                    3177.8848316829326,
                    2995.703150429058,
                    3475.455882627977,
                    3548.8186401338307,
                    3964.855426789666,
                    3761.226367586337,
                    3622.2717697858825,
                    3132.361801711754,
                    1880.65973285277,
                    1097.5779203393367,
                    546.5368982239984,
                    206.4064913210472,
                    44.31453962839751,
                    5.110043042202946
                  ],
                  "type": "scatter"
                },
                {
                  "line": {
                    "dash": "dot"
                  },
                  "mode": "lines",
                  "name": "2035-pred",
                  "x": [
                    "0 - 4",
                    "5 - 9",
                    "10 - 14",
                    "15 - 19",
                    "20 - 24",
                    "25 - 29",
                    "30 - 34",
                    "35 - 39",
                    "40 - 44",
                    "45 - 49",
                    "50 - 54",
                    "55 - 59",
                    "60 - 64",
                    "65 - 69",
                    "70 - 74",
                    "75 - 79",
                    "80 - 84",
                    "85 - 89",
                    "90 - 94",
                    "95 - 99",
                    "100+"
                  ],
                  "y": [
                    1753.1472838392156,
                    1901.5104123040792,
                    1993.7305058210313,
                    2215.0113565554675,
                    2337.7687381118267,
                    2479.097309243338,
                    2254.521336807044,
                    2846.325283783538,
                    3145.3648120168064,
                    2954.544457625185,
                    3422.8926860790516,
                    3492.3093094779088,
                    3854.1014633774244,
                    3547.68244701169,
                    3238.04648917781,
                    2546.329169993945,
                    1313.5733438141683,
                    611.9372308734423,
                    220.78210044330245,
                    54.533288949732125,
                    6.773050099086653
                  ],
                  "type": "scatter"
                }
              ],
              "layout": {
                "template": {
                  "data": {
                    "histogram2dcontour": [
                      {
                        "type": "histogram2dcontour",
                        "colorbar": {
                          "outlinewidth": 0,
                          "ticks": ""
                        },
                        "colorscale": [
                          [
                            0,
                            "#0d0887"
                          ],
                          [
                            0.1111111111111111,
                            "#46039f"
                          ],
                          [
                            0.2222222222222222,
                            "#7201a8"
                          ],
                          [
                            0.3333333333333333,
                            "#9c179e"
                          ],
                          [
                            0.4444444444444444,
                            "#bd3786"
                          ],
                          [
                            0.5555555555555556,
                            "#d8576b"
                          ],
                          [
                            0.6666666666666666,
                            "#ed7953"
                          ],
                          [
                            0.7777777777777778,
                            "#fb9f3a"
                          ],
                          [
                            0.8888888888888888,
                            "#fdca26"
                          ],
                          [
                            1,
                            "#f0f921"
                          ]
                        ]
                      }
                    ],
                    "choropleth": [
                      {
                        "type": "choropleth",
                        "colorbar": {
                          "outlinewidth": 0,
                          "ticks": ""
                        }
                      }
                    ],
                    "histogram2d": [
                      {
                        "type": "histogram2d",
                        "colorbar": {
                          "outlinewidth": 0,
                          "ticks": ""
                        },
                        "colorscale": [
                          [
                            0,
                            "#0d0887"
                          ],
                          [
                            0.1111111111111111,
                            "#46039f"
                          ],
                          [
                            0.2222222222222222,
                            "#7201a8"
                          ],
                          [
                            0.3333333333333333,
                            "#9c179e"
                          ],
                          [
                            0.4444444444444444,
                            "#bd3786"
                          ],
                          [
                            0.5555555555555556,
                            "#d8576b"
                          ],
                          [
                            0.6666666666666666,
                            "#ed7953"
                          ],
                          [
                            0.7777777777777778,
                            "#fb9f3a"
                          ],
                          [
                            0.8888888888888888,
                            "#fdca26"
                          ],
                          [
                            1,
                            "#f0f921"
                          ]
                        ]
                      }
                    ],
                    "heatmap": [
                      {
                        "type": "heatmap",
                        "colorbar": {
                          "outlinewidth": 0,
                          "ticks": ""
                        },
                        "colorscale": [
                          [
                            0,
                            "#0d0887"
                          ],
                          [
                            0.1111111111111111,
                            "#46039f"
                          ],
                          [
                            0.2222222222222222,
                            "#7201a8"
                          ],
                          [
                            0.3333333333333333,
                            "#9c179e"
                          ],
                          [
                            0.4444444444444444,
                            "#bd3786"
                          ],
                          [
                            0.5555555555555556,
                            "#d8576b"
                          ],
                          [
                            0.6666666666666666,
                            "#ed7953"
                          ],
                          [
                            0.7777777777777778,
                            "#fb9f3a"
                          ],
                          [
                            0.8888888888888888,
                            "#fdca26"
                          ],
                          [
                            1,
                            "#f0f921"
                          ]
                        ]
                      }
                    ],
                    "heatmapgl": [
                      {
                        "type": "heatmapgl",
                        "colorbar": {
                          "outlinewidth": 0,
                          "ticks": ""
                        },
                        "colorscale": [
                          [
                            0,
                            "#0d0887"
                          ],
                          [
                            0.1111111111111111,
                            "#46039f"
                          ],
                          [
                            0.2222222222222222,
                            "#7201a8"
                          ],
                          [
                            0.3333333333333333,
                            "#9c179e"
                          ],
                          [
                            0.4444444444444444,
                            "#bd3786"
                          ],
                          [
                            0.5555555555555556,
                            "#d8576b"
                          ],
                          [
                            0.6666666666666666,
                            "#ed7953"
                          ],
                          [
                            0.7777777777777778,
                            "#fb9f3a"
                          ],
                          [
                            0.8888888888888888,
                            "#fdca26"
                          ],
                          [
                            1,
                            "#f0f921"
                          ]
                        ]
                      }
                    ],
                    "contourcarpet": [
                      {
                        "type": "contourcarpet",
                        "colorbar": {
                          "outlinewidth": 0,
                          "ticks": ""
                        }
                      }
                    ],
                    "contour": [
                      {
                        "type": "contour",
                        "colorbar": {
                          "outlinewidth": 0,
                          "ticks": ""
                        },
                        "colorscale": [
                          [
                            0,
                            "#0d0887"
                          ],
                          [
                            0.1111111111111111,
                            "#46039f"
                          ],
                          [
                            0.2222222222222222,
                            "#7201a8"
                          ],
                          [
                            0.3333333333333333,
                            "#9c179e"
                          ],
                          [
                            0.4444444444444444,
                            "#bd3786"
                          ],
                          [
                            0.5555555555555556,
                            "#d8576b"
                          ],
                          [
                            0.6666666666666666,
                            "#ed7953"
                          ],
                          [
                            0.7777777777777778,
                            "#fb9f3a"
                          ],
                          [
                            0.8888888888888888,
                            "#fdca26"
                          ],
                          [
                            1,
                            "#f0f921"
                          ]
                        ]
                      }
                    ],
                    "surface": [
                      {
                        "type": "surface",
                        "colorbar": {
                          "outlinewidth": 0,
                          "ticks": ""
                        },
                        "colorscale": [
                          [
                            0,
                            "#0d0887"
                          ],
                          [
                            0.1111111111111111,
                            "#46039f"
                          ],
                          [
                            0.2222222222222222,
                            "#7201a8"
                          ],
                          [
                            0.3333333333333333,
                            "#9c179e"
                          ],
                          [
                            0.4444444444444444,
                            "#bd3786"
                          ],
                          [
                            0.5555555555555556,
                            "#d8576b"
                          ],
                          [
                            0.6666666666666666,
                            "#ed7953"
                          ],
                          [
                            0.7777777777777778,
                            "#fb9f3a"
                          ],
                          [
                            0.8888888888888888,
                            "#fdca26"
                          ],
                          [
                            1,
                            "#f0f921"
                          ]
                        ]
                      }
                    ],
                    "mesh3d": [
                      {
                        "type": "mesh3d",
                        "colorbar": {
                          "outlinewidth": 0,
                          "ticks": ""
                        }
                      }
                    ],
                    "scatter": [
                      {
                        "fillpattern": {
                          "fillmode": "overlay",
                          "size": 10,
                          "solidity": 0.2
                        },
                        "type": "scatter"
                      }
                    ],
                    "parcoords": [
                      {
                        "type": "parcoords",
                        "line": {
                          "colorbar": {
                            "outlinewidth": 0,
                            "ticks": ""
                          }
                        }
                      }
                    ],
                    "scatterpolargl": [
                      {
                        "type": "scatterpolargl",
                        "marker": {
                          "colorbar": {
                            "outlinewidth": 0,
                            "ticks": ""
                          }
                        }
                      }
                    ],
                    "bar": [
                      {
                        "error_x": {
                          "color": "#2a3f5f"
                        },
                        "error_y": {
                          "color": "#2a3f5f"
                        },
                        "marker": {
                          "line": {
                            "color": "#E5ECF6",
                            "width": 0.5
                          },
                          "pattern": {
                            "fillmode": "overlay",
                            "size": 10,
                            "solidity": 0.2
                          }
                        },
                        "type": "bar"
                      }
                    ],
                    "scattergeo": [
                      {
                        "type": "scattergeo",
                        "marker": {
                          "colorbar": {
                            "outlinewidth": 0,
                            "ticks": ""
                          }
                        }
                      }
                    ],
                    "scatterpolar": [
                      {
                        "type": "scatterpolar",
                        "marker": {
                          "colorbar": {
                            "outlinewidth": 0,
                            "ticks": ""
                          }
                        }
                      }
                    ],
                    "histogram": [
                      {
                        "marker": {
                          "pattern": {
                            "fillmode": "overlay",
                            "size": 10,
                            "solidity": 0.2
                          }
                        },
                        "type": "histogram"
                      }
                    ],
                    "scattergl": [
                      {
                        "type": "scattergl",
                        "marker": {
                          "colorbar": {
                            "outlinewidth": 0,
                            "ticks": ""
                          }
                        }
                      }
                    ],
                    "scatter3d": [
                      {
                        "type": "scatter3d",
                        "line": {
                          "colorbar": {
                            "outlinewidth": 0,
                            "ticks": ""
                          }
                        },
                        "marker": {
                          "colorbar": {
                            "outlinewidth": 0,
                            "ticks": ""
                          }
                        }
                      }
                    ],
                    "scattermapbox": [
                      {
                        "type": "scattermapbox",
                        "marker": {
                          "colorbar": {
                            "outlinewidth": 0,
                            "ticks": ""
                          }
                        }
                      }
                    ],
                    "scatterternary": [
                      {
                        "type": "scatterternary",
                        "marker": {
                          "colorbar": {
                            "outlinewidth": 0,
                            "ticks": ""
                          }
                        }
                      }
                    ],
                    "scattercarpet": [
                      {
                        "type": "scattercarpet",
                        "marker": {
                          "colorbar": {
                            "outlinewidth": 0,
                            "ticks": ""
                          }
                        }
                      }
                    ],
                    "carpet": [
                      {
                        "aaxis": {
                          "endlinecolor": "#2a3f5f",
                          "gridcolor": "white",
                          "linecolor": "white",
                          "minorgridcolor": "white",
                          "startlinecolor": "#2a3f5f"
                        },
                        "baxis": {
                          "endlinecolor": "#2a3f5f",
                          "gridcolor": "white",
                          "linecolor": "white",
                          "minorgridcolor": "white",
                          "startlinecolor": "#2a3f5f"
                        },
                        "type": "carpet"
                      }
                    ],
                    "table": [
                      {
                        "cells": {
                          "fill": {
                            "color": "#EBF0F8"
                          },
                          "line": {
                            "color": "white"
                          }
                        },
                        "header": {
                          "fill": {
                            "color": "#C8D4E3"
                          },
                          "line": {
                            "color": "white"
                          }
                        },
                        "type": "table"
                      }
                    ],
                    "barpolar": [
                      {
                        "marker": {
                          "line": {
                            "color": "#E5ECF6",
                            "width": 0.5
                          },
                          "pattern": {
                            "fillmode": "overlay",
                            "size": 10,
                            "solidity": 0.2
                          }
                        },
                        "type": "barpolar"
                      }
                    ],
                    "pie": [
                      {
                        "automargin": true,
                        "type": "pie"
                      }
                    ]
                  },
                  "layout": {
                    "autotypenumbers": "strict",
                    "colorway": [
                      "#636efa",
                      "#EF553B",
                      "#00cc96",
                      "#ab63fa",
                      "#FFA15A",
                      "#19d3f3",
                      "#FF6692",
                      "#B6E880",
                      "#FF97FF",
                      "#FECB52"
                    ],
                    "font": {
                      "color": "#2a3f5f"
                    },
                    "hovermode": "closest",
                    "hoverlabel": {
                      "align": "left"
                    },
                    "paper_bgcolor": "white",
                    "plot_bgcolor": "#E5ECF6",
                    "polar": {
                      "bgcolor": "#E5ECF6",
                      "angularaxis": {
                        "gridcolor": "white",
                        "linecolor": "white",
                        "ticks": ""
                      },
                      "radialaxis": {
                        "gridcolor": "white",
                        "linecolor": "white",
                        "ticks": ""
                      }
                    },
                    "ternary": {
                      "bgcolor": "#E5ECF6",
                      "aaxis": {
                        "gridcolor": "white",
                        "linecolor": "white",
                        "ticks": ""
                      },
                      "baxis": {
                        "gridcolor": "white",
                        "linecolor": "white",
                        "ticks": ""
                      },
                      "caxis": {
                        "gridcolor": "white",
                        "linecolor": "white",
                        "ticks": ""
                      }
                    },
                    "coloraxis": {
                      "colorbar": {
                        "outlinewidth": 0,
                        "ticks": ""
                      }
                    },
                    "colorscale": {
                      "sequential": [
                        [
                          0,
                          "#0d0887"
                        ],
                        [
                          0.1111111111111111,
                          "#46039f"
                        ],
                        [
                          0.2222222222222222,
                          "#7201a8"
                        ],
                        [
                          0.3333333333333333,
                          "#9c179e"
                        ],
                        [
                          0.4444444444444444,
                          "#bd3786"
                        ],
                        [
                          0.5555555555555556,
                          "#d8576b"
                        ],
                        [
                          0.6666666666666666,
                          "#ed7953"
                        ],
                        [
                          0.7777777777777778,
                          "#fb9f3a"
                        ],
                        [
                          0.8888888888888888,
                          "#fdca26"
                        ],
                        [
                          1,
                          "#f0f921"
                        ]
                      ],
                      "sequentialminus": [
                        [
                          0,
                          "#0d0887"
                        ],
                        [
                          0.1111111111111111,
                          "#46039f"
                        ],
                        [
                          0.2222222222222222,
                          "#7201a8"
                        ],
                        [
                          0.3333333333333333,
                          "#9c179e"
                        ],
                        [
                          0.4444444444444444,
                          "#bd3786"
                        ],
                        [
                          0.5555555555555556,
                          "#d8576b"
                        ],
                        [
                          0.6666666666666666,
                          "#ed7953"
                        ],
                        [
                          0.7777777777777778,
                          "#fb9f3a"
                        ],
                        [
                          0.8888888888888888,
                          "#fdca26"
                        ],
                        [
                          1,
                          "#f0f921"
                        ]
                      ],
                      "diverging": [
                        [
                          0,
                          "#8e0152"
                        ],
                        [
                          0.1,
                          "#c51b7d"
                        ],
                        [
                          0.2,
                          "#de77ae"
                        ],
                        [
                          0.3,
                          "#f1b6da"
                        ],
                        [
                          0.4,
                          "#fde0ef"
                        ],
                        [
                          0.5,
                          "#f7f7f7"
                        ],
                        [
                          0.6,
                          "#e6f5d0"
                        ],
                        [
                          0.7,
                          "#b8e186"
                        ],
                        [
                          0.8,
                          "#7fbc41"
                        ],
                        [
                          0.9,
                          "#4d9221"
                        ],
                        [
                          1,
                          "#276419"
                        ]
                      ]
                    },
                    "xaxis": {
                      "gridcolor": "white",
                      "linecolor": "white",
                      "ticks": "",
                      "title": {
                        "standoff": 15
                      },
                      "zerolinecolor": "white",
                      "automargin": true,
                      "zerolinewidth": 2
                    },
                    "yaxis": {
                      "gridcolor": "white",
                      "linecolor": "white",
                      "ticks": "",
                      "title": {
                        "standoff": 15
                      },
                      "zerolinecolor": "white",
                      "automargin": true,
                      "zerolinewidth": 2
                    },
                    "scene": {
                      "xaxis": {
                        "backgroundcolor": "#E5ECF6",
                        "gridcolor": "white",
                        "linecolor": "white",
                        "showbackground": true,
                        "ticks": "",
                        "zerolinecolor": "white",
                        "gridwidth": 2
                      },
                      "yaxis": {
                        "backgroundcolor": "#E5ECF6",
                        "gridcolor": "white",
                        "linecolor": "white",
                        "showbackground": true,
                        "ticks": "",
                        "zerolinecolor": "white",
                        "gridwidth": 2
                      },
                      "zaxis": {
                        "backgroundcolor": "#E5ECF6",
                        "gridcolor": "white",
                        "linecolor": "white",
                        "showbackground": true,
                        "ticks": "",
                        "zerolinecolor": "white",
                        "gridwidth": 2
                      }
                    },
                    "shapedefaults": {
                      "line": {
                        "color": "#2a3f5f"
                      }
                    },
                    "annotationdefaults": {
                      "arrowcolor": "#2a3f5f",
                      "arrowhead": 0,
                      "arrowwidth": 1
                    },
                    "geo": {
                      "bgcolor": "white",
                      "landcolor": "#E5ECF6",
                      "subunitcolor": "white",
                      "showland": true,
                      "showlakes": true,
                      "lakecolor": "white"
                    },
                    "title": {
                      "x": 0.05
                    },
                    "mapbox": {
                      "style": "light"
                    }
                  }
                },
                "title": {
                  "text": "Both | True & Pred"
                },
                "legend": {
                  "title": {
                    "text": "year"
                  }
                },
                "xaxis": {
                  "title": {
                    "text": "Age Groups"
                  }
                },
                "yaxis": {
                  "title": {
                    "text": "Population"
                  }
                }
              },
              "config": {
                "plotlyServerURL": "https://plot.ly"
              }
            }
          },
          "metadata": {},
          "output_type": "display_data"
        }
      ],
      "metadata": {
        "datalore": {
          "node_id": "X9NhJWpuDji273AZmUmXQ3",
          "type": "CODE",
          "hide_input_from_viewers": false,
          "hide_output_from_viewers": false,
          "report_properties": {
            "rowId": "QH4Klfl1BMZdgeEJkBMrZB"
          }
        },
        "id": "N6CowCmT6eG8",
        "outputId": "f562035d-b6e5-4638-d08f-014e0391feda"
      }
    },
    {
      "cell_type": "code",
      "source": [
        "raft(\n",
        "    df_true=both_cleaned_2010_2050_df,\n",
        "    df_pred=both_pred_2010_2050_df,\n",
        "    features=AGE_GROUPS,\n",
        "    years=both_pred_2010_2050_df[\"Year\"].unique()[6:9],\n",
        "    pltTitle=\"Both | True & Pred\",\n",
        "    yTitle=\"Population\"\n",
        ")"
      ],
      "execution_count": null,
      "outputs": [
        {
          "data": {
            "application/vnd.plotly.v1+json": {
              "data": [
                {
                  "line": {
                    "dash": "solid"
                  },
                  "mode": "lines",
                  "name": "2040",
                  "x": [
                    "0 - 4",
                    "5 - 9",
                    "10 - 14",
                    "15 - 19",
                    "20 - 24",
                    "25 - 29",
                    "30 - 34",
                    "35 - 39",
                    "40 - 44",
                    "45 - 49",
                    "50 - 54",
                    "55 - 59",
                    "60 - 64",
                    "65 - 69",
                    "70 - 74",
                    "75 - 79",
                    "80 - 84",
                    "85 - 89",
                    "90 - 94",
                    "95 - 99",
                    "100+"
                  ],
                  "y": [
                    1779.273,
                    1843.177,
                    1982.08,
                    2100.311,
                    2126.445,
                    2153.501,
                    2192.225,
                    2368.833,
                    3003.757,
                    3323.593,
                    3106.196,
                    3546.765,
                    3507.615,
                    3748.203,
                    3355.546,
                    2976.729,
                    2288.725,
                    1174.806,
                    562.519,
                    212.722,
                    0.29769538622461744
                  ],
                  "type": "scatter"
                },
                {
                  "line": {
                    "dash": "solid"
                  },
                  "mode": "lines",
                  "name": "2045",
                  "x": [
                    "0 - 4",
                    "5 - 9",
                    "10 - 14",
                    "15 - 19",
                    "20 - 24",
                    "25 - 29",
                    "30 - 34",
                    "35 - 39",
                    "40 - 44",
                    "45 - 49",
                    "50 - 54",
                    "55 - 59",
                    "60 - 64",
                    "65 - 69",
                    "70 - 74",
                    "75 - 79",
                    "80 - 84",
                    "85 - 89",
                    "90 - 94",
                    "95 - 99",
                    "100+"
                  ],
                  "y": [
                    1779.313,
                    1777.566,
                    1842.097,
                    1979.359,
                    2094.051,
                    2118.235,
                    2145.351,
                    2184.039,
                    2358.522,
                    2985.761,
                    3293.28,
                    3059.784,
                    3459.608,
                    3368.845,
                    3501.051,
                    2984.899,
                    2451.803,
                    1675.309,
                    719.869,
                    263.558,
                    0.3212079615648593
                  ],
                  "type": "scatter"
                },
                {
                  "line": {
                    "dash": "solid"
                  },
                  "mode": "lines",
                  "name": "2050",
                  "x": [
                    "0 - 4",
                    "5 - 9",
                    "10 - 14",
                    "15 - 19",
                    "20 - 24",
                    "25 - 29",
                    "30 - 34",
                    "35 - 39",
                    "40 - 44",
                    "45 - 49",
                    "50 - 54",
                    "55 - 59",
                    "60 - 64",
                    "65 - 69",
                    "70 - 74",
                    "75 - 79",
                    "80 - 84",
                    "85 - 89",
                    "90 - 94",
                    "95 - 99",
                    "100+"
                  ],
                  "y": [
                    1799.76,
                    1777.651,
                    1776.54,
                    1839.492,
                    1973.319,
                    2086.033,
                    2110.324,
                    2137.546,
                    2174.843,
                    2344.983,
                    2960.247,
                    3247.044,
                    2988.314,
                    3329.901,
                    3157.788,
                    3133.271,
                    2481.636,
                    1822.506,
                    1051.228,
                    347.522,
                    0.3363168638402173
                  ],
                  "type": "scatter"
                },
                {
                  "line": {
                    "dash": "dot"
                  },
                  "mode": "lines",
                  "name": "2040-pred",
                  "x": [
                    "0 - 4",
                    "5 - 9",
                    "10 - 14",
                    "15 - 19",
                    "20 - 24",
                    "25 - 29",
                    "30 - 34",
                    "35 - 39",
                    "40 - 44",
                    "45 - 49",
                    "50 - 54",
                    "55 - 59",
                    "60 - 64",
                    "65 - 69",
                    "70 - 74",
                    "75 - 79",
                    "80 - 84",
                    "85 - 89",
                    "90 - 94",
                    "95 - 99",
                    "100+"
                  ],
                  "y": [
                    1622.7680877673772,
                    1746.9874486392428,
                    1895.5915308909998,
                    1976.8209769661776,
                    2180.9921030245064,
                    2289.466014370414,
                    2439.231003253849,
                    2232.5980828476204,
                    2817.3289575417975,
                    3102.0387804857774,
                    2909.250397074582,
                    3368.3127910557914,
                    3394.640119579233,
                    3635.349691611103,
                    3170.6392998511174,
                    2632.5081372660115,
                    1780.2652749484964,
                    732.294533842268,
                    247.19630940951004,
                    58.27864311720843,
                    8.30615060387218
                  ],
                  "type": "scatter"
                },
                {
                  "line": {
                    "dash": "dot"
                  },
                  "mode": "lines",
                  "name": "2045-pred",
                  "x": [
                    "0 - 4",
                    "5 - 9",
                    "10 - 14",
                    "15 - 19",
                    "20 - 24",
                    "25 - 29",
                    "30 - 34",
                    "35 - 39",
                    "40 - 44",
                    "45 - 49",
                    "50 - 54",
                    "55 - 59",
                    "60 - 64",
                    "65 - 69",
                    "70 - 74",
                    "75 - 79",
                    "80 - 84",
                    "85 - 89",
                    "90 - 94",
                    "95 - 99",
                    "100+"
                  ],
                  "y": [
                    1553.5169975257754,
                    1617.0663511930647,
                    1741.549554914483,
                    1879.5143531605934,
                    1946.4599705534092,
                    2135.9286810883905,
                    2252.6491648094407,
                    2415.511608863123,
                    2209.981119003168,
                    2778.7370507498435,
                    3054.323330122391,
                    2861.9275901747123,
                    3274.001545481388,
                    3201.824981161767,
                    3249.0707537595445,
                    2576.8088973659715,
                    1840.7793681670914,
                    993.6589391437791,
                    295.7863182620623,
                    65.24978444221973,
                    8.871405243221842
                  ],
                  "type": "scatter"
                },
                {
                  "line": {
                    "dash": "dot"
                  },
                  "mode": "lines",
                  "name": "2050-pred",
                  "x": [
                    "0 - 4",
                    "5 - 9",
                    "10 - 14",
                    "15 - 19",
                    "20 - 24",
                    "25 - 29",
                    "30 - 34",
                    "35 - 39",
                    "40 - 44",
                    "45 - 49",
                    "50 - 54",
                    "55 - 59",
                    "60 - 64",
                    "65 - 69",
                    "70 - 74",
                    "75 - 79",
                    "80 - 84",
                    "85 - 89",
                    "90 - 94",
                    "95 - 99",
                    "100+"
                  ],
                  "y": [
                    1436.0832499202384,
                    1548.0585806698,
                    1612.0328662813545,
                    1726.7788613001735,
                    1850.6478306003287,
                    1906.2424260638304,
                    2101.5808618017063,
                    2230.744116090078,
                    2391.0416699416346,
                    2179.918287575942,
                    2736.305581038446,
                    3004.3951698219316,
                    2780.4412026323444,
                    3087.9037763782944,
                    2861.4339648414502,
                    2640.651007149596,
                    1800.9499393006422,
                    1027.6137511233942,
                    401.8705293596652,
                    78.06853571039339,
                    9.932453955418552
                  ],
                  "type": "scatter"
                }
              ],
              "layout": {
                "template": {
                  "data": {
                    "histogram2dcontour": [
                      {
                        "type": "histogram2dcontour",
                        "colorbar": {
                          "outlinewidth": 0,
                          "ticks": ""
                        },
                        "colorscale": [
                          [
                            0,
                            "#0d0887"
                          ],
                          [
                            0.1111111111111111,
                            "#46039f"
                          ],
                          [
                            0.2222222222222222,
                            "#7201a8"
                          ],
                          [
                            0.3333333333333333,
                            "#9c179e"
                          ],
                          [
                            0.4444444444444444,
                            "#bd3786"
                          ],
                          [
                            0.5555555555555556,
                            "#d8576b"
                          ],
                          [
                            0.6666666666666666,
                            "#ed7953"
                          ],
                          [
                            0.7777777777777778,
                            "#fb9f3a"
                          ],
                          [
                            0.8888888888888888,
                            "#fdca26"
                          ],
                          [
                            1,
                            "#f0f921"
                          ]
                        ]
                      }
                    ],
                    "choropleth": [
                      {
                        "type": "choropleth",
                        "colorbar": {
                          "outlinewidth": 0,
                          "ticks": ""
                        }
                      }
                    ],
                    "histogram2d": [
                      {
                        "type": "histogram2d",
                        "colorbar": {
                          "outlinewidth": 0,
                          "ticks": ""
                        },
                        "colorscale": [
                          [
                            0,
                            "#0d0887"
                          ],
                          [
                            0.1111111111111111,
                            "#46039f"
                          ],
                          [
                            0.2222222222222222,
                            "#7201a8"
                          ],
                          [
                            0.3333333333333333,
                            "#9c179e"
                          ],
                          [
                            0.4444444444444444,
                            "#bd3786"
                          ],
                          [
                            0.5555555555555556,
                            "#d8576b"
                          ],
                          [
                            0.6666666666666666,
                            "#ed7953"
                          ],
                          [
                            0.7777777777777778,
                            "#fb9f3a"
                          ],
                          [
                            0.8888888888888888,
                            "#fdca26"
                          ],
                          [
                            1,
                            "#f0f921"
                          ]
                        ]
                      }
                    ],
                    "heatmap": [
                      {
                        "type": "heatmap",
                        "colorbar": {
                          "outlinewidth": 0,
                          "ticks": ""
                        },
                        "colorscale": [
                          [
                            0,
                            "#0d0887"
                          ],
                          [
                            0.1111111111111111,
                            "#46039f"
                          ],
                          [
                            0.2222222222222222,
                            "#7201a8"
                          ],
                          [
                            0.3333333333333333,
                            "#9c179e"
                          ],
                          [
                            0.4444444444444444,
                            "#bd3786"
                          ],
                          [
                            0.5555555555555556,
                            "#d8576b"
                          ],
                          [
                            0.6666666666666666,
                            "#ed7953"
                          ],
                          [
                            0.7777777777777778,
                            "#fb9f3a"
                          ],
                          [
                            0.8888888888888888,
                            "#fdca26"
                          ],
                          [
                            1,
                            "#f0f921"
                          ]
                        ]
                      }
                    ],
                    "heatmapgl": [
                      {
                        "type": "heatmapgl",
                        "colorbar": {
                          "outlinewidth": 0,
                          "ticks": ""
                        },
                        "colorscale": [
                          [
                            0,
                            "#0d0887"
                          ],
                          [
                            0.1111111111111111,
                            "#46039f"
                          ],
                          [
                            0.2222222222222222,
                            "#7201a8"
                          ],
                          [
                            0.3333333333333333,
                            "#9c179e"
                          ],
                          [
                            0.4444444444444444,
                            "#bd3786"
                          ],
                          [
                            0.5555555555555556,
                            "#d8576b"
                          ],
                          [
                            0.6666666666666666,
                            "#ed7953"
                          ],
                          [
                            0.7777777777777778,
                            "#fb9f3a"
                          ],
                          [
                            0.8888888888888888,
                            "#fdca26"
                          ],
                          [
                            1,
                            "#f0f921"
                          ]
                        ]
                      }
                    ],
                    "contourcarpet": [
                      {
                        "type": "contourcarpet",
                        "colorbar": {
                          "outlinewidth": 0,
                          "ticks": ""
                        }
                      }
                    ],
                    "contour": [
                      {
                        "type": "contour",
                        "colorbar": {
                          "outlinewidth": 0,
                          "ticks": ""
                        },
                        "colorscale": [
                          [
                            0,
                            "#0d0887"
                          ],
                          [
                            0.1111111111111111,
                            "#46039f"
                          ],
                          [
                            0.2222222222222222,
                            "#7201a8"
                          ],
                          [
                            0.3333333333333333,
                            "#9c179e"
                          ],
                          [
                            0.4444444444444444,
                            "#bd3786"
                          ],
                          [
                            0.5555555555555556,
                            "#d8576b"
                          ],
                          [
                            0.6666666666666666,
                            "#ed7953"
                          ],
                          [
                            0.7777777777777778,
                            "#fb9f3a"
                          ],
                          [
                            0.8888888888888888,
                            "#fdca26"
                          ],
                          [
                            1,
                            "#f0f921"
                          ]
                        ]
                      }
                    ],
                    "surface": [
                      {
                        "type": "surface",
                        "colorbar": {
                          "outlinewidth": 0,
                          "ticks": ""
                        },
                        "colorscale": [
                          [
                            0,
                            "#0d0887"
                          ],
                          [
                            0.1111111111111111,
                            "#46039f"
                          ],
                          [
                            0.2222222222222222,
                            "#7201a8"
                          ],
                          [
                            0.3333333333333333,
                            "#9c179e"
                          ],
                          [
                            0.4444444444444444,
                            "#bd3786"
                          ],
                          [
                            0.5555555555555556,
                            "#d8576b"
                          ],
                          [
                            0.6666666666666666,
                            "#ed7953"
                          ],
                          [
                            0.7777777777777778,
                            "#fb9f3a"
                          ],
                          [
                            0.8888888888888888,
                            "#fdca26"
                          ],
                          [
                            1,
                            "#f0f921"
                          ]
                        ]
                      }
                    ],
                    "mesh3d": [
                      {
                        "type": "mesh3d",
                        "colorbar": {
                          "outlinewidth": 0,
                          "ticks": ""
                        }
                      }
                    ],
                    "scatter": [
                      {
                        "fillpattern": {
                          "fillmode": "overlay",
                          "size": 10,
                          "solidity": 0.2
                        },
                        "type": "scatter"
                      }
                    ],
                    "parcoords": [
                      {
                        "type": "parcoords",
                        "line": {
                          "colorbar": {
                            "outlinewidth": 0,
                            "ticks": ""
                          }
                        }
                      }
                    ],
                    "scatterpolargl": [
                      {
                        "type": "scatterpolargl",
                        "marker": {
                          "colorbar": {
                            "outlinewidth": 0,
                            "ticks": ""
                          }
                        }
                      }
                    ],
                    "bar": [
                      {
                        "error_x": {
                          "color": "#2a3f5f"
                        },
                        "error_y": {
                          "color": "#2a3f5f"
                        },
                        "marker": {
                          "line": {
                            "color": "#E5ECF6",
                            "width": 0.5
                          },
                          "pattern": {
                            "fillmode": "overlay",
                            "size": 10,
                            "solidity": 0.2
                          }
                        },
                        "type": "bar"
                      }
                    ],
                    "scattergeo": [
                      {
                        "type": "scattergeo",
                        "marker": {
                          "colorbar": {
                            "outlinewidth": 0,
                            "ticks": ""
                          }
                        }
                      }
                    ],
                    "scatterpolar": [
                      {
                        "type": "scatterpolar",
                        "marker": {
                          "colorbar": {
                            "outlinewidth": 0,
                            "ticks": ""
                          }
                        }
                      }
                    ],
                    "histogram": [
                      {
                        "marker": {
                          "pattern": {
                            "fillmode": "overlay",
                            "size": 10,
                            "solidity": 0.2
                          }
                        },
                        "type": "histogram"
                      }
                    ],
                    "scattergl": [
                      {
                        "type": "scattergl",
                        "marker": {
                          "colorbar": {
                            "outlinewidth": 0,
                            "ticks": ""
                          }
                        }
                      }
                    ],
                    "scatter3d": [
                      {
                        "type": "scatter3d",
                        "line": {
                          "colorbar": {
                            "outlinewidth": 0,
                            "ticks": ""
                          }
                        },
                        "marker": {
                          "colorbar": {
                            "outlinewidth": 0,
                            "ticks": ""
                          }
                        }
                      }
                    ],
                    "scattermapbox": [
                      {
                        "type": "scattermapbox",
                        "marker": {
                          "colorbar": {
                            "outlinewidth": 0,
                            "ticks": ""
                          }
                        }
                      }
                    ],
                    "scatterternary": [
                      {
                        "type": "scatterternary",
                        "marker": {
                          "colorbar": {
                            "outlinewidth": 0,
                            "ticks": ""
                          }
                        }
                      }
                    ],
                    "scattercarpet": [
                      {
                        "type": "scattercarpet",
                        "marker": {
                          "colorbar": {
                            "outlinewidth": 0,
                            "ticks": ""
                          }
                        }
                      }
                    ],
                    "carpet": [
                      {
                        "aaxis": {
                          "endlinecolor": "#2a3f5f",
                          "gridcolor": "white",
                          "linecolor": "white",
                          "minorgridcolor": "white",
                          "startlinecolor": "#2a3f5f"
                        },
                        "baxis": {
                          "endlinecolor": "#2a3f5f",
                          "gridcolor": "white",
                          "linecolor": "white",
                          "minorgridcolor": "white",
                          "startlinecolor": "#2a3f5f"
                        },
                        "type": "carpet"
                      }
                    ],
                    "table": [
                      {
                        "cells": {
                          "fill": {
                            "color": "#EBF0F8"
                          },
                          "line": {
                            "color": "white"
                          }
                        },
                        "header": {
                          "fill": {
                            "color": "#C8D4E3"
                          },
                          "line": {
                            "color": "white"
                          }
                        },
                        "type": "table"
                      }
                    ],
                    "barpolar": [
                      {
                        "marker": {
                          "line": {
                            "color": "#E5ECF6",
                            "width": 0.5
                          },
                          "pattern": {
                            "fillmode": "overlay",
                            "size": 10,
                            "solidity": 0.2
                          }
                        },
                        "type": "barpolar"
                      }
                    ],
                    "pie": [
                      {
                        "automargin": true,
                        "type": "pie"
                      }
                    ]
                  },
                  "layout": {
                    "autotypenumbers": "strict",
                    "colorway": [
                      "#636efa",
                      "#EF553B",
                      "#00cc96",
                      "#ab63fa",
                      "#FFA15A",
                      "#19d3f3",
                      "#FF6692",
                      "#B6E880",
                      "#FF97FF",
                      "#FECB52"
                    ],
                    "font": {
                      "color": "#2a3f5f"
                    },
                    "hovermode": "closest",
                    "hoverlabel": {
                      "align": "left"
                    },
                    "paper_bgcolor": "white",
                    "plot_bgcolor": "#E5ECF6",
                    "polar": {
                      "bgcolor": "#E5ECF6",
                      "angularaxis": {
                        "gridcolor": "white",
                        "linecolor": "white",
                        "ticks": ""
                      },
                      "radialaxis": {
                        "gridcolor": "white",
                        "linecolor": "white",
                        "ticks": ""
                      }
                    },
                    "ternary": {
                      "bgcolor": "#E5ECF6",
                      "aaxis": {
                        "gridcolor": "white",
                        "linecolor": "white",
                        "ticks": ""
                      },
                      "baxis": {
                        "gridcolor": "white",
                        "linecolor": "white",
                        "ticks": ""
                      },
                      "caxis": {
                        "gridcolor": "white",
                        "linecolor": "white",
                        "ticks": ""
                      }
                    },
                    "coloraxis": {
                      "colorbar": {
                        "outlinewidth": 0,
                        "ticks": ""
                      }
                    },
                    "colorscale": {
                      "sequential": [
                        [
                          0,
                          "#0d0887"
                        ],
                        [
                          0.1111111111111111,
                          "#46039f"
                        ],
                        [
                          0.2222222222222222,
                          "#7201a8"
                        ],
                        [
                          0.3333333333333333,
                          "#9c179e"
                        ],
                        [
                          0.4444444444444444,
                          "#bd3786"
                        ],
                        [
                          0.5555555555555556,
                          "#d8576b"
                        ],
                        [
                          0.6666666666666666,
                          "#ed7953"
                        ],
                        [
                          0.7777777777777778,
                          "#fb9f3a"
                        ],
                        [
                          0.8888888888888888,
                          "#fdca26"
                        ],
                        [
                          1,
                          "#f0f921"
                        ]
                      ],
                      "sequentialminus": [
                        [
                          0,
                          "#0d0887"
                        ],
                        [
                          0.1111111111111111,
                          "#46039f"
                        ],
                        [
                          0.2222222222222222,
                          "#7201a8"
                        ],
                        [
                          0.3333333333333333,
                          "#9c179e"
                        ],
                        [
                          0.4444444444444444,
                          "#bd3786"
                        ],
                        [
                          0.5555555555555556,
                          "#d8576b"
                        ],
                        [
                          0.6666666666666666,
                          "#ed7953"
                        ],
                        [
                          0.7777777777777778,
                          "#fb9f3a"
                        ],
                        [
                          0.8888888888888888,
                          "#fdca26"
                        ],
                        [
                          1,
                          "#f0f921"
                        ]
                      ],
                      "diverging": [
                        [
                          0,
                          "#8e0152"
                        ],
                        [
                          0.1,
                          "#c51b7d"
                        ],
                        [
                          0.2,
                          "#de77ae"
                        ],
                        [
                          0.3,
                          "#f1b6da"
                        ],
                        [
                          0.4,
                          "#fde0ef"
                        ],
                        [
                          0.5,
                          "#f7f7f7"
                        ],
                        [
                          0.6,
                          "#e6f5d0"
                        ],
                        [
                          0.7,
                          "#b8e186"
                        ],
                        [
                          0.8,
                          "#7fbc41"
                        ],
                        [
                          0.9,
                          "#4d9221"
                        ],
                        [
                          1,
                          "#276419"
                        ]
                      ]
                    },
                    "xaxis": {
                      "gridcolor": "white",
                      "linecolor": "white",
                      "ticks": "",
                      "title": {
                        "standoff": 15
                      },
                      "zerolinecolor": "white",
                      "automargin": true,
                      "zerolinewidth": 2
                    },
                    "yaxis": {
                      "gridcolor": "white",
                      "linecolor": "white",
                      "ticks": "",
                      "title": {
                        "standoff": 15
                      },
                      "zerolinecolor": "white",
                      "automargin": true,
                      "zerolinewidth": 2
                    },
                    "scene": {
                      "xaxis": {
                        "backgroundcolor": "#E5ECF6",
                        "gridcolor": "white",
                        "linecolor": "white",
                        "showbackground": true,
                        "ticks": "",
                        "zerolinecolor": "white",
                        "gridwidth": 2
                      },
                      "yaxis": {
                        "backgroundcolor": "#E5ECF6",
                        "gridcolor": "white",
                        "linecolor": "white",
                        "showbackground": true,
                        "ticks": "",
                        "zerolinecolor": "white",
                        "gridwidth": 2
                      },
                      "zaxis": {
                        "backgroundcolor": "#E5ECF6",
                        "gridcolor": "white",
                        "linecolor": "white",
                        "showbackground": true,
                        "ticks": "",
                        "zerolinecolor": "white",
                        "gridwidth": 2
                      }
                    },
                    "shapedefaults": {
                      "line": {
                        "color": "#2a3f5f"
                      }
                    },
                    "annotationdefaults": {
                      "arrowcolor": "#2a3f5f",
                      "arrowhead": 0,
                      "arrowwidth": 1
                    },
                    "geo": {
                      "bgcolor": "white",
                      "landcolor": "#E5ECF6",
                      "subunitcolor": "white",
                      "showland": true,
                      "showlakes": true,
                      "lakecolor": "white"
                    },
                    "title": {
                      "x": 0.05
                    },
                    "mapbox": {
                      "style": "light"
                    }
                  }
                },
                "title": {
                  "text": "Both | True & Pred"
                },
                "legend": {
                  "title": {
                    "text": "year"
                  }
                },
                "xaxis": {
                  "title": {
                    "text": "Age Groups"
                  }
                },
                "yaxis": {
                  "title": {
                    "text": "Population"
                  }
                }
              },
              "config": {
                "plotlyServerURL": "https://plot.ly"
              }
            }
          },
          "metadata": {},
          "output_type": "display_data"
        }
      ],
      "metadata": {
        "datalore": {
          "node_id": "o437LSgMyNBaRtgTANx0pq",
          "type": "CODE",
          "hide_input_from_viewers": false,
          "hide_output_from_viewers": false,
          "report_properties": {
            "rowId": "rcpxRoTCRRSoj07w53jSOf"
          }
        },
        "id": "7V1y4KCh6eG8",
        "outputId": "8ff035d0-2620-4219-839c-a6fead5ede9b"
      }
    },
    {
      "cell_type": "markdown",
      "source": [
        "## Males"
      ],
      "metadata": {
        "datalore": {
          "node_id": "QCBOGsDxoTLRzS5lKC56xu",
          "type": "MD",
          "hide_input_from_viewers": false,
          "hide_output_from_viewers": false,
          "report_properties": {
            "rowId": "lFMv9FhnsvNsarhJVqbdwV"
          }
        },
        "id": "7sQzmdZO6eG8"
      }
    },
    {
      "cell_type": "code",
      "source": [
        "m_2010_2050_df = pd.read_excel(\n",
        "    \"/data/notebook_files/age_data_2005.xlsx\",\n",
        "    sheet_name=\"m; 2010-50, medium-fertility\"\n",
        ")"
      ],
      "execution_count": null,
      "outputs": [],
      "metadata": {
        "datalore": {
          "node_id": "6wqe3qBif55N96XEUqkiqd",
          "type": "CODE",
          "hide_input_from_viewers": false,
          "hide_output_from_viewers": false,
          "report_properties": {
            "rowId": "kYIyQvQF8xnOmNEr0dVPGc"
          }
        },
        "id": "bQFBsman6eG8"
      }
    },
    {
      "cell_type": "code",
      "source": [
        "m_cleaned_2010_2050_df = dfPreprocessing(m_2010_2050_df, REGION, YEARS_2010_2050)\n",
        "m_cleaned_2010_2050_df[\"FR\"] = m_cleaned_2010_2050_df[AGE_GROUPS[0]]/m_cleaned_2010_2050_df[AGE_GROUPS[n1:n2]].sum(axis=1)"
      ],
      "execution_count": null,
      "outputs": [],
      "metadata": {
        "datalore": {
          "node_id": "PJrVfzO7rSW3hdevC8pTEb",
          "type": "CODE",
          "hide_input_from_viewers": true,
          "hide_output_from_viewers": true
        },
        "id": "_XBEXrRR6eHB"
      }
    },
    {
      "cell_type": "code",
      "source": [
        "raft(m_cleaned_2010_2050_df, features=AGE_GROUPS, years=m_cleaned_2010_2050_df[\"Year\"].unique(), pltTitle=\"Men\", yTitle=\"Population\")"
      ],
      "execution_count": null,
      "outputs": [
        {
          "data": {
            "application/vnd.plotly.v1+json": {
              "data": [
                {
                  "line": {
                    "dash": "solid"
                  },
                  "mode": "lines",
                  "name": "2010",
                  "x": [
                    "0 - 4",
                    "5 - 9",
                    "10 - 14",
                    "15 - 19",
                    "20 - 24",
                    "25 - 29",
                    "30 - 34",
                    "35 - 39",
                    "40 - 44",
                    "45 - 49",
                    "50 - 54",
                    "55 - 59",
                    "60 - 64",
                    "65 - 69",
                    "70 - 74",
                    "75 - 79",
                    "80 - 84",
                    "85 - 89",
                    "90 - 94",
                    "95 - 99",
                    "100+"
                  ],
                  "y": [
                    1139.016,
                    1246.032,
                    1605.797,
                    1805.207,
                    1689.157,
                    1908.499,
                    1927.909,
                    2142.527,
                    2060.343,
                    2049.311,
                    1929.273,
                    1385.418,
                    1092.418,
                    896.869,
                    711.379,
                    405.56,
                    177.525,
                    69.362,
                    16.097,
                    2.148,
                    0.184
                  ],
                  "type": "scatter"
                },
                {
                  "line": {
                    "dash": "solid"
                  },
                  "mode": "lines",
                  "name": "2015",
                  "x": [
                    "0 - 4",
                    "5 - 9",
                    "10 - 14",
                    "15 - 19",
                    "20 - 24",
                    "25 - 29",
                    "30 - 34",
                    "35 - 39",
                    "40 - 44",
                    "45 - 49",
                    "50 - 54",
                    "55 - 59",
                    "60 - 64",
                    "65 - 69",
                    "70 - 74",
                    "75 - 79",
                    "80 - 84",
                    "85 - 89",
                    "90 - 94",
                    "95 - 99",
                    "100+"
                  ],
                  "y": [
                    1114.317,
                    1137.575,
                    1244.881,
                    1602.7,
                    1798.132,
                    1680.85,
                    1899.097,
                    1916.505,
                    2124.189,
                    2031.836,
                    2005.136,
                    1860.248,
                    1304.919,
                    997.947,
                    772.963,
                    551.913,
                    265.353,
                    89.468,
                    24.258,
                    3.526,
                    0.1270949720670391
                  ],
                  "type": "scatter"
                },
                {
                  "line": {
                    "dash": "solid"
                  },
                  "mode": "lines",
                  "name": "2020",
                  "x": [
                    "0 - 4",
                    "5 - 9",
                    "10 - 14",
                    "15 - 19",
                    "20 - 24",
                    "25 - 29",
                    "30 - 34",
                    "35 - 39",
                    "40 - 44",
                    "45 - 49",
                    "50 - 54",
                    "55 - 59",
                    "60 - 64",
                    "65 - 69",
                    "70 - 74",
                    "75 - 79",
                    "80 - 84",
                    "85 - 89",
                    "90 - 94",
                    "95 - 99",
                    "100+"
                  ],
                  "y": [
                    1095.709,
                    1112.989,
                    1136.589,
                    1242.428,
                    1596.607,
                    1790.045,
                    1672.653,
                    1888.628,
                    1901.35,
                    2097.725,
                    1992.479,
                    1940.86,
                    1763.086,
                    1202.059,
                    871.244,
                    612.39,
                    373.991,
                    141.131,
                    33.604,
                    5.742,
                    0.13301191151446398
                  ],
                  "type": "scatter"
                },
                {
                  "line": {
                    "dash": "solid"
                  },
                  "mode": "lines",
                  "name": "2025",
                  "x": [
                    "0 - 4",
                    "5 - 9",
                    "10 - 14",
                    "15 - 19",
                    "20 - 24",
                    "25 - 29",
                    "30 - 34",
                    "35 - 39",
                    "40 - 44",
                    "45 - 49",
                    "50 - 54",
                    "55 - 59",
                    "60 - 64",
                    "65 - 69",
                    "70 - 74",
                    "75 - 79",
                    "80 - 84",
                    "85 - 89",
                    "90 - 94",
                    "95 - 99",
                    "100+"
                  ],
                  "y": [
                    1078.776,
                    1094.476,
                    1112.094,
                    1134.418,
                    1237.375,
                    1589.383,
                    1781.955,
                    1663.734,
                    1874.835,
                    1879.705,
                    2060.969,
                    1934.851,
                    1849.081,
                    1635.699,
                    1061.02,
                    702.544,
                    427.249,
                    207.899,
                    56.157,
                    8.467,
                    0.13932427725531174
                  ],
                  "type": "scatter"
                },
                {
                  "line": {
                    "dash": "solid"
                  },
                  "mode": "lines",
                  "name": "2030",
                  "x": [
                    "0 - 4",
                    "5 - 9",
                    "10 - 14",
                    "15 - 19",
                    "20 - 24",
                    "25 - 29",
                    "30 - 34",
                    "35 - 39",
                    "40 - 44",
                    "45 - 49",
                    "50 - 54",
                    "55 - 59",
                    "60 - 64",
                    "65 - 69",
                    "70 - 74",
                    "75 - 79",
                    "80 - 84",
                    "85 - 89",
                    "90 - 94",
                    "95 - 99",
                    "100+"
                  ],
                  "y": [
                    1016.592,
                    1077.603,
                    1093.646,
                    1110.049,
                    1129.749,
                    1231.133,
                    1582.127,
                    1773.108,
                    1652.199,
                    1855.121,
                    1849.322,
                    2006.234,
                    1850.571,
                    1724.818,
                    1456.218,
                    868.002,
                    501.824,
                    246.521,
                    87.267,
                    15.101,
                    0.14904925002952638
                  ],
                  "type": "scatter"
                },
                {
                  "line": {
                    "dash": "solid"
                  },
                  "mode": "lines",
                  "name": "2035",
                  "x": [
                    "0 - 4",
                    "5 - 9",
                    "10 - 14",
                    "15 - 19",
                    "20 - 24",
                    "25 - 29",
                    "30 - 34",
                    "35 - 39",
                    "40 - 44",
                    "45 - 49",
                    "50 - 54",
                    "55 - 59",
                    "60 - 64",
                    "65 - 69",
                    "70 - 74",
                    "75 - 79",
                    "80 - 84",
                    "85 - 89",
                    "90 - 94",
                    "95 - 99",
                    "100+"
                  ],
                  "y": [
                    944.766,
                    1015.496,
                    1076.824,
                    1091.695,
                    1105.571,
                    1123.874,
                    1224.95,
                    1574.35,
                    1761.603,
                    1635.833,
                    1827.166,
                    1803.596,
                    1924.779,
                    1733.665,
                    1546.059,
                    1205.103,
                    631.682,
                    298.197,
                    107.94,
                    24.709,
                    0.15442685914840074
                  ],
                  "type": "scatter"
                },
                {
                  "line": {
                    "dash": "solid"
                  },
                  "mode": "lines",
                  "name": "2040",
                  "x": [
                    "0 - 4",
                    "5 - 9",
                    "10 - 14",
                    "15 - 19",
                    "20 - 24",
                    "25 - 29",
                    "30 - 34",
                    "35 - 39",
                    "40 - 44",
                    "45 - 49",
                    "50 - 54",
                    "55 - 59",
                    "60 - 64",
                    "65 - 69",
                    "70 - 74",
                    "75 - 79",
                    "80 - 84",
                    "85 - 89",
                    "90 - 94",
                    "95 - 99",
                    "100+"
                  ],
                  "y": [
                    911.1,
                    943.746,
                    1014.783,
                    1074.956,
                    1087.38,
                    1099.878,
                    1118.092,
                    1218.627,
                    1564.492,
                    1745.315,
                    1612.721,
                    1785.06,
                    1735.18,
                    1810.296,
                    1563.672,
                    1292.858,
                    891.884,
                    385.37,
                    135.532,
                    31.976,
                    0.16228904447772066
                  ],
                  "type": "scatter"
                },
                {
                  "line": {
                    "dash": "solid"
                  },
                  "mode": "lines",
                  "name": "2045",
                  "x": [
                    "0 - 4",
                    "5 - 9",
                    "10 - 14",
                    "15 - 19",
                    "20 - 24",
                    "25 - 29",
                    "30 - 34",
                    "35 - 39",
                    "40 - 44",
                    "45 - 49",
                    "50 - 54",
                    "55 - 59",
                    "60 - 64",
                    "65 - 69",
                    "70 - 74",
                    "75 - 79",
                    "80 - 84",
                    "85 - 89",
                    "90 - 94",
                    "95 - 99",
                    "100+"
                  ],
                  "y": [
                    911.103,
                    910.129,
                    943.096,
                    1013.017,
                    1070.791,
                    1081.847,
                    1094.286,
                    1112.315,
                    1211.013,
                    1550.802,
                    1722.324,
                    1578.049,
                    1721.856,
                    1638.021,
                    1642.396,
                    1320.444,
                    971.972,
                    557.556,
                    181.262,
                    41.84,
                    0.17309857393044784
                  ],
                  "type": "scatter"
                },
                {
                  "line": {
                    "dash": "solid"
                  },
                  "mode": "lines",
                  "name": "2050",
                  "x": [
                    "0 - 4",
                    "5 - 9",
                    "10 - 14",
                    "15 - 19",
                    "20 - 24",
                    "25 - 29",
                    "30 - 34",
                    "35 - 39",
                    "40 - 44",
                    "45 - 49",
                    "50 - 54",
                    "55 - 59",
                    "60 - 64",
                    "65 - 69",
                    "70 - 74",
                    "75 - 79",
                    "80 - 84",
                    "85 - 89",
                    "90 - 94",
                    "95 - 99",
                    "100+"
                  ],
                  "y": [
                    921.555,
                    910.156,
                    909.515,
                    941.412,
                    1009.011,
                    1065.392,
                    1076.417,
                    1088.77,
                    1105.554,
                    1200.805,
                    1531.587,
                    1687.741,
                    1525.684,
                    1630.895,
                    1494.103,
                    1399.687,
                    1007.797,
                    622.623,
                    272.036,
                    58.738,
                    0.1827676864244742
                  ],
                  "type": "scatter"
                }
              ],
              "layout": {
                "template": {
                  "data": {
                    "histogram2dcontour": [
                      {
                        "type": "histogram2dcontour",
                        "colorbar": {
                          "outlinewidth": 0,
                          "ticks": ""
                        },
                        "colorscale": [
                          [
                            0,
                            "#0d0887"
                          ],
                          [
                            0.1111111111111111,
                            "#46039f"
                          ],
                          [
                            0.2222222222222222,
                            "#7201a8"
                          ],
                          [
                            0.3333333333333333,
                            "#9c179e"
                          ],
                          [
                            0.4444444444444444,
                            "#bd3786"
                          ],
                          [
                            0.5555555555555556,
                            "#d8576b"
                          ],
                          [
                            0.6666666666666666,
                            "#ed7953"
                          ],
                          [
                            0.7777777777777778,
                            "#fb9f3a"
                          ],
                          [
                            0.8888888888888888,
                            "#fdca26"
                          ],
                          [
                            1,
                            "#f0f921"
                          ]
                        ]
                      }
                    ],
                    "choropleth": [
                      {
                        "type": "choropleth",
                        "colorbar": {
                          "outlinewidth": 0,
                          "ticks": ""
                        }
                      }
                    ],
                    "histogram2d": [
                      {
                        "type": "histogram2d",
                        "colorbar": {
                          "outlinewidth": 0,
                          "ticks": ""
                        },
                        "colorscale": [
                          [
                            0,
                            "#0d0887"
                          ],
                          [
                            0.1111111111111111,
                            "#46039f"
                          ],
                          [
                            0.2222222222222222,
                            "#7201a8"
                          ],
                          [
                            0.3333333333333333,
                            "#9c179e"
                          ],
                          [
                            0.4444444444444444,
                            "#bd3786"
                          ],
                          [
                            0.5555555555555556,
                            "#d8576b"
                          ],
                          [
                            0.6666666666666666,
                            "#ed7953"
                          ],
                          [
                            0.7777777777777778,
                            "#fb9f3a"
                          ],
                          [
                            0.8888888888888888,
                            "#fdca26"
                          ],
                          [
                            1,
                            "#f0f921"
                          ]
                        ]
                      }
                    ],
                    "heatmap": [
                      {
                        "type": "heatmap",
                        "colorbar": {
                          "outlinewidth": 0,
                          "ticks": ""
                        },
                        "colorscale": [
                          [
                            0,
                            "#0d0887"
                          ],
                          [
                            0.1111111111111111,
                            "#46039f"
                          ],
                          [
                            0.2222222222222222,
                            "#7201a8"
                          ],
                          [
                            0.3333333333333333,
                            "#9c179e"
                          ],
                          [
                            0.4444444444444444,
                            "#bd3786"
                          ],
                          [
                            0.5555555555555556,
                            "#d8576b"
                          ],
                          [
                            0.6666666666666666,
                            "#ed7953"
                          ],
                          [
                            0.7777777777777778,
                            "#fb9f3a"
                          ],
                          [
                            0.8888888888888888,
                            "#fdca26"
                          ],
                          [
                            1,
                            "#f0f921"
                          ]
                        ]
                      }
                    ],
                    "heatmapgl": [
                      {
                        "type": "heatmapgl",
                        "colorbar": {
                          "outlinewidth": 0,
                          "ticks": ""
                        },
                        "colorscale": [
                          [
                            0,
                            "#0d0887"
                          ],
                          [
                            0.1111111111111111,
                            "#46039f"
                          ],
                          [
                            0.2222222222222222,
                            "#7201a8"
                          ],
                          [
                            0.3333333333333333,
                            "#9c179e"
                          ],
                          [
                            0.4444444444444444,
                            "#bd3786"
                          ],
                          [
                            0.5555555555555556,
                            "#d8576b"
                          ],
                          [
                            0.6666666666666666,
                            "#ed7953"
                          ],
                          [
                            0.7777777777777778,
                            "#fb9f3a"
                          ],
                          [
                            0.8888888888888888,
                            "#fdca26"
                          ],
                          [
                            1,
                            "#f0f921"
                          ]
                        ]
                      }
                    ],
                    "contourcarpet": [
                      {
                        "type": "contourcarpet",
                        "colorbar": {
                          "outlinewidth": 0,
                          "ticks": ""
                        }
                      }
                    ],
                    "contour": [
                      {
                        "type": "contour",
                        "colorbar": {
                          "outlinewidth": 0,
                          "ticks": ""
                        },
                        "colorscale": [
                          [
                            0,
                            "#0d0887"
                          ],
                          [
                            0.1111111111111111,
                            "#46039f"
                          ],
                          [
                            0.2222222222222222,
                            "#7201a8"
                          ],
                          [
                            0.3333333333333333,
                            "#9c179e"
                          ],
                          [
                            0.4444444444444444,
                            "#bd3786"
                          ],
                          [
                            0.5555555555555556,
                            "#d8576b"
                          ],
                          [
                            0.6666666666666666,
                            "#ed7953"
                          ],
                          [
                            0.7777777777777778,
                            "#fb9f3a"
                          ],
                          [
                            0.8888888888888888,
                            "#fdca26"
                          ],
                          [
                            1,
                            "#f0f921"
                          ]
                        ]
                      }
                    ],
                    "surface": [
                      {
                        "type": "surface",
                        "colorbar": {
                          "outlinewidth": 0,
                          "ticks": ""
                        },
                        "colorscale": [
                          [
                            0,
                            "#0d0887"
                          ],
                          [
                            0.1111111111111111,
                            "#46039f"
                          ],
                          [
                            0.2222222222222222,
                            "#7201a8"
                          ],
                          [
                            0.3333333333333333,
                            "#9c179e"
                          ],
                          [
                            0.4444444444444444,
                            "#bd3786"
                          ],
                          [
                            0.5555555555555556,
                            "#d8576b"
                          ],
                          [
                            0.6666666666666666,
                            "#ed7953"
                          ],
                          [
                            0.7777777777777778,
                            "#fb9f3a"
                          ],
                          [
                            0.8888888888888888,
                            "#fdca26"
                          ],
                          [
                            1,
                            "#f0f921"
                          ]
                        ]
                      }
                    ],
                    "mesh3d": [
                      {
                        "type": "mesh3d",
                        "colorbar": {
                          "outlinewidth": 0,
                          "ticks": ""
                        }
                      }
                    ],
                    "scatter": [
                      {
                        "fillpattern": {
                          "fillmode": "overlay",
                          "size": 10,
                          "solidity": 0.2
                        },
                        "type": "scatter"
                      }
                    ],
                    "parcoords": [
                      {
                        "type": "parcoords",
                        "line": {
                          "colorbar": {
                            "outlinewidth": 0,
                            "ticks": ""
                          }
                        }
                      }
                    ],
                    "scatterpolargl": [
                      {
                        "type": "scatterpolargl",
                        "marker": {
                          "colorbar": {
                            "outlinewidth": 0,
                            "ticks": ""
                          }
                        }
                      }
                    ],
                    "bar": [
                      {
                        "error_x": {
                          "color": "#2a3f5f"
                        },
                        "error_y": {
                          "color": "#2a3f5f"
                        },
                        "marker": {
                          "line": {
                            "color": "#E5ECF6",
                            "width": 0.5
                          },
                          "pattern": {
                            "fillmode": "overlay",
                            "size": 10,
                            "solidity": 0.2
                          }
                        },
                        "type": "bar"
                      }
                    ],
                    "scattergeo": [
                      {
                        "type": "scattergeo",
                        "marker": {
                          "colorbar": {
                            "outlinewidth": 0,
                            "ticks": ""
                          }
                        }
                      }
                    ],
                    "scatterpolar": [
                      {
                        "type": "scatterpolar",
                        "marker": {
                          "colorbar": {
                            "outlinewidth": 0,
                            "ticks": ""
                          }
                        }
                      }
                    ],
                    "histogram": [
                      {
                        "marker": {
                          "pattern": {
                            "fillmode": "overlay",
                            "size": 10,
                            "solidity": 0.2
                          }
                        },
                        "type": "histogram"
                      }
                    ],
                    "scattergl": [
                      {
                        "type": "scattergl",
                        "marker": {
                          "colorbar": {
                            "outlinewidth": 0,
                            "ticks": ""
                          }
                        }
                      }
                    ],
                    "scatter3d": [
                      {
                        "type": "scatter3d",
                        "line": {
                          "colorbar": {
                            "outlinewidth": 0,
                            "ticks": ""
                          }
                        },
                        "marker": {
                          "colorbar": {
                            "outlinewidth": 0,
                            "ticks": ""
                          }
                        }
                      }
                    ],
                    "scattermapbox": [
                      {
                        "type": "scattermapbox",
                        "marker": {
                          "colorbar": {
                            "outlinewidth": 0,
                            "ticks": ""
                          }
                        }
                      }
                    ],
                    "scatterternary": [
                      {
                        "type": "scatterternary",
                        "marker": {
                          "colorbar": {
                            "outlinewidth": 0,
                            "ticks": ""
                          }
                        }
                      }
                    ],
                    "scattercarpet": [
                      {
                        "type": "scattercarpet",
                        "marker": {
                          "colorbar": {
                            "outlinewidth": 0,
                            "ticks": ""
                          }
                        }
                      }
                    ],
                    "carpet": [
                      {
                        "aaxis": {
                          "endlinecolor": "#2a3f5f",
                          "gridcolor": "white",
                          "linecolor": "white",
                          "minorgridcolor": "white",
                          "startlinecolor": "#2a3f5f"
                        },
                        "baxis": {
                          "endlinecolor": "#2a3f5f",
                          "gridcolor": "white",
                          "linecolor": "white",
                          "minorgridcolor": "white",
                          "startlinecolor": "#2a3f5f"
                        },
                        "type": "carpet"
                      }
                    ],
                    "table": [
                      {
                        "cells": {
                          "fill": {
                            "color": "#EBF0F8"
                          },
                          "line": {
                            "color": "white"
                          }
                        },
                        "header": {
                          "fill": {
                            "color": "#C8D4E3"
                          },
                          "line": {
                            "color": "white"
                          }
                        },
                        "type": "table"
                      }
                    ],
                    "barpolar": [
                      {
                        "marker": {
                          "line": {
                            "color": "#E5ECF6",
                            "width": 0.5
                          },
                          "pattern": {
                            "fillmode": "overlay",
                            "size": 10,
                            "solidity": 0.2
                          }
                        },
                        "type": "barpolar"
                      }
                    ],
                    "pie": [
                      {
                        "automargin": true,
                        "type": "pie"
                      }
                    ]
                  },
                  "layout": {
                    "autotypenumbers": "strict",
                    "colorway": [
                      "#636efa",
                      "#EF553B",
                      "#00cc96",
                      "#ab63fa",
                      "#FFA15A",
                      "#19d3f3",
                      "#FF6692",
                      "#B6E880",
                      "#FF97FF",
                      "#FECB52"
                    ],
                    "font": {
                      "color": "#2a3f5f"
                    },
                    "hovermode": "closest",
                    "hoverlabel": {
                      "align": "left"
                    },
                    "paper_bgcolor": "white",
                    "plot_bgcolor": "#E5ECF6",
                    "polar": {
                      "bgcolor": "#E5ECF6",
                      "angularaxis": {
                        "gridcolor": "white",
                        "linecolor": "white",
                        "ticks": ""
                      },
                      "radialaxis": {
                        "gridcolor": "white",
                        "linecolor": "white",
                        "ticks": ""
                      }
                    },
                    "ternary": {
                      "bgcolor": "#E5ECF6",
                      "aaxis": {
                        "gridcolor": "white",
                        "linecolor": "white",
                        "ticks": ""
                      },
                      "baxis": {
                        "gridcolor": "white",
                        "linecolor": "white",
                        "ticks": ""
                      },
                      "caxis": {
                        "gridcolor": "white",
                        "linecolor": "white",
                        "ticks": ""
                      }
                    },
                    "coloraxis": {
                      "colorbar": {
                        "outlinewidth": 0,
                        "ticks": ""
                      }
                    },
                    "colorscale": {
                      "sequential": [
                        [
                          0,
                          "#0d0887"
                        ],
                        [
                          0.1111111111111111,
                          "#46039f"
                        ],
                        [
                          0.2222222222222222,
                          "#7201a8"
                        ],
                        [
                          0.3333333333333333,
                          "#9c179e"
                        ],
                        [
                          0.4444444444444444,
                          "#bd3786"
                        ],
                        [
                          0.5555555555555556,
                          "#d8576b"
                        ],
                        [
                          0.6666666666666666,
                          "#ed7953"
                        ],
                        [
                          0.7777777777777778,
                          "#fb9f3a"
                        ],
                        [
                          0.8888888888888888,
                          "#fdca26"
                        ],
                        [
                          1,
                          "#f0f921"
                        ]
                      ],
                      "sequentialminus": [
                        [
                          0,
                          "#0d0887"
                        ],
                        [
                          0.1111111111111111,
                          "#46039f"
                        ],
                        [
                          0.2222222222222222,
                          "#7201a8"
                        ],
                        [
                          0.3333333333333333,
                          "#9c179e"
                        ],
                        [
                          0.4444444444444444,
                          "#bd3786"
                        ],
                        [
                          0.5555555555555556,
                          "#d8576b"
                        ],
                        [
                          0.6666666666666666,
                          "#ed7953"
                        ],
                        [
                          0.7777777777777778,
                          "#fb9f3a"
                        ],
                        [
                          0.8888888888888888,
                          "#fdca26"
                        ],
                        [
                          1,
                          "#f0f921"
                        ]
                      ],
                      "diverging": [
                        [
                          0,
                          "#8e0152"
                        ],
                        [
                          0.1,
                          "#c51b7d"
                        ],
                        [
                          0.2,
                          "#de77ae"
                        ],
                        [
                          0.3,
                          "#f1b6da"
                        ],
                        [
                          0.4,
                          "#fde0ef"
                        ],
                        [
                          0.5,
                          "#f7f7f7"
                        ],
                        [
                          0.6,
                          "#e6f5d0"
                        ],
                        [
                          0.7,
                          "#b8e186"
                        ],
                        [
                          0.8,
                          "#7fbc41"
                        ],
                        [
                          0.9,
                          "#4d9221"
                        ],
                        [
                          1,
                          "#276419"
                        ]
                      ]
                    },
                    "xaxis": {
                      "gridcolor": "white",
                      "linecolor": "white",
                      "ticks": "",
                      "title": {
                        "standoff": 15
                      },
                      "zerolinecolor": "white",
                      "automargin": true,
                      "zerolinewidth": 2
                    },
                    "yaxis": {
                      "gridcolor": "white",
                      "linecolor": "white",
                      "ticks": "",
                      "title": {
                        "standoff": 15
                      },
                      "zerolinecolor": "white",
                      "automargin": true,
                      "zerolinewidth": 2
                    },
                    "scene": {
                      "xaxis": {
                        "backgroundcolor": "#E5ECF6",
                        "gridcolor": "white",
                        "linecolor": "white",
                        "showbackground": true,
                        "ticks": "",
                        "zerolinecolor": "white",
                        "gridwidth": 2
                      },
                      "yaxis": {
                        "backgroundcolor": "#E5ECF6",
                        "gridcolor": "white",
                        "linecolor": "white",
                        "showbackground": true,
                        "ticks": "",
                        "zerolinecolor": "white",
                        "gridwidth": 2
                      },
                      "zaxis": {
                        "backgroundcolor": "#E5ECF6",
                        "gridcolor": "white",
                        "linecolor": "white",
                        "showbackground": true,
                        "ticks": "",
                        "zerolinecolor": "white",
                        "gridwidth": 2
                      }
                    },
                    "shapedefaults": {
                      "line": {
                        "color": "#2a3f5f"
                      }
                    },
                    "annotationdefaults": {
                      "arrowcolor": "#2a3f5f",
                      "arrowhead": 0,
                      "arrowwidth": 1
                    },
                    "geo": {
                      "bgcolor": "white",
                      "landcolor": "#E5ECF6",
                      "subunitcolor": "white",
                      "showland": true,
                      "showlakes": true,
                      "lakecolor": "white"
                    },
                    "title": {
                      "x": 0.05
                    },
                    "mapbox": {
                      "style": "light"
                    }
                  }
                },
                "title": {
                  "text": "Men"
                },
                "legend": {
                  "title": {
                    "text": "year"
                  }
                },
                "xaxis": {
                  "title": {
                    "text": "Age Groups"
                  }
                },
                "yaxis": {
                  "title": {
                    "text": "Population"
                  }
                }
              },
              "config": {
                "plotlyServerURL": "https://plot.ly"
              }
            }
          },
          "metadata": {},
          "output_type": "display_data"
        }
      ],
      "metadata": {
        "datalore": {
          "node_id": "pxKR7xyEvWeqxZYH3MjYcI",
          "type": "CODE",
          "hide_input_from_viewers": false,
          "hide_output_from_viewers": false,
          "report_properties": {
            "rowId": "bu8WBQrI1eVXN8iSyiyurs"
          }
        },
        "id": "ZOxcy7Ko6eHB",
        "outputId": "15acd38f-4066-481c-dcf0-5089cce7c95c"
      }
    },
    {
      "cell_type": "code",
      "source": [
        "raft(m_pred_2010_2050_df, features=AGE_GROUPS, years=m_pred_2010_2050_df[\"Year\"].unique(), pltTitle=\"Prediction Men\", yTitle=\"Population\")"
      ],
      "execution_count": null,
      "outputs": [
        {
          "data": {
            "application/vnd.plotly.v1+json": {
              "data": [
                {
                  "line": {
                    "dash": "solid"
                  },
                  "mode": "lines",
                  "name": "2010",
                  "x": [
                    "0 - 4",
                    "5 - 9",
                    "10 - 14",
                    "15 - 19",
                    "20 - 24",
                    "25 - 29",
                    "30 - 34",
                    "35 - 39",
                    "40 - 44",
                    "45 - 49",
                    "50 - 54",
                    "55 - 59",
                    "60 - 64",
                    "65 - 69",
                    "70 - 74",
                    "75 - 79",
                    "80 - 84",
                    "85 - 89",
                    "90 - 94",
                    "95 - 99",
                    "100+"
                  ],
                  "y": [
                    1350.0596580770984,
                    1243.3245772938728,
                    1602.3350673288483,
                    1790.8293265974764,
                    1665.5115950432548,
                    1872.7321883816148,
                    1903.0786231650552,
                    2131.790970435902,
                    2052.58351924333,
                    2041.42926959858,
                    1929.5960291151434,
                    1399.2510889885143,
                    1109.037225459134,
                    905.2734395944151,
                    713.620712268392,
                    402.6005760501351,
                    174.52989230474384,
                    68.34754555938886,
                    15.992764628385977,
                    2.166584598088814,
                    0.19039328537170266
                  ],
                  "type": "scatter"
                },
                {
                  "line": {
                    "dash": "solid"
                  },
                  "mode": "lines",
                  "name": "2015",
                  "x": [
                    "0 - 4",
                    "5 - 9",
                    "10 - 14",
                    "15 - 19",
                    "20 - 24",
                    "25 - 29",
                    "30 - 34",
                    "35 - 39",
                    "40 - 44",
                    "45 - 49",
                    "50 - 54",
                    "55 - 59",
                    "60 - 64",
                    "65 - 69",
                    "70 - 74",
                    "75 - 79",
                    "80 - 84",
                    "85 - 89",
                    "90 - 94",
                    "95 - 99",
                    "100+"
                  ],
                  "y": [
                    1246.7907947846784,
                    1345.188358402422,
                    1239.3729238902192,
                    1586.2043091384016,
                    1757.7511136441915,
                    1625.790948779563,
                    1838.2650541362057,
                    1880.5747667538528,
                    2101.9415623089226,
                    2011.376479887692,
                    1991.0926083573754,
                    1869.9346871117898,
                    1328.7110324402838,
                    1013.856910033362,
                    773.1298332573677,
                    539.1595571196236,
                    251.43881905801618,
                    83.19458907801979,
                    22.60315988873205,
                    3.366661244143085,
                    0.27536926546452556
                  ],
                  "type": "scatter"
                },
                {
                  "line": {
                    "dash": "solid"
                  },
                  "mode": "lines",
                  "name": "2020",
                  "x": [
                    "0 - 4",
                    "5 - 9",
                    "10 - 14",
                    "15 - 19",
                    "20 - 24",
                    "25 - 29",
                    "30 - 34",
                    "35 - 39",
                    "40 - 44",
                    "45 - 49",
                    "50 - 54",
                    "55 - 59",
                    "60 - 64",
                    "65 - 69",
                    "70 - 74",
                    "75 - 79",
                    "80 - 84",
                    "85 - 89",
                    "90 - 94",
                    "95 - 99",
                    "100+"
                  ],
                  "y": [
                    1163.177876929483,
                    1242.292110925274,
                    1340.9129517611361,
                    1226.8961171656513,
                    1556.905702539867,
                    1715.8306548419469,
                    1595.8687018965304,
                    1816.5276165335426,
                    1854.2428962728284,
                    2059.743625967095,
                    1961.7808470610196,
                    1929.529848445378,
                    1775.666189049934,
                    1214.677768024824,
                    865.8632734791207,
                    584.1202915341358,
                    336.72490898055605,
                    119.85539527675313,
                    27.513213289771524,
                    4.758225620196826,
                    0.4278969926608718
                  ],
                  "type": "scatter"
                },
                {
                  "line": {
                    "dash": "solid"
                  },
                  "mode": "lines",
                  "name": "2025",
                  "x": [
                    "0 - 4",
                    "5 - 9",
                    "10 - 14",
                    "15 - 19",
                    "20 - 24",
                    "25 - 29",
                    "30 - 34",
                    "35 - 39",
                    "40 - 44",
                    "45 - 49",
                    "50 - 54",
                    "55 - 59",
                    "60 - 64",
                    "65 - 69",
                    "70 - 74",
                    "75 - 79",
                    "80 - 84",
                    "85 - 89",
                    "90 - 94",
                    "95 - 99",
                    "100+"
                  ],
                  "y": [
                    1038.0959990349395,
                    1158.9808860931316,
                    1238.3437390052445,
                    1327.413938339833,
                    1204.2342529486566,
                    1519.775189092493,
                    1684.2512512893582,
                    1576.9975950061155,
                    1791.0925363817807,
                    1817.0176826406962,
                    2008.95537741591,
                    1901.1243799631843,
                    1832.25699606602,
                    1623.2741285447667,
                    1037.3701239652028,
                    654.1828887942546,
                    364.8045358804398,
                    160.50941225619232,
                    39.637277985551336,
                    5.7918484412700595,
                    0.604762488897918
                  ],
                  "type": "scatter"
                },
                {
                  "line": {
                    "dash": "solid"
                  },
                  "mode": "lines",
                  "name": "2030",
                  "x": [
                    "0 - 4",
                    "5 - 9",
                    "10 - 14",
                    "15 - 19",
                    "20 - 24",
                    "25 - 29",
                    "30 - 34",
                    "35 - 39",
                    "40 - 44",
                    "45 - 49",
                    "50 - 54",
                    "55 - 59",
                    "60 - 64",
                    "65 - 69",
                    "70 - 74",
                    "75 - 79",
                    "80 - 84",
                    "85 - 89",
                    "90 - 94",
                    "95 - 99",
                    "100+"
                  ],
                  "y": [
                    986.9969779150806,
                    1034.3503299660745,
                    1155.297301897227,
                    1225.8772931177143,
                    1302.8954204233387,
                    1175.514571307081,
                    1491.8041338661924,
                    1664.3350229958746,
                    1554.916422188793,
                    1755.135110072774,
                    1772.214463189283,
                    1946.8403170442064,
                    1805.2835245776334,
                    1675.0081726512396,
                    1386.3232935400006,
                    783.7609068665213,
                    408.5611963602994,
                    173.89435732520639,
                    53.08193409404362,
                    8.344103769302404,
                    0.7361342143580653
                  ],
                  "type": "scatter"
                },
                {
                  "line": {
                    "dash": "solid"
                  },
                  "mode": "lines",
                  "name": "2035",
                  "x": [
                    "0 - 4",
                    "5 - 9",
                    "10 - 14",
                    "15 - 19",
                    "20 - 24",
                    "25 - 29",
                    "30 - 34",
                    "35 - 39",
                    "40 - 44",
                    "45 - 49",
                    "50 - 54",
                    "55 - 59",
                    "60 - 64",
                    "65 - 69",
                    "70 - 74",
                    "75 - 79",
                    "80 - 84",
                    "85 - 89",
                    "90 - 94",
                    "95 - 99",
                    "100+"
                  ],
                  "y": [
                    906.7903710152145,
                    983.4356848798732,
                    1031.0628585554498,
                    1143.666887138817,
                    1203.2342474884651,
                    1271.8227768781128,
                    1153.879540527966,
                    1474.1635878511624,
                    1641.03094860472,
                    1523.7003953605733,
                    1711.8577637625342,
                    1717.4192150667463,
                    1848.6947968188506,
                    1650.3496311448741,
                    1430.5056710895801,
                    1047.4043705846498,
                    489.4874189693594,
                    194.75220201860736,
                    57.5084581340903,
                    11.174358807318345,
                    1.0605215821895142
                  ],
                  "type": "scatter"
                },
                {
                  "line": {
                    "dash": "solid"
                  },
                  "mode": "lines",
                  "name": "2040",
                  "x": [
                    "0 - 4",
                    "5 - 9",
                    "10 - 14",
                    "15 - 19",
                    "20 - 24",
                    "25 - 29",
                    "30 - 34",
                    "35 - 39",
                    "40 - 44",
                    "45 - 49",
                    "50 - 54",
                    "55 - 59",
                    "60 - 64",
                    "65 - 69",
                    "70 - 74",
                    "75 - 79",
                    "80 - 84",
                    "85 - 89",
                    "90 - 94",
                    "95 - 99",
                    "100+"
                  ],
                  "y": [
                    839.3535956407329,
                    903.5184803154971,
                    980.3100352768641,
                    1020.6831158976083,
                    1122.542340941958,
                    1174.5384148931912,
                    1248.4152193752382,
                    1140.2349442512868,
                    1453.5223002249631,
                    1608.0861128652696,
                    1486.1296640222124,
                    1658.9286895087032,
                    1630.8394371403986,
                    1690.0352407211228,
                    1409.4465598317402,
                    1080.7853399183484,
                    654.1424272160345,
                    233.32796544050518,
                    64.40633858730462,
                    12.10619312603531,
                    1.4202422464936988
                  ],
                  "type": "scatter"
                },
                {
                  "line": {
                    "dash": "solid"
                  },
                  "mode": "lines",
                  "name": "2045",
                  "x": [
                    "0 - 4",
                    "5 - 9",
                    "10 - 14",
                    "15 - 19",
                    "20 - 24",
                    "25 - 29",
                    "30 - 34",
                    "35 - 39",
                    "40 - 44",
                    "45 - 49",
                    "50 - 54",
                    "55 - 59",
                    "60 - 64",
                    "65 - 69",
                    "70 - 74",
                    "75 - 79",
                    "80 - 84",
                    "85 - 89",
                    "90 - 94",
                    "95 - 99",
                    "100+"
                  ],
                  "y": [
                    803.5344591698525,
                    836.3250310340349,
                    900.6468312359191,
                    970.4412229084996,
                    1001.8301895109096,
                    1095.7709228544038,
                    1152.9213500113735,
                    1233.6527410958827,
                    1124.269336607944,
                    1424.3418307979518,
                    1568.4346357774048,
                    1440.1798958796974,
                    1575.2975782032852,
                    1490.8767663909564,
                    1443.3392240505739,
                    1064.8746174520427,
                    674.990066309407,
                    311.81541289049005,
                    77.16369719204651,
                    13.558276447973906,
                    1.5386768241723536
                  ],
                  "type": "scatter"
                },
                {
                  "line": {
                    "dash": "solid"
                  },
                  "mode": "lines",
                  "name": "2050",
                  "x": [
                    "0 - 4",
                    "5 - 9",
                    "10 - 14",
                    "15 - 19",
                    "20 - 24",
                    "25 - 29",
                    "30 - 34",
                    "35 - 39",
                    "40 - 44",
                    "45 - 49",
                    "50 - 54",
                    "55 - 59",
                    "60 - 64",
                    "65 - 69",
                    "70 - 74",
                    "75 - 79",
                    "80 - 84",
                    "85 - 89",
                    "90 - 94",
                    "95 - 99",
                    "100+"
                  ],
                  "y": [
                    742.7935319570889,
                    800.6351375538577,
                    833.6669426186675,
                    891.5799908815621,
                    952.5163090413565,
                    977.9376253929055,
                    1075.6035525627246,
                    1139.2880843132305,
                    1216.3790943516108,
                    1101.6988490416115,
                    1389.2210390584214,
                    1519.9400732870724,
                    1367.576506756437,
                    1440.1016470470786,
                    1273.2520975358955,
                    1090.4814328312434,
                    665.0532368429991,
                    321.75302727113467,
                    103.12021559297335,
                    16.24384744149602,
                    1.7232341768408084
                  ],
                  "type": "scatter"
                }
              ],
              "layout": {
                "template": {
                  "data": {
                    "histogram2dcontour": [
                      {
                        "type": "histogram2dcontour",
                        "colorbar": {
                          "outlinewidth": 0,
                          "ticks": ""
                        },
                        "colorscale": [
                          [
                            0,
                            "#0d0887"
                          ],
                          [
                            0.1111111111111111,
                            "#46039f"
                          ],
                          [
                            0.2222222222222222,
                            "#7201a8"
                          ],
                          [
                            0.3333333333333333,
                            "#9c179e"
                          ],
                          [
                            0.4444444444444444,
                            "#bd3786"
                          ],
                          [
                            0.5555555555555556,
                            "#d8576b"
                          ],
                          [
                            0.6666666666666666,
                            "#ed7953"
                          ],
                          [
                            0.7777777777777778,
                            "#fb9f3a"
                          ],
                          [
                            0.8888888888888888,
                            "#fdca26"
                          ],
                          [
                            1,
                            "#f0f921"
                          ]
                        ]
                      }
                    ],
                    "choropleth": [
                      {
                        "type": "choropleth",
                        "colorbar": {
                          "outlinewidth": 0,
                          "ticks": ""
                        }
                      }
                    ],
                    "histogram2d": [
                      {
                        "type": "histogram2d",
                        "colorbar": {
                          "outlinewidth": 0,
                          "ticks": ""
                        },
                        "colorscale": [
                          [
                            0,
                            "#0d0887"
                          ],
                          [
                            0.1111111111111111,
                            "#46039f"
                          ],
                          [
                            0.2222222222222222,
                            "#7201a8"
                          ],
                          [
                            0.3333333333333333,
                            "#9c179e"
                          ],
                          [
                            0.4444444444444444,
                            "#bd3786"
                          ],
                          [
                            0.5555555555555556,
                            "#d8576b"
                          ],
                          [
                            0.6666666666666666,
                            "#ed7953"
                          ],
                          [
                            0.7777777777777778,
                            "#fb9f3a"
                          ],
                          [
                            0.8888888888888888,
                            "#fdca26"
                          ],
                          [
                            1,
                            "#f0f921"
                          ]
                        ]
                      }
                    ],
                    "heatmap": [
                      {
                        "type": "heatmap",
                        "colorbar": {
                          "outlinewidth": 0,
                          "ticks": ""
                        },
                        "colorscale": [
                          [
                            0,
                            "#0d0887"
                          ],
                          [
                            0.1111111111111111,
                            "#46039f"
                          ],
                          [
                            0.2222222222222222,
                            "#7201a8"
                          ],
                          [
                            0.3333333333333333,
                            "#9c179e"
                          ],
                          [
                            0.4444444444444444,
                            "#bd3786"
                          ],
                          [
                            0.5555555555555556,
                            "#d8576b"
                          ],
                          [
                            0.6666666666666666,
                            "#ed7953"
                          ],
                          [
                            0.7777777777777778,
                            "#fb9f3a"
                          ],
                          [
                            0.8888888888888888,
                            "#fdca26"
                          ],
                          [
                            1,
                            "#f0f921"
                          ]
                        ]
                      }
                    ],
                    "heatmapgl": [
                      {
                        "type": "heatmapgl",
                        "colorbar": {
                          "outlinewidth": 0,
                          "ticks": ""
                        },
                        "colorscale": [
                          [
                            0,
                            "#0d0887"
                          ],
                          [
                            0.1111111111111111,
                            "#46039f"
                          ],
                          [
                            0.2222222222222222,
                            "#7201a8"
                          ],
                          [
                            0.3333333333333333,
                            "#9c179e"
                          ],
                          [
                            0.4444444444444444,
                            "#bd3786"
                          ],
                          [
                            0.5555555555555556,
                            "#d8576b"
                          ],
                          [
                            0.6666666666666666,
                            "#ed7953"
                          ],
                          [
                            0.7777777777777778,
                            "#fb9f3a"
                          ],
                          [
                            0.8888888888888888,
                            "#fdca26"
                          ],
                          [
                            1,
                            "#f0f921"
                          ]
                        ]
                      }
                    ],
                    "contourcarpet": [
                      {
                        "type": "contourcarpet",
                        "colorbar": {
                          "outlinewidth": 0,
                          "ticks": ""
                        }
                      }
                    ],
                    "contour": [
                      {
                        "type": "contour",
                        "colorbar": {
                          "outlinewidth": 0,
                          "ticks": ""
                        },
                        "colorscale": [
                          [
                            0,
                            "#0d0887"
                          ],
                          [
                            0.1111111111111111,
                            "#46039f"
                          ],
                          [
                            0.2222222222222222,
                            "#7201a8"
                          ],
                          [
                            0.3333333333333333,
                            "#9c179e"
                          ],
                          [
                            0.4444444444444444,
                            "#bd3786"
                          ],
                          [
                            0.5555555555555556,
                            "#d8576b"
                          ],
                          [
                            0.6666666666666666,
                            "#ed7953"
                          ],
                          [
                            0.7777777777777778,
                            "#fb9f3a"
                          ],
                          [
                            0.8888888888888888,
                            "#fdca26"
                          ],
                          [
                            1,
                            "#f0f921"
                          ]
                        ]
                      }
                    ],
                    "surface": [
                      {
                        "type": "surface",
                        "colorbar": {
                          "outlinewidth": 0,
                          "ticks": ""
                        },
                        "colorscale": [
                          [
                            0,
                            "#0d0887"
                          ],
                          [
                            0.1111111111111111,
                            "#46039f"
                          ],
                          [
                            0.2222222222222222,
                            "#7201a8"
                          ],
                          [
                            0.3333333333333333,
                            "#9c179e"
                          ],
                          [
                            0.4444444444444444,
                            "#bd3786"
                          ],
                          [
                            0.5555555555555556,
                            "#d8576b"
                          ],
                          [
                            0.6666666666666666,
                            "#ed7953"
                          ],
                          [
                            0.7777777777777778,
                            "#fb9f3a"
                          ],
                          [
                            0.8888888888888888,
                            "#fdca26"
                          ],
                          [
                            1,
                            "#f0f921"
                          ]
                        ]
                      }
                    ],
                    "mesh3d": [
                      {
                        "type": "mesh3d",
                        "colorbar": {
                          "outlinewidth": 0,
                          "ticks": ""
                        }
                      }
                    ],
                    "scatter": [
                      {
                        "fillpattern": {
                          "fillmode": "overlay",
                          "size": 10,
                          "solidity": 0.2
                        },
                        "type": "scatter"
                      }
                    ],
                    "parcoords": [
                      {
                        "type": "parcoords",
                        "line": {
                          "colorbar": {
                            "outlinewidth": 0,
                            "ticks": ""
                          }
                        }
                      }
                    ],
                    "scatterpolargl": [
                      {
                        "type": "scatterpolargl",
                        "marker": {
                          "colorbar": {
                            "outlinewidth": 0,
                            "ticks": ""
                          }
                        }
                      }
                    ],
                    "bar": [
                      {
                        "error_x": {
                          "color": "#2a3f5f"
                        },
                        "error_y": {
                          "color": "#2a3f5f"
                        },
                        "marker": {
                          "line": {
                            "color": "#E5ECF6",
                            "width": 0.5
                          },
                          "pattern": {
                            "fillmode": "overlay",
                            "size": 10,
                            "solidity": 0.2
                          }
                        },
                        "type": "bar"
                      }
                    ],
                    "scattergeo": [
                      {
                        "type": "scattergeo",
                        "marker": {
                          "colorbar": {
                            "outlinewidth": 0,
                            "ticks": ""
                          }
                        }
                      }
                    ],
                    "scatterpolar": [
                      {
                        "type": "scatterpolar",
                        "marker": {
                          "colorbar": {
                            "outlinewidth": 0,
                            "ticks": ""
                          }
                        }
                      }
                    ],
                    "histogram": [
                      {
                        "marker": {
                          "pattern": {
                            "fillmode": "overlay",
                            "size": 10,
                            "solidity": 0.2
                          }
                        },
                        "type": "histogram"
                      }
                    ],
                    "scattergl": [
                      {
                        "type": "scattergl",
                        "marker": {
                          "colorbar": {
                            "outlinewidth": 0,
                            "ticks": ""
                          }
                        }
                      }
                    ],
                    "scatter3d": [
                      {
                        "type": "scatter3d",
                        "line": {
                          "colorbar": {
                            "outlinewidth": 0,
                            "ticks": ""
                          }
                        },
                        "marker": {
                          "colorbar": {
                            "outlinewidth": 0,
                            "ticks": ""
                          }
                        }
                      }
                    ],
                    "scattermapbox": [
                      {
                        "type": "scattermapbox",
                        "marker": {
                          "colorbar": {
                            "outlinewidth": 0,
                            "ticks": ""
                          }
                        }
                      }
                    ],
                    "scatterternary": [
                      {
                        "type": "scatterternary",
                        "marker": {
                          "colorbar": {
                            "outlinewidth": 0,
                            "ticks": ""
                          }
                        }
                      }
                    ],
                    "scattercarpet": [
                      {
                        "type": "scattercarpet",
                        "marker": {
                          "colorbar": {
                            "outlinewidth": 0,
                            "ticks": ""
                          }
                        }
                      }
                    ],
                    "carpet": [
                      {
                        "aaxis": {
                          "endlinecolor": "#2a3f5f",
                          "gridcolor": "white",
                          "linecolor": "white",
                          "minorgridcolor": "white",
                          "startlinecolor": "#2a3f5f"
                        },
                        "baxis": {
                          "endlinecolor": "#2a3f5f",
                          "gridcolor": "white",
                          "linecolor": "white",
                          "minorgridcolor": "white",
                          "startlinecolor": "#2a3f5f"
                        },
                        "type": "carpet"
                      }
                    ],
                    "table": [
                      {
                        "cells": {
                          "fill": {
                            "color": "#EBF0F8"
                          },
                          "line": {
                            "color": "white"
                          }
                        },
                        "header": {
                          "fill": {
                            "color": "#C8D4E3"
                          },
                          "line": {
                            "color": "white"
                          }
                        },
                        "type": "table"
                      }
                    ],
                    "barpolar": [
                      {
                        "marker": {
                          "line": {
                            "color": "#E5ECF6",
                            "width": 0.5
                          },
                          "pattern": {
                            "fillmode": "overlay",
                            "size": 10,
                            "solidity": 0.2
                          }
                        },
                        "type": "barpolar"
                      }
                    ],
                    "pie": [
                      {
                        "automargin": true,
                        "type": "pie"
                      }
                    ]
                  },
                  "layout": {
                    "autotypenumbers": "strict",
                    "colorway": [
                      "#636efa",
                      "#EF553B",
                      "#00cc96",
                      "#ab63fa",
                      "#FFA15A",
                      "#19d3f3",
                      "#FF6692",
                      "#B6E880",
                      "#FF97FF",
                      "#FECB52"
                    ],
                    "font": {
                      "color": "#2a3f5f"
                    },
                    "hovermode": "closest",
                    "hoverlabel": {
                      "align": "left"
                    },
                    "paper_bgcolor": "white",
                    "plot_bgcolor": "#E5ECF6",
                    "polar": {
                      "bgcolor": "#E5ECF6",
                      "angularaxis": {
                        "gridcolor": "white",
                        "linecolor": "white",
                        "ticks": ""
                      },
                      "radialaxis": {
                        "gridcolor": "white",
                        "linecolor": "white",
                        "ticks": ""
                      }
                    },
                    "ternary": {
                      "bgcolor": "#E5ECF6",
                      "aaxis": {
                        "gridcolor": "white",
                        "linecolor": "white",
                        "ticks": ""
                      },
                      "baxis": {
                        "gridcolor": "white",
                        "linecolor": "white",
                        "ticks": ""
                      },
                      "caxis": {
                        "gridcolor": "white",
                        "linecolor": "white",
                        "ticks": ""
                      }
                    },
                    "coloraxis": {
                      "colorbar": {
                        "outlinewidth": 0,
                        "ticks": ""
                      }
                    },
                    "colorscale": {
                      "sequential": [
                        [
                          0,
                          "#0d0887"
                        ],
                        [
                          0.1111111111111111,
                          "#46039f"
                        ],
                        [
                          0.2222222222222222,
                          "#7201a8"
                        ],
                        [
                          0.3333333333333333,
                          "#9c179e"
                        ],
                        [
                          0.4444444444444444,
                          "#bd3786"
                        ],
                        [
                          0.5555555555555556,
                          "#d8576b"
                        ],
                        [
                          0.6666666666666666,
                          "#ed7953"
                        ],
                        [
                          0.7777777777777778,
                          "#fb9f3a"
                        ],
                        [
                          0.8888888888888888,
                          "#fdca26"
                        ],
                        [
                          1,
                          "#f0f921"
                        ]
                      ],
                      "sequentialminus": [
                        [
                          0,
                          "#0d0887"
                        ],
                        [
                          0.1111111111111111,
                          "#46039f"
                        ],
                        [
                          0.2222222222222222,
                          "#7201a8"
                        ],
                        [
                          0.3333333333333333,
                          "#9c179e"
                        ],
                        [
                          0.4444444444444444,
                          "#bd3786"
                        ],
                        [
                          0.5555555555555556,
                          "#d8576b"
                        ],
                        [
                          0.6666666666666666,
                          "#ed7953"
                        ],
                        [
                          0.7777777777777778,
                          "#fb9f3a"
                        ],
                        [
                          0.8888888888888888,
                          "#fdca26"
                        ],
                        [
                          1,
                          "#f0f921"
                        ]
                      ],
                      "diverging": [
                        [
                          0,
                          "#8e0152"
                        ],
                        [
                          0.1,
                          "#c51b7d"
                        ],
                        [
                          0.2,
                          "#de77ae"
                        ],
                        [
                          0.3,
                          "#f1b6da"
                        ],
                        [
                          0.4,
                          "#fde0ef"
                        ],
                        [
                          0.5,
                          "#f7f7f7"
                        ],
                        [
                          0.6,
                          "#e6f5d0"
                        ],
                        [
                          0.7,
                          "#b8e186"
                        ],
                        [
                          0.8,
                          "#7fbc41"
                        ],
                        [
                          0.9,
                          "#4d9221"
                        ],
                        [
                          1,
                          "#276419"
                        ]
                      ]
                    },
                    "xaxis": {
                      "gridcolor": "white",
                      "linecolor": "white",
                      "ticks": "",
                      "title": {
                        "standoff": 15
                      },
                      "zerolinecolor": "white",
                      "automargin": true,
                      "zerolinewidth": 2
                    },
                    "yaxis": {
                      "gridcolor": "white",
                      "linecolor": "white",
                      "ticks": "",
                      "title": {
                        "standoff": 15
                      },
                      "zerolinecolor": "white",
                      "automargin": true,
                      "zerolinewidth": 2
                    },
                    "scene": {
                      "xaxis": {
                        "backgroundcolor": "#E5ECF6",
                        "gridcolor": "white",
                        "linecolor": "white",
                        "showbackground": true,
                        "ticks": "",
                        "zerolinecolor": "white",
                        "gridwidth": 2
                      },
                      "yaxis": {
                        "backgroundcolor": "#E5ECF6",
                        "gridcolor": "white",
                        "linecolor": "white",
                        "showbackground": true,
                        "ticks": "",
                        "zerolinecolor": "white",
                        "gridwidth": 2
                      },
                      "zaxis": {
                        "backgroundcolor": "#E5ECF6",
                        "gridcolor": "white",
                        "linecolor": "white",
                        "showbackground": true,
                        "ticks": "",
                        "zerolinecolor": "white",
                        "gridwidth": 2
                      }
                    },
                    "shapedefaults": {
                      "line": {
                        "color": "#2a3f5f"
                      }
                    },
                    "annotationdefaults": {
                      "arrowcolor": "#2a3f5f",
                      "arrowhead": 0,
                      "arrowwidth": 1
                    },
                    "geo": {
                      "bgcolor": "white",
                      "landcolor": "#E5ECF6",
                      "subunitcolor": "white",
                      "showland": true,
                      "showlakes": true,
                      "lakecolor": "white"
                    },
                    "title": {
                      "x": 0.05
                    },
                    "mapbox": {
                      "style": "light"
                    }
                  }
                },
                "title": {
                  "text": "Prediction Men"
                },
                "legend": {
                  "title": {
                    "text": "year"
                  }
                },
                "xaxis": {
                  "title": {
                    "text": "Age Groups"
                  }
                },
                "yaxis": {
                  "title": {
                    "text": "Population"
                  }
                }
              },
              "config": {
                "plotlyServerURL": "https://plot.ly"
              }
            }
          },
          "metadata": {},
          "output_type": "display_data"
        }
      ],
      "metadata": {
        "datalore": {
          "node_id": "EOVvyUqGHs4rpAf8WjQqlY",
          "type": "CODE",
          "hide_input_from_viewers": false,
          "hide_output_from_viewers": false,
          "report_properties": {
            "rowId": "4LZ9cp4DWASaiPOnGBpf8q"
          }
        },
        "id": "OmpfZWgH6eHB",
        "outputId": "fd04eaca-5fb3-4886-85ae-0a0d00550d79"
      }
    },
    {
      "cell_type": "code",
      "source": [
        "myEvaluate(m_cleaned_2010_2050_df, m_pred_2010_2050_df)"
      ],
      "execution_count": null,
      "outputs": [
        {
          "data": {
            "text/html": [
              "<div>\n",
              "<style scoped>\n",
              "    .dataframe tbody tr th:only-of-type {\n",
              "        vertical-align: middle;\n",
              "    }\n",
              "\n",
              "    .dataframe tbody tr th {\n",
              "        vertical-align: top;\n",
              "    }\n",
              "\n",
              "    .dataframe thead th {\n",
              "        text-align: right;\n",
              "    }\n",
              "</style>\n",
              "<table border=\"1\" class=\"dataframe\">\n",
              "  <thead>\n",
              "    <tr style=\"text-align: right;\">\n",
              "      <th></th>\n",
              "      <th>Year</th>\n",
              "      <th>Orig_Est</th>\n",
              "      <th>Pred</th>\n",
              "      <th>MAE</th>\n",
              "      <th>RMSE</th>\n",
              "      <th>R2</th>\n",
              "    </tr>\n",
              "  </thead>\n",
              "  <tbody>\n",
              "    <tr>\n",
              "      <th>0</th>\n",
              "      <td>2010</td>\n",
              "      <td>24260</td>\n",
              "      <td>24374</td>\n",
              "      <td>19</td>\n",
              "      <td>48</td>\n",
              "      <td>0.996</td>\n",
              "    </tr>\n",
              "    <tr>\n",
              "      <th>1</th>\n",
              "      <td>2015</td>\n",
              "      <td>24425</td>\n",
              "      <td>24510</td>\n",
              "      <td>33</td>\n",
              "      <td>59</td>\n",
              "      <td>0.994</td>\n",
              "    </tr>\n",
              "    <tr>\n",
              "      <th>2</th>\n",
              "      <td>2020</td>\n",
              "      <td>24471</td>\n",
              "      <td>24393</td>\n",
              "      <td>44</td>\n",
              "      <td>65</td>\n",
              "      <td>0.991</td>\n",
              "    </tr>\n",
              "    <tr>\n",
              "      <th>3</th>\n",
              "      <td>2025</td>\n",
              "      <td>24390</td>\n",
              "      <td>23984</td>\n",
              "      <td>56</td>\n",
              "      <td>71</td>\n",
              "      <td>0.989</td>\n",
              "    </tr>\n",
              "    <tr>\n",
              "      <th>4</th>\n",
              "      <td>2030</td>\n",
              "      <td>24127</td>\n",
              "      <td>23361</td>\n",
              "      <td>70</td>\n",
              "      <td>80</td>\n",
              "      <td>0.984</td>\n",
              "    </tr>\n",
              "    <tr>\n",
              "      <th>5</th>\n",
              "      <td>2035</td>\n",
              "      <td>23658</td>\n",
              "      <td>22493</td>\n",
              "      <td>84</td>\n",
              "      <td>94</td>\n",
              "      <td>0.975</td>\n",
              "    </tr>\n",
              "    <tr>\n",
              "      <th>6</th>\n",
              "      <td>2040</td>\n",
              "      <td>23023</td>\n",
              "      <td>21412</td>\n",
              "      <td>100</td>\n",
              "      <td>116</td>\n",
              "      <td>0.956</td>\n",
              "    </tr>\n",
              "    <tr>\n",
              "      <th>7</th>\n",
              "      <td>2045</td>\n",
              "      <td>22274</td>\n",
              "      <td>20205</td>\n",
              "      <td>117</td>\n",
              "      <td>141</td>\n",
              "      <td>0.923</td>\n",
              "    </tr>\n",
              "    <tr>\n",
              "      <th>8</th>\n",
              "      <td>2050</td>\n",
              "      <td>21459</td>\n",
              "      <td>18920</td>\n",
              "      <td>136</td>\n",
              "      <td>166</td>\n",
              "      <td>0.870</td>\n",
              "    </tr>\n",
              "  </tbody>\n",
              "</table>\n",
              "</div>"
            ]
          },
          "metadata": {},
          "output_type": "display_data"
        }
      ],
      "metadata": {
        "datalore": {
          "node_id": "uqkULa1hYBypn7tXix6ZiJ",
          "type": "CODE",
          "hide_input_from_viewers": false,
          "hide_output_from_viewers": false,
          "report_properties": {
            "rowId": "ejPdfZr28Vy6zXO5LDs7bU"
          }
        },
        "id": "voc889sY6eHC",
        "outputId": "0d9782f4-bec6-4d98-d4f6-b956cb935047"
      }
    },
    {
      "cell_type": "code",
      "source": [
        "raft(\n",
        "    df_true=m_cleaned_2010_2050_df,\n",
        "    df_pred=m_pred_2010_2050_df,\n",
        "    features=AGE_GROUPS,\n",
        "    years=both_pred_2010_2050_df[\"Year\"].unique()[:3],\n",
        "    pltTitle=\"Men | True & Pred\",\n",
        "    yTitle=\"Population\"\n",
        ")"
      ],
      "execution_count": null,
      "outputs": [
        {
          "data": {
            "application/vnd.plotly.v1+json": {
              "data": [
                {
                  "line": {
                    "dash": "solid"
                  },
                  "mode": "lines",
                  "name": "2010",
                  "x": [
                    "0 - 4",
                    "5 - 9",
                    "10 - 14",
                    "15 - 19",
                    "20 - 24",
                    "25 - 29",
                    "30 - 34",
                    "35 - 39",
                    "40 - 44",
                    "45 - 49",
                    "50 - 54",
                    "55 - 59",
                    "60 - 64",
                    "65 - 69",
                    "70 - 74",
                    "75 - 79",
                    "80 - 84",
                    "85 - 89",
                    "90 - 94",
                    "95 - 99",
                    "100+"
                  ],
                  "y": [
                    1139.016,
                    1246.032,
                    1605.797,
                    1805.207,
                    1689.157,
                    1908.499,
                    1927.909,
                    2142.527,
                    2060.343,
                    2049.311,
                    1929.273,
                    1385.418,
                    1092.418,
                    896.869,
                    711.379,
                    405.56,
                    177.525,
                    69.362,
                    16.097,
                    2.148,
                    0.184
                  ],
                  "type": "scatter"
                },
                {
                  "line": {
                    "dash": "solid"
                  },
                  "mode": "lines",
                  "name": "2015",
                  "x": [
                    "0 - 4",
                    "5 - 9",
                    "10 - 14",
                    "15 - 19",
                    "20 - 24",
                    "25 - 29",
                    "30 - 34",
                    "35 - 39",
                    "40 - 44",
                    "45 - 49",
                    "50 - 54",
                    "55 - 59",
                    "60 - 64",
                    "65 - 69",
                    "70 - 74",
                    "75 - 79",
                    "80 - 84",
                    "85 - 89",
                    "90 - 94",
                    "95 - 99",
                    "100+"
                  ],
                  "y": [
                    1114.317,
                    1137.575,
                    1244.881,
                    1602.7,
                    1798.132,
                    1680.85,
                    1899.097,
                    1916.505,
                    2124.189,
                    2031.836,
                    2005.136,
                    1860.248,
                    1304.919,
                    997.947,
                    772.963,
                    551.913,
                    265.353,
                    89.468,
                    24.258,
                    3.526,
                    0.1270949720670391
                  ],
                  "type": "scatter"
                },
                {
                  "line": {
                    "dash": "solid"
                  },
                  "mode": "lines",
                  "name": "2020",
                  "x": [
                    "0 - 4",
                    "5 - 9",
                    "10 - 14",
                    "15 - 19",
                    "20 - 24",
                    "25 - 29",
                    "30 - 34",
                    "35 - 39",
                    "40 - 44",
                    "45 - 49",
                    "50 - 54",
                    "55 - 59",
                    "60 - 64",
                    "65 - 69",
                    "70 - 74",
                    "75 - 79",
                    "80 - 84",
                    "85 - 89",
                    "90 - 94",
                    "95 - 99",
                    "100+"
                  ],
                  "y": [
                    1095.709,
                    1112.989,
                    1136.589,
                    1242.428,
                    1596.607,
                    1790.045,
                    1672.653,
                    1888.628,
                    1901.35,
                    2097.725,
                    1992.479,
                    1940.86,
                    1763.086,
                    1202.059,
                    871.244,
                    612.39,
                    373.991,
                    141.131,
                    33.604,
                    5.742,
                    0.13301191151446398
                  ],
                  "type": "scatter"
                },
                {
                  "line": {
                    "dash": "dot"
                  },
                  "mode": "lines",
                  "name": "2010-pred",
                  "x": [
                    "0 - 4",
                    "5 - 9",
                    "10 - 14",
                    "15 - 19",
                    "20 - 24",
                    "25 - 29",
                    "30 - 34",
                    "35 - 39",
                    "40 - 44",
                    "45 - 49",
                    "50 - 54",
                    "55 - 59",
                    "60 - 64",
                    "65 - 69",
                    "70 - 74",
                    "75 - 79",
                    "80 - 84",
                    "85 - 89",
                    "90 - 94",
                    "95 - 99",
                    "100+"
                  ],
                  "y": [
                    1350.0596580770984,
                    1243.3245772938728,
                    1602.3350673288483,
                    1790.8293265974764,
                    1665.5115950432548,
                    1872.7321883816148,
                    1903.0786231650552,
                    2131.790970435902,
                    2052.58351924333,
                    2041.42926959858,
                    1929.5960291151434,
                    1399.2510889885143,
                    1109.037225459134,
                    905.2734395944151,
                    713.620712268392,
                    402.6005760501351,
                    174.52989230474384,
                    68.34754555938886,
                    15.992764628385977,
                    2.166584598088814,
                    0.19039328537170266
                  ],
                  "type": "scatter"
                },
                {
                  "line": {
                    "dash": "dot"
                  },
                  "mode": "lines",
                  "name": "2015-pred",
                  "x": [
                    "0 - 4",
                    "5 - 9",
                    "10 - 14",
                    "15 - 19",
                    "20 - 24",
                    "25 - 29",
                    "30 - 34",
                    "35 - 39",
                    "40 - 44",
                    "45 - 49",
                    "50 - 54",
                    "55 - 59",
                    "60 - 64",
                    "65 - 69",
                    "70 - 74",
                    "75 - 79",
                    "80 - 84",
                    "85 - 89",
                    "90 - 94",
                    "95 - 99",
                    "100+"
                  ],
                  "y": [
                    1246.7907947846784,
                    1345.188358402422,
                    1239.3729238902192,
                    1586.2043091384016,
                    1757.7511136441915,
                    1625.790948779563,
                    1838.2650541362057,
                    1880.5747667538528,
                    2101.9415623089226,
                    2011.376479887692,
                    1991.0926083573754,
                    1869.9346871117898,
                    1328.7110324402838,
                    1013.856910033362,
                    773.1298332573677,
                    539.1595571196236,
                    251.43881905801618,
                    83.19458907801979,
                    22.60315988873205,
                    3.366661244143085,
                    0.27536926546452556
                  ],
                  "type": "scatter"
                },
                {
                  "line": {
                    "dash": "dot"
                  },
                  "mode": "lines",
                  "name": "2020-pred",
                  "x": [
                    "0 - 4",
                    "5 - 9",
                    "10 - 14",
                    "15 - 19",
                    "20 - 24",
                    "25 - 29",
                    "30 - 34",
                    "35 - 39",
                    "40 - 44",
                    "45 - 49",
                    "50 - 54",
                    "55 - 59",
                    "60 - 64",
                    "65 - 69",
                    "70 - 74",
                    "75 - 79",
                    "80 - 84",
                    "85 - 89",
                    "90 - 94",
                    "95 - 99",
                    "100+"
                  ],
                  "y": [
                    1163.177876929483,
                    1242.292110925274,
                    1340.9129517611361,
                    1226.8961171656513,
                    1556.905702539867,
                    1715.8306548419469,
                    1595.8687018965304,
                    1816.5276165335426,
                    1854.2428962728284,
                    2059.743625967095,
                    1961.7808470610196,
                    1929.529848445378,
                    1775.666189049934,
                    1214.677768024824,
                    865.8632734791207,
                    584.1202915341358,
                    336.72490898055605,
                    119.85539527675313,
                    27.513213289771524,
                    4.758225620196826,
                    0.4278969926608718
                  ],
                  "type": "scatter"
                }
              ],
              "layout": {
                "template": {
                  "data": {
                    "histogram2dcontour": [
                      {
                        "type": "histogram2dcontour",
                        "colorbar": {
                          "outlinewidth": 0,
                          "ticks": ""
                        },
                        "colorscale": [
                          [
                            0,
                            "#0d0887"
                          ],
                          [
                            0.1111111111111111,
                            "#46039f"
                          ],
                          [
                            0.2222222222222222,
                            "#7201a8"
                          ],
                          [
                            0.3333333333333333,
                            "#9c179e"
                          ],
                          [
                            0.4444444444444444,
                            "#bd3786"
                          ],
                          [
                            0.5555555555555556,
                            "#d8576b"
                          ],
                          [
                            0.6666666666666666,
                            "#ed7953"
                          ],
                          [
                            0.7777777777777778,
                            "#fb9f3a"
                          ],
                          [
                            0.8888888888888888,
                            "#fdca26"
                          ],
                          [
                            1,
                            "#f0f921"
                          ]
                        ]
                      }
                    ],
                    "choropleth": [
                      {
                        "type": "choropleth",
                        "colorbar": {
                          "outlinewidth": 0,
                          "ticks": ""
                        }
                      }
                    ],
                    "histogram2d": [
                      {
                        "type": "histogram2d",
                        "colorbar": {
                          "outlinewidth": 0,
                          "ticks": ""
                        },
                        "colorscale": [
                          [
                            0,
                            "#0d0887"
                          ],
                          [
                            0.1111111111111111,
                            "#46039f"
                          ],
                          [
                            0.2222222222222222,
                            "#7201a8"
                          ],
                          [
                            0.3333333333333333,
                            "#9c179e"
                          ],
                          [
                            0.4444444444444444,
                            "#bd3786"
                          ],
                          [
                            0.5555555555555556,
                            "#d8576b"
                          ],
                          [
                            0.6666666666666666,
                            "#ed7953"
                          ],
                          [
                            0.7777777777777778,
                            "#fb9f3a"
                          ],
                          [
                            0.8888888888888888,
                            "#fdca26"
                          ],
                          [
                            1,
                            "#f0f921"
                          ]
                        ]
                      }
                    ],
                    "heatmap": [
                      {
                        "type": "heatmap",
                        "colorbar": {
                          "outlinewidth": 0,
                          "ticks": ""
                        },
                        "colorscale": [
                          [
                            0,
                            "#0d0887"
                          ],
                          [
                            0.1111111111111111,
                            "#46039f"
                          ],
                          [
                            0.2222222222222222,
                            "#7201a8"
                          ],
                          [
                            0.3333333333333333,
                            "#9c179e"
                          ],
                          [
                            0.4444444444444444,
                            "#bd3786"
                          ],
                          [
                            0.5555555555555556,
                            "#d8576b"
                          ],
                          [
                            0.6666666666666666,
                            "#ed7953"
                          ],
                          [
                            0.7777777777777778,
                            "#fb9f3a"
                          ],
                          [
                            0.8888888888888888,
                            "#fdca26"
                          ],
                          [
                            1,
                            "#f0f921"
                          ]
                        ]
                      }
                    ],
                    "heatmapgl": [
                      {
                        "type": "heatmapgl",
                        "colorbar": {
                          "outlinewidth": 0,
                          "ticks": ""
                        },
                        "colorscale": [
                          [
                            0,
                            "#0d0887"
                          ],
                          [
                            0.1111111111111111,
                            "#46039f"
                          ],
                          [
                            0.2222222222222222,
                            "#7201a8"
                          ],
                          [
                            0.3333333333333333,
                            "#9c179e"
                          ],
                          [
                            0.4444444444444444,
                            "#bd3786"
                          ],
                          [
                            0.5555555555555556,
                            "#d8576b"
                          ],
                          [
                            0.6666666666666666,
                            "#ed7953"
                          ],
                          [
                            0.7777777777777778,
                            "#fb9f3a"
                          ],
                          [
                            0.8888888888888888,
                            "#fdca26"
                          ],
                          [
                            1,
                            "#f0f921"
                          ]
                        ]
                      }
                    ],
                    "contourcarpet": [
                      {
                        "type": "contourcarpet",
                        "colorbar": {
                          "outlinewidth": 0,
                          "ticks": ""
                        }
                      }
                    ],
                    "contour": [
                      {
                        "type": "contour",
                        "colorbar": {
                          "outlinewidth": 0,
                          "ticks": ""
                        },
                        "colorscale": [
                          [
                            0,
                            "#0d0887"
                          ],
                          [
                            0.1111111111111111,
                            "#46039f"
                          ],
                          [
                            0.2222222222222222,
                            "#7201a8"
                          ],
                          [
                            0.3333333333333333,
                            "#9c179e"
                          ],
                          [
                            0.4444444444444444,
                            "#bd3786"
                          ],
                          [
                            0.5555555555555556,
                            "#d8576b"
                          ],
                          [
                            0.6666666666666666,
                            "#ed7953"
                          ],
                          [
                            0.7777777777777778,
                            "#fb9f3a"
                          ],
                          [
                            0.8888888888888888,
                            "#fdca26"
                          ],
                          [
                            1,
                            "#f0f921"
                          ]
                        ]
                      }
                    ],
                    "surface": [
                      {
                        "type": "surface",
                        "colorbar": {
                          "outlinewidth": 0,
                          "ticks": ""
                        },
                        "colorscale": [
                          [
                            0,
                            "#0d0887"
                          ],
                          [
                            0.1111111111111111,
                            "#46039f"
                          ],
                          [
                            0.2222222222222222,
                            "#7201a8"
                          ],
                          [
                            0.3333333333333333,
                            "#9c179e"
                          ],
                          [
                            0.4444444444444444,
                            "#bd3786"
                          ],
                          [
                            0.5555555555555556,
                            "#d8576b"
                          ],
                          [
                            0.6666666666666666,
                            "#ed7953"
                          ],
                          [
                            0.7777777777777778,
                            "#fb9f3a"
                          ],
                          [
                            0.8888888888888888,
                            "#fdca26"
                          ],
                          [
                            1,
                            "#f0f921"
                          ]
                        ]
                      }
                    ],
                    "mesh3d": [
                      {
                        "type": "mesh3d",
                        "colorbar": {
                          "outlinewidth": 0,
                          "ticks": ""
                        }
                      }
                    ],
                    "scatter": [
                      {
                        "fillpattern": {
                          "fillmode": "overlay",
                          "size": 10,
                          "solidity": 0.2
                        },
                        "type": "scatter"
                      }
                    ],
                    "parcoords": [
                      {
                        "type": "parcoords",
                        "line": {
                          "colorbar": {
                            "outlinewidth": 0,
                            "ticks": ""
                          }
                        }
                      }
                    ],
                    "scatterpolargl": [
                      {
                        "type": "scatterpolargl",
                        "marker": {
                          "colorbar": {
                            "outlinewidth": 0,
                            "ticks": ""
                          }
                        }
                      }
                    ],
                    "bar": [
                      {
                        "error_x": {
                          "color": "#2a3f5f"
                        },
                        "error_y": {
                          "color": "#2a3f5f"
                        },
                        "marker": {
                          "line": {
                            "color": "#E5ECF6",
                            "width": 0.5
                          },
                          "pattern": {
                            "fillmode": "overlay",
                            "size": 10,
                            "solidity": 0.2
                          }
                        },
                        "type": "bar"
                      }
                    ],
                    "scattergeo": [
                      {
                        "type": "scattergeo",
                        "marker": {
                          "colorbar": {
                            "outlinewidth": 0,
                            "ticks": ""
                          }
                        }
                      }
                    ],
                    "scatterpolar": [
                      {
                        "type": "scatterpolar",
                        "marker": {
                          "colorbar": {
                            "outlinewidth": 0,
                            "ticks": ""
                          }
                        }
                      }
                    ],
                    "histogram": [
                      {
                        "marker": {
                          "pattern": {
                            "fillmode": "overlay",
                            "size": 10,
                            "solidity": 0.2
                          }
                        },
                        "type": "histogram"
                      }
                    ],
                    "scattergl": [
                      {
                        "type": "scattergl",
                        "marker": {
                          "colorbar": {
                            "outlinewidth": 0,
                            "ticks": ""
                          }
                        }
                      }
                    ],
                    "scatter3d": [
                      {
                        "type": "scatter3d",
                        "line": {
                          "colorbar": {
                            "outlinewidth": 0,
                            "ticks": ""
                          }
                        },
                        "marker": {
                          "colorbar": {
                            "outlinewidth": 0,
                            "ticks": ""
                          }
                        }
                      }
                    ],
                    "scattermapbox": [
                      {
                        "type": "scattermapbox",
                        "marker": {
                          "colorbar": {
                            "outlinewidth": 0,
                            "ticks": ""
                          }
                        }
                      }
                    ],
                    "scatterternary": [
                      {
                        "type": "scatterternary",
                        "marker": {
                          "colorbar": {
                            "outlinewidth": 0,
                            "ticks": ""
                          }
                        }
                      }
                    ],
                    "scattercarpet": [
                      {
                        "type": "scattercarpet",
                        "marker": {
                          "colorbar": {
                            "outlinewidth": 0,
                            "ticks": ""
                          }
                        }
                      }
                    ],
                    "carpet": [
                      {
                        "aaxis": {
                          "endlinecolor": "#2a3f5f",
                          "gridcolor": "white",
                          "linecolor": "white",
                          "minorgridcolor": "white",
                          "startlinecolor": "#2a3f5f"
                        },
                        "baxis": {
                          "endlinecolor": "#2a3f5f",
                          "gridcolor": "white",
                          "linecolor": "white",
                          "minorgridcolor": "white",
                          "startlinecolor": "#2a3f5f"
                        },
                        "type": "carpet"
                      }
                    ],
                    "table": [
                      {
                        "cells": {
                          "fill": {
                            "color": "#EBF0F8"
                          },
                          "line": {
                            "color": "white"
                          }
                        },
                        "header": {
                          "fill": {
                            "color": "#C8D4E3"
                          },
                          "line": {
                            "color": "white"
                          }
                        },
                        "type": "table"
                      }
                    ],
                    "barpolar": [
                      {
                        "marker": {
                          "line": {
                            "color": "#E5ECF6",
                            "width": 0.5
                          },
                          "pattern": {
                            "fillmode": "overlay",
                            "size": 10,
                            "solidity": 0.2
                          }
                        },
                        "type": "barpolar"
                      }
                    ],
                    "pie": [
                      {
                        "automargin": true,
                        "type": "pie"
                      }
                    ]
                  },
                  "layout": {
                    "autotypenumbers": "strict",
                    "colorway": [
                      "#636efa",
                      "#EF553B",
                      "#00cc96",
                      "#ab63fa",
                      "#FFA15A",
                      "#19d3f3",
                      "#FF6692",
                      "#B6E880",
                      "#FF97FF",
                      "#FECB52"
                    ],
                    "font": {
                      "color": "#2a3f5f"
                    },
                    "hovermode": "closest",
                    "hoverlabel": {
                      "align": "left"
                    },
                    "paper_bgcolor": "white",
                    "plot_bgcolor": "#E5ECF6",
                    "polar": {
                      "bgcolor": "#E5ECF6",
                      "angularaxis": {
                        "gridcolor": "white",
                        "linecolor": "white",
                        "ticks": ""
                      },
                      "radialaxis": {
                        "gridcolor": "white",
                        "linecolor": "white",
                        "ticks": ""
                      }
                    },
                    "ternary": {
                      "bgcolor": "#E5ECF6",
                      "aaxis": {
                        "gridcolor": "white",
                        "linecolor": "white",
                        "ticks": ""
                      },
                      "baxis": {
                        "gridcolor": "white",
                        "linecolor": "white",
                        "ticks": ""
                      },
                      "caxis": {
                        "gridcolor": "white",
                        "linecolor": "white",
                        "ticks": ""
                      }
                    },
                    "coloraxis": {
                      "colorbar": {
                        "outlinewidth": 0,
                        "ticks": ""
                      }
                    },
                    "colorscale": {
                      "sequential": [
                        [
                          0,
                          "#0d0887"
                        ],
                        [
                          0.1111111111111111,
                          "#46039f"
                        ],
                        [
                          0.2222222222222222,
                          "#7201a8"
                        ],
                        [
                          0.3333333333333333,
                          "#9c179e"
                        ],
                        [
                          0.4444444444444444,
                          "#bd3786"
                        ],
                        [
                          0.5555555555555556,
                          "#d8576b"
                        ],
                        [
                          0.6666666666666666,
                          "#ed7953"
                        ],
                        [
                          0.7777777777777778,
                          "#fb9f3a"
                        ],
                        [
                          0.8888888888888888,
                          "#fdca26"
                        ],
                        [
                          1,
                          "#f0f921"
                        ]
                      ],
                      "sequentialminus": [
                        [
                          0,
                          "#0d0887"
                        ],
                        [
                          0.1111111111111111,
                          "#46039f"
                        ],
                        [
                          0.2222222222222222,
                          "#7201a8"
                        ],
                        [
                          0.3333333333333333,
                          "#9c179e"
                        ],
                        [
                          0.4444444444444444,
                          "#bd3786"
                        ],
                        [
                          0.5555555555555556,
                          "#d8576b"
                        ],
                        [
                          0.6666666666666666,
                          "#ed7953"
                        ],
                        [
                          0.7777777777777778,
                          "#fb9f3a"
                        ],
                        [
                          0.8888888888888888,
                          "#fdca26"
                        ],
                        [
                          1,
                          "#f0f921"
                        ]
                      ],
                      "diverging": [
                        [
                          0,
                          "#8e0152"
                        ],
                        [
                          0.1,
                          "#c51b7d"
                        ],
                        [
                          0.2,
                          "#de77ae"
                        ],
                        [
                          0.3,
                          "#f1b6da"
                        ],
                        [
                          0.4,
                          "#fde0ef"
                        ],
                        [
                          0.5,
                          "#f7f7f7"
                        ],
                        [
                          0.6,
                          "#e6f5d0"
                        ],
                        [
                          0.7,
                          "#b8e186"
                        ],
                        [
                          0.8,
                          "#7fbc41"
                        ],
                        [
                          0.9,
                          "#4d9221"
                        ],
                        [
                          1,
                          "#276419"
                        ]
                      ]
                    },
                    "xaxis": {
                      "gridcolor": "white",
                      "linecolor": "white",
                      "ticks": "",
                      "title": {
                        "standoff": 15
                      },
                      "zerolinecolor": "white",
                      "automargin": true,
                      "zerolinewidth": 2
                    },
                    "yaxis": {
                      "gridcolor": "white",
                      "linecolor": "white",
                      "ticks": "",
                      "title": {
                        "standoff": 15
                      },
                      "zerolinecolor": "white",
                      "automargin": true,
                      "zerolinewidth": 2
                    },
                    "scene": {
                      "xaxis": {
                        "backgroundcolor": "#E5ECF6",
                        "gridcolor": "white",
                        "linecolor": "white",
                        "showbackground": true,
                        "ticks": "",
                        "zerolinecolor": "white",
                        "gridwidth": 2
                      },
                      "yaxis": {
                        "backgroundcolor": "#E5ECF6",
                        "gridcolor": "white",
                        "linecolor": "white",
                        "showbackground": true,
                        "ticks": "",
                        "zerolinecolor": "white",
                        "gridwidth": 2
                      },
                      "zaxis": {
                        "backgroundcolor": "#E5ECF6",
                        "gridcolor": "white",
                        "linecolor": "white",
                        "showbackground": true,
                        "ticks": "",
                        "zerolinecolor": "white",
                        "gridwidth": 2
                      }
                    },
                    "shapedefaults": {
                      "line": {
                        "color": "#2a3f5f"
                      }
                    },
                    "annotationdefaults": {
                      "arrowcolor": "#2a3f5f",
                      "arrowhead": 0,
                      "arrowwidth": 1
                    },
                    "geo": {
                      "bgcolor": "white",
                      "landcolor": "#E5ECF6",
                      "subunitcolor": "white",
                      "showland": true,
                      "showlakes": true,
                      "lakecolor": "white"
                    },
                    "title": {
                      "x": 0.05
                    },
                    "mapbox": {
                      "style": "light"
                    }
                  }
                },
                "title": {
                  "text": "Men | True & Pred"
                },
                "legend": {
                  "title": {
                    "text": "year"
                  }
                },
                "xaxis": {
                  "title": {
                    "text": "Age Groups"
                  }
                },
                "yaxis": {
                  "title": {
                    "text": "Population"
                  }
                }
              },
              "config": {
                "plotlyServerURL": "https://plot.ly"
              }
            }
          },
          "metadata": {},
          "output_type": "display_data"
        }
      ],
      "metadata": {
        "datalore": {
          "node_id": "da6fMMN27PXtoSBp4HSw7r",
          "type": "CODE",
          "hide_input_from_viewers": false,
          "hide_output_from_viewers": false,
          "report_properties": {
            "rowId": "4iyxBMLaYb7Q0LZQtmjt81"
          }
        },
        "id": "NoVyIPIC6eHC",
        "outputId": "6047d22a-6111-4573-ae20-6c0a6a648287"
      }
    },
    {
      "cell_type": "code",
      "source": [
        "raft(\n",
        "    df_true=m_cleaned_2010_2050_df,\n",
        "    df_pred=m_pred_2010_2050_df,\n",
        "    features=AGE_GROUPS,\n",
        "    years=both_pred_2010_2050_df[\"Year\"].unique()[3:6],\n",
        "    pltTitle=\"Men | True & Pred\",\n",
        "    yTitle=\"Population\"\n",
        ")"
      ],
      "execution_count": null,
      "outputs": [
        {
          "data": {
            "application/vnd.plotly.v1+json": {
              "data": [
                {
                  "line": {
                    "dash": "solid"
                  },
                  "mode": "lines",
                  "name": "2025",
                  "x": [
                    "0 - 4",
                    "5 - 9",
                    "10 - 14",
                    "15 - 19",
                    "20 - 24",
                    "25 - 29",
                    "30 - 34",
                    "35 - 39",
                    "40 - 44",
                    "45 - 49",
                    "50 - 54",
                    "55 - 59",
                    "60 - 64",
                    "65 - 69",
                    "70 - 74",
                    "75 - 79",
                    "80 - 84",
                    "85 - 89",
                    "90 - 94",
                    "95 - 99",
                    "100+"
                  ],
                  "y": [
                    1078.776,
                    1094.476,
                    1112.094,
                    1134.418,
                    1237.375,
                    1589.383,
                    1781.955,
                    1663.734,
                    1874.835,
                    1879.705,
                    2060.969,
                    1934.851,
                    1849.081,
                    1635.699,
                    1061.02,
                    702.544,
                    427.249,
                    207.899,
                    56.157,
                    8.467,
                    0.13932427725531174
                  ],
                  "type": "scatter"
                },
                {
                  "line": {
                    "dash": "solid"
                  },
                  "mode": "lines",
                  "name": "2030",
                  "x": [
                    "0 - 4",
                    "5 - 9",
                    "10 - 14",
                    "15 - 19",
                    "20 - 24",
                    "25 - 29",
                    "30 - 34",
                    "35 - 39",
                    "40 - 44",
                    "45 - 49",
                    "50 - 54",
                    "55 - 59",
                    "60 - 64",
                    "65 - 69",
                    "70 - 74",
                    "75 - 79",
                    "80 - 84",
                    "85 - 89",
                    "90 - 94",
                    "95 - 99",
                    "100+"
                  ],
                  "y": [
                    1016.592,
                    1077.603,
                    1093.646,
                    1110.049,
                    1129.749,
                    1231.133,
                    1582.127,
                    1773.108,
                    1652.199,
                    1855.121,
                    1849.322,
                    2006.234,
                    1850.571,
                    1724.818,
                    1456.218,
                    868.002,
                    501.824,
                    246.521,
                    87.267,
                    15.101,
                    0.14904925002952638
                  ],
                  "type": "scatter"
                },
                {
                  "line": {
                    "dash": "solid"
                  },
                  "mode": "lines",
                  "name": "2035",
                  "x": [
                    "0 - 4",
                    "5 - 9",
                    "10 - 14",
                    "15 - 19",
                    "20 - 24",
                    "25 - 29",
                    "30 - 34",
                    "35 - 39",
                    "40 - 44",
                    "45 - 49",
                    "50 - 54",
                    "55 - 59",
                    "60 - 64",
                    "65 - 69",
                    "70 - 74",
                    "75 - 79",
                    "80 - 84",
                    "85 - 89",
                    "90 - 94",
                    "95 - 99",
                    "100+"
                  ],
                  "y": [
                    944.766,
                    1015.496,
                    1076.824,
                    1091.695,
                    1105.571,
                    1123.874,
                    1224.95,
                    1574.35,
                    1761.603,
                    1635.833,
                    1827.166,
                    1803.596,
                    1924.779,
                    1733.665,
                    1546.059,
                    1205.103,
                    631.682,
                    298.197,
                    107.94,
                    24.709,
                    0.15442685914840074
                  ],
                  "type": "scatter"
                },
                {
                  "line": {
                    "dash": "dot"
                  },
                  "mode": "lines",
                  "name": "2025-pred",
                  "x": [
                    "0 - 4",
                    "5 - 9",
                    "10 - 14",
                    "15 - 19",
                    "20 - 24",
                    "25 - 29",
                    "30 - 34",
                    "35 - 39",
                    "40 - 44",
                    "45 - 49",
                    "50 - 54",
                    "55 - 59",
                    "60 - 64",
                    "65 - 69",
                    "70 - 74",
                    "75 - 79",
                    "80 - 84",
                    "85 - 89",
                    "90 - 94",
                    "95 - 99",
                    "100+"
                  ],
                  "y": [
                    1038.0959990349395,
                    1158.9808860931316,
                    1238.3437390052445,
                    1327.413938339833,
                    1204.2342529486566,
                    1519.775189092493,
                    1684.2512512893582,
                    1576.9975950061155,
                    1791.0925363817807,
                    1817.0176826406962,
                    2008.95537741591,
                    1901.1243799631843,
                    1832.25699606602,
                    1623.2741285447667,
                    1037.3701239652028,
                    654.1828887942546,
                    364.8045358804398,
                    160.50941225619232,
                    39.637277985551336,
                    5.7918484412700595,
                    0.604762488897918
                  ],
                  "type": "scatter"
                },
                {
                  "line": {
                    "dash": "dot"
                  },
                  "mode": "lines",
                  "name": "2030-pred",
                  "x": [
                    "0 - 4",
                    "5 - 9",
                    "10 - 14",
                    "15 - 19",
                    "20 - 24",
                    "25 - 29",
                    "30 - 34",
                    "35 - 39",
                    "40 - 44",
                    "45 - 49",
                    "50 - 54",
                    "55 - 59",
                    "60 - 64",
                    "65 - 69",
                    "70 - 74",
                    "75 - 79",
                    "80 - 84",
                    "85 - 89",
                    "90 - 94",
                    "95 - 99",
                    "100+"
                  ],
                  "y": [
                    986.9969779150806,
                    1034.3503299660745,
                    1155.297301897227,
                    1225.8772931177143,
                    1302.8954204233387,
                    1175.514571307081,
                    1491.8041338661924,
                    1664.3350229958746,
                    1554.916422188793,
                    1755.135110072774,
                    1772.214463189283,
                    1946.8403170442064,
                    1805.2835245776334,
                    1675.0081726512396,
                    1386.3232935400006,
                    783.7609068665213,
                    408.5611963602994,
                    173.89435732520639,
                    53.08193409404362,
                    8.344103769302404,
                    0.7361342143580653
                  ],
                  "type": "scatter"
                },
                {
                  "line": {
                    "dash": "dot"
                  },
                  "mode": "lines",
                  "name": "2035-pred",
                  "x": [
                    "0 - 4",
                    "5 - 9",
                    "10 - 14",
                    "15 - 19",
                    "20 - 24",
                    "25 - 29",
                    "30 - 34",
                    "35 - 39",
                    "40 - 44",
                    "45 - 49",
                    "50 - 54",
                    "55 - 59",
                    "60 - 64",
                    "65 - 69",
                    "70 - 74",
                    "75 - 79",
                    "80 - 84",
                    "85 - 89",
                    "90 - 94",
                    "95 - 99",
                    "100+"
                  ],
                  "y": [
                    906.7903710152145,
                    983.4356848798732,
                    1031.0628585554498,
                    1143.666887138817,
                    1203.2342474884651,
                    1271.8227768781128,
                    1153.879540527966,
                    1474.1635878511624,
                    1641.03094860472,
                    1523.7003953605733,
                    1711.8577637625342,
                    1717.4192150667463,
                    1848.6947968188506,
                    1650.3496311448741,
                    1430.5056710895801,
                    1047.4043705846498,
                    489.4874189693594,
                    194.75220201860736,
                    57.5084581340903,
                    11.174358807318345,
                    1.0605215821895142
                  ],
                  "type": "scatter"
                }
              ],
              "layout": {
                "template": {
                  "data": {
                    "histogram2dcontour": [
                      {
                        "type": "histogram2dcontour",
                        "colorbar": {
                          "outlinewidth": 0,
                          "ticks": ""
                        },
                        "colorscale": [
                          [
                            0,
                            "#0d0887"
                          ],
                          [
                            0.1111111111111111,
                            "#46039f"
                          ],
                          [
                            0.2222222222222222,
                            "#7201a8"
                          ],
                          [
                            0.3333333333333333,
                            "#9c179e"
                          ],
                          [
                            0.4444444444444444,
                            "#bd3786"
                          ],
                          [
                            0.5555555555555556,
                            "#d8576b"
                          ],
                          [
                            0.6666666666666666,
                            "#ed7953"
                          ],
                          [
                            0.7777777777777778,
                            "#fb9f3a"
                          ],
                          [
                            0.8888888888888888,
                            "#fdca26"
                          ],
                          [
                            1,
                            "#f0f921"
                          ]
                        ]
                      }
                    ],
                    "choropleth": [
                      {
                        "type": "choropleth",
                        "colorbar": {
                          "outlinewidth": 0,
                          "ticks": ""
                        }
                      }
                    ],
                    "histogram2d": [
                      {
                        "type": "histogram2d",
                        "colorbar": {
                          "outlinewidth": 0,
                          "ticks": ""
                        },
                        "colorscale": [
                          [
                            0,
                            "#0d0887"
                          ],
                          [
                            0.1111111111111111,
                            "#46039f"
                          ],
                          [
                            0.2222222222222222,
                            "#7201a8"
                          ],
                          [
                            0.3333333333333333,
                            "#9c179e"
                          ],
                          [
                            0.4444444444444444,
                            "#bd3786"
                          ],
                          [
                            0.5555555555555556,
                            "#d8576b"
                          ],
                          [
                            0.6666666666666666,
                            "#ed7953"
                          ],
                          [
                            0.7777777777777778,
                            "#fb9f3a"
                          ],
                          [
                            0.8888888888888888,
                            "#fdca26"
                          ],
                          [
                            1,
                            "#f0f921"
                          ]
                        ]
                      }
                    ],
                    "heatmap": [
                      {
                        "type": "heatmap",
                        "colorbar": {
                          "outlinewidth": 0,
                          "ticks": ""
                        },
                        "colorscale": [
                          [
                            0,
                            "#0d0887"
                          ],
                          [
                            0.1111111111111111,
                            "#46039f"
                          ],
                          [
                            0.2222222222222222,
                            "#7201a8"
                          ],
                          [
                            0.3333333333333333,
                            "#9c179e"
                          ],
                          [
                            0.4444444444444444,
                            "#bd3786"
                          ],
                          [
                            0.5555555555555556,
                            "#d8576b"
                          ],
                          [
                            0.6666666666666666,
                            "#ed7953"
                          ],
                          [
                            0.7777777777777778,
                            "#fb9f3a"
                          ],
                          [
                            0.8888888888888888,
                            "#fdca26"
                          ],
                          [
                            1,
                            "#f0f921"
                          ]
                        ]
                      }
                    ],
                    "heatmapgl": [
                      {
                        "type": "heatmapgl",
                        "colorbar": {
                          "outlinewidth": 0,
                          "ticks": ""
                        },
                        "colorscale": [
                          [
                            0,
                            "#0d0887"
                          ],
                          [
                            0.1111111111111111,
                            "#46039f"
                          ],
                          [
                            0.2222222222222222,
                            "#7201a8"
                          ],
                          [
                            0.3333333333333333,
                            "#9c179e"
                          ],
                          [
                            0.4444444444444444,
                            "#bd3786"
                          ],
                          [
                            0.5555555555555556,
                            "#d8576b"
                          ],
                          [
                            0.6666666666666666,
                            "#ed7953"
                          ],
                          [
                            0.7777777777777778,
                            "#fb9f3a"
                          ],
                          [
                            0.8888888888888888,
                            "#fdca26"
                          ],
                          [
                            1,
                            "#f0f921"
                          ]
                        ]
                      }
                    ],
                    "contourcarpet": [
                      {
                        "type": "contourcarpet",
                        "colorbar": {
                          "outlinewidth": 0,
                          "ticks": ""
                        }
                      }
                    ],
                    "contour": [
                      {
                        "type": "contour",
                        "colorbar": {
                          "outlinewidth": 0,
                          "ticks": ""
                        },
                        "colorscale": [
                          [
                            0,
                            "#0d0887"
                          ],
                          [
                            0.1111111111111111,
                            "#46039f"
                          ],
                          [
                            0.2222222222222222,
                            "#7201a8"
                          ],
                          [
                            0.3333333333333333,
                            "#9c179e"
                          ],
                          [
                            0.4444444444444444,
                            "#bd3786"
                          ],
                          [
                            0.5555555555555556,
                            "#d8576b"
                          ],
                          [
                            0.6666666666666666,
                            "#ed7953"
                          ],
                          [
                            0.7777777777777778,
                            "#fb9f3a"
                          ],
                          [
                            0.8888888888888888,
                            "#fdca26"
                          ],
                          [
                            1,
                            "#f0f921"
                          ]
                        ]
                      }
                    ],
                    "surface": [
                      {
                        "type": "surface",
                        "colorbar": {
                          "outlinewidth": 0,
                          "ticks": ""
                        },
                        "colorscale": [
                          [
                            0,
                            "#0d0887"
                          ],
                          [
                            0.1111111111111111,
                            "#46039f"
                          ],
                          [
                            0.2222222222222222,
                            "#7201a8"
                          ],
                          [
                            0.3333333333333333,
                            "#9c179e"
                          ],
                          [
                            0.4444444444444444,
                            "#bd3786"
                          ],
                          [
                            0.5555555555555556,
                            "#d8576b"
                          ],
                          [
                            0.6666666666666666,
                            "#ed7953"
                          ],
                          [
                            0.7777777777777778,
                            "#fb9f3a"
                          ],
                          [
                            0.8888888888888888,
                            "#fdca26"
                          ],
                          [
                            1,
                            "#f0f921"
                          ]
                        ]
                      }
                    ],
                    "mesh3d": [
                      {
                        "type": "mesh3d",
                        "colorbar": {
                          "outlinewidth": 0,
                          "ticks": ""
                        }
                      }
                    ],
                    "scatter": [
                      {
                        "fillpattern": {
                          "fillmode": "overlay",
                          "size": 10,
                          "solidity": 0.2
                        },
                        "type": "scatter"
                      }
                    ],
                    "parcoords": [
                      {
                        "type": "parcoords",
                        "line": {
                          "colorbar": {
                            "outlinewidth": 0,
                            "ticks": ""
                          }
                        }
                      }
                    ],
                    "scatterpolargl": [
                      {
                        "type": "scatterpolargl",
                        "marker": {
                          "colorbar": {
                            "outlinewidth": 0,
                            "ticks": ""
                          }
                        }
                      }
                    ],
                    "bar": [
                      {
                        "error_x": {
                          "color": "#2a3f5f"
                        },
                        "error_y": {
                          "color": "#2a3f5f"
                        },
                        "marker": {
                          "line": {
                            "color": "#E5ECF6",
                            "width": 0.5
                          },
                          "pattern": {
                            "fillmode": "overlay",
                            "size": 10,
                            "solidity": 0.2
                          }
                        },
                        "type": "bar"
                      }
                    ],
                    "scattergeo": [
                      {
                        "type": "scattergeo",
                        "marker": {
                          "colorbar": {
                            "outlinewidth": 0,
                            "ticks": ""
                          }
                        }
                      }
                    ],
                    "scatterpolar": [
                      {
                        "type": "scatterpolar",
                        "marker": {
                          "colorbar": {
                            "outlinewidth": 0,
                            "ticks": ""
                          }
                        }
                      }
                    ],
                    "histogram": [
                      {
                        "marker": {
                          "pattern": {
                            "fillmode": "overlay",
                            "size": 10,
                            "solidity": 0.2
                          }
                        },
                        "type": "histogram"
                      }
                    ],
                    "scattergl": [
                      {
                        "type": "scattergl",
                        "marker": {
                          "colorbar": {
                            "outlinewidth": 0,
                            "ticks": ""
                          }
                        }
                      }
                    ],
                    "scatter3d": [
                      {
                        "type": "scatter3d",
                        "line": {
                          "colorbar": {
                            "outlinewidth": 0,
                            "ticks": ""
                          }
                        },
                        "marker": {
                          "colorbar": {
                            "outlinewidth": 0,
                            "ticks": ""
                          }
                        }
                      }
                    ],
                    "scattermapbox": [
                      {
                        "type": "scattermapbox",
                        "marker": {
                          "colorbar": {
                            "outlinewidth": 0,
                            "ticks": ""
                          }
                        }
                      }
                    ],
                    "scatterternary": [
                      {
                        "type": "scatterternary",
                        "marker": {
                          "colorbar": {
                            "outlinewidth": 0,
                            "ticks": ""
                          }
                        }
                      }
                    ],
                    "scattercarpet": [
                      {
                        "type": "scattercarpet",
                        "marker": {
                          "colorbar": {
                            "outlinewidth": 0,
                            "ticks": ""
                          }
                        }
                      }
                    ],
                    "carpet": [
                      {
                        "aaxis": {
                          "endlinecolor": "#2a3f5f",
                          "gridcolor": "white",
                          "linecolor": "white",
                          "minorgridcolor": "white",
                          "startlinecolor": "#2a3f5f"
                        },
                        "baxis": {
                          "endlinecolor": "#2a3f5f",
                          "gridcolor": "white",
                          "linecolor": "white",
                          "minorgridcolor": "white",
                          "startlinecolor": "#2a3f5f"
                        },
                        "type": "carpet"
                      }
                    ],
                    "table": [
                      {
                        "cells": {
                          "fill": {
                            "color": "#EBF0F8"
                          },
                          "line": {
                            "color": "white"
                          }
                        },
                        "header": {
                          "fill": {
                            "color": "#C8D4E3"
                          },
                          "line": {
                            "color": "white"
                          }
                        },
                        "type": "table"
                      }
                    ],
                    "barpolar": [
                      {
                        "marker": {
                          "line": {
                            "color": "#E5ECF6",
                            "width": 0.5
                          },
                          "pattern": {
                            "fillmode": "overlay",
                            "size": 10,
                            "solidity": 0.2
                          }
                        },
                        "type": "barpolar"
                      }
                    ],
                    "pie": [
                      {
                        "automargin": true,
                        "type": "pie"
                      }
                    ]
                  },
                  "layout": {
                    "autotypenumbers": "strict",
                    "colorway": [
                      "#636efa",
                      "#EF553B",
                      "#00cc96",
                      "#ab63fa",
                      "#FFA15A",
                      "#19d3f3",
                      "#FF6692",
                      "#B6E880",
                      "#FF97FF",
                      "#FECB52"
                    ],
                    "font": {
                      "color": "#2a3f5f"
                    },
                    "hovermode": "closest",
                    "hoverlabel": {
                      "align": "left"
                    },
                    "paper_bgcolor": "white",
                    "plot_bgcolor": "#E5ECF6",
                    "polar": {
                      "bgcolor": "#E5ECF6",
                      "angularaxis": {
                        "gridcolor": "white",
                        "linecolor": "white",
                        "ticks": ""
                      },
                      "radialaxis": {
                        "gridcolor": "white",
                        "linecolor": "white",
                        "ticks": ""
                      }
                    },
                    "ternary": {
                      "bgcolor": "#E5ECF6",
                      "aaxis": {
                        "gridcolor": "white",
                        "linecolor": "white",
                        "ticks": ""
                      },
                      "baxis": {
                        "gridcolor": "white",
                        "linecolor": "white",
                        "ticks": ""
                      },
                      "caxis": {
                        "gridcolor": "white",
                        "linecolor": "white",
                        "ticks": ""
                      }
                    },
                    "coloraxis": {
                      "colorbar": {
                        "outlinewidth": 0,
                        "ticks": ""
                      }
                    },
                    "colorscale": {
                      "sequential": [
                        [
                          0,
                          "#0d0887"
                        ],
                        [
                          0.1111111111111111,
                          "#46039f"
                        ],
                        [
                          0.2222222222222222,
                          "#7201a8"
                        ],
                        [
                          0.3333333333333333,
                          "#9c179e"
                        ],
                        [
                          0.4444444444444444,
                          "#bd3786"
                        ],
                        [
                          0.5555555555555556,
                          "#d8576b"
                        ],
                        [
                          0.6666666666666666,
                          "#ed7953"
                        ],
                        [
                          0.7777777777777778,
                          "#fb9f3a"
                        ],
                        [
                          0.8888888888888888,
                          "#fdca26"
                        ],
                        [
                          1,
                          "#f0f921"
                        ]
                      ],
                      "sequentialminus": [
                        [
                          0,
                          "#0d0887"
                        ],
                        [
                          0.1111111111111111,
                          "#46039f"
                        ],
                        [
                          0.2222222222222222,
                          "#7201a8"
                        ],
                        [
                          0.3333333333333333,
                          "#9c179e"
                        ],
                        [
                          0.4444444444444444,
                          "#bd3786"
                        ],
                        [
                          0.5555555555555556,
                          "#d8576b"
                        ],
                        [
                          0.6666666666666666,
                          "#ed7953"
                        ],
                        [
                          0.7777777777777778,
                          "#fb9f3a"
                        ],
                        [
                          0.8888888888888888,
                          "#fdca26"
                        ],
                        [
                          1,
                          "#f0f921"
                        ]
                      ],
                      "diverging": [
                        [
                          0,
                          "#8e0152"
                        ],
                        [
                          0.1,
                          "#c51b7d"
                        ],
                        [
                          0.2,
                          "#de77ae"
                        ],
                        [
                          0.3,
                          "#f1b6da"
                        ],
                        [
                          0.4,
                          "#fde0ef"
                        ],
                        [
                          0.5,
                          "#f7f7f7"
                        ],
                        [
                          0.6,
                          "#e6f5d0"
                        ],
                        [
                          0.7,
                          "#b8e186"
                        ],
                        [
                          0.8,
                          "#7fbc41"
                        ],
                        [
                          0.9,
                          "#4d9221"
                        ],
                        [
                          1,
                          "#276419"
                        ]
                      ]
                    },
                    "xaxis": {
                      "gridcolor": "white",
                      "linecolor": "white",
                      "ticks": "",
                      "title": {
                        "standoff": 15
                      },
                      "zerolinecolor": "white",
                      "automargin": true,
                      "zerolinewidth": 2
                    },
                    "yaxis": {
                      "gridcolor": "white",
                      "linecolor": "white",
                      "ticks": "",
                      "title": {
                        "standoff": 15
                      },
                      "zerolinecolor": "white",
                      "automargin": true,
                      "zerolinewidth": 2
                    },
                    "scene": {
                      "xaxis": {
                        "backgroundcolor": "#E5ECF6",
                        "gridcolor": "white",
                        "linecolor": "white",
                        "showbackground": true,
                        "ticks": "",
                        "zerolinecolor": "white",
                        "gridwidth": 2
                      },
                      "yaxis": {
                        "backgroundcolor": "#E5ECF6",
                        "gridcolor": "white",
                        "linecolor": "white",
                        "showbackground": true,
                        "ticks": "",
                        "zerolinecolor": "white",
                        "gridwidth": 2
                      },
                      "zaxis": {
                        "backgroundcolor": "#E5ECF6",
                        "gridcolor": "white",
                        "linecolor": "white",
                        "showbackground": true,
                        "ticks": "",
                        "zerolinecolor": "white",
                        "gridwidth": 2
                      }
                    },
                    "shapedefaults": {
                      "line": {
                        "color": "#2a3f5f"
                      }
                    },
                    "annotationdefaults": {
                      "arrowcolor": "#2a3f5f",
                      "arrowhead": 0,
                      "arrowwidth": 1
                    },
                    "geo": {
                      "bgcolor": "white",
                      "landcolor": "#E5ECF6",
                      "subunitcolor": "white",
                      "showland": true,
                      "showlakes": true,
                      "lakecolor": "white"
                    },
                    "title": {
                      "x": 0.05
                    },
                    "mapbox": {
                      "style": "light"
                    }
                  }
                },
                "title": {
                  "text": "Men | True & Pred"
                },
                "legend": {
                  "title": {
                    "text": "year"
                  }
                },
                "xaxis": {
                  "title": {
                    "text": "Age Groups"
                  }
                },
                "yaxis": {
                  "title": {
                    "text": "Population"
                  }
                }
              },
              "config": {
                "plotlyServerURL": "https://plot.ly"
              }
            }
          },
          "metadata": {},
          "output_type": "display_data"
        }
      ],
      "metadata": {
        "datalore": {
          "node_id": "mznty5S899uO3HOni0pPmJ",
          "type": "CODE",
          "hide_input_from_viewers": false,
          "hide_output_from_viewers": false,
          "report_properties": {
            "rowId": "35y0OEASH1yqimEfUNRu95"
          }
        },
        "id": "Ppgh8yEl6eHC",
        "outputId": "c9107681-38a6-4b35-e851-0d3c86daa6cb"
      }
    },
    {
      "cell_type": "code",
      "source": [
        "raft(\n",
        "    df_true=m_cleaned_2010_2050_df,\n",
        "    df_pred=m_pred_2010_2050_df,\n",
        "    features=AGE_GROUPS,\n",
        "    years=both_pred_2010_2050_df[\"Year\"].unique()[6:9],\n",
        "    pltTitle=\"Men | True & Pred\",\n",
        "    yTitle=\"Population\"\n",
        ")"
      ],
      "execution_count": null,
      "outputs": [
        {
          "data": {
            "application/vnd.plotly.v1+json": {
              "data": [
                {
                  "line": {
                    "dash": "solid"
                  },
                  "mode": "lines",
                  "name": "2040",
                  "x": [
                    "0 - 4",
                    "5 - 9",
                    "10 - 14",
                    "15 - 19",
                    "20 - 24",
                    "25 - 29",
                    "30 - 34",
                    "35 - 39",
                    "40 - 44",
                    "45 - 49",
                    "50 - 54",
                    "55 - 59",
                    "60 - 64",
                    "65 - 69",
                    "70 - 74",
                    "75 - 79",
                    "80 - 84",
                    "85 - 89",
                    "90 - 94",
                    "95 - 99",
                    "100+"
                  ],
                  "y": [
                    911.1,
                    943.746,
                    1014.783,
                    1074.956,
                    1087.38,
                    1099.878,
                    1118.092,
                    1218.627,
                    1564.492,
                    1745.315,
                    1612.721,
                    1785.06,
                    1735.18,
                    1810.296,
                    1563.672,
                    1292.858,
                    891.884,
                    385.37,
                    135.532,
                    31.976,
                    0.16228904447772066
                  ],
                  "type": "scatter"
                },
                {
                  "line": {
                    "dash": "solid"
                  },
                  "mode": "lines",
                  "name": "2045",
                  "x": [
                    "0 - 4",
                    "5 - 9",
                    "10 - 14",
                    "15 - 19",
                    "20 - 24",
                    "25 - 29",
                    "30 - 34",
                    "35 - 39",
                    "40 - 44",
                    "45 - 49",
                    "50 - 54",
                    "55 - 59",
                    "60 - 64",
                    "65 - 69",
                    "70 - 74",
                    "75 - 79",
                    "80 - 84",
                    "85 - 89",
                    "90 - 94",
                    "95 - 99",
                    "100+"
                  ],
                  "y": [
                    911.103,
                    910.129,
                    943.096,
                    1013.017,
                    1070.791,
                    1081.847,
                    1094.286,
                    1112.315,
                    1211.013,
                    1550.802,
                    1722.324,
                    1578.049,
                    1721.856,
                    1638.021,
                    1642.396,
                    1320.444,
                    971.972,
                    557.556,
                    181.262,
                    41.84,
                    0.17309857393044784
                  ],
                  "type": "scatter"
                },
                {
                  "line": {
                    "dash": "solid"
                  },
                  "mode": "lines",
                  "name": "2050",
                  "x": [
                    "0 - 4",
                    "5 - 9",
                    "10 - 14",
                    "15 - 19",
                    "20 - 24",
                    "25 - 29",
                    "30 - 34",
                    "35 - 39",
                    "40 - 44",
                    "45 - 49",
                    "50 - 54",
                    "55 - 59",
                    "60 - 64",
                    "65 - 69",
                    "70 - 74",
                    "75 - 79",
                    "80 - 84",
                    "85 - 89",
                    "90 - 94",
                    "95 - 99",
                    "100+"
                  ],
                  "y": [
                    921.555,
                    910.156,
                    909.515,
                    941.412,
                    1009.011,
                    1065.392,
                    1076.417,
                    1088.77,
                    1105.554,
                    1200.805,
                    1531.587,
                    1687.741,
                    1525.684,
                    1630.895,
                    1494.103,
                    1399.687,
                    1007.797,
                    622.623,
                    272.036,
                    58.738,
                    0.1827676864244742
                  ],
                  "type": "scatter"
                },
                {
                  "line": {
                    "dash": "dot"
                  },
                  "mode": "lines",
                  "name": "2040-pred",
                  "x": [
                    "0 - 4",
                    "5 - 9",
                    "10 - 14",
                    "15 - 19",
                    "20 - 24",
                    "25 - 29",
                    "30 - 34",
                    "35 - 39",
                    "40 - 44",
                    "45 - 49",
                    "50 - 54",
                    "55 - 59",
                    "60 - 64",
                    "65 - 69",
                    "70 - 74",
                    "75 - 79",
                    "80 - 84",
                    "85 - 89",
                    "90 - 94",
                    "95 - 99",
                    "100+"
                  ],
                  "y": [
                    839.3535956407329,
                    903.5184803154971,
                    980.3100352768641,
                    1020.6831158976083,
                    1122.542340941958,
                    1174.5384148931912,
                    1248.4152193752382,
                    1140.2349442512868,
                    1453.5223002249631,
                    1608.0861128652696,
                    1486.1296640222124,
                    1658.9286895087032,
                    1630.8394371403986,
                    1690.0352407211228,
                    1409.4465598317402,
                    1080.7853399183484,
                    654.1424272160345,
                    233.32796544050518,
                    64.40633858730462,
                    12.10619312603531,
                    1.4202422464936988
                  ],
                  "type": "scatter"
                },
                {
                  "line": {
                    "dash": "dot"
                  },
                  "mode": "lines",
                  "name": "2045-pred",
                  "x": [
                    "0 - 4",
                    "5 - 9",
                    "10 - 14",
                    "15 - 19",
                    "20 - 24",
                    "25 - 29",
                    "30 - 34",
                    "35 - 39",
                    "40 - 44",
                    "45 - 49",
                    "50 - 54",
                    "55 - 59",
                    "60 - 64",
                    "65 - 69",
                    "70 - 74",
                    "75 - 79",
                    "80 - 84",
                    "85 - 89",
                    "90 - 94",
                    "95 - 99",
                    "100+"
                  ],
                  "y": [
                    803.5344591698525,
                    836.3250310340349,
                    900.6468312359191,
                    970.4412229084996,
                    1001.8301895109096,
                    1095.7709228544038,
                    1152.9213500113735,
                    1233.6527410958827,
                    1124.269336607944,
                    1424.3418307979518,
                    1568.4346357774048,
                    1440.1798958796974,
                    1575.2975782032852,
                    1490.8767663909564,
                    1443.3392240505739,
                    1064.8746174520427,
                    674.990066309407,
                    311.81541289049005,
                    77.16369719204651,
                    13.558276447973906,
                    1.5386768241723536
                  ],
                  "type": "scatter"
                },
                {
                  "line": {
                    "dash": "dot"
                  },
                  "mode": "lines",
                  "name": "2050-pred",
                  "x": [
                    "0 - 4",
                    "5 - 9",
                    "10 - 14",
                    "15 - 19",
                    "20 - 24",
                    "25 - 29",
                    "30 - 34",
                    "35 - 39",
                    "40 - 44",
                    "45 - 49",
                    "50 - 54",
                    "55 - 59",
                    "60 - 64",
                    "65 - 69",
                    "70 - 74",
                    "75 - 79",
                    "80 - 84",
                    "85 - 89",
                    "90 - 94",
                    "95 - 99",
                    "100+"
                  ],
                  "y": [
                    742.7935319570889,
                    800.6351375538577,
                    833.6669426186675,
                    891.5799908815621,
                    952.5163090413565,
                    977.9376253929055,
                    1075.6035525627246,
                    1139.2880843132305,
                    1216.3790943516108,
                    1101.6988490416115,
                    1389.2210390584214,
                    1519.9400732870724,
                    1367.576506756437,
                    1440.1016470470786,
                    1273.2520975358955,
                    1090.4814328312434,
                    665.0532368429991,
                    321.75302727113467,
                    103.12021559297335,
                    16.24384744149602,
                    1.7232341768408084
                  ],
                  "type": "scatter"
                }
              ],
              "layout": {
                "template": {
                  "data": {
                    "histogram2dcontour": [
                      {
                        "type": "histogram2dcontour",
                        "colorbar": {
                          "outlinewidth": 0,
                          "ticks": ""
                        },
                        "colorscale": [
                          [
                            0,
                            "#0d0887"
                          ],
                          [
                            0.1111111111111111,
                            "#46039f"
                          ],
                          [
                            0.2222222222222222,
                            "#7201a8"
                          ],
                          [
                            0.3333333333333333,
                            "#9c179e"
                          ],
                          [
                            0.4444444444444444,
                            "#bd3786"
                          ],
                          [
                            0.5555555555555556,
                            "#d8576b"
                          ],
                          [
                            0.6666666666666666,
                            "#ed7953"
                          ],
                          [
                            0.7777777777777778,
                            "#fb9f3a"
                          ],
                          [
                            0.8888888888888888,
                            "#fdca26"
                          ],
                          [
                            1,
                            "#f0f921"
                          ]
                        ]
                      }
                    ],
                    "choropleth": [
                      {
                        "type": "choropleth",
                        "colorbar": {
                          "outlinewidth": 0,
                          "ticks": ""
                        }
                      }
                    ],
                    "histogram2d": [
                      {
                        "type": "histogram2d",
                        "colorbar": {
                          "outlinewidth": 0,
                          "ticks": ""
                        },
                        "colorscale": [
                          [
                            0,
                            "#0d0887"
                          ],
                          [
                            0.1111111111111111,
                            "#46039f"
                          ],
                          [
                            0.2222222222222222,
                            "#7201a8"
                          ],
                          [
                            0.3333333333333333,
                            "#9c179e"
                          ],
                          [
                            0.4444444444444444,
                            "#bd3786"
                          ],
                          [
                            0.5555555555555556,
                            "#d8576b"
                          ],
                          [
                            0.6666666666666666,
                            "#ed7953"
                          ],
                          [
                            0.7777777777777778,
                            "#fb9f3a"
                          ],
                          [
                            0.8888888888888888,
                            "#fdca26"
                          ],
                          [
                            1,
                            "#f0f921"
                          ]
                        ]
                      }
                    ],
                    "heatmap": [
                      {
                        "type": "heatmap",
                        "colorbar": {
                          "outlinewidth": 0,
                          "ticks": ""
                        },
                        "colorscale": [
                          [
                            0,
                            "#0d0887"
                          ],
                          [
                            0.1111111111111111,
                            "#46039f"
                          ],
                          [
                            0.2222222222222222,
                            "#7201a8"
                          ],
                          [
                            0.3333333333333333,
                            "#9c179e"
                          ],
                          [
                            0.4444444444444444,
                            "#bd3786"
                          ],
                          [
                            0.5555555555555556,
                            "#d8576b"
                          ],
                          [
                            0.6666666666666666,
                            "#ed7953"
                          ],
                          [
                            0.7777777777777778,
                            "#fb9f3a"
                          ],
                          [
                            0.8888888888888888,
                            "#fdca26"
                          ],
                          [
                            1,
                            "#f0f921"
                          ]
                        ]
                      }
                    ],
                    "heatmapgl": [
                      {
                        "type": "heatmapgl",
                        "colorbar": {
                          "outlinewidth": 0,
                          "ticks": ""
                        },
                        "colorscale": [
                          [
                            0,
                            "#0d0887"
                          ],
                          [
                            0.1111111111111111,
                            "#46039f"
                          ],
                          [
                            0.2222222222222222,
                            "#7201a8"
                          ],
                          [
                            0.3333333333333333,
                            "#9c179e"
                          ],
                          [
                            0.4444444444444444,
                            "#bd3786"
                          ],
                          [
                            0.5555555555555556,
                            "#d8576b"
                          ],
                          [
                            0.6666666666666666,
                            "#ed7953"
                          ],
                          [
                            0.7777777777777778,
                            "#fb9f3a"
                          ],
                          [
                            0.8888888888888888,
                            "#fdca26"
                          ],
                          [
                            1,
                            "#f0f921"
                          ]
                        ]
                      }
                    ],
                    "contourcarpet": [
                      {
                        "type": "contourcarpet",
                        "colorbar": {
                          "outlinewidth": 0,
                          "ticks": ""
                        }
                      }
                    ],
                    "contour": [
                      {
                        "type": "contour",
                        "colorbar": {
                          "outlinewidth": 0,
                          "ticks": ""
                        },
                        "colorscale": [
                          [
                            0,
                            "#0d0887"
                          ],
                          [
                            0.1111111111111111,
                            "#46039f"
                          ],
                          [
                            0.2222222222222222,
                            "#7201a8"
                          ],
                          [
                            0.3333333333333333,
                            "#9c179e"
                          ],
                          [
                            0.4444444444444444,
                            "#bd3786"
                          ],
                          [
                            0.5555555555555556,
                            "#d8576b"
                          ],
                          [
                            0.6666666666666666,
                            "#ed7953"
                          ],
                          [
                            0.7777777777777778,
                            "#fb9f3a"
                          ],
                          [
                            0.8888888888888888,
                            "#fdca26"
                          ],
                          [
                            1,
                            "#f0f921"
                          ]
                        ]
                      }
                    ],
                    "surface": [
                      {
                        "type": "surface",
                        "colorbar": {
                          "outlinewidth": 0,
                          "ticks": ""
                        },
                        "colorscale": [
                          [
                            0,
                            "#0d0887"
                          ],
                          [
                            0.1111111111111111,
                            "#46039f"
                          ],
                          [
                            0.2222222222222222,
                            "#7201a8"
                          ],
                          [
                            0.3333333333333333,
                            "#9c179e"
                          ],
                          [
                            0.4444444444444444,
                            "#bd3786"
                          ],
                          [
                            0.5555555555555556,
                            "#d8576b"
                          ],
                          [
                            0.6666666666666666,
                            "#ed7953"
                          ],
                          [
                            0.7777777777777778,
                            "#fb9f3a"
                          ],
                          [
                            0.8888888888888888,
                            "#fdca26"
                          ],
                          [
                            1,
                            "#f0f921"
                          ]
                        ]
                      }
                    ],
                    "mesh3d": [
                      {
                        "type": "mesh3d",
                        "colorbar": {
                          "outlinewidth": 0,
                          "ticks": ""
                        }
                      }
                    ],
                    "scatter": [
                      {
                        "fillpattern": {
                          "fillmode": "overlay",
                          "size": 10,
                          "solidity": 0.2
                        },
                        "type": "scatter"
                      }
                    ],
                    "parcoords": [
                      {
                        "type": "parcoords",
                        "line": {
                          "colorbar": {
                            "outlinewidth": 0,
                            "ticks": ""
                          }
                        }
                      }
                    ],
                    "scatterpolargl": [
                      {
                        "type": "scatterpolargl",
                        "marker": {
                          "colorbar": {
                            "outlinewidth": 0,
                            "ticks": ""
                          }
                        }
                      }
                    ],
                    "bar": [
                      {
                        "error_x": {
                          "color": "#2a3f5f"
                        },
                        "error_y": {
                          "color": "#2a3f5f"
                        },
                        "marker": {
                          "line": {
                            "color": "#E5ECF6",
                            "width": 0.5
                          },
                          "pattern": {
                            "fillmode": "overlay",
                            "size": 10,
                            "solidity": 0.2
                          }
                        },
                        "type": "bar"
                      }
                    ],
                    "scattergeo": [
                      {
                        "type": "scattergeo",
                        "marker": {
                          "colorbar": {
                            "outlinewidth": 0,
                            "ticks": ""
                          }
                        }
                      }
                    ],
                    "scatterpolar": [
                      {
                        "type": "scatterpolar",
                        "marker": {
                          "colorbar": {
                            "outlinewidth": 0,
                            "ticks": ""
                          }
                        }
                      }
                    ],
                    "histogram": [
                      {
                        "marker": {
                          "pattern": {
                            "fillmode": "overlay",
                            "size": 10,
                            "solidity": 0.2
                          }
                        },
                        "type": "histogram"
                      }
                    ],
                    "scattergl": [
                      {
                        "type": "scattergl",
                        "marker": {
                          "colorbar": {
                            "outlinewidth": 0,
                            "ticks": ""
                          }
                        }
                      }
                    ],
                    "scatter3d": [
                      {
                        "type": "scatter3d",
                        "line": {
                          "colorbar": {
                            "outlinewidth": 0,
                            "ticks": ""
                          }
                        },
                        "marker": {
                          "colorbar": {
                            "outlinewidth": 0,
                            "ticks": ""
                          }
                        }
                      }
                    ],
                    "scattermapbox": [
                      {
                        "type": "scattermapbox",
                        "marker": {
                          "colorbar": {
                            "outlinewidth": 0,
                            "ticks": ""
                          }
                        }
                      }
                    ],
                    "scatterternary": [
                      {
                        "type": "scatterternary",
                        "marker": {
                          "colorbar": {
                            "outlinewidth": 0,
                            "ticks": ""
                          }
                        }
                      }
                    ],
                    "scattercarpet": [
                      {
                        "type": "scattercarpet",
                        "marker": {
                          "colorbar": {
                            "outlinewidth": 0,
                            "ticks": ""
                          }
                        }
                      }
                    ],
                    "carpet": [
                      {
                        "aaxis": {
                          "endlinecolor": "#2a3f5f",
                          "gridcolor": "white",
                          "linecolor": "white",
                          "minorgridcolor": "white",
                          "startlinecolor": "#2a3f5f"
                        },
                        "baxis": {
                          "endlinecolor": "#2a3f5f",
                          "gridcolor": "white",
                          "linecolor": "white",
                          "minorgridcolor": "white",
                          "startlinecolor": "#2a3f5f"
                        },
                        "type": "carpet"
                      }
                    ],
                    "table": [
                      {
                        "cells": {
                          "fill": {
                            "color": "#EBF0F8"
                          },
                          "line": {
                            "color": "white"
                          }
                        },
                        "header": {
                          "fill": {
                            "color": "#C8D4E3"
                          },
                          "line": {
                            "color": "white"
                          }
                        },
                        "type": "table"
                      }
                    ],
                    "barpolar": [
                      {
                        "marker": {
                          "line": {
                            "color": "#E5ECF6",
                            "width": 0.5
                          },
                          "pattern": {
                            "fillmode": "overlay",
                            "size": 10,
                            "solidity": 0.2
                          }
                        },
                        "type": "barpolar"
                      }
                    ],
                    "pie": [
                      {
                        "automargin": true,
                        "type": "pie"
                      }
                    ]
                  },
                  "layout": {
                    "autotypenumbers": "strict",
                    "colorway": [
                      "#636efa",
                      "#EF553B",
                      "#00cc96",
                      "#ab63fa",
                      "#FFA15A",
                      "#19d3f3",
                      "#FF6692",
                      "#B6E880",
                      "#FF97FF",
                      "#FECB52"
                    ],
                    "font": {
                      "color": "#2a3f5f"
                    },
                    "hovermode": "closest",
                    "hoverlabel": {
                      "align": "left"
                    },
                    "paper_bgcolor": "white",
                    "plot_bgcolor": "#E5ECF6",
                    "polar": {
                      "bgcolor": "#E5ECF6",
                      "angularaxis": {
                        "gridcolor": "white",
                        "linecolor": "white",
                        "ticks": ""
                      },
                      "radialaxis": {
                        "gridcolor": "white",
                        "linecolor": "white",
                        "ticks": ""
                      }
                    },
                    "ternary": {
                      "bgcolor": "#E5ECF6",
                      "aaxis": {
                        "gridcolor": "white",
                        "linecolor": "white",
                        "ticks": ""
                      },
                      "baxis": {
                        "gridcolor": "white",
                        "linecolor": "white",
                        "ticks": ""
                      },
                      "caxis": {
                        "gridcolor": "white",
                        "linecolor": "white",
                        "ticks": ""
                      }
                    },
                    "coloraxis": {
                      "colorbar": {
                        "outlinewidth": 0,
                        "ticks": ""
                      }
                    },
                    "colorscale": {
                      "sequential": [
                        [
                          0,
                          "#0d0887"
                        ],
                        [
                          0.1111111111111111,
                          "#46039f"
                        ],
                        [
                          0.2222222222222222,
                          "#7201a8"
                        ],
                        [
                          0.3333333333333333,
                          "#9c179e"
                        ],
                        [
                          0.4444444444444444,
                          "#bd3786"
                        ],
                        [
                          0.5555555555555556,
                          "#d8576b"
                        ],
                        [
                          0.6666666666666666,
                          "#ed7953"
                        ],
                        [
                          0.7777777777777778,
                          "#fb9f3a"
                        ],
                        [
                          0.8888888888888888,
                          "#fdca26"
                        ],
                        [
                          1,
                          "#f0f921"
                        ]
                      ],
                      "sequentialminus": [
                        [
                          0,
                          "#0d0887"
                        ],
                        [
                          0.1111111111111111,
                          "#46039f"
                        ],
                        [
                          0.2222222222222222,
                          "#7201a8"
                        ],
                        [
                          0.3333333333333333,
                          "#9c179e"
                        ],
                        [
                          0.4444444444444444,
                          "#bd3786"
                        ],
                        [
                          0.5555555555555556,
                          "#d8576b"
                        ],
                        [
                          0.6666666666666666,
                          "#ed7953"
                        ],
                        [
                          0.7777777777777778,
                          "#fb9f3a"
                        ],
                        [
                          0.8888888888888888,
                          "#fdca26"
                        ],
                        [
                          1,
                          "#f0f921"
                        ]
                      ],
                      "diverging": [
                        [
                          0,
                          "#8e0152"
                        ],
                        [
                          0.1,
                          "#c51b7d"
                        ],
                        [
                          0.2,
                          "#de77ae"
                        ],
                        [
                          0.3,
                          "#f1b6da"
                        ],
                        [
                          0.4,
                          "#fde0ef"
                        ],
                        [
                          0.5,
                          "#f7f7f7"
                        ],
                        [
                          0.6,
                          "#e6f5d0"
                        ],
                        [
                          0.7,
                          "#b8e186"
                        ],
                        [
                          0.8,
                          "#7fbc41"
                        ],
                        [
                          0.9,
                          "#4d9221"
                        ],
                        [
                          1,
                          "#276419"
                        ]
                      ]
                    },
                    "xaxis": {
                      "gridcolor": "white",
                      "linecolor": "white",
                      "ticks": "",
                      "title": {
                        "standoff": 15
                      },
                      "zerolinecolor": "white",
                      "automargin": true,
                      "zerolinewidth": 2
                    },
                    "yaxis": {
                      "gridcolor": "white",
                      "linecolor": "white",
                      "ticks": "",
                      "title": {
                        "standoff": 15
                      },
                      "zerolinecolor": "white",
                      "automargin": true,
                      "zerolinewidth": 2
                    },
                    "scene": {
                      "xaxis": {
                        "backgroundcolor": "#E5ECF6",
                        "gridcolor": "white",
                        "linecolor": "white",
                        "showbackground": true,
                        "ticks": "",
                        "zerolinecolor": "white",
                        "gridwidth": 2
                      },
                      "yaxis": {
                        "backgroundcolor": "#E5ECF6",
                        "gridcolor": "white",
                        "linecolor": "white",
                        "showbackground": true,
                        "ticks": "",
                        "zerolinecolor": "white",
                        "gridwidth": 2
                      },
                      "zaxis": {
                        "backgroundcolor": "#E5ECF6",
                        "gridcolor": "white",
                        "linecolor": "white",
                        "showbackground": true,
                        "ticks": "",
                        "zerolinecolor": "white",
                        "gridwidth": 2
                      }
                    },
                    "shapedefaults": {
                      "line": {
                        "color": "#2a3f5f"
                      }
                    },
                    "annotationdefaults": {
                      "arrowcolor": "#2a3f5f",
                      "arrowhead": 0,
                      "arrowwidth": 1
                    },
                    "geo": {
                      "bgcolor": "white",
                      "landcolor": "#E5ECF6",
                      "subunitcolor": "white",
                      "showland": true,
                      "showlakes": true,
                      "lakecolor": "white"
                    },
                    "title": {
                      "x": 0.05
                    },
                    "mapbox": {
                      "style": "light"
                    }
                  }
                },
                "title": {
                  "text": "Men | True & Pred"
                },
                "legend": {
                  "title": {
                    "text": "year"
                  }
                },
                "xaxis": {
                  "title": {
                    "text": "Age Groups"
                  }
                },
                "yaxis": {
                  "title": {
                    "text": "Population"
                  }
                }
              },
              "config": {
                "plotlyServerURL": "https://plot.ly"
              }
            }
          },
          "metadata": {},
          "output_type": "display_data"
        }
      ],
      "metadata": {
        "datalore": {
          "node_id": "ThBuTZhwYIpa5g0VeTEjIx",
          "type": "CODE",
          "hide_input_from_viewers": false,
          "hide_output_from_viewers": false,
          "report_properties": {
            "rowId": "iPoElqN9B08W173I3mP51t"
          }
        },
        "id": "JlSmMmhS6eHC",
        "outputId": "13c7f052-e909-4e5a-d5a2-519721b9b84d"
      }
    },
    {
      "cell_type": "markdown",
      "source": [
        "## Females"
      ],
      "metadata": {
        "datalore": {
          "node_id": "GpgELHH09DCfO7pd7ibc17",
          "type": "MD",
          "hide_input_from_viewers": false,
          "hide_output_from_viewers": false,
          "report_properties": {
            "rowId": "1g8AgNK5HOEzg3kdtPARfp"
          }
        },
        "id": "QDZ8D-st6eHC"
      }
    },
    {
      "cell_type": "code",
      "source": [
        "f_2010_2050_df = pd.read_excel(\n",
        "    \"/data/notebook_files/age_data_2005.xlsx\",\n",
        "    sheet_name=\"m; 2010-50, medium-fertility\"\n",
        ")"
      ],
      "execution_count": null,
      "outputs": [],
      "metadata": {
        "datalore": {
          "node_id": "DoAkQrX8J99FrMLGbSa6Dy",
          "type": "CODE",
          "hide_input_from_viewers": false,
          "hide_output_from_viewers": false,
          "report_properties": {
            "rowId": "Utat5tCR5EDiWse3dvqnB2"
          }
        },
        "id": "9UrtR50E6eHC"
      }
    },
    {
      "cell_type": "code",
      "source": [
        "f_cleaned_2010_2050_df = dfPreprocessing(f_2010_2050_df, REGION, YEARS_2010_2050)\n",
        "f_cleaned_2010_2050_df[\"FR\"] = f_cleaned_2010_2050_df[AGE_GROUPS[0]]/f_cleaned_2010_2050_df[AGE_GROUPS[n1:n2]].sum(axis=1)"
      ],
      "execution_count": null,
      "outputs": [],
      "metadata": {
        "datalore": {
          "node_id": "zqogzMHcpQokKDiXHVC6GZ",
          "type": "CODE",
          "hide_input_from_viewers": true,
          "hide_output_from_viewers": true
        },
        "id": "oLUMFiaz6eHC"
      }
    },
    {
      "cell_type": "code",
      "source": [
        "raft(\n",
        "    f_cleaned_2010_2050_df,\n",
        "    features=AGE_GROUPS,\n",
        "    years=m_cleaned_2010_2050_df[\"Year\"].unique(),\n",
        "    pltTitle=\"Women\",\n",
        "    yTitle=\"Population\"\n",
        ")"
      ],
      "execution_count": null,
      "outputs": [
        {
          "data": {
            "application/vnd.plotly.v1+json": {
              "data": [
                {
                  "line": {
                    "dash": "solid"
                  },
                  "mode": "lines",
                  "name": "2010",
                  "x": [
                    "0 - 4",
                    "5 - 9",
                    "10 - 14",
                    "15 - 19",
                    "20 - 24",
                    "25 - 29",
                    "30 - 34",
                    "35 - 39",
                    "40 - 44",
                    "45 - 49",
                    "50 - 54",
                    "55 - 59",
                    "60 - 64",
                    "65 - 69",
                    "70 - 74",
                    "75 - 79",
                    "80 - 84",
                    "85 - 89",
                    "90 - 94",
                    "95 - 99",
                    "100+"
                  ],
                  "y": [
                    1139.016,
                    1246.032,
                    1605.797,
                    1805.207,
                    1689.157,
                    1908.499,
                    1927.909,
                    2142.527,
                    2060.343,
                    2049.311,
                    1929.273,
                    1385.418,
                    1092.418,
                    896.869,
                    711.379,
                    405.56,
                    177.525,
                    69.362,
                    16.097,
                    2.148,
                    0.184
                  ],
                  "type": "scatter"
                },
                {
                  "line": {
                    "dash": "solid"
                  },
                  "mode": "lines",
                  "name": "2015",
                  "x": [
                    "0 - 4",
                    "5 - 9",
                    "10 - 14",
                    "15 - 19",
                    "20 - 24",
                    "25 - 29",
                    "30 - 34",
                    "35 - 39",
                    "40 - 44",
                    "45 - 49",
                    "50 - 54",
                    "55 - 59",
                    "60 - 64",
                    "65 - 69",
                    "70 - 74",
                    "75 - 79",
                    "80 - 84",
                    "85 - 89",
                    "90 - 94",
                    "95 - 99",
                    "100+"
                  ],
                  "y": [
                    1114.317,
                    1137.575,
                    1244.881,
                    1602.7,
                    1798.132,
                    1680.85,
                    1899.097,
                    1916.505,
                    2124.189,
                    2031.836,
                    2005.136,
                    1860.248,
                    1304.919,
                    997.947,
                    772.963,
                    551.913,
                    265.353,
                    89.468,
                    24.258,
                    3.526,
                    0.1270949720670391
                  ],
                  "type": "scatter"
                },
                {
                  "line": {
                    "dash": "solid"
                  },
                  "mode": "lines",
                  "name": "2020",
                  "x": [
                    "0 - 4",
                    "5 - 9",
                    "10 - 14",
                    "15 - 19",
                    "20 - 24",
                    "25 - 29",
                    "30 - 34",
                    "35 - 39",
                    "40 - 44",
                    "45 - 49",
                    "50 - 54",
                    "55 - 59",
                    "60 - 64",
                    "65 - 69",
                    "70 - 74",
                    "75 - 79",
                    "80 - 84",
                    "85 - 89",
                    "90 - 94",
                    "95 - 99",
                    "100+"
                  ],
                  "y": [
                    1095.709,
                    1112.989,
                    1136.589,
                    1242.428,
                    1596.607,
                    1790.045,
                    1672.653,
                    1888.628,
                    1901.35,
                    2097.725,
                    1992.479,
                    1940.86,
                    1763.086,
                    1202.059,
                    871.244,
                    612.39,
                    373.991,
                    141.131,
                    33.604,
                    5.742,
                    0.13301191151446398
                  ],
                  "type": "scatter"
                },
                {
                  "line": {
                    "dash": "solid"
                  },
                  "mode": "lines",
                  "name": "2025",
                  "x": [
                    "0 - 4",
                    "5 - 9",
                    "10 - 14",
                    "15 - 19",
                    "20 - 24",
                    "25 - 29",
                    "30 - 34",
                    "35 - 39",
                    "40 - 44",
                    "45 - 49",
                    "50 - 54",
                    "55 - 59",
                    "60 - 64",
                    "65 - 69",
                    "70 - 74",
                    "75 - 79",
                    "80 - 84",
                    "85 - 89",
                    "90 - 94",
                    "95 - 99",
                    "100+"
                  ],
                  "y": [
                    1078.776,
                    1094.476,
                    1112.094,
                    1134.418,
                    1237.375,
                    1589.383,
                    1781.955,
                    1663.734,
                    1874.835,
                    1879.705,
                    2060.969,
                    1934.851,
                    1849.081,
                    1635.699,
                    1061.02,
                    702.544,
                    427.249,
                    207.899,
                    56.157,
                    8.467,
                    0.13932427725531174
                  ],
                  "type": "scatter"
                },
                {
                  "line": {
                    "dash": "solid"
                  },
                  "mode": "lines",
                  "name": "2030",
                  "x": [
                    "0 - 4",
                    "5 - 9",
                    "10 - 14",
                    "15 - 19",
                    "20 - 24",
                    "25 - 29",
                    "30 - 34",
                    "35 - 39",
                    "40 - 44",
                    "45 - 49",
                    "50 - 54",
                    "55 - 59",
                    "60 - 64",
                    "65 - 69",
                    "70 - 74",
                    "75 - 79",
                    "80 - 84",
                    "85 - 89",
                    "90 - 94",
                    "95 - 99",
                    "100+"
                  ],
                  "y": [
                    1016.592,
                    1077.603,
                    1093.646,
                    1110.049,
                    1129.749,
                    1231.133,
                    1582.127,
                    1773.108,
                    1652.199,
                    1855.121,
                    1849.322,
                    2006.234,
                    1850.571,
                    1724.818,
                    1456.218,
                    868.002,
                    501.824,
                    246.521,
                    87.267,
                    15.101,
                    0.14904925002952638
                  ],
                  "type": "scatter"
                },
                {
                  "line": {
                    "dash": "solid"
                  },
                  "mode": "lines",
                  "name": "2035",
                  "x": [
                    "0 - 4",
                    "5 - 9",
                    "10 - 14",
                    "15 - 19",
                    "20 - 24",
                    "25 - 29",
                    "30 - 34",
                    "35 - 39",
                    "40 - 44",
                    "45 - 49",
                    "50 - 54",
                    "55 - 59",
                    "60 - 64",
                    "65 - 69",
                    "70 - 74",
                    "75 - 79",
                    "80 - 84",
                    "85 - 89",
                    "90 - 94",
                    "95 - 99",
                    "100+"
                  ],
                  "y": [
                    944.766,
                    1015.496,
                    1076.824,
                    1091.695,
                    1105.571,
                    1123.874,
                    1224.95,
                    1574.35,
                    1761.603,
                    1635.833,
                    1827.166,
                    1803.596,
                    1924.779,
                    1733.665,
                    1546.059,
                    1205.103,
                    631.682,
                    298.197,
                    107.94,
                    24.709,
                    0.15442685914840074
                  ],
                  "type": "scatter"
                },
                {
                  "line": {
                    "dash": "solid"
                  },
                  "mode": "lines",
                  "name": "2040",
                  "x": [
                    "0 - 4",
                    "5 - 9",
                    "10 - 14",
                    "15 - 19",
                    "20 - 24",
                    "25 - 29",
                    "30 - 34",
                    "35 - 39",
                    "40 - 44",
                    "45 - 49",
                    "50 - 54",
                    "55 - 59",
                    "60 - 64",
                    "65 - 69",
                    "70 - 74",
                    "75 - 79",
                    "80 - 84",
                    "85 - 89",
                    "90 - 94",
                    "95 - 99",
                    "100+"
                  ],
                  "y": [
                    911.1,
                    943.746,
                    1014.783,
                    1074.956,
                    1087.38,
                    1099.878,
                    1118.092,
                    1218.627,
                    1564.492,
                    1745.315,
                    1612.721,
                    1785.06,
                    1735.18,
                    1810.296,
                    1563.672,
                    1292.858,
                    891.884,
                    385.37,
                    135.532,
                    31.976,
                    0.16228904447772066
                  ],
                  "type": "scatter"
                },
                {
                  "line": {
                    "dash": "solid"
                  },
                  "mode": "lines",
                  "name": "2045",
                  "x": [
                    "0 - 4",
                    "5 - 9",
                    "10 - 14",
                    "15 - 19",
                    "20 - 24",
                    "25 - 29",
                    "30 - 34",
                    "35 - 39",
                    "40 - 44",
                    "45 - 49",
                    "50 - 54",
                    "55 - 59",
                    "60 - 64",
                    "65 - 69",
                    "70 - 74",
                    "75 - 79",
                    "80 - 84",
                    "85 - 89",
                    "90 - 94",
                    "95 - 99",
                    "100+"
                  ],
                  "y": [
                    911.103,
                    910.129,
                    943.096,
                    1013.017,
                    1070.791,
                    1081.847,
                    1094.286,
                    1112.315,
                    1211.013,
                    1550.802,
                    1722.324,
                    1578.049,
                    1721.856,
                    1638.021,
                    1642.396,
                    1320.444,
                    971.972,
                    557.556,
                    181.262,
                    41.84,
                    0.17309857393044784
                  ],
                  "type": "scatter"
                },
                {
                  "line": {
                    "dash": "solid"
                  },
                  "mode": "lines",
                  "name": "2050",
                  "x": [
                    "0 - 4",
                    "5 - 9",
                    "10 - 14",
                    "15 - 19",
                    "20 - 24",
                    "25 - 29",
                    "30 - 34",
                    "35 - 39",
                    "40 - 44",
                    "45 - 49",
                    "50 - 54",
                    "55 - 59",
                    "60 - 64",
                    "65 - 69",
                    "70 - 74",
                    "75 - 79",
                    "80 - 84",
                    "85 - 89",
                    "90 - 94",
                    "95 - 99",
                    "100+"
                  ],
                  "y": [
                    921.555,
                    910.156,
                    909.515,
                    941.412,
                    1009.011,
                    1065.392,
                    1076.417,
                    1088.77,
                    1105.554,
                    1200.805,
                    1531.587,
                    1687.741,
                    1525.684,
                    1630.895,
                    1494.103,
                    1399.687,
                    1007.797,
                    622.623,
                    272.036,
                    58.738,
                    0.1827676864244742
                  ],
                  "type": "scatter"
                }
              ],
              "layout": {
                "template": {
                  "data": {
                    "histogram2dcontour": [
                      {
                        "type": "histogram2dcontour",
                        "colorbar": {
                          "outlinewidth": 0,
                          "ticks": ""
                        },
                        "colorscale": [
                          [
                            0,
                            "#0d0887"
                          ],
                          [
                            0.1111111111111111,
                            "#46039f"
                          ],
                          [
                            0.2222222222222222,
                            "#7201a8"
                          ],
                          [
                            0.3333333333333333,
                            "#9c179e"
                          ],
                          [
                            0.4444444444444444,
                            "#bd3786"
                          ],
                          [
                            0.5555555555555556,
                            "#d8576b"
                          ],
                          [
                            0.6666666666666666,
                            "#ed7953"
                          ],
                          [
                            0.7777777777777778,
                            "#fb9f3a"
                          ],
                          [
                            0.8888888888888888,
                            "#fdca26"
                          ],
                          [
                            1,
                            "#f0f921"
                          ]
                        ]
                      }
                    ],
                    "choropleth": [
                      {
                        "type": "choropleth",
                        "colorbar": {
                          "outlinewidth": 0,
                          "ticks": ""
                        }
                      }
                    ],
                    "histogram2d": [
                      {
                        "type": "histogram2d",
                        "colorbar": {
                          "outlinewidth": 0,
                          "ticks": ""
                        },
                        "colorscale": [
                          [
                            0,
                            "#0d0887"
                          ],
                          [
                            0.1111111111111111,
                            "#46039f"
                          ],
                          [
                            0.2222222222222222,
                            "#7201a8"
                          ],
                          [
                            0.3333333333333333,
                            "#9c179e"
                          ],
                          [
                            0.4444444444444444,
                            "#bd3786"
                          ],
                          [
                            0.5555555555555556,
                            "#d8576b"
                          ],
                          [
                            0.6666666666666666,
                            "#ed7953"
                          ],
                          [
                            0.7777777777777778,
                            "#fb9f3a"
                          ],
                          [
                            0.8888888888888888,
                            "#fdca26"
                          ],
                          [
                            1,
                            "#f0f921"
                          ]
                        ]
                      }
                    ],
                    "heatmap": [
                      {
                        "type": "heatmap",
                        "colorbar": {
                          "outlinewidth": 0,
                          "ticks": ""
                        },
                        "colorscale": [
                          [
                            0,
                            "#0d0887"
                          ],
                          [
                            0.1111111111111111,
                            "#46039f"
                          ],
                          [
                            0.2222222222222222,
                            "#7201a8"
                          ],
                          [
                            0.3333333333333333,
                            "#9c179e"
                          ],
                          [
                            0.4444444444444444,
                            "#bd3786"
                          ],
                          [
                            0.5555555555555556,
                            "#d8576b"
                          ],
                          [
                            0.6666666666666666,
                            "#ed7953"
                          ],
                          [
                            0.7777777777777778,
                            "#fb9f3a"
                          ],
                          [
                            0.8888888888888888,
                            "#fdca26"
                          ],
                          [
                            1,
                            "#f0f921"
                          ]
                        ]
                      }
                    ],
                    "heatmapgl": [
                      {
                        "type": "heatmapgl",
                        "colorbar": {
                          "outlinewidth": 0,
                          "ticks": ""
                        },
                        "colorscale": [
                          [
                            0,
                            "#0d0887"
                          ],
                          [
                            0.1111111111111111,
                            "#46039f"
                          ],
                          [
                            0.2222222222222222,
                            "#7201a8"
                          ],
                          [
                            0.3333333333333333,
                            "#9c179e"
                          ],
                          [
                            0.4444444444444444,
                            "#bd3786"
                          ],
                          [
                            0.5555555555555556,
                            "#d8576b"
                          ],
                          [
                            0.6666666666666666,
                            "#ed7953"
                          ],
                          [
                            0.7777777777777778,
                            "#fb9f3a"
                          ],
                          [
                            0.8888888888888888,
                            "#fdca26"
                          ],
                          [
                            1,
                            "#f0f921"
                          ]
                        ]
                      }
                    ],
                    "contourcarpet": [
                      {
                        "type": "contourcarpet",
                        "colorbar": {
                          "outlinewidth": 0,
                          "ticks": ""
                        }
                      }
                    ],
                    "contour": [
                      {
                        "type": "contour",
                        "colorbar": {
                          "outlinewidth": 0,
                          "ticks": ""
                        },
                        "colorscale": [
                          [
                            0,
                            "#0d0887"
                          ],
                          [
                            0.1111111111111111,
                            "#46039f"
                          ],
                          [
                            0.2222222222222222,
                            "#7201a8"
                          ],
                          [
                            0.3333333333333333,
                            "#9c179e"
                          ],
                          [
                            0.4444444444444444,
                            "#bd3786"
                          ],
                          [
                            0.5555555555555556,
                            "#d8576b"
                          ],
                          [
                            0.6666666666666666,
                            "#ed7953"
                          ],
                          [
                            0.7777777777777778,
                            "#fb9f3a"
                          ],
                          [
                            0.8888888888888888,
                            "#fdca26"
                          ],
                          [
                            1,
                            "#f0f921"
                          ]
                        ]
                      }
                    ],
                    "surface": [
                      {
                        "type": "surface",
                        "colorbar": {
                          "outlinewidth": 0,
                          "ticks": ""
                        },
                        "colorscale": [
                          [
                            0,
                            "#0d0887"
                          ],
                          [
                            0.1111111111111111,
                            "#46039f"
                          ],
                          [
                            0.2222222222222222,
                            "#7201a8"
                          ],
                          [
                            0.3333333333333333,
                            "#9c179e"
                          ],
                          [
                            0.4444444444444444,
                            "#bd3786"
                          ],
                          [
                            0.5555555555555556,
                            "#d8576b"
                          ],
                          [
                            0.6666666666666666,
                            "#ed7953"
                          ],
                          [
                            0.7777777777777778,
                            "#fb9f3a"
                          ],
                          [
                            0.8888888888888888,
                            "#fdca26"
                          ],
                          [
                            1,
                            "#f0f921"
                          ]
                        ]
                      }
                    ],
                    "mesh3d": [
                      {
                        "type": "mesh3d",
                        "colorbar": {
                          "outlinewidth": 0,
                          "ticks": ""
                        }
                      }
                    ],
                    "scatter": [
                      {
                        "fillpattern": {
                          "fillmode": "overlay",
                          "size": 10,
                          "solidity": 0.2
                        },
                        "type": "scatter"
                      }
                    ],
                    "parcoords": [
                      {
                        "type": "parcoords",
                        "line": {
                          "colorbar": {
                            "outlinewidth": 0,
                            "ticks": ""
                          }
                        }
                      }
                    ],
                    "scatterpolargl": [
                      {
                        "type": "scatterpolargl",
                        "marker": {
                          "colorbar": {
                            "outlinewidth": 0,
                            "ticks": ""
                          }
                        }
                      }
                    ],
                    "bar": [
                      {
                        "error_x": {
                          "color": "#2a3f5f"
                        },
                        "error_y": {
                          "color": "#2a3f5f"
                        },
                        "marker": {
                          "line": {
                            "color": "#E5ECF6",
                            "width": 0.5
                          },
                          "pattern": {
                            "fillmode": "overlay",
                            "size": 10,
                            "solidity": 0.2
                          }
                        },
                        "type": "bar"
                      }
                    ],
                    "scattergeo": [
                      {
                        "type": "scattergeo",
                        "marker": {
                          "colorbar": {
                            "outlinewidth": 0,
                            "ticks": ""
                          }
                        }
                      }
                    ],
                    "scatterpolar": [
                      {
                        "type": "scatterpolar",
                        "marker": {
                          "colorbar": {
                            "outlinewidth": 0,
                            "ticks": ""
                          }
                        }
                      }
                    ],
                    "histogram": [
                      {
                        "marker": {
                          "pattern": {
                            "fillmode": "overlay",
                            "size": 10,
                            "solidity": 0.2
                          }
                        },
                        "type": "histogram"
                      }
                    ],
                    "scattergl": [
                      {
                        "type": "scattergl",
                        "marker": {
                          "colorbar": {
                            "outlinewidth": 0,
                            "ticks": ""
                          }
                        }
                      }
                    ],
                    "scatter3d": [
                      {
                        "type": "scatter3d",
                        "line": {
                          "colorbar": {
                            "outlinewidth": 0,
                            "ticks": ""
                          }
                        },
                        "marker": {
                          "colorbar": {
                            "outlinewidth": 0,
                            "ticks": ""
                          }
                        }
                      }
                    ],
                    "scattermapbox": [
                      {
                        "type": "scattermapbox",
                        "marker": {
                          "colorbar": {
                            "outlinewidth": 0,
                            "ticks": ""
                          }
                        }
                      }
                    ],
                    "scatterternary": [
                      {
                        "type": "scatterternary",
                        "marker": {
                          "colorbar": {
                            "outlinewidth": 0,
                            "ticks": ""
                          }
                        }
                      }
                    ],
                    "scattercarpet": [
                      {
                        "type": "scattercarpet",
                        "marker": {
                          "colorbar": {
                            "outlinewidth": 0,
                            "ticks": ""
                          }
                        }
                      }
                    ],
                    "carpet": [
                      {
                        "aaxis": {
                          "endlinecolor": "#2a3f5f",
                          "gridcolor": "white",
                          "linecolor": "white",
                          "minorgridcolor": "white",
                          "startlinecolor": "#2a3f5f"
                        },
                        "baxis": {
                          "endlinecolor": "#2a3f5f",
                          "gridcolor": "white",
                          "linecolor": "white",
                          "minorgridcolor": "white",
                          "startlinecolor": "#2a3f5f"
                        },
                        "type": "carpet"
                      }
                    ],
                    "table": [
                      {
                        "cells": {
                          "fill": {
                            "color": "#EBF0F8"
                          },
                          "line": {
                            "color": "white"
                          }
                        },
                        "header": {
                          "fill": {
                            "color": "#C8D4E3"
                          },
                          "line": {
                            "color": "white"
                          }
                        },
                        "type": "table"
                      }
                    ],
                    "barpolar": [
                      {
                        "marker": {
                          "line": {
                            "color": "#E5ECF6",
                            "width": 0.5
                          },
                          "pattern": {
                            "fillmode": "overlay",
                            "size": 10,
                            "solidity": 0.2
                          }
                        },
                        "type": "barpolar"
                      }
                    ],
                    "pie": [
                      {
                        "automargin": true,
                        "type": "pie"
                      }
                    ]
                  },
                  "layout": {
                    "autotypenumbers": "strict",
                    "colorway": [
                      "#636efa",
                      "#EF553B",
                      "#00cc96",
                      "#ab63fa",
                      "#FFA15A",
                      "#19d3f3",
                      "#FF6692",
                      "#B6E880",
                      "#FF97FF",
                      "#FECB52"
                    ],
                    "font": {
                      "color": "#2a3f5f"
                    },
                    "hovermode": "closest",
                    "hoverlabel": {
                      "align": "left"
                    },
                    "paper_bgcolor": "white",
                    "plot_bgcolor": "#E5ECF6",
                    "polar": {
                      "bgcolor": "#E5ECF6",
                      "angularaxis": {
                        "gridcolor": "white",
                        "linecolor": "white",
                        "ticks": ""
                      },
                      "radialaxis": {
                        "gridcolor": "white",
                        "linecolor": "white",
                        "ticks": ""
                      }
                    },
                    "ternary": {
                      "bgcolor": "#E5ECF6",
                      "aaxis": {
                        "gridcolor": "white",
                        "linecolor": "white",
                        "ticks": ""
                      },
                      "baxis": {
                        "gridcolor": "white",
                        "linecolor": "white",
                        "ticks": ""
                      },
                      "caxis": {
                        "gridcolor": "white",
                        "linecolor": "white",
                        "ticks": ""
                      }
                    },
                    "coloraxis": {
                      "colorbar": {
                        "outlinewidth": 0,
                        "ticks": ""
                      }
                    },
                    "colorscale": {
                      "sequential": [
                        [
                          0,
                          "#0d0887"
                        ],
                        [
                          0.1111111111111111,
                          "#46039f"
                        ],
                        [
                          0.2222222222222222,
                          "#7201a8"
                        ],
                        [
                          0.3333333333333333,
                          "#9c179e"
                        ],
                        [
                          0.4444444444444444,
                          "#bd3786"
                        ],
                        [
                          0.5555555555555556,
                          "#d8576b"
                        ],
                        [
                          0.6666666666666666,
                          "#ed7953"
                        ],
                        [
                          0.7777777777777778,
                          "#fb9f3a"
                        ],
                        [
                          0.8888888888888888,
                          "#fdca26"
                        ],
                        [
                          1,
                          "#f0f921"
                        ]
                      ],
                      "sequentialminus": [
                        [
                          0,
                          "#0d0887"
                        ],
                        [
                          0.1111111111111111,
                          "#46039f"
                        ],
                        [
                          0.2222222222222222,
                          "#7201a8"
                        ],
                        [
                          0.3333333333333333,
                          "#9c179e"
                        ],
                        [
                          0.4444444444444444,
                          "#bd3786"
                        ],
                        [
                          0.5555555555555556,
                          "#d8576b"
                        ],
                        [
                          0.6666666666666666,
                          "#ed7953"
                        ],
                        [
                          0.7777777777777778,
                          "#fb9f3a"
                        ],
                        [
                          0.8888888888888888,
                          "#fdca26"
                        ],
                        [
                          1,
                          "#f0f921"
                        ]
                      ],
                      "diverging": [
                        [
                          0,
                          "#8e0152"
                        ],
                        [
                          0.1,
                          "#c51b7d"
                        ],
                        [
                          0.2,
                          "#de77ae"
                        ],
                        [
                          0.3,
                          "#f1b6da"
                        ],
                        [
                          0.4,
                          "#fde0ef"
                        ],
                        [
                          0.5,
                          "#f7f7f7"
                        ],
                        [
                          0.6,
                          "#e6f5d0"
                        ],
                        [
                          0.7,
                          "#b8e186"
                        ],
                        [
                          0.8,
                          "#7fbc41"
                        ],
                        [
                          0.9,
                          "#4d9221"
                        ],
                        [
                          1,
                          "#276419"
                        ]
                      ]
                    },
                    "xaxis": {
                      "gridcolor": "white",
                      "linecolor": "white",
                      "ticks": "",
                      "title": {
                        "standoff": 15
                      },
                      "zerolinecolor": "white",
                      "automargin": true,
                      "zerolinewidth": 2
                    },
                    "yaxis": {
                      "gridcolor": "white",
                      "linecolor": "white",
                      "ticks": "",
                      "title": {
                        "standoff": 15
                      },
                      "zerolinecolor": "white",
                      "automargin": true,
                      "zerolinewidth": 2
                    },
                    "scene": {
                      "xaxis": {
                        "backgroundcolor": "#E5ECF6",
                        "gridcolor": "white",
                        "linecolor": "white",
                        "showbackground": true,
                        "ticks": "",
                        "zerolinecolor": "white",
                        "gridwidth": 2
                      },
                      "yaxis": {
                        "backgroundcolor": "#E5ECF6",
                        "gridcolor": "white",
                        "linecolor": "white",
                        "showbackground": true,
                        "ticks": "",
                        "zerolinecolor": "white",
                        "gridwidth": 2
                      },
                      "zaxis": {
                        "backgroundcolor": "#E5ECF6",
                        "gridcolor": "white",
                        "linecolor": "white",
                        "showbackground": true,
                        "ticks": "",
                        "zerolinecolor": "white",
                        "gridwidth": 2
                      }
                    },
                    "shapedefaults": {
                      "line": {
                        "color": "#2a3f5f"
                      }
                    },
                    "annotationdefaults": {
                      "arrowcolor": "#2a3f5f",
                      "arrowhead": 0,
                      "arrowwidth": 1
                    },
                    "geo": {
                      "bgcolor": "white",
                      "landcolor": "#E5ECF6",
                      "subunitcolor": "white",
                      "showland": true,
                      "showlakes": true,
                      "lakecolor": "white"
                    },
                    "title": {
                      "x": 0.05
                    },
                    "mapbox": {
                      "style": "light"
                    }
                  }
                },
                "title": {
                  "text": "Women"
                },
                "legend": {
                  "title": {
                    "text": "year"
                  }
                },
                "xaxis": {
                  "title": {
                    "text": "Age Groups"
                  }
                },
                "yaxis": {
                  "title": {
                    "text": "Population"
                  }
                }
              },
              "config": {
                "plotlyServerURL": "https://plot.ly"
              }
            }
          },
          "metadata": {},
          "output_type": "display_data"
        }
      ],
      "metadata": {
        "datalore": {
          "node_id": "xBFyh1FPMg1eo0bhW4agUF",
          "type": "CODE",
          "hide_input_from_viewers": false,
          "hide_output_from_viewers": false,
          "report_properties": {
            "rowId": "Cw9lGyBSZOmtGcKS7jgcFy"
          }
        },
        "id": "MhO8fOLh6eHC",
        "outputId": "6778597a-c5d1-45dc-f42f-f734d5b1838f"
      }
    },
    {
      "cell_type": "code",
      "source": [
        "raft(\n",
        "    f_pred_2010_2050_df,\n",
        "    features=AGE_GROUPS,\n",
        "    years=f_pred_2010_2050_df[\"Year\"].unique(),\n",
        "    pltTitle=\"Prediction Women\",\n",
        "    yTitle=\"Population\"\n",
        ")"
      ],
      "execution_count": null,
      "outputs": [
        {
          "data": {
            "application/vnd.plotly.v1+json": {
              "data": [
                {
                  "line": {
                    "dash": "solid"
                  },
                  "mode": "lines",
                  "name": "2010",
                  "x": [
                    "0 - 4",
                    "5 - 9",
                    "10 - 14",
                    "15 - 19",
                    "20 - 24",
                    "25 - 29",
                    "30 - 34",
                    "35 - 39",
                    "40 - 44",
                    "45 - 49",
                    "50 - 54",
                    "55 - 59",
                    "60 - 64",
                    "65 - 69",
                    "70 - 74",
                    "75 - 79",
                    "80 - 84",
                    "85 - 89",
                    "90 - 94",
                    "95 - 99",
                    "100+"
                  ],
                  "y": [
                    1260.0843159142764,
                    1160.6909225978702,
                    1453.555079133926,
                    1592.4545933807021,
                    1506.8278657945364,
                    1780.3678119369326,
                    1823.3921566046488,
                    2057.567379715691,
                    1994.597570191525,
                    2032.9613344721824,
                    1953.1889707233127,
                    1427.9459753141277,
                    1186.4435622220285,
                    1028.0119435967567,
                    896.1014225939855,
                    638.1905023515419,
                    367.11117655894924,
                    177.15401879157506,
                    54.677281472655785,
                    10.39938628158845,
                    1.0823021993716082
                  ],
                  "type": "scatter"
                },
                {
                  "line": {
                    "dash": "solid"
                  },
                  "mode": "lines",
                  "name": "2015",
                  "x": [
                    "0 - 4",
                    "5 - 9",
                    "10 - 14",
                    "15 - 19",
                    "20 - 24",
                    "25 - 29",
                    "30 - 34",
                    "35 - 39",
                    "40 - 44",
                    "45 - 49",
                    "50 - 54",
                    "55 - 59",
                    "60 - 64",
                    "65 - 69",
                    "70 - 74",
                    "75 - 79",
                    "80 - 84",
                    "85 - 89",
                    "90 - 94",
                    "95 - 99",
                    "100+"
                  ],
                  "y": [
                    1163.6978531542413,
                    1255.7846481088104,
                    1157.1595338014959,
                    1443.695597599166,
                    1573.2878020165094,
                    1480.7870444843186,
                    1756.096094738587,
                    1809.677213616873,
                    2045.0389328405429,
                    1980.8331337155682,
                    2021.9879306778957,
                    1951.3045177075176,
                    1419.024250389104,
                    1150.8916596535535,
                    954.2485939076847,
                    769.2777901665542,
                    479.4642841236269,
                    222.27803978577617,
                    77.62018214037151,
                    15.462287781075947,
                    1.6515449221831415
                  ],
                  "type": "scatter"
                },
                {
                  "line": {
                    "dash": "solid"
                  },
                  "mode": "lines",
                  "name": "2020",
                  "x": [
                    "0 - 4",
                    "5 - 9",
                    "10 - 14",
                    "15 - 19",
                    "20 - 24",
                    "25 - 29",
                    "30 - 34",
                    "35 - 39",
                    "40 - 44",
                    "45 - 49",
                    "50 - 54",
                    "55 - 59",
                    "60 - 64",
                    "65 - 69",
                    "70 - 74",
                    "75 - 79",
                    "80 - 84",
                    "85 - 89",
                    "90 - 94",
                    "95 - 99",
                    "100+"
                  ],
                  "y": [
                    1085.6573563755844,
                    1159.7270758567977,
                    1251.9639377451379,
                    1149.310506805501,
                    1426.3192702441468,
                    1546.0984279334557,
                    1460.5995056321105,
                    1742.8873301109911,
                    1798.658160216494,
                    2030.9264076361535,
                    1970.141104577195,
                    2020.037099851498,
                    1939.1128784908358,
                    1376.503043735453,
                    1068.3112728457506,
                    819.1954962707949,
                    577.9484708646438,
                    290.30546610224746,
                    97.3913098425132,
                    21.950352350165232,
                    2.4555932608621043
                  ],
                  "type": "scatter"
                },
                {
                  "line": {
                    "dash": "solid"
                  },
                  "mode": "lines",
                  "name": "2025",
                  "x": [
                    "0 - 4",
                    "5 - 9",
                    "10 - 14",
                    "15 - 19",
                    "20 - 24",
                    "25 - 29",
                    "30 - 34",
                    "35 - 39",
                    "40 - 44",
                    "45 - 49",
                    "50 - 54",
                    "55 - 59",
                    "60 - 64",
                    "65 - 69",
                    "70 - 74",
                    "75 - 79",
                    "80 - 84",
                    "85 - 89",
                    "90 - 94",
                    "95 - 99",
                    "100+"
                  ],
                  "y": [
                    968.911617328386,
                    1081.9528693630716,
                    1156.198619553059,
                    1243.471851340171,
                    1135.4773998596697,
                    1401.6697889789705,
                    1525.02050035467,
                    1449.6133670358913,
                    1732.2749576852184,
                    1786.2458739697581,
                    2019.9639878549344,
                    1968.2402960012141,
                    2007.4160233858752,
                    1881.0071629553504,
                    1277.7342735907378,
                    917.11508816247,
                    615.4509989251127,
                    349.93555468707274,
                    127.19758382514057,
                    27.541465478929727,
                    3.485974266407275
                  ],
                  "type": "scatter"
                },
                {
                  "line": {
                    "dash": "solid"
                  },
                  "mode": "lines",
                  "name": "2030",
                  "x": [
                    "0 - 4",
                    "5 - 9",
                    "10 - 14",
                    "15 - 19",
                    "20 - 24",
                    "25 - 29",
                    "30 - 34",
                    "35 - 39",
                    "40 - 44",
                    "45 - 49",
                    "50 - 54",
                    "55 - 59",
                    "60 - 64",
                    "65 - 69",
                    "70 - 74",
                    "75 - 79",
                    "80 - 84",
                    "85 - 89",
                    "90 - 94",
                    "95 - 99",
                    "100+"
                  ],
                  "y": [
                    921.2181137957965,
                    965.6054908773586,
                    1078.661040189012,
                    1148.3561104499358,
                    1228.505417985681,
                    1115.8542134674105,
                    1382.560854018756,
                    1513.5498086870582,
                    1440.7867282402651,
                    1720.320772555203,
                    1776.6041769445476,
                    2018.0151097454595,
                    1955.9428430087037,
                    1947.2635971346429,
                    1746.0385081717538,
                    1096.8988259862488,
                    689.0167239790375,
                    372.642540898792,
                    153.3245572270036,
                    35.97043585909511,
                    4.373908827844881
                  ],
                  "type": "scatter"
                },
                {
                  "line": {
                    "dash": "solid"
                  },
                  "mode": "lines",
                  "name": "2035",
                  "x": [
                    "0 - 4",
                    "5 - 9",
                    "10 - 14",
                    "15 - 19",
                    "20 - 24",
                    "25 - 29",
                    "30 - 34",
                    "35 - 39",
                    "40 - 44",
                    "45 - 49",
                    "50 - 54",
                    "55 - 59",
                    "60 - 64",
                    "65 - 69",
                    "70 - 74",
                    "75 - 79",
                    "80 - 84",
                    "85 - 89",
                    "90 - 94",
                    "95 - 99",
                    "100+"
                  ],
                  "y": [
                    846.3569128240011,
                    918.074727424206,
                    962.6676472655815,
                    1071.3444694166506,
                    1134.5344906233618,
                    1207.2745323652252,
                    1100.641796279078,
                    1372.1616959323756,
                    1504.3338634120867,
                    1430.8440622646115,
                    1711.0349223165172,
                    1774.8900944111626,
                    2005.4066665585738,
                    1897.3328158668157,
                    1807.5408180882303,
                    1498.9247994092952,
                    824.0859248448088,
                    417.18502885483497,
                    163.27364230921216,
                    43.358930142413776,
                    5.712528516897139
                  ],
                  "type": "scatter"
                },
                {
                  "line": {
                    "dash": "solid"
                  },
                  "mode": "lines",
                  "name": "2040",
                  "x": [
                    "0 - 4",
                    "5 - 9",
                    "10 - 14",
                    "15 - 19",
                    "20 - 24",
                    "25 - 29",
                    "30 - 34",
                    "35 - 39",
                    "40 - 44",
                    "45 - 49",
                    "50 - 54",
                    "55 - 59",
                    "60 - 64",
                    "65 - 69",
                    "70 - 74",
                    "75 - 79",
                    "80 - 84",
                    "85 - 89",
                    "90 - 94",
                    "95 - 99",
                    "100+"
                  ],
                  "y": [
                    783.4144921266443,
                    843.4689683237456,
                    915.2814956141357,
                    956.1378610685691,
                    1058.4497620825484,
                    1114.927599477223,
                    1190.815783878611,
                    1092.3631385963338,
                    1363.8066573168346,
                    1493.9526676205076,
                    1423.1207330523698,
                    1709.384101547088,
                    1763.8006824388349,
                    1945.3144508899802,
                    1761.192740019377,
                    1551.722797347663,
                    1126.1228477324619,
                    498.9665684017628,
                    182.78997082220542,
                    46.172449991173124,
                    6.88590835737848
                  ],
                  "type": "scatter"
                },
                {
                  "line": {
                    "dash": "solid"
                  },
                  "mode": "lines",
                  "name": "2045",
                  "x": [
                    "0 - 4",
                    "5 - 9",
                    "10 - 14",
                    "15 - 19",
                    "20 - 24",
                    "25 - 29",
                    "30 - 34",
                    "35 - 39",
                    "40 - 44",
                    "45 - 49",
                    "50 - 54",
                    "55 - 59",
                    "60 - 64",
                    "65 - 69",
                    "70 - 74",
                    "75 - 79",
                    "80 - 84",
                    "85 - 89",
                    "90 - 94",
                    "95 - 99",
                    "100+"
                  ],
                  "y": [
                    749.982538355923,
                    780.74132015903,
                    840.9027236785638,
                    909.0731302520937,
                    944.6297810424998,
                    1040.1577582339864,
                    1099.7278147980671,
                    1181.8588677672406,
                    1085.7117823952235,
                    1354.395219951892,
                    1485.8886943449863,
                    1421.747694295015,
                    1698.7039672781027,
                    1710.9482147708109,
                    1805.7315297089706,
                    1511.934279913929,
                    1165.7893018576844,
                    681.843526253289,
                    218.62262107001578,
                    51.691507994245825,
                    7.332728419049488
                  ],
                  "type": "scatter"
                },
                {
                  "line": {
                    "dash": "solid"
                  },
                  "mode": "lines",
                  "name": "2050",
                  "x": [
                    "0 - 4",
                    "5 - 9",
                    "10 - 14",
                    "15 - 19",
                    "20 - 24",
                    "25 - 29",
                    "30 - 34",
                    "35 - 39",
                    "40 - 44",
                    "45 - 49",
                    "50 - 54",
                    "55 - 59",
                    "60 - 64",
                    "65 - 69",
                    "70 - 74",
                    "75 - 79",
                    "80 - 84",
                    "85 - 89",
                    "90 - 94",
                    "95 - 99",
                    "100+"
                  ],
                  "y": [
                    693.2897179631495,
                    747.4234431159423,
                    778.365923662687,
                    835.1988704186115,
                    898.1315215589723,
                    928.3048006709248,
                    1025.9773092389814,
                    1091.4560317768478,
                    1174.6625755900238,
                    1078.2194385343305,
                    1347.0845419800246,
                    1484.455096534859,
                    1412.864695875907,
                    1647.8021293312158,
                    1588.1818673055548,
                    1550.1695743183523,
                    1135.8967024576432,
                    705.8607238522596,
                    298.7503137666919,
                    61.824688268897376,
                    8.209219778577744
                  ],
                  "type": "scatter"
                }
              ],
              "layout": {
                "template": {
                  "data": {
                    "histogram2dcontour": [
                      {
                        "type": "histogram2dcontour",
                        "colorbar": {
                          "outlinewidth": 0,
                          "ticks": ""
                        },
                        "colorscale": [
                          [
                            0,
                            "#0d0887"
                          ],
                          [
                            0.1111111111111111,
                            "#46039f"
                          ],
                          [
                            0.2222222222222222,
                            "#7201a8"
                          ],
                          [
                            0.3333333333333333,
                            "#9c179e"
                          ],
                          [
                            0.4444444444444444,
                            "#bd3786"
                          ],
                          [
                            0.5555555555555556,
                            "#d8576b"
                          ],
                          [
                            0.6666666666666666,
                            "#ed7953"
                          ],
                          [
                            0.7777777777777778,
                            "#fb9f3a"
                          ],
                          [
                            0.8888888888888888,
                            "#fdca26"
                          ],
                          [
                            1,
                            "#f0f921"
                          ]
                        ]
                      }
                    ],
                    "choropleth": [
                      {
                        "type": "choropleth",
                        "colorbar": {
                          "outlinewidth": 0,
                          "ticks": ""
                        }
                      }
                    ],
                    "histogram2d": [
                      {
                        "type": "histogram2d",
                        "colorbar": {
                          "outlinewidth": 0,
                          "ticks": ""
                        },
                        "colorscale": [
                          [
                            0,
                            "#0d0887"
                          ],
                          [
                            0.1111111111111111,
                            "#46039f"
                          ],
                          [
                            0.2222222222222222,
                            "#7201a8"
                          ],
                          [
                            0.3333333333333333,
                            "#9c179e"
                          ],
                          [
                            0.4444444444444444,
                            "#bd3786"
                          ],
                          [
                            0.5555555555555556,
                            "#d8576b"
                          ],
                          [
                            0.6666666666666666,
                            "#ed7953"
                          ],
                          [
                            0.7777777777777778,
                            "#fb9f3a"
                          ],
                          [
                            0.8888888888888888,
                            "#fdca26"
                          ],
                          [
                            1,
                            "#f0f921"
                          ]
                        ]
                      }
                    ],
                    "heatmap": [
                      {
                        "type": "heatmap",
                        "colorbar": {
                          "outlinewidth": 0,
                          "ticks": ""
                        },
                        "colorscale": [
                          [
                            0,
                            "#0d0887"
                          ],
                          [
                            0.1111111111111111,
                            "#46039f"
                          ],
                          [
                            0.2222222222222222,
                            "#7201a8"
                          ],
                          [
                            0.3333333333333333,
                            "#9c179e"
                          ],
                          [
                            0.4444444444444444,
                            "#bd3786"
                          ],
                          [
                            0.5555555555555556,
                            "#d8576b"
                          ],
                          [
                            0.6666666666666666,
                            "#ed7953"
                          ],
                          [
                            0.7777777777777778,
                            "#fb9f3a"
                          ],
                          [
                            0.8888888888888888,
                            "#fdca26"
                          ],
                          [
                            1,
                            "#f0f921"
                          ]
                        ]
                      }
                    ],
                    "heatmapgl": [
                      {
                        "type": "heatmapgl",
                        "colorbar": {
                          "outlinewidth": 0,
                          "ticks": ""
                        },
                        "colorscale": [
                          [
                            0,
                            "#0d0887"
                          ],
                          [
                            0.1111111111111111,
                            "#46039f"
                          ],
                          [
                            0.2222222222222222,
                            "#7201a8"
                          ],
                          [
                            0.3333333333333333,
                            "#9c179e"
                          ],
                          [
                            0.4444444444444444,
                            "#bd3786"
                          ],
                          [
                            0.5555555555555556,
                            "#d8576b"
                          ],
                          [
                            0.6666666666666666,
                            "#ed7953"
                          ],
                          [
                            0.7777777777777778,
                            "#fb9f3a"
                          ],
                          [
                            0.8888888888888888,
                            "#fdca26"
                          ],
                          [
                            1,
                            "#f0f921"
                          ]
                        ]
                      }
                    ],
                    "contourcarpet": [
                      {
                        "type": "contourcarpet",
                        "colorbar": {
                          "outlinewidth": 0,
                          "ticks": ""
                        }
                      }
                    ],
                    "contour": [
                      {
                        "type": "contour",
                        "colorbar": {
                          "outlinewidth": 0,
                          "ticks": ""
                        },
                        "colorscale": [
                          [
                            0,
                            "#0d0887"
                          ],
                          [
                            0.1111111111111111,
                            "#46039f"
                          ],
                          [
                            0.2222222222222222,
                            "#7201a8"
                          ],
                          [
                            0.3333333333333333,
                            "#9c179e"
                          ],
                          [
                            0.4444444444444444,
                            "#bd3786"
                          ],
                          [
                            0.5555555555555556,
                            "#d8576b"
                          ],
                          [
                            0.6666666666666666,
                            "#ed7953"
                          ],
                          [
                            0.7777777777777778,
                            "#fb9f3a"
                          ],
                          [
                            0.8888888888888888,
                            "#fdca26"
                          ],
                          [
                            1,
                            "#f0f921"
                          ]
                        ]
                      }
                    ],
                    "surface": [
                      {
                        "type": "surface",
                        "colorbar": {
                          "outlinewidth": 0,
                          "ticks": ""
                        },
                        "colorscale": [
                          [
                            0,
                            "#0d0887"
                          ],
                          [
                            0.1111111111111111,
                            "#46039f"
                          ],
                          [
                            0.2222222222222222,
                            "#7201a8"
                          ],
                          [
                            0.3333333333333333,
                            "#9c179e"
                          ],
                          [
                            0.4444444444444444,
                            "#bd3786"
                          ],
                          [
                            0.5555555555555556,
                            "#d8576b"
                          ],
                          [
                            0.6666666666666666,
                            "#ed7953"
                          ],
                          [
                            0.7777777777777778,
                            "#fb9f3a"
                          ],
                          [
                            0.8888888888888888,
                            "#fdca26"
                          ],
                          [
                            1,
                            "#f0f921"
                          ]
                        ]
                      }
                    ],
                    "mesh3d": [
                      {
                        "type": "mesh3d",
                        "colorbar": {
                          "outlinewidth": 0,
                          "ticks": ""
                        }
                      }
                    ],
                    "scatter": [
                      {
                        "fillpattern": {
                          "fillmode": "overlay",
                          "size": 10,
                          "solidity": 0.2
                        },
                        "type": "scatter"
                      }
                    ],
                    "parcoords": [
                      {
                        "type": "parcoords",
                        "line": {
                          "colorbar": {
                            "outlinewidth": 0,
                            "ticks": ""
                          }
                        }
                      }
                    ],
                    "scatterpolargl": [
                      {
                        "type": "scatterpolargl",
                        "marker": {
                          "colorbar": {
                            "outlinewidth": 0,
                            "ticks": ""
                          }
                        }
                      }
                    ],
                    "bar": [
                      {
                        "error_x": {
                          "color": "#2a3f5f"
                        },
                        "error_y": {
                          "color": "#2a3f5f"
                        },
                        "marker": {
                          "line": {
                            "color": "#E5ECF6",
                            "width": 0.5
                          },
                          "pattern": {
                            "fillmode": "overlay",
                            "size": 10,
                            "solidity": 0.2
                          }
                        },
                        "type": "bar"
                      }
                    ],
                    "scattergeo": [
                      {
                        "type": "scattergeo",
                        "marker": {
                          "colorbar": {
                            "outlinewidth": 0,
                            "ticks": ""
                          }
                        }
                      }
                    ],
                    "scatterpolar": [
                      {
                        "type": "scatterpolar",
                        "marker": {
                          "colorbar": {
                            "outlinewidth": 0,
                            "ticks": ""
                          }
                        }
                      }
                    ],
                    "histogram": [
                      {
                        "marker": {
                          "pattern": {
                            "fillmode": "overlay",
                            "size": 10,
                            "solidity": 0.2
                          }
                        },
                        "type": "histogram"
                      }
                    ],
                    "scattergl": [
                      {
                        "type": "scattergl",
                        "marker": {
                          "colorbar": {
                            "outlinewidth": 0,
                            "ticks": ""
                          }
                        }
                      }
                    ],
                    "scatter3d": [
                      {
                        "type": "scatter3d",
                        "line": {
                          "colorbar": {
                            "outlinewidth": 0,
                            "ticks": ""
                          }
                        },
                        "marker": {
                          "colorbar": {
                            "outlinewidth": 0,
                            "ticks": ""
                          }
                        }
                      }
                    ],
                    "scattermapbox": [
                      {
                        "type": "scattermapbox",
                        "marker": {
                          "colorbar": {
                            "outlinewidth": 0,
                            "ticks": ""
                          }
                        }
                      }
                    ],
                    "scatterternary": [
                      {
                        "type": "scatterternary",
                        "marker": {
                          "colorbar": {
                            "outlinewidth": 0,
                            "ticks": ""
                          }
                        }
                      }
                    ],
                    "scattercarpet": [
                      {
                        "type": "scattercarpet",
                        "marker": {
                          "colorbar": {
                            "outlinewidth": 0,
                            "ticks": ""
                          }
                        }
                      }
                    ],
                    "carpet": [
                      {
                        "aaxis": {
                          "endlinecolor": "#2a3f5f",
                          "gridcolor": "white",
                          "linecolor": "white",
                          "minorgridcolor": "white",
                          "startlinecolor": "#2a3f5f"
                        },
                        "baxis": {
                          "endlinecolor": "#2a3f5f",
                          "gridcolor": "white",
                          "linecolor": "white",
                          "minorgridcolor": "white",
                          "startlinecolor": "#2a3f5f"
                        },
                        "type": "carpet"
                      }
                    ],
                    "table": [
                      {
                        "cells": {
                          "fill": {
                            "color": "#EBF0F8"
                          },
                          "line": {
                            "color": "white"
                          }
                        },
                        "header": {
                          "fill": {
                            "color": "#C8D4E3"
                          },
                          "line": {
                            "color": "white"
                          }
                        },
                        "type": "table"
                      }
                    ],
                    "barpolar": [
                      {
                        "marker": {
                          "line": {
                            "color": "#E5ECF6",
                            "width": 0.5
                          },
                          "pattern": {
                            "fillmode": "overlay",
                            "size": 10,
                            "solidity": 0.2
                          }
                        },
                        "type": "barpolar"
                      }
                    ],
                    "pie": [
                      {
                        "automargin": true,
                        "type": "pie"
                      }
                    ]
                  },
                  "layout": {
                    "autotypenumbers": "strict",
                    "colorway": [
                      "#636efa",
                      "#EF553B",
                      "#00cc96",
                      "#ab63fa",
                      "#FFA15A",
                      "#19d3f3",
                      "#FF6692",
                      "#B6E880",
                      "#FF97FF",
                      "#FECB52"
                    ],
                    "font": {
                      "color": "#2a3f5f"
                    },
                    "hovermode": "closest",
                    "hoverlabel": {
                      "align": "left"
                    },
                    "paper_bgcolor": "white",
                    "plot_bgcolor": "#E5ECF6",
                    "polar": {
                      "bgcolor": "#E5ECF6",
                      "angularaxis": {
                        "gridcolor": "white",
                        "linecolor": "white",
                        "ticks": ""
                      },
                      "radialaxis": {
                        "gridcolor": "white",
                        "linecolor": "white",
                        "ticks": ""
                      }
                    },
                    "ternary": {
                      "bgcolor": "#E5ECF6",
                      "aaxis": {
                        "gridcolor": "white",
                        "linecolor": "white",
                        "ticks": ""
                      },
                      "baxis": {
                        "gridcolor": "white",
                        "linecolor": "white",
                        "ticks": ""
                      },
                      "caxis": {
                        "gridcolor": "white",
                        "linecolor": "white",
                        "ticks": ""
                      }
                    },
                    "coloraxis": {
                      "colorbar": {
                        "outlinewidth": 0,
                        "ticks": ""
                      }
                    },
                    "colorscale": {
                      "sequential": [
                        [
                          0,
                          "#0d0887"
                        ],
                        [
                          0.1111111111111111,
                          "#46039f"
                        ],
                        [
                          0.2222222222222222,
                          "#7201a8"
                        ],
                        [
                          0.3333333333333333,
                          "#9c179e"
                        ],
                        [
                          0.4444444444444444,
                          "#bd3786"
                        ],
                        [
                          0.5555555555555556,
                          "#d8576b"
                        ],
                        [
                          0.6666666666666666,
                          "#ed7953"
                        ],
                        [
                          0.7777777777777778,
                          "#fb9f3a"
                        ],
                        [
                          0.8888888888888888,
                          "#fdca26"
                        ],
                        [
                          1,
                          "#f0f921"
                        ]
                      ],
                      "sequentialminus": [
                        [
                          0,
                          "#0d0887"
                        ],
                        [
                          0.1111111111111111,
                          "#46039f"
                        ],
                        [
                          0.2222222222222222,
                          "#7201a8"
                        ],
                        [
                          0.3333333333333333,
                          "#9c179e"
                        ],
                        [
                          0.4444444444444444,
                          "#bd3786"
                        ],
                        [
                          0.5555555555555556,
                          "#d8576b"
                        ],
                        [
                          0.6666666666666666,
                          "#ed7953"
                        ],
                        [
                          0.7777777777777778,
                          "#fb9f3a"
                        ],
                        [
                          0.8888888888888888,
                          "#fdca26"
                        ],
                        [
                          1,
                          "#f0f921"
                        ]
                      ],
                      "diverging": [
                        [
                          0,
                          "#8e0152"
                        ],
                        [
                          0.1,
                          "#c51b7d"
                        ],
                        [
                          0.2,
                          "#de77ae"
                        ],
                        [
                          0.3,
                          "#f1b6da"
                        ],
                        [
                          0.4,
                          "#fde0ef"
                        ],
                        [
                          0.5,
                          "#f7f7f7"
                        ],
                        [
                          0.6,
                          "#e6f5d0"
                        ],
                        [
                          0.7,
                          "#b8e186"
                        ],
                        [
                          0.8,
                          "#7fbc41"
                        ],
                        [
                          0.9,
                          "#4d9221"
                        ],
                        [
                          1,
                          "#276419"
                        ]
                      ]
                    },
                    "xaxis": {
                      "gridcolor": "white",
                      "linecolor": "white",
                      "ticks": "",
                      "title": {
                        "standoff": 15
                      },
                      "zerolinecolor": "white",
                      "automargin": true,
                      "zerolinewidth": 2
                    },
                    "yaxis": {
                      "gridcolor": "white",
                      "linecolor": "white",
                      "ticks": "",
                      "title": {
                        "standoff": 15
                      },
                      "zerolinecolor": "white",
                      "automargin": true,
                      "zerolinewidth": 2
                    },
                    "scene": {
                      "xaxis": {
                        "backgroundcolor": "#E5ECF6",
                        "gridcolor": "white",
                        "linecolor": "white",
                        "showbackground": true,
                        "ticks": "",
                        "zerolinecolor": "white",
                        "gridwidth": 2
                      },
                      "yaxis": {
                        "backgroundcolor": "#E5ECF6",
                        "gridcolor": "white",
                        "linecolor": "white",
                        "showbackground": true,
                        "ticks": "",
                        "zerolinecolor": "white",
                        "gridwidth": 2
                      },
                      "zaxis": {
                        "backgroundcolor": "#E5ECF6",
                        "gridcolor": "white",
                        "linecolor": "white",
                        "showbackground": true,
                        "ticks": "",
                        "zerolinecolor": "white",
                        "gridwidth": 2
                      }
                    },
                    "shapedefaults": {
                      "line": {
                        "color": "#2a3f5f"
                      }
                    },
                    "annotationdefaults": {
                      "arrowcolor": "#2a3f5f",
                      "arrowhead": 0,
                      "arrowwidth": 1
                    },
                    "geo": {
                      "bgcolor": "white",
                      "landcolor": "#E5ECF6",
                      "subunitcolor": "white",
                      "showland": true,
                      "showlakes": true,
                      "lakecolor": "white"
                    },
                    "title": {
                      "x": 0.05
                    },
                    "mapbox": {
                      "style": "light"
                    }
                  }
                },
                "title": {
                  "text": "Prediction Women"
                },
                "legend": {
                  "title": {
                    "text": "year"
                  }
                },
                "xaxis": {
                  "title": {
                    "text": "Age Groups"
                  }
                },
                "yaxis": {
                  "title": {
                    "text": "Population"
                  }
                }
              },
              "config": {
                "plotlyServerURL": "https://plot.ly"
              }
            }
          },
          "metadata": {},
          "output_type": "display_data"
        }
      ],
      "metadata": {
        "datalore": {
          "node_id": "GWnBUuS1oOM5rX7dVFbvlQ",
          "type": "CODE",
          "hide_input_from_viewers": false,
          "hide_output_from_viewers": false,
          "report_properties": {
            "rowId": "RRpP8eSbsU1MDLRvEhsBcU"
          }
        },
        "id": "tv5G6pX-6eHC",
        "outputId": "7826a450-e533-4f8e-9355-178bd654eb4a"
      }
    },
    {
      "cell_type": "code",
      "source": [
        "myEvaluate(f_cleaned_2010_2050_df, f_pred_2010_2050_df)"
      ],
      "execution_count": null,
      "outputs": [
        {
          "data": {
            "text/html": [
              "<div>\n",
              "<style scoped>\n",
              "    .dataframe tbody tr th:only-of-type {\n",
              "        vertical-align: middle;\n",
              "    }\n",
              "\n",
              "    .dataframe tbody tr th {\n",
              "        vertical-align: top;\n",
              "    }\n",
              "\n",
              "    .dataframe thead th {\n",
              "        text-align: right;\n",
              "    }\n",
              "</style>\n",
              "<table border=\"1\" class=\"dataframe\">\n",
              "  <thead>\n",
              "    <tr style=\"text-align: right;\">\n",
              "      <th></th>\n",
              "      <th>Year</th>\n",
              "      <th>Orig_Est</th>\n",
              "      <th>Pred</th>\n",
              "      <th>MAE</th>\n",
              "      <th>RMSE</th>\n",
              "      <th>R2</th>\n",
              "    </tr>\n",
              "  </thead>\n",
              "  <tbody>\n",
              "    <tr>\n",
              "      <th>0</th>\n",
              "      <td>2010</td>\n",
              "      <td>24260</td>\n",
              "      <td>24402</td>\n",
              "      <td>105</td>\n",
              "      <td>125</td>\n",
              "      <td>0.973</td>\n",
              "    </tr>\n",
              "    <tr>\n",
              "      <th>1</th>\n",
              "      <td>2015</td>\n",
              "      <td>24425</td>\n",
              "      <td>24729</td>\n",
              "      <td>115</td>\n",
              "      <td>133</td>\n",
              "      <td>0.967</td>\n",
              "    </tr>\n",
              "    <tr>\n",
              "      <th>2</th>\n",
              "      <td>2020</td>\n",
              "      <td>24471</td>\n",
              "      <td>24835</td>\n",
              "      <td>119</td>\n",
              "      <td>140</td>\n",
              "      <td>0.961</td>\n",
              "    </tr>\n",
              "    <tr>\n",
              "      <th>3</th>\n",
              "      <td>2025</td>\n",
              "      <td>24390</td>\n",
              "      <td>24675</td>\n",
              "      <td>124</td>\n",
              "      <td>147</td>\n",
              "      <td>0.952</td>\n",
              "    </tr>\n",
              "    <tr>\n",
              "      <th>4</th>\n",
              "      <td>2030</td>\n",
              "      <td>24127</td>\n",
              "      <td>24311</td>\n",
              "      <td>125</td>\n",
              "      <td>150</td>\n",
              "      <td>0.945</td>\n",
              "    </tr>\n",
              "    <tr>\n",
              "      <th>5</th>\n",
              "      <td>2035</td>\n",
              "      <td>23658</td>\n",
              "      <td>23696</td>\n",
              "      <td>122</td>\n",
              "      <td>148</td>\n",
              "      <td>0.939</td>\n",
              "    </tr>\n",
              "    <tr>\n",
              "      <th>6</th>\n",
              "      <td>2040</td>\n",
              "      <td>23023</td>\n",
              "      <td>22828</td>\n",
              "      <td>116</td>\n",
              "      <td>140</td>\n",
              "      <td>0.936</td>\n",
              "    </tr>\n",
              "    <tr>\n",
              "      <th>7</th>\n",
              "      <td>2045</td>\n",
              "      <td>22274</td>\n",
              "      <td>21747</td>\n",
              "      <td>108</td>\n",
              "      <td>128</td>\n",
              "      <td>0.936</td>\n",
              "    </tr>\n",
              "    <tr>\n",
              "      <th>8</th>\n",
              "      <td>2050</td>\n",
              "      <td>21459</td>\n",
              "      <td>20492</td>\n",
              "      <td>102</td>\n",
              "      <td>120</td>\n",
              "      <td>0.932</td>\n",
              "    </tr>\n",
              "  </tbody>\n",
              "</table>\n",
              "</div>"
            ]
          },
          "metadata": {},
          "output_type": "display_data"
        }
      ],
      "metadata": {
        "datalore": {
          "node_id": "Ipf8DT85EgL7kDZot09Ke3",
          "type": "CODE",
          "hide_input_from_viewers": false,
          "hide_output_from_viewers": false,
          "report_properties": {
            "rowId": "4q6geUo9ZaIxK8iWBw1EbV"
          }
        },
        "id": "Kioyq4i46eHC",
        "outputId": "0f061382-3eb4-4b23-85b7-3c9086a72547"
      }
    },
    {
      "cell_type": "code",
      "source": [
        "raft(\n",
        "    df_true=f_cleaned_2010_2050_df,\n",
        "    df_pred=f_pred_2010_2050_df,\n",
        "    features=AGE_GROUPS,\n",
        "    years=both_pred_2010_2050_df[\"Year\"].unique()[0:3],\n",
        "    pltTitle=\"Woman | True & Pred\",\n",
        "    yTitle=\"Population\"\n",
        ")"
      ],
      "execution_count": null,
      "outputs": [
        {
          "data": {
            "application/vnd.plotly.v1+json": {
              "data": [
                {
                  "line": {
                    "dash": "solid"
                  },
                  "mode": "lines",
                  "name": "2010",
                  "x": [
                    "0 - 4",
                    "5 - 9",
                    "10 - 14",
                    "15 - 19",
                    "20 - 24",
                    "25 - 29",
                    "30 - 34",
                    "35 - 39",
                    "40 - 44",
                    "45 - 49",
                    "50 - 54",
                    "55 - 59",
                    "60 - 64",
                    "65 - 69",
                    "70 - 74",
                    "75 - 79",
                    "80 - 84",
                    "85 - 89",
                    "90 - 94",
                    "95 - 99",
                    "100+"
                  ],
                  "y": [
                    1139.016,
                    1246.032,
                    1605.797,
                    1805.207,
                    1689.157,
                    1908.499,
                    1927.909,
                    2142.527,
                    2060.343,
                    2049.311,
                    1929.273,
                    1385.418,
                    1092.418,
                    896.869,
                    711.379,
                    405.56,
                    177.525,
                    69.362,
                    16.097,
                    2.148,
                    0.184
                  ],
                  "type": "scatter"
                },
                {
                  "line": {
                    "dash": "solid"
                  },
                  "mode": "lines",
                  "name": "2015",
                  "x": [
                    "0 - 4",
                    "5 - 9",
                    "10 - 14",
                    "15 - 19",
                    "20 - 24",
                    "25 - 29",
                    "30 - 34",
                    "35 - 39",
                    "40 - 44",
                    "45 - 49",
                    "50 - 54",
                    "55 - 59",
                    "60 - 64",
                    "65 - 69",
                    "70 - 74",
                    "75 - 79",
                    "80 - 84",
                    "85 - 89",
                    "90 - 94",
                    "95 - 99",
                    "100+"
                  ],
                  "y": [
                    1114.317,
                    1137.575,
                    1244.881,
                    1602.7,
                    1798.132,
                    1680.85,
                    1899.097,
                    1916.505,
                    2124.189,
                    2031.836,
                    2005.136,
                    1860.248,
                    1304.919,
                    997.947,
                    772.963,
                    551.913,
                    265.353,
                    89.468,
                    24.258,
                    3.526,
                    0.1270949720670391
                  ],
                  "type": "scatter"
                },
                {
                  "line": {
                    "dash": "solid"
                  },
                  "mode": "lines",
                  "name": "2020",
                  "x": [
                    "0 - 4",
                    "5 - 9",
                    "10 - 14",
                    "15 - 19",
                    "20 - 24",
                    "25 - 29",
                    "30 - 34",
                    "35 - 39",
                    "40 - 44",
                    "45 - 49",
                    "50 - 54",
                    "55 - 59",
                    "60 - 64",
                    "65 - 69",
                    "70 - 74",
                    "75 - 79",
                    "80 - 84",
                    "85 - 89",
                    "90 - 94",
                    "95 - 99",
                    "100+"
                  ],
                  "y": [
                    1095.709,
                    1112.989,
                    1136.589,
                    1242.428,
                    1596.607,
                    1790.045,
                    1672.653,
                    1888.628,
                    1901.35,
                    2097.725,
                    1992.479,
                    1940.86,
                    1763.086,
                    1202.059,
                    871.244,
                    612.39,
                    373.991,
                    141.131,
                    33.604,
                    5.742,
                    0.13301191151446398
                  ],
                  "type": "scatter"
                },
                {
                  "line": {
                    "dash": "dot"
                  },
                  "mode": "lines",
                  "name": "2010-pred",
                  "x": [
                    "0 - 4",
                    "5 - 9",
                    "10 - 14",
                    "15 - 19",
                    "20 - 24",
                    "25 - 29",
                    "30 - 34",
                    "35 - 39",
                    "40 - 44",
                    "45 - 49",
                    "50 - 54",
                    "55 - 59",
                    "60 - 64",
                    "65 - 69",
                    "70 - 74",
                    "75 - 79",
                    "80 - 84",
                    "85 - 89",
                    "90 - 94",
                    "95 - 99",
                    "100+"
                  ],
                  "y": [
                    1260.0843159142764,
                    1160.6909225978702,
                    1453.555079133926,
                    1592.4545933807021,
                    1506.8278657945364,
                    1780.3678119369326,
                    1823.3921566046488,
                    2057.567379715691,
                    1994.597570191525,
                    2032.9613344721824,
                    1953.1889707233127,
                    1427.9459753141277,
                    1186.4435622220285,
                    1028.0119435967567,
                    896.1014225939855,
                    638.1905023515419,
                    367.11117655894924,
                    177.15401879157506,
                    54.677281472655785,
                    10.39938628158845,
                    1.0823021993716082
                  ],
                  "type": "scatter"
                },
                {
                  "line": {
                    "dash": "dot"
                  },
                  "mode": "lines",
                  "name": "2015-pred",
                  "x": [
                    "0 - 4",
                    "5 - 9",
                    "10 - 14",
                    "15 - 19",
                    "20 - 24",
                    "25 - 29",
                    "30 - 34",
                    "35 - 39",
                    "40 - 44",
                    "45 - 49",
                    "50 - 54",
                    "55 - 59",
                    "60 - 64",
                    "65 - 69",
                    "70 - 74",
                    "75 - 79",
                    "80 - 84",
                    "85 - 89",
                    "90 - 94",
                    "95 - 99",
                    "100+"
                  ],
                  "y": [
                    1163.6978531542413,
                    1255.7846481088104,
                    1157.1595338014959,
                    1443.695597599166,
                    1573.2878020165094,
                    1480.7870444843186,
                    1756.096094738587,
                    1809.677213616873,
                    2045.0389328405429,
                    1980.8331337155682,
                    2021.9879306778957,
                    1951.3045177075176,
                    1419.024250389104,
                    1150.8916596535535,
                    954.2485939076847,
                    769.2777901665542,
                    479.4642841236269,
                    222.27803978577617,
                    77.62018214037151,
                    15.462287781075947,
                    1.6515449221831415
                  ],
                  "type": "scatter"
                },
                {
                  "line": {
                    "dash": "dot"
                  },
                  "mode": "lines",
                  "name": "2020-pred",
                  "x": [
                    "0 - 4",
                    "5 - 9",
                    "10 - 14",
                    "15 - 19",
                    "20 - 24",
                    "25 - 29",
                    "30 - 34",
                    "35 - 39",
                    "40 - 44",
                    "45 - 49",
                    "50 - 54",
                    "55 - 59",
                    "60 - 64",
                    "65 - 69",
                    "70 - 74",
                    "75 - 79",
                    "80 - 84",
                    "85 - 89",
                    "90 - 94",
                    "95 - 99",
                    "100+"
                  ],
                  "y": [
                    1085.6573563755844,
                    1159.7270758567977,
                    1251.9639377451379,
                    1149.310506805501,
                    1426.3192702441468,
                    1546.0984279334557,
                    1460.5995056321105,
                    1742.8873301109911,
                    1798.658160216494,
                    2030.9264076361535,
                    1970.141104577195,
                    2020.037099851498,
                    1939.1128784908358,
                    1376.503043735453,
                    1068.3112728457506,
                    819.1954962707949,
                    577.9484708646438,
                    290.30546610224746,
                    97.3913098425132,
                    21.950352350165232,
                    2.4555932608621043
                  ],
                  "type": "scatter"
                }
              ],
              "layout": {
                "template": {
                  "data": {
                    "histogram2dcontour": [
                      {
                        "type": "histogram2dcontour",
                        "colorbar": {
                          "outlinewidth": 0,
                          "ticks": ""
                        },
                        "colorscale": [
                          [
                            0,
                            "#0d0887"
                          ],
                          [
                            0.1111111111111111,
                            "#46039f"
                          ],
                          [
                            0.2222222222222222,
                            "#7201a8"
                          ],
                          [
                            0.3333333333333333,
                            "#9c179e"
                          ],
                          [
                            0.4444444444444444,
                            "#bd3786"
                          ],
                          [
                            0.5555555555555556,
                            "#d8576b"
                          ],
                          [
                            0.6666666666666666,
                            "#ed7953"
                          ],
                          [
                            0.7777777777777778,
                            "#fb9f3a"
                          ],
                          [
                            0.8888888888888888,
                            "#fdca26"
                          ],
                          [
                            1,
                            "#f0f921"
                          ]
                        ]
                      }
                    ],
                    "choropleth": [
                      {
                        "type": "choropleth",
                        "colorbar": {
                          "outlinewidth": 0,
                          "ticks": ""
                        }
                      }
                    ],
                    "histogram2d": [
                      {
                        "type": "histogram2d",
                        "colorbar": {
                          "outlinewidth": 0,
                          "ticks": ""
                        },
                        "colorscale": [
                          [
                            0,
                            "#0d0887"
                          ],
                          [
                            0.1111111111111111,
                            "#46039f"
                          ],
                          [
                            0.2222222222222222,
                            "#7201a8"
                          ],
                          [
                            0.3333333333333333,
                            "#9c179e"
                          ],
                          [
                            0.4444444444444444,
                            "#bd3786"
                          ],
                          [
                            0.5555555555555556,
                            "#d8576b"
                          ],
                          [
                            0.6666666666666666,
                            "#ed7953"
                          ],
                          [
                            0.7777777777777778,
                            "#fb9f3a"
                          ],
                          [
                            0.8888888888888888,
                            "#fdca26"
                          ],
                          [
                            1,
                            "#f0f921"
                          ]
                        ]
                      }
                    ],
                    "heatmap": [
                      {
                        "type": "heatmap",
                        "colorbar": {
                          "outlinewidth": 0,
                          "ticks": ""
                        },
                        "colorscale": [
                          [
                            0,
                            "#0d0887"
                          ],
                          [
                            0.1111111111111111,
                            "#46039f"
                          ],
                          [
                            0.2222222222222222,
                            "#7201a8"
                          ],
                          [
                            0.3333333333333333,
                            "#9c179e"
                          ],
                          [
                            0.4444444444444444,
                            "#bd3786"
                          ],
                          [
                            0.5555555555555556,
                            "#d8576b"
                          ],
                          [
                            0.6666666666666666,
                            "#ed7953"
                          ],
                          [
                            0.7777777777777778,
                            "#fb9f3a"
                          ],
                          [
                            0.8888888888888888,
                            "#fdca26"
                          ],
                          [
                            1,
                            "#f0f921"
                          ]
                        ]
                      }
                    ],
                    "heatmapgl": [
                      {
                        "type": "heatmapgl",
                        "colorbar": {
                          "outlinewidth": 0,
                          "ticks": ""
                        },
                        "colorscale": [
                          [
                            0,
                            "#0d0887"
                          ],
                          [
                            0.1111111111111111,
                            "#46039f"
                          ],
                          [
                            0.2222222222222222,
                            "#7201a8"
                          ],
                          [
                            0.3333333333333333,
                            "#9c179e"
                          ],
                          [
                            0.4444444444444444,
                            "#bd3786"
                          ],
                          [
                            0.5555555555555556,
                            "#d8576b"
                          ],
                          [
                            0.6666666666666666,
                            "#ed7953"
                          ],
                          [
                            0.7777777777777778,
                            "#fb9f3a"
                          ],
                          [
                            0.8888888888888888,
                            "#fdca26"
                          ],
                          [
                            1,
                            "#f0f921"
                          ]
                        ]
                      }
                    ],
                    "contourcarpet": [
                      {
                        "type": "contourcarpet",
                        "colorbar": {
                          "outlinewidth": 0,
                          "ticks": ""
                        }
                      }
                    ],
                    "contour": [
                      {
                        "type": "contour",
                        "colorbar": {
                          "outlinewidth": 0,
                          "ticks": ""
                        },
                        "colorscale": [
                          [
                            0,
                            "#0d0887"
                          ],
                          [
                            0.1111111111111111,
                            "#46039f"
                          ],
                          [
                            0.2222222222222222,
                            "#7201a8"
                          ],
                          [
                            0.3333333333333333,
                            "#9c179e"
                          ],
                          [
                            0.4444444444444444,
                            "#bd3786"
                          ],
                          [
                            0.5555555555555556,
                            "#d8576b"
                          ],
                          [
                            0.6666666666666666,
                            "#ed7953"
                          ],
                          [
                            0.7777777777777778,
                            "#fb9f3a"
                          ],
                          [
                            0.8888888888888888,
                            "#fdca26"
                          ],
                          [
                            1,
                            "#f0f921"
                          ]
                        ]
                      }
                    ],
                    "surface": [
                      {
                        "type": "surface",
                        "colorbar": {
                          "outlinewidth": 0,
                          "ticks": ""
                        },
                        "colorscale": [
                          [
                            0,
                            "#0d0887"
                          ],
                          [
                            0.1111111111111111,
                            "#46039f"
                          ],
                          [
                            0.2222222222222222,
                            "#7201a8"
                          ],
                          [
                            0.3333333333333333,
                            "#9c179e"
                          ],
                          [
                            0.4444444444444444,
                            "#bd3786"
                          ],
                          [
                            0.5555555555555556,
                            "#d8576b"
                          ],
                          [
                            0.6666666666666666,
                            "#ed7953"
                          ],
                          [
                            0.7777777777777778,
                            "#fb9f3a"
                          ],
                          [
                            0.8888888888888888,
                            "#fdca26"
                          ],
                          [
                            1,
                            "#f0f921"
                          ]
                        ]
                      }
                    ],
                    "mesh3d": [
                      {
                        "type": "mesh3d",
                        "colorbar": {
                          "outlinewidth": 0,
                          "ticks": ""
                        }
                      }
                    ],
                    "scatter": [
                      {
                        "fillpattern": {
                          "fillmode": "overlay",
                          "size": 10,
                          "solidity": 0.2
                        },
                        "type": "scatter"
                      }
                    ],
                    "parcoords": [
                      {
                        "type": "parcoords",
                        "line": {
                          "colorbar": {
                            "outlinewidth": 0,
                            "ticks": ""
                          }
                        }
                      }
                    ],
                    "scatterpolargl": [
                      {
                        "type": "scatterpolargl",
                        "marker": {
                          "colorbar": {
                            "outlinewidth": 0,
                            "ticks": ""
                          }
                        }
                      }
                    ],
                    "bar": [
                      {
                        "error_x": {
                          "color": "#2a3f5f"
                        },
                        "error_y": {
                          "color": "#2a3f5f"
                        },
                        "marker": {
                          "line": {
                            "color": "#E5ECF6",
                            "width": 0.5
                          },
                          "pattern": {
                            "fillmode": "overlay",
                            "size": 10,
                            "solidity": 0.2
                          }
                        },
                        "type": "bar"
                      }
                    ],
                    "scattergeo": [
                      {
                        "type": "scattergeo",
                        "marker": {
                          "colorbar": {
                            "outlinewidth": 0,
                            "ticks": ""
                          }
                        }
                      }
                    ],
                    "scatterpolar": [
                      {
                        "type": "scatterpolar",
                        "marker": {
                          "colorbar": {
                            "outlinewidth": 0,
                            "ticks": ""
                          }
                        }
                      }
                    ],
                    "histogram": [
                      {
                        "marker": {
                          "pattern": {
                            "fillmode": "overlay",
                            "size": 10,
                            "solidity": 0.2
                          }
                        },
                        "type": "histogram"
                      }
                    ],
                    "scattergl": [
                      {
                        "type": "scattergl",
                        "marker": {
                          "colorbar": {
                            "outlinewidth": 0,
                            "ticks": ""
                          }
                        }
                      }
                    ],
                    "scatter3d": [
                      {
                        "type": "scatter3d",
                        "line": {
                          "colorbar": {
                            "outlinewidth": 0,
                            "ticks": ""
                          }
                        },
                        "marker": {
                          "colorbar": {
                            "outlinewidth": 0,
                            "ticks": ""
                          }
                        }
                      }
                    ],
                    "scattermapbox": [
                      {
                        "type": "scattermapbox",
                        "marker": {
                          "colorbar": {
                            "outlinewidth": 0,
                            "ticks": ""
                          }
                        }
                      }
                    ],
                    "scatterternary": [
                      {
                        "type": "scatterternary",
                        "marker": {
                          "colorbar": {
                            "outlinewidth": 0,
                            "ticks": ""
                          }
                        }
                      }
                    ],
                    "scattercarpet": [
                      {
                        "type": "scattercarpet",
                        "marker": {
                          "colorbar": {
                            "outlinewidth": 0,
                            "ticks": ""
                          }
                        }
                      }
                    ],
                    "carpet": [
                      {
                        "aaxis": {
                          "endlinecolor": "#2a3f5f",
                          "gridcolor": "white",
                          "linecolor": "white",
                          "minorgridcolor": "white",
                          "startlinecolor": "#2a3f5f"
                        },
                        "baxis": {
                          "endlinecolor": "#2a3f5f",
                          "gridcolor": "white",
                          "linecolor": "white",
                          "minorgridcolor": "white",
                          "startlinecolor": "#2a3f5f"
                        },
                        "type": "carpet"
                      }
                    ],
                    "table": [
                      {
                        "cells": {
                          "fill": {
                            "color": "#EBF0F8"
                          },
                          "line": {
                            "color": "white"
                          }
                        },
                        "header": {
                          "fill": {
                            "color": "#C8D4E3"
                          },
                          "line": {
                            "color": "white"
                          }
                        },
                        "type": "table"
                      }
                    ],
                    "barpolar": [
                      {
                        "marker": {
                          "line": {
                            "color": "#E5ECF6",
                            "width": 0.5
                          },
                          "pattern": {
                            "fillmode": "overlay",
                            "size": 10,
                            "solidity": 0.2
                          }
                        },
                        "type": "barpolar"
                      }
                    ],
                    "pie": [
                      {
                        "automargin": true,
                        "type": "pie"
                      }
                    ]
                  },
                  "layout": {
                    "autotypenumbers": "strict",
                    "colorway": [
                      "#636efa",
                      "#EF553B",
                      "#00cc96",
                      "#ab63fa",
                      "#FFA15A",
                      "#19d3f3",
                      "#FF6692",
                      "#B6E880",
                      "#FF97FF",
                      "#FECB52"
                    ],
                    "font": {
                      "color": "#2a3f5f"
                    },
                    "hovermode": "closest",
                    "hoverlabel": {
                      "align": "left"
                    },
                    "paper_bgcolor": "white",
                    "plot_bgcolor": "#E5ECF6",
                    "polar": {
                      "bgcolor": "#E5ECF6",
                      "angularaxis": {
                        "gridcolor": "white",
                        "linecolor": "white",
                        "ticks": ""
                      },
                      "radialaxis": {
                        "gridcolor": "white",
                        "linecolor": "white",
                        "ticks": ""
                      }
                    },
                    "ternary": {
                      "bgcolor": "#E5ECF6",
                      "aaxis": {
                        "gridcolor": "white",
                        "linecolor": "white",
                        "ticks": ""
                      },
                      "baxis": {
                        "gridcolor": "white",
                        "linecolor": "white",
                        "ticks": ""
                      },
                      "caxis": {
                        "gridcolor": "white",
                        "linecolor": "white",
                        "ticks": ""
                      }
                    },
                    "coloraxis": {
                      "colorbar": {
                        "outlinewidth": 0,
                        "ticks": ""
                      }
                    },
                    "colorscale": {
                      "sequential": [
                        [
                          0,
                          "#0d0887"
                        ],
                        [
                          0.1111111111111111,
                          "#46039f"
                        ],
                        [
                          0.2222222222222222,
                          "#7201a8"
                        ],
                        [
                          0.3333333333333333,
                          "#9c179e"
                        ],
                        [
                          0.4444444444444444,
                          "#bd3786"
                        ],
                        [
                          0.5555555555555556,
                          "#d8576b"
                        ],
                        [
                          0.6666666666666666,
                          "#ed7953"
                        ],
                        [
                          0.7777777777777778,
                          "#fb9f3a"
                        ],
                        [
                          0.8888888888888888,
                          "#fdca26"
                        ],
                        [
                          1,
                          "#f0f921"
                        ]
                      ],
                      "sequentialminus": [
                        [
                          0,
                          "#0d0887"
                        ],
                        [
                          0.1111111111111111,
                          "#46039f"
                        ],
                        [
                          0.2222222222222222,
                          "#7201a8"
                        ],
                        [
                          0.3333333333333333,
                          "#9c179e"
                        ],
                        [
                          0.4444444444444444,
                          "#bd3786"
                        ],
                        [
                          0.5555555555555556,
                          "#d8576b"
                        ],
                        [
                          0.6666666666666666,
                          "#ed7953"
                        ],
                        [
                          0.7777777777777778,
                          "#fb9f3a"
                        ],
                        [
                          0.8888888888888888,
                          "#fdca26"
                        ],
                        [
                          1,
                          "#f0f921"
                        ]
                      ],
                      "diverging": [
                        [
                          0,
                          "#8e0152"
                        ],
                        [
                          0.1,
                          "#c51b7d"
                        ],
                        [
                          0.2,
                          "#de77ae"
                        ],
                        [
                          0.3,
                          "#f1b6da"
                        ],
                        [
                          0.4,
                          "#fde0ef"
                        ],
                        [
                          0.5,
                          "#f7f7f7"
                        ],
                        [
                          0.6,
                          "#e6f5d0"
                        ],
                        [
                          0.7,
                          "#b8e186"
                        ],
                        [
                          0.8,
                          "#7fbc41"
                        ],
                        [
                          0.9,
                          "#4d9221"
                        ],
                        [
                          1,
                          "#276419"
                        ]
                      ]
                    },
                    "xaxis": {
                      "gridcolor": "white",
                      "linecolor": "white",
                      "ticks": "",
                      "title": {
                        "standoff": 15
                      },
                      "zerolinecolor": "white",
                      "automargin": true,
                      "zerolinewidth": 2
                    },
                    "yaxis": {
                      "gridcolor": "white",
                      "linecolor": "white",
                      "ticks": "",
                      "title": {
                        "standoff": 15
                      },
                      "zerolinecolor": "white",
                      "automargin": true,
                      "zerolinewidth": 2
                    },
                    "scene": {
                      "xaxis": {
                        "backgroundcolor": "#E5ECF6",
                        "gridcolor": "white",
                        "linecolor": "white",
                        "showbackground": true,
                        "ticks": "",
                        "zerolinecolor": "white",
                        "gridwidth": 2
                      },
                      "yaxis": {
                        "backgroundcolor": "#E5ECF6",
                        "gridcolor": "white",
                        "linecolor": "white",
                        "showbackground": true,
                        "ticks": "",
                        "zerolinecolor": "white",
                        "gridwidth": 2
                      },
                      "zaxis": {
                        "backgroundcolor": "#E5ECF6",
                        "gridcolor": "white",
                        "linecolor": "white",
                        "showbackground": true,
                        "ticks": "",
                        "zerolinecolor": "white",
                        "gridwidth": 2
                      }
                    },
                    "shapedefaults": {
                      "line": {
                        "color": "#2a3f5f"
                      }
                    },
                    "annotationdefaults": {
                      "arrowcolor": "#2a3f5f",
                      "arrowhead": 0,
                      "arrowwidth": 1
                    },
                    "geo": {
                      "bgcolor": "white",
                      "landcolor": "#E5ECF6",
                      "subunitcolor": "white",
                      "showland": true,
                      "showlakes": true,
                      "lakecolor": "white"
                    },
                    "title": {
                      "x": 0.05
                    },
                    "mapbox": {
                      "style": "light"
                    }
                  }
                },
                "title": {
                  "text": "Woman | True & Pred"
                },
                "legend": {
                  "title": {
                    "text": "year"
                  }
                },
                "xaxis": {
                  "title": {
                    "text": "Age Groups"
                  }
                },
                "yaxis": {
                  "title": {
                    "text": "Population"
                  }
                }
              },
              "config": {
                "plotlyServerURL": "https://plot.ly"
              }
            }
          },
          "metadata": {},
          "output_type": "display_data"
        }
      ],
      "metadata": {
        "datalore": {
          "node_id": "6o4u8ph0yJl2XBKJhZOHMn",
          "type": "CODE",
          "hide_input_from_viewers": false,
          "hide_output_from_viewers": false,
          "report_properties": {
            "rowId": "9RgXjODSOD6WKr8mnN6LEz"
          }
        },
        "id": "TtGqugkd6eHD",
        "outputId": "0fc3168e-dfbf-4d2f-9c9c-7f271594622a"
      }
    },
    {
      "cell_type": "code",
      "source": [
        "raft(\n",
        "    df_true=f_cleaned_2010_2050_df,\n",
        "    df_pred=f_pred_2010_2050_df,\n",
        "    features=AGE_GROUPS,\n",
        "    years=both_pred_2010_2050_df[\"Year\"].unique()[3:6],\n",
        "    pltTitle=\"Woman | True & Pred\",\n",
        "    yTitle=\"Population\"\n",
        ")"
      ],
      "execution_count": null,
      "outputs": [
        {
          "data": {
            "application/vnd.plotly.v1+json": {
              "data": [
                {
                  "line": {
                    "dash": "solid"
                  },
                  "mode": "lines",
                  "name": "2025",
                  "x": [
                    "0 - 4",
                    "5 - 9",
                    "10 - 14",
                    "15 - 19",
                    "20 - 24",
                    "25 - 29",
                    "30 - 34",
                    "35 - 39",
                    "40 - 44",
                    "45 - 49",
                    "50 - 54",
                    "55 - 59",
                    "60 - 64",
                    "65 - 69",
                    "70 - 74",
                    "75 - 79",
                    "80 - 84",
                    "85 - 89",
                    "90 - 94",
                    "95 - 99",
                    "100+"
                  ],
                  "y": [
                    1078.776,
                    1094.476,
                    1112.094,
                    1134.418,
                    1237.375,
                    1589.383,
                    1781.955,
                    1663.734,
                    1874.835,
                    1879.705,
                    2060.969,
                    1934.851,
                    1849.081,
                    1635.699,
                    1061.02,
                    702.544,
                    427.249,
                    207.899,
                    56.157,
                    8.467,
                    0.13932427725531174
                  ],
                  "type": "scatter"
                },
                {
                  "line": {
                    "dash": "solid"
                  },
                  "mode": "lines",
                  "name": "2030",
                  "x": [
                    "0 - 4",
                    "5 - 9",
                    "10 - 14",
                    "15 - 19",
                    "20 - 24",
                    "25 - 29",
                    "30 - 34",
                    "35 - 39",
                    "40 - 44",
                    "45 - 49",
                    "50 - 54",
                    "55 - 59",
                    "60 - 64",
                    "65 - 69",
                    "70 - 74",
                    "75 - 79",
                    "80 - 84",
                    "85 - 89",
                    "90 - 94",
                    "95 - 99",
                    "100+"
                  ],
                  "y": [
                    1016.592,
                    1077.603,
                    1093.646,
                    1110.049,
                    1129.749,
                    1231.133,
                    1582.127,
                    1773.108,
                    1652.199,
                    1855.121,
                    1849.322,
                    2006.234,
                    1850.571,
                    1724.818,
                    1456.218,
                    868.002,
                    501.824,
                    246.521,
                    87.267,
                    15.101,
                    0.14904925002952638
                  ],
                  "type": "scatter"
                },
                {
                  "line": {
                    "dash": "solid"
                  },
                  "mode": "lines",
                  "name": "2035",
                  "x": [
                    "0 - 4",
                    "5 - 9",
                    "10 - 14",
                    "15 - 19",
                    "20 - 24",
                    "25 - 29",
                    "30 - 34",
                    "35 - 39",
                    "40 - 44",
                    "45 - 49",
                    "50 - 54",
                    "55 - 59",
                    "60 - 64",
                    "65 - 69",
                    "70 - 74",
                    "75 - 79",
                    "80 - 84",
                    "85 - 89",
                    "90 - 94",
                    "95 - 99",
                    "100+"
                  ],
                  "y": [
                    944.766,
                    1015.496,
                    1076.824,
                    1091.695,
                    1105.571,
                    1123.874,
                    1224.95,
                    1574.35,
                    1761.603,
                    1635.833,
                    1827.166,
                    1803.596,
                    1924.779,
                    1733.665,
                    1546.059,
                    1205.103,
                    631.682,
                    298.197,
                    107.94,
                    24.709,
                    0.15442685914840074
                  ],
                  "type": "scatter"
                },
                {
                  "line": {
                    "dash": "dot"
                  },
                  "mode": "lines",
                  "name": "2025-pred",
                  "x": [
                    "0 - 4",
                    "5 - 9",
                    "10 - 14",
                    "15 - 19",
                    "20 - 24",
                    "25 - 29",
                    "30 - 34",
                    "35 - 39",
                    "40 - 44",
                    "45 - 49",
                    "50 - 54",
                    "55 - 59",
                    "60 - 64",
                    "65 - 69",
                    "70 - 74",
                    "75 - 79",
                    "80 - 84",
                    "85 - 89",
                    "90 - 94",
                    "95 - 99",
                    "100+"
                  ],
                  "y": [
                    968.911617328386,
                    1081.9528693630716,
                    1156.198619553059,
                    1243.471851340171,
                    1135.4773998596697,
                    1401.6697889789705,
                    1525.02050035467,
                    1449.6133670358913,
                    1732.2749576852184,
                    1786.2458739697581,
                    2019.9639878549344,
                    1968.2402960012141,
                    2007.4160233858752,
                    1881.0071629553504,
                    1277.7342735907378,
                    917.11508816247,
                    615.4509989251127,
                    349.93555468707274,
                    127.19758382514057,
                    27.541465478929727,
                    3.485974266407275
                  ],
                  "type": "scatter"
                },
                {
                  "line": {
                    "dash": "dot"
                  },
                  "mode": "lines",
                  "name": "2030-pred",
                  "x": [
                    "0 - 4",
                    "5 - 9",
                    "10 - 14",
                    "15 - 19",
                    "20 - 24",
                    "25 - 29",
                    "30 - 34",
                    "35 - 39",
                    "40 - 44",
                    "45 - 49",
                    "50 - 54",
                    "55 - 59",
                    "60 - 64",
                    "65 - 69",
                    "70 - 74",
                    "75 - 79",
                    "80 - 84",
                    "85 - 89",
                    "90 - 94",
                    "95 - 99",
                    "100+"
                  ],
                  "y": [
                    921.2181137957965,
                    965.6054908773586,
                    1078.661040189012,
                    1148.3561104499358,
                    1228.505417985681,
                    1115.8542134674105,
                    1382.560854018756,
                    1513.5498086870582,
                    1440.7867282402651,
                    1720.320772555203,
                    1776.6041769445476,
                    2018.0151097454595,
                    1955.9428430087037,
                    1947.2635971346429,
                    1746.0385081717538,
                    1096.8988259862488,
                    689.0167239790375,
                    372.642540898792,
                    153.3245572270036,
                    35.97043585909511,
                    4.373908827844881
                  ],
                  "type": "scatter"
                },
                {
                  "line": {
                    "dash": "dot"
                  },
                  "mode": "lines",
                  "name": "2035-pred",
                  "x": [
                    "0 - 4",
                    "5 - 9",
                    "10 - 14",
                    "15 - 19",
                    "20 - 24",
                    "25 - 29",
                    "30 - 34",
                    "35 - 39",
                    "40 - 44",
                    "45 - 49",
                    "50 - 54",
                    "55 - 59",
                    "60 - 64",
                    "65 - 69",
                    "70 - 74",
                    "75 - 79",
                    "80 - 84",
                    "85 - 89",
                    "90 - 94",
                    "95 - 99",
                    "100+"
                  ],
                  "y": [
                    846.3569128240011,
                    918.074727424206,
                    962.6676472655815,
                    1071.3444694166506,
                    1134.5344906233618,
                    1207.2745323652252,
                    1100.641796279078,
                    1372.1616959323756,
                    1504.3338634120867,
                    1430.8440622646115,
                    1711.0349223165172,
                    1774.8900944111626,
                    2005.4066665585738,
                    1897.3328158668157,
                    1807.5408180882303,
                    1498.9247994092952,
                    824.0859248448088,
                    417.18502885483497,
                    163.27364230921216,
                    43.358930142413776,
                    5.712528516897139
                  ],
                  "type": "scatter"
                }
              ],
              "layout": {
                "template": {
                  "data": {
                    "histogram2dcontour": [
                      {
                        "type": "histogram2dcontour",
                        "colorbar": {
                          "outlinewidth": 0,
                          "ticks": ""
                        },
                        "colorscale": [
                          [
                            0,
                            "#0d0887"
                          ],
                          [
                            0.1111111111111111,
                            "#46039f"
                          ],
                          [
                            0.2222222222222222,
                            "#7201a8"
                          ],
                          [
                            0.3333333333333333,
                            "#9c179e"
                          ],
                          [
                            0.4444444444444444,
                            "#bd3786"
                          ],
                          [
                            0.5555555555555556,
                            "#d8576b"
                          ],
                          [
                            0.6666666666666666,
                            "#ed7953"
                          ],
                          [
                            0.7777777777777778,
                            "#fb9f3a"
                          ],
                          [
                            0.8888888888888888,
                            "#fdca26"
                          ],
                          [
                            1,
                            "#f0f921"
                          ]
                        ]
                      }
                    ],
                    "choropleth": [
                      {
                        "type": "choropleth",
                        "colorbar": {
                          "outlinewidth": 0,
                          "ticks": ""
                        }
                      }
                    ],
                    "histogram2d": [
                      {
                        "type": "histogram2d",
                        "colorbar": {
                          "outlinewidth": 0,
                          "ticks": ""
                        },
                        "colorscale": [
                          [
                            0,
                            "#0d0887"
                          ],
                          [
                            0.1111111111111111,
                            "#46039f"
                          ],
                          [
                            0.2222222222222222,
                            "#7201a8"
                          ],
                          [
                            0.3333333333333333,
                            "#9c179e"
                          ],
                          [
                            0.4444444444444444,
                            "#bd3786"
                          ],
                          [
                            0.5555555555555556,
                            "#d8576b"
                          ],
                          [
                            0.6666666666666666,
                            "#ed7953"
                          ],
                          [
                            0.7777777777777778,
                            "#fb9f3a"
                          ],
                          [
                            0.8888888888888888,
                            "#fdca26"
                          ],
                          [
                            1,
                            "#f0f921"
                          ]
                        ]
                      }
                    ],
                    "heatmap": [
                      {
                        "type": "heatmap",
                        "colorbar": {
                          "outlinewidth": 0,
                          "ticks": ""
                        },
                        "colorscale": [
                          [
                            0,
                            "#0d0887"
                          ],
                          [
                            0.1111111111111111,
                            "#46039f"
                          ],
                          [
                            0.2222222222222222,
                            "#7201a8"
                          ],
                          [
                            0.3333333333333333,
                            "#9c179e"
                          ],
                          [
                            0.4444444444444444,
                            "#bd3786"
                          ],
                          [
                            0.5555555555555556,
                            "#d8576b"
                          ],
                          [
                            0.6666666666666666,
                            "#ed7953"
                          ],
                          [
                            0.7777777777777778,
                            "#fb9f3a"
                          ],
                          [
                            0.8888888888888888,
                            "#fdca26"
                          ],
                          [
                            1,
                            "#f0f921"
                          ]
                        ]
                      }
                    ],
                    "heatmapgl": [
                      {
                        "type": "heatmapgl",
                        "colorbar": {
                          "outlinewidth": 0,
                          "ticks": ""
                        },
                        "colorscale": [
                          [
                            0,
                            "#0d0887"
                          ],
                          [
                            0.1111111111111111,
                            "#46039f"
                          ],
                          [
                            0.2222222222222222,
                            "#7201a8"
                          ],
                          [
                            0.3333333333333333,
                            "#9c179e"
                          ],
                          [
                            0.4444444444444444,
                            "#bd3786"
                          ],
                          [
                            0.5555555555555556,
                            "#d8576b"
                          ],
                          [
                            0.6666666666666666,
                            "#ed7953"
                          ],
                          [
                            0.7777777777777778,
                            "#fb9f3a"
                          ],
                          [
                            0.8888888888888888,
                            "#fdca26"
                          ],
                          [
                            1,
                            "#f0f921"
                          ]
                        ]
                      }
                    ],
                    "contourcarpet": [
                      {
                        "type": "contourcarpet",
                        "colorbar": {
                          "outlinewidth": 0,
                          "ticks": ""
                        }
                      }
                    ],
                    "contour": [
                      {
                        "type": "contour",
                        "colorbar": {
                          "outlinewidth": 0,
                          "ticks": ""
                        },
                        "colorscale": [
                          [
                            0,
                            "#0d0887"
                          ],
                          [
                            0.1111111111111111,
                            "#46039f"
                          ],
                          [
                            0.2222222222222222,
                            "#7201a8"
                          ],
                          [
                            0.3333333333333333,
                            "#9c179e"
                          ],
                          [
                            0.4444444444444444,
                            "#bd3786"
                          ],
                          [
                            0.5555555555555556,
                            "#d8576b"
                          ],
                          [
                            0.6666666666666666,
                            "#ed7953"
                          ],
                          [
                            0.7777777777777778,
                            "#fb9f3a"
                          ],
                          [
                            0.8888888888888888,
                            "#fdca26"
                          ],
                          [
                            1,
                            "#f0f921"
                          ]
                        ]
                      }
                    ],
                    "surface": [
                      {
                        "type": "surface",
                        "colorbar": {
                          "outlinewidth": 0,
                          "ticks": ""
                        },
                        "colorscale": [
                          [
                            0,
                            "#0d0887"
                          ],
                          [
                            0.1111111111111111,
                            "#46039f"
                          ],
                          [
                            0.2222222222222222,
                            "#7201a8"
                          ],
                          [
                            0.3333333333333333,
                            "#9c179e"
                          ],
                          [
                            0.4444444444444444,
                            "#bd3786"
                          ],
                          [
                            0.5555555555555556,
                            "#d8576b"
                          ],
                          [
                            0.6666666666666666,
                            "#ed7953"
                          ],
                          [
                            0.7777777777777778,
                            "#fb9f3a"
                          ],
                          [
                            0.8888888888888888,
                            "#fdca26"
                          ],
                          [
                            1,
                            "#f0f921"
                          ]
                        ]
                      }
                    ],
                    "mesh3d": [
                      {
                        "type": "mesh3d",
                        "colorbar": {
                          "outlinewidth": 0,
                          "ticks": ""
                        }
                      }
                    ],
                    "scatter": [
                      {
                        "fillpattern": {
                          "fillmode": "overlay",
                          "size": 10,
                          "solidity": 0.2
                        },
                        "type": "scatter"
                      }
                    ],
                    "parcoords": [
                      {
                        "type": "parcoords",
                        "line": {
                          "colorbar": {
                            "outlinewidth": 0,
                            "ticks": ""
                          }
                        }
                      }
                    ],
                    "scatterpolargl": [
                      {
                        "type": "scatterpolargl",
                        "marker": {
                          "colorbar": {
                            "outlinewidth": 0,
                            "ticks": ""
                          }
                        }
                      }
                    ],
                    "bar": [
                      {
                        "error_x": {
                          "color": "#2a3f5f"
                        },
                        "error_y": {
                          "color": "#2a3f5f"
                        },
                        "marker": {
                          "line": {
                            "color": "#E5ECF6",
                            "width": 0.5
                          },
                          "pattern": {
                            "fillmode": "overlay",
                            "size": 10,
                            "solidity": 0.2
                          }
                        },
                        "type": "bar"
                      }
                    ],
                    "scattergeo": [
                      {
                        "type": "scattergeo",
                        "marker": {
                          "colorbar": {
                            "outlinewidth": 0,
                            "ticks": ""
                          }
                        }
                      }
                    ],
                    "scatterpolar": [
                      {
                        "type": "scatterpolar",
                        "marker": {
                          "colorbar": {
                            "outlinewidth": 0,
                            "ticks": ""
                          }
                        }
                      }
                    ],
                    "histogram": [
                      {
                        "marker": {
                          "pattern": {
                            "fillmode": "overlay",
                            "size": 10,
                            "solidity": 0.2
                          }
                        },
                        "type": "histogram"
                      }
                    ],
                    "scattergl": [
                      {
                        "type": "scattergl",
                        "marker": {
                          "colorbar": {
                            "outlinewidth": 0,
                            "ticks": ""
                          }
                        }
                      }
                    ],
                    "scatter3d": [
                      {
                        "type": "scatter3d",
                        "line": {
                          "colorbar": {
                            "outlinewidth": 0,
                            "ticks": ""
                          }
                        },
                        "marker": {
                          "colorbar": {
                            "outlinewidth": 0,
                            "ticks": ""
                          }
                        }
                      }
                    ],
                    "scattermapbox": [
                      {
                        "type": "scattermapbox",
                        "marker": {
                          "colorbar": {
                            "outlinewidth": 0,
                            "ticks": ""
                          }
                        }
                      }
                    ],
                    "scatterternary": [
                      {
                        "type": "scatterternary",
                        "marker": {
                          "colorbar": {
                            "outlinewidth": 0,
                            "ticks": ""
                          }
                        }
                      }
                    ],
                    "scattercarpet": [
                      {
                        "type": "scattercarpet",
                        "marker": {
                          "colorbar": {
                            "outlinewidth": 0,
                            "ticks": ""
                          }
                        }
                      }
                    ],
                    "carpet": [
                      {
                        "aaxis": {
                          "endlinecolor": "#2a3f5f",
                          "gridcolor": "white",
                          "linecolor": "white",
                          "minorgridcolor": "white",
                          "startlinecolor": "#2a3f5f"
                        },
                        "baxis": {
                          "endlinecolor": "#2a3f5f",
                          "gridcolor": "white",
                          "linecolor": "white",
                          "minorgridcolor": "white",
                          "startlinecolor": "#2a3f5f"
                        },
                        "type": "carpet"
                      }
                    ],
                    "table": [
                      {
                        "cells": {
                          "fill": {
                            "color": "#EBF0F8"
                          },
                          "line": {
                            "color": "white"
                          }
                        },
                        "header": {
                          "fill": {
                            "color": "#C8D4E3"
                          },
                          "line": {
                            "color": "white"
                          }
                        },
                        "type": "table"
                      }
                    ],
                    "barpolar": [
                      {
                        "marker": {
                          "line": {
                            "color": "#E5ECF6",
                            "width": 0.5
                          },
                          "pattern": {
                            "fillmode": "overlay",
                            "size": 10,
                            "solidity": 0.2
                          }
                        },
                        "type": "barpolar"
                      }
                    ],
                    "pie": [
                      {
                        "automargin": true,
                        "type": "pie"
                      }
                    ]
                  },
                  "layout": {
                    "autotypenumbers": "strict",
                    "colorway": [
                      "#636efa",
                      "#EF553B",
                      "#00cc96",
                      "#ab63fa",
                      "#FFA15A",
                      "#19d3f3",
                      "#FF6692",
                      "#B6E880",
                      "#FF97FF",
                      "#FECB52"
                    ],
                    "font": {
                      "color": "#2a3f5f"
                    },
                    "hovermode": "closest",
                    "hoverlabel": {
                      "align": "left"
                    },
                    "paper_bgcolor": "white",
                    "plot_bgcolor": "#E5ECF6",
                    "polar": {
                      "bgcolor": "#E5ECF6",
                      "angularaxis": {
                        "gridcolor": "white",
                        "linecolor": "white",
                        "ticks": ""
                      },
                      "radialaxis": {
                        "gridcolor": "white",
                        "linecolor": "white",
                        "ticks": ""
                      }
                    },
                    "ternary": {
                      "bgcolor": "#E5ECF6",
                      "aaxis": {
                        "gridcolor": "white",
                        "linecolor": "white",
                        "ticks": ""
                      },
                      "baxis": {
                        "gridcolor": "white",
                        "linecolor": "white",
                        "ticks": ""
                      },
                      "caxis": {
                        "gridcolor": "white",
                        "linecolor": "white",
                        "ticks": ""
                      }
                    },
                    "coloraxis": {
                      "colorbar": {
                        "outlinewidth": 0,
                        "ticks": ""
                      }
                    },
                    "colorscale": {
                      "sequential": [
                        [
                          0,
                          "#0d0887"
                        ],
                        [
                          0.1111111111111111,
                          "#46039f"
                        ],
                        [
                          0.2222222222222222,
                          "#7201a8"
                        ],
                        [
                          0.3333333333333333,
                          "#9c179e"
                        ],
                        [
                          0.4444444444444444,
                          "#bd3786"
                        ],
                        [
                          0.5555555555555556,
                          "#d8576b"
                        ],
                        [
                          0.6666666666666666,
                          "#ed7953"
                        ],
                        [
                          0.7777777777777778,
                          "#fb9f3a"
                        ],
                        [
                          0.8888888888888888,
                          "#fdca26"
                        ],
                        [
                          1,
                          "#f0f921"
                        ]
                      ],
                      "sequentialminus": [
                        [
                          0,
                          "#0d0887"
                        ],
                        [
                          0.1111111111111111,
                          "#46039f"
                        ],
                        [
                          0.2222222222222222,
                          "#7201a8"
                        ],
                        [
                          0.3333333333333333,
                          "#9c179e"
                        ],
                        [
                          0.4444444444444444,
                          "#bd3786"
                        ],
                        [
                          0.5555555555555556,
                          "#d8576b"
                        ],
                        [
                          0.6666666666666666,
                          "#ed7953"
                        ],
                        [
                          0.7777777777777778,
                          "#fb9f3a"
                        ],
                        [
                          0.8888888888888888,
                          "#fdca26"
                        ],
                        [
                          1,
                          "#f0f921"
                        ]
                      ],
                      "diverging": [
                        [
                          0,
                          "#8e0152"
                        ],
                        [
                          0.1,
                          "#c51b7d"
                        ],
                        [
                          0.2,
                          "#de77ae"
                        ],
                        [
                          0.3,
                          "#f1b6da"
                        ],
                        [
                          0.4,
                          "#fde0ef"
                        ],
                        [
                          0.5,
                          "#f7f7f7"
                        ],
                        [
                          0.6,
                          "#e6f5d0"
                        ],
                        [
                          0.7,
                          "#b8e186"
                        ],
                        [
                          0.8,
                          "#7fbc41"
                        ],
                        [
                          0.9,
                          "#4d9221"
                        ],
                        [
                          1,
                          "#276419"
                        ]
                      ]
                    },
                    "xaxis": {
                      "gridcolor": "white",
                      "linecolor": "white",
                      "ticks": "",
                      "title": {
                        "standoff": 15
                      },
                      "zerolinecolor": "white",
                      "automargin": true,
                      "zerolinewidth": 2
                    },
                    "yaxis": {
                      "gridcolor": "white",
                      "linecolor": "white",
                      "ticks": "",
                      "title": {
                        "standoff": 15
                      },
                      "zerolinecolor": "white",
                      "automargin": true,
                      "zerolinewidth": 2
                    },
                    "scene": {
                      "xaxis": {
                        "backgroundcolor": "#E5ECF6",
                        "gridcolor": "white",
                        "linecolor": "white",
                        "showbackground": true,
                        "ticks": "",
                        "zerolinecolor": "white",
                        "gridwidth": 2
                      },
                      "yaxis": {
                        "backgroundcolor": "#E5ECF6",
                        "gridcolor": "white",
                        "linecolor": "white",
                        "showbackground": true,
                        "ticks": "",
                        "zerolinecolor": "white",
                        "gridwidth": 2
                      },
                      "zaxis": {
                        "backgroundcolor": "#E5ECF6",
                        "gridcolor": "white",
                        "linecolor": "white",
                        "showbackground": true,
                        "ticks": "",
                        "zerolinecolor": "white",
                        "gridwidth": 2
                      }
                    },
                    "shapedefaults": {
                      "line": {
                        "color": "#2a3f5f"
                      }
                    },
                    "annotationdefaults": {
                      "arrowcolor": "#2a3f5f",
                      "arrowhead": 0,
                      "arrowwidth": 1
                    },
                    "geo": {
                      "bgcolor": "white",
                      "landcolor": "#E5ECF6",
                      "subunitcolor": "white",
                      "showland": true,
                      "showlakes": true,
                      "lakecolor": "white"
                    },
                    "title": {
                      "x": 0.05
                    },
                    "mapbox": {
                      "style": "light"
                    }
                  }
                },
                "title": {
                  "text": "Woman | True & Pred"
                },
                "legend": {
                  "title": {
                    "text": "year"
                  }
                },
                "xaxis": {
                  "title": {
                    "text": "Age Groups"
                  }
                },
                "yaxis": {
                  "title": {
                    "text": "Population"
                  }
                }
              },
              "config": {
                "plotlyServerURL": "https://plot.ly"
              }
            }
          },
          "metadata": {},
          "output_type": "display_data"
        }
      ],
      "metadata": {
        "datalore": {
          "node_id": "aVz3YpCautmMzYmGDMc8EN",
          "type": "CODE",
          "hide_input_from_viewers": false,
          "hide_output_from_viewers": false,
          "report_properties": {
            "rowId": "98f1BksfkBzmRoF6freNl6"
          }
        },
        "id": "TcFKqIvA6eHD",
        "outputId": "a4c58320-f43d-4cdb-a88b-c2c46c6035d7"
      }
    },
    {
      "cell_type": "code",
      "source": [
        "raft(\n",
        "    df_true=f_cleaned_2010_2050_df,\n",
        "    df_pred=f_pred_2010_2050_df,\n",
        "    features=AGE_GROUPS,\n",
        "    years=both_pred_2010_2050_df[\"Year\"].unique()[6:9],\n",
        "    pltTitle=\"Woman | True & Pred\",\n",
        "    yTitle=\"Population\"\n",
        ")"
      ],
      "execution_count": null,
      "outputs": [
        {
          "data": {
            "application/vnd.plotly.v1+json": {
              "data": [
                {
                  "line": {
                    "dash": "solid"
                  },
                  "mode": "lines",
                  "name": "2040",
                  "x": [
                    "0 - 4",
                    "5 - 9",
                    "10 - 14",
                    "15 - 19",
                    "20 - 24",
                    "25 - 29",
                    "30 - 34",
                    "35 - 39",
                    "40 - 44",
                    "45 - 49",
                    "50 - 54",
                    "55 - 59",
                    "60 - 64",
                    "65 - 69",
                    "70 - 74",
                    "75 - 79",
                    "80 - 84",
                    "85 - 89",
                    "90 - 94",
                    "95 - 99",
                    "100+"
                  ],
                  "y": [
                    911.1,
                    943.746,
                    1014.783,
                    1074.956,
                    1087.38,
                    1099.878,
                    1118.092,
                    1218.627,
                    1564.492,
                    1745.315,
                    1612.721,
                    1785.06,
                    1735.18,
                    1810.296,
                    1563.672,
                    1292.858,
                    891.884,
                    385.37,
                    135.532,
                    31.976,
                    0.16228904447772066
                  ],
                  "type": "scatter"
                },
                {
                  "line": {
                    "dash": "solid"
                  },
                  "mode": "lines",
                  "name": "2045",
                  "x": [
                    "0 - 4",
                    "5 - 9",
                    "10 - 14",
                    "15 - 19",
                    "20 - 24",
                    "25 - 29",
                    "30 - 34",
                    "35 - 39",
                    "40 - 44",
                    "45 - 49",
                    "50 - 54",
                    "55 - 59",
                    "60 - 64",
                    "65 - 69",
                    "70 - 74",
                    "75 - 79",
                    "80 - 84",
                    "85 - 89",
                    "90 - 94",
                    "95 - 99",
                    "100+"
                  ],
                  "y": [
                    911.103,
                    910.129,
                    943.096,
                    1013.017,
                    1070.791,
                    1081.847,
                    1094.286,
                    1112.315,
                    1211.013,
                    1550.802,
                    1722.324,
                    1578.049,
                    1721.856,
                    1638.021,
                    1642.396,
                    1320.444,
                    971.972,
                    557.556,
                    181.262,
                    41.84,
                    0.17309857393044784
                  ],
                  "type": "scatter"
                },
                {
                  "line": {
                    "dash": "solid"
                  },
                  "mode": "lines",
                  "name": "2050",
                  "x": [
                    "0 - 4",
                    "5 - 9",
                    "10 - 14",
                    "15 - 19",
                    "20 - 24",
                    "25 - 29",
                    "30 - 34",
                    "35 - 39",
                    "40 - 44",
                    "45 - 49",
                    "50 - 54",
                    "55 - 59",
                    "60 - 64",
                    "65 - 69",
                    "70 - 74",
                    "75 - 79",
                    "80 - 84",
                    "85 - 89",
                    "90 - 94",
                    "95 - 99",
                    "100+"
                  ],
                  "y": [
                    921.555,
                    910.156,
                    909.515,
                    941.412,
                    1009.011,
                    1065.392,
                    1076.417,
                    1088.77,
                    1105.554,
                    1200.805,
                    1531.587,
                    1687.741,
                    1525.684,
                    1630.895,
                    1494.103,
                    1399.687,
                    1007.797,
                    622.623,
                    272.036,
                    58.738,
                    0.1827676864244742
                  ],
                  "type": "scatter"
                },
                {
                  "line": {
                    "dash": "dot"
                  },
                  "mode": "lines",
                  "name": "2040-pred",
                  "x": [
                    "0 - 4",
                    "5 - 9",
                    "10 - 14",
                    "15 - 19",
                    "20 - 24",
                    "25 - 29",
                    "30 - 34",
                    "35 - 39",
                    "40 - 44",
                    "45 - 49",
                    "50 - 54",
                    "55 - 59",
                    "60 - 64",
                    "65 - 69",
                    "70 - 74",
                    "75 - 79",
                    "80 - 84",
                    "85 - 89",
                    "90 - 94",
                    "95 - 99",
                    "100+"
                  ],
                  "y": [
                    783.4144921266443,
                    843.4689683237456,
                    915.2814956141357,
                    956.1378610685691,
                    1058.4497620825484,
                    1114.927599477223,
                    1190.815783878611,
                    1092.3631385963338,
                    1363.8066573168346,
                    1493.9526676205076,
                    1423.1207330523698,
                    1709.384101547088,
                    1763.8006824388349,
                    1945.3144508899802,
                    1761.192740019377,
                    1551.722797347663,
                    1126.1228477324619,
                    498.9665684017628,
                    182.78997082220542,
                    46.172449991173124,
                    6.88590835737848
                  ],
                  "type": "scatter"
                },
                {
                  "line": {
                    "dash": "dot"
                  },
                  "mode": "lines",
                  "name": "2045-pred",
                  "x": [
                    "0 - 4",
                    "5 - 9",
                    "10 - 14",
                    "15 - 19",
                    "20 - 24",
                    "25 - 29",
                    "30 - 34",
                    "35 - 39",
                    "40 - 44",
                    "45 - 49",
                    "50 - 54",
                    "55 - 59",
                    "60 - 64",
                    "65 - 69",
                    "70 - 74",
                    "75 - 79",
                    "80 - 84",
                    "85 - 89",
                    "90 - 94",
                    "95 - 99",
                    "100+"
                  ],
                  "y": [
                    749.982538355923,
                    780.74132015903,
                    840.9027236785638,
                    909.0731302520937,
                    944.6297810424998,
                    1040.1577582339864,
                    1099.7278147980671,
                    1181.8588677672406,
                    1085.7117823952235,
                    1354.395219951892,
                    1485.8886943449863,
                    1421.747694295015,
                    1698.7039672781027,
                    1710.9482147708109,
                    1805.7315297089706,
                    1511.934279913929,
                    1165.7893018576844,
                    681.843526253289,
                    218.62262107001578,
                    51.691507994245825,
                    7.332728419049488
                  ],
                  "type": "scatter"
                },
                {
                  "line": {
                    "dash": "dot"
                  },
                  "mode": "lines",
                  "name": "2050-pred",
                  "x": [
                    "0 - 4",
                    "5 - 9",
                    "10 - 14",
                    "15 - 19",
                    "20 - 24",
                    "25 - 29",
                    "30 - 34",
                    "35 - 39",
                    "40 - 44",
                    "45 - 49",
                    "50 - 54",
                    "55 - 59",
                    "60 - 64",
                    "65 - 69",
                    "70 - 74",
                    "75 - 79",
                    "80 - 84",
                    "85 - 89",
                    "90 - 94",
                    "95 - 99",
                    "100+"
                  ],
                  "y": [
                    693.2897179631495,
                    747.4234431159423,
                    778.365923662687,
                    835.1988704186115,
                    898.1315215589723,
                    928.3048006709248,
                    1025.9773092389814,
                    1091.4560317768478,
                    1174.6625755900238,
                    1078.2194385343305,
                    1347.0845419800246,
                    1484.455096534859,
                    1412.864695875907,
                    1647.8021293312158,
                    1588.1818673055548,
                    1550.1695743183523,
                    1135.8967024576432,
                    705.8607238522596,
                    298.7503137666919,
                    61.824688268897376,
                    8.209219778577744
                  ],
                  "type": "scatter"
                }
              ],
              "layout": {
                "template": {
                  "data": {
                    "histogram2dcontour": [
                      {
                        "type": "histogram2dcontour",
                        "colorbar": {
                          "outlinewidth": 0,
                          "ticks": ""
                        },
                        "colorscale": [
                          [
                            0,
                            "#0d0887"
                          ],
                          [
                            0.1111111111111111,
                            "#46039f"
                          ],
                          [
                            0.2222222222222222,
                            "#7201a8"
                          ],
                          [
                            0.3333333333333333,
                            "#9c179e"
                          ],
                          [
                            0.4444444444444444,
                            "#bd3786"
                          ],
                          [
                            0.5555555555555556,
                            "#d8576b"
                          ],
                          [
                            0.6666666666666666,
                            "#ed7953"
                          ],
                          [
                            0.7777777777777778,
                            "#fb9f3a"
                          ],
                          [
                            0.8888888888888888,
                            "#fdca26"
                          ],
                          [
                            1,
                            "#f0f921"
                          ]
                        ]
                      }
                    ],
                    "choropleth": [
                      {
                        "type": "choropleth",
                        "colorbar": {
                          "outlinewidth": 0,
                          "ticks": ""
                        }
                      }
                    ],
                    "histogram2d": [
                      {
                        "type": "histogram2d",
                        "colorbar": {
                          "outlinewidth": 0,
                          "ticks": ""
                        },
                        "colorscale": [
                          [
                            0,
                            "#0d0887"
                          ],
                          [
                            0.1111111111111111,
                            "#46039f"
                          ],
                          [
                            0.2222222222222222,
                            "#7201a8"
                          ],
                          [
                            0.3333333333333333,
                            "#9c179e"
                          ],
                          [
                            0.4444444444444444,
                            "#bd3786"
                          ],
                          [
                            0.5555555555555556,
                            "#d8576b"
                          ],
                          [
                            0.6666666666666666,
                            "#ed7953"
                          ],
                          [
                            0.7777777777777778,
                            "#fb9f3a"
                          ],
                          [
                            0.8888888888888888,
                            "#fdca26"
                          ],
                          [
                            1,
                            "#f0f921"
                          ]
                        ]
                      }
                    ],
                    "heatmap": [
                      {
                        "type": "heatmap",
                        "colorbar": {
                          "outlinewidth": 0,
                          "ticks": ""
                        },
                        "colorscale": [
                          [
                            0,
                            "#0d0887"
                          ],
                          [
                            0.1111111111111111,
                            "#46039f"
                          ],
                          [
                            0.2222222222222222,
                            "#7201a8"
                          ],
                          [
                            0.3333333333333333,
                            "#9c179e"
                          ],
                          [
                            0.4444444444444444,
                            "#bd3786"
                          ],
                          [
                            0.5555555555555556,
                            "#d8576b"
                          ],
                          [
                            0.6666666666666666,
                            "#ed7953"
                          ],
                          [
                            0.7777777777777778,
                            "#fb9f3a"
                          ],
                          [
                            0.8888888888888888,
                            "#fdca26"
                          ],
                          [
                            1,
                            "#f0f921"
                          ]
                        ]
                      }
                    ],
                    "heatmapgl": [
                      {
                        "type": "heatmapgl",
                        "colorbar": {
                          "outlinewidth": 0,
                          "ticks": ""
                        },
                        "colorscale": [
                          [
                            0,
                            "#0d0887"
                          ],
                          [
                            0.1111111111111111,
                            "#46039f"
                          ],
                          [
                            0.2222222222222222,
                            "#7201a8"
                          ],
                          [
                            0.3333333333333333,
                            "#9c179e"
                          ],
                          [
                            0.4444444444444444,
                            "#bd3786"
                          ],
                          [
                            0.5555555555555556,
                            "#d8576b"
                          ],
                          [
                            0.6666666666666666,
                            "#ed7953"
                          ],
                          [
                            0.7777777777777778,
                            "#fb9f3a"
                          ],
                          [
                            0.8888888888888888,
                            "#fdca26"
                          ],
                          [
                            1,
                            "#f0f921"
                          ]
                        ]
                      }
                    ],
                    "contourcarpet": [
                      {
                        "type": "contourcarpet",
                        "colorbar": {
                          "outlinewidth": 0,
                          "ticks": ""
                        }
                      }
                    ],
                    "contour": [
                      {
                        "type": "contour",
                        "colorbar": {
                          "outlinewidth": 0,
                          "ticks": ""
                        },
                        "colorscale": [
                          [
                            0,
                            "#0d0887"
                          ],
                          [
                            0.1111111111111111,
                            "#46039f"
                          ],
                          [
                            0.2222222222222222,
                            "#7201a8"
                          ],
                          [
                            0.3333333333333333,
                            "#9c179e"
                          ],
                          [
                            0.4444444444444444,
                            "#bd3786"
                          ],
                          [
                            0.5555555555555556,
                            "#d8576b"
                          ],
                          [
                            0.6666666666666666,
                            "#ed7953"
                          ],
                          [
                            0.7777777777777778,
                            "#fb9f3a"
                          ],
                          [
                            0.8888888888888888,
                            "#fdca26"
                          ],
                          [
                            1,
                            "#f0f921"
                          ]
                        ]
                      }
                    ],
                    "surface": [
                      {
                        "type": "surface",
                        "colorbar": {
                          "outlinewidth": 0,
                          "ticks": ""
                        },
                        "colorscale": [
                          [
                            0,
                            "#0d0887"
                          ],
                          [
                            0.1111111111111111,
                            "#46039f"
                          ],
                          [
                            0.2222222222222222,
                            "#7201a8"
                          ],
                          [
                            0.3333333333333333,
                            "#9c179e"
                          ],
                          [
                            0.4444444444444444,
                            "#bd3786"
                          ],
                          [
                            0.5555555555555556,
                            "#d8576b"
                          ],
                          [
                            0.6666666666666666,
                            "#ed7953"
                          ],
                          [
                            0.7777777777777778,
                            "#fb9f3a"
                          ],
                          [
                            0.8888888888888888,
                            "#fdca26"
                          ],
                          [
                            1,
                            "#f0f921"
                          ]
                        ]
                      }
                    ],
                    "mesh3d": [
                      {
                        "type": "mesh3d",
                        "colorbar": {
                          "outlinewidth": 0,
                          "ticks": ""
                        }
                      }
                    ],
                    "scatter": [
                      {
                        "fillpattern": {
                          "fillmode": "overlay",
                          "size": 10,
                          "solidity": 0.2
                        },
                        "type": "scatter"
                      }
                    ],
                    "parcoords": [
                      {
                        "type": "parcoords",
                        "line": {
                          "colorbar": {
                            "outlinewidth": 0,
                            "ticks": ""
                          }
                        }
                      }
                    ],
                    "scatterpolargl": [
                      {
                        "type": "scatterpolargl",
                        "marker": {
                          "colorbar": {
                            "outlinewidth": 0,
                            "ticks": ""
                          }
                        }
                      }
                    ],
                    "bar": [
                      {
                        "error_x": {
                          "color": "#2a3f5f"
                        },
                        "error_y": {
                          "color": "#2a3f5f"
                        },
                        "marker": {
                          "line": {
                            "color": "#E5ECF6",
                            "width": 0.5
                          },
                          "pattern": {
                            "fillmode": "overlay",
                            "size": 10,
                            "solidity": 0.2
                          }
                        },
                        "type": "bar"
                      }
                    ],
                    "scattergeo": [
                      {
                        "type": "scattergeo",
                        "marker": {
                          "colorbar": {
                            "outlinewidth": 0,
                            "ticks": ""
                          }
                        }
                      }
                    ],
                    "scatterpolar": [
                      {
                        "type": "scatterpolar",
                        "marker": {
                          "colorbar": {
                            "outlinewidth": 0,
                            "ticks": ""
                          }
                        }
                      }
                    ],
                    "histogram": [
                      {
                        "marker": {
                          "pattern": {
                            "fillmode": "overlay",
                            "size": 10,
                            "solidity": 0.2
                          }
                        },
                        "type": "histogram"
                      }
                    ],
                    "scattergl": [
                      {
                        "type": "scattergl",
                        "marker": {
                          "colorbar": {
                            "outlinewidth": 0,
                            "ticks": ""
                          }
                        }
                      }
                    ],
                    "scatter3d": [
                      {
                        "type": "scatter3d",
                        "line": {
                          "colorbar": {
                            "outlinewidth": 0,
                            "ticks": ""
                          }
                        },
                        "marker": {
                          "colorbar": {
                            "outlinewidth": 0,
                            "ticks": ""
                          }
                        }
                      }
                    ],
                    "scattermapbox": [
                      {
                        "type": "scattermapbox",
                        "marker": {
                          "colorbar": {
                            "outlinewidth": 0,
                            "ticks": ""
                          }
                        }
                      }
                    ],
                    "scatterternary": [
                      {
                        "type": "scatterternary",
                        "marker": {
                          "colorbar": {
                            "outlinewidth": 0,
                            "ticks": ""
                          }
                        }
                      }
                    ],
                    "scattercarpet": [
                      {
                        "type": "scattercarpet",
                        "marker": {
                          "colorbar": {
                            "outlinewidth": 0,
                            "ticks": ""
                          }
                        }
                      }
                    ],
                    "carpet": [
                      {
                        "aaxis": {
                          "endlinecolor": "#2a3f5f",
                          "gridcolor": "white",
                          "linecolor": "white",
                          "minorgridcolor": "white",
                          "startlinecolor": "#2a3f5f"
                        },
                        "baxis": {
                          "endlinecolor": "#2a3f5f",
                          "gridcolor": "white",
                          "linecolor": "white",
                          "minorgridcolor": "white",
                          "startlinecolor": "#2a3f5f"
                        },
                        "type": "carpet"
                      }
                    ],
                    "table": [
                      {
                        "cells": {
                          "fill": {
                            "color": "#EBF0F8"
                          },
                          "line": {
                            "color": "white"
                          }
                        },
                        "header": {
                          "fill": {
                            "color": "#C8D4E3"
                          },
                          "line": {
                            "color": "white"
                          }
                        },
                        "type": "table"
                      }
                    ],
                    "barpolar": [
                      {
                        "marker": {
                          "line": {
                            "color": "#E5ECF6",
                            "width": 0.5
                          },
                          "pattern": {
                            "fillmode": "overlay",
                            "size": 10,
                            "solidity": 0.2
                          }
                        },
                        "type": "barpolar"
                      }
                    ],
                    "pie": [
                      {
                        "automargin": true,
                        "type": "pie"
                      }
                    ]
                  },
                  "layout": {
                    "autotypenumbers": "strict",
                    "colorway": [
                      "#636efa",
                      "#EF553B",
                      "#00cc96",
                      "#ab63fa",
                      "#FFA15A",
                      "#19d3f3",
                      "#FF6692",
                      "#B6E880",
                      "#FF97FF",
                      "#FECB52"
                    ],
                    "font": {
                      "color": "#2a3f5f"
                    },
                    "hovermode": "closest",
                    "hoverlabel": {
                      "align": "left"
                    },
                    "paper_bgcolor": "white",
                    "plot_bgcolor": "#E5ECF6",
                    "polar": {
                      "bgcolor": "#E5ECF6",
                      "angularaxis": {
                        "gridcolor": "white",
                        "linecolor": "white",
                        "ticks": ""
                      },
                      "radialaxis": {
                        "gridcolor": "white",
                        "linecolor": "white",
                        "ticks": ""
                      }
                    },
                    "ternary": {
                      "bgcolor": "#E5ECF6",
                      "aaxis": {
                        "gridcolor": "white",
                        "linecolor": "white",
                        "ticks": ""
                      },
                      "baxis": {
                        "gridcolor": "white",
                        "linecolor": "white",
                        "ticks": ""
                      },
                      "caxis": {
                        "gridcolor": "white",
                        "linecolor": "white",
                        "ticks": ""
                      }
                    },
                    "coloraxis": {
                      "colorbar": {
                        "outlinewidth": 0,
                        "ticks": ""
                      }
                    },
                    "colorscale": {
                      "sequential": [
                        [
                          0,
                          "#0d0887"
                        ],
                        [
                          0.1111111111111111,
                          "#46039f"
                        ],
                        [
                          0.2222222222222222,
                          "#7201a8"
                        ],
                        [
                          0.3333333333333333,
                          "#9c179e"
                        ],
                        [
                          0.4444444444444444,
                          "#bd3786"
                        ],
                        [
                          0.5555555555555556,
                          "#d8576b"
                        ],
                        [
                          0.6666666666666666,
                          "#ed7953"
                        ],
                        [
                          0.7777777777777778,
                          "#fb9f3a"
                        ],
                        [
                          0.8888888888888888,
                          "#fdca26"
                        ],
                        [
                          1,
                          "#f0f921"
                        ]
                      ],
                      "sequentialminus": [
                        [
                          0,
                          "#0d0887"
                        ],
                        [
                          0.1111111111111111,
                          "#46039f"
                        ],
                        [
                          0.2222222222222222,
                          "#7201a8"
                        ],
                        [
                          0.3333333333333333,
                          "#9c179e"
                        ],
                        [
                          0.4444444444444444,
                          "#bd3786"
                        ],
                        [
                          0.5555555555555556,
                          "#d8576b"
                        ],
                        [
                          0.6666666666666666,
                          "#ed7953"
                        ],
                        [
                          0.7777777777777778,
                          "#fb9f3a"
                        ],
                        [
                          0.8888888888888888,
                          "#fdca26"
                        ],
                        [
                          1,
                          "#f0f921"
                        ]
                      ],
                      "diverging": [
                        [
                          0,
                          "#8e0152"
                        ],
                        [
                          0.1,
                          "#c51b7d"
                        ],
                        [
                          0.2,
                          "#de77ae"
                        ],
                        [
                          0.3,
                          "#f1b6da"
                        ],
                        [
                          0.4,
                          "#fde0ef"
                        ],
                        [
                          0.5,
                          "#f7f7f7"
                        ],
                        [
                          0.6,
                          "#e6f5d0"
                        ],
                        [
                          0.7,
                          "#b8e186"
                        ],
                        [
                          0.8,
                          "#7fbc41"
                        ],
                        [
                          0.9,
                          "#4d9221"
                        ],
                        [
                          1,
                          "#276419"
                        ]
                      ]
                    },
                    "xaxis": {
                      "gridcolor": "white",
                      "linecolor": "white",
                      "ticks": "",
                      "title": {
                        "standoff": 15
                      },
                      "zerolinecolor": "white",
                      "automargin": true,
                      "zerolinewidth": 2
                    },
                    "yaxis": {
                      "gridcolor": "white",
                      "linecolor": "white",
                      "ticks": "",
                      "title": {
                        "standoff": 15
                      },
                      "zerolinecolor": "white",
                      "automargin": true,
                      "zerolinewidth": 2
                    },
                    "scene": {
                      "xaxis": {
                        "backgroundcolor": "#E5ECF6",
                        "gridcolor": "white",
                        "linecolor": "white",
                        "showbackground": true,
                        "ticks": "",
                        "zerolinecolor": "white",
                        "gridwidth": 2
                      },
                      "yaxis": {
                        "backgroundcolor": "#E5ECF6",
                        "gridcolor": "white",
                        "linecolor": "white",
                        "showbackground": true,
                        "ticks": "",
                        "zerolinecolor": "white",
                        "gridwidth": 2
                      },
                      "zaxis": {
                        "backgroundcolor": "#E5ECF6",
                        "gridcolor": "white",
                        "linecolor": "white",
                        "showbackground": true,
                        "ticks": "",
                        "zerolinecolor": "white",
                        "gridwidth": 2
                      }
                    },
                    "shapedefaults": {
                      "line": {
                        "color": "#2a3f5f"
                      }
                    },
                    "annotationdefaults": {
                      "arrowcolor": "#2a3f5f",
                      "arrowhead": 0,
                      "arrowwidth": 1
                    },
                    "geo": {
                      "bgcolor": "white",
                      "landcolor": "#E5ECF6",
                      "subunitcolor": "white",
                      "showland": true,
                      "showlakes": true,
                      "lakecolor": "white"
                    },
                    "title": {
                      "x": 0.05
                    },
                    "mapbox": {
                      "style": "light"
                    }
                  }
                },
                "title": {
                  "text": "Woman | True & Pred"
                },
                "legend": {
                  "title": {
                    "text": "year"
                  }
                },
                "xaxis": {
                  "title": {
                    "text": "Age Groups"
                  }
                },
                "yaxis": {
                  "title": {
                    "text": "Population"
                  }
                }
              },
              "config": {
                "plotlyServerURL": "https://plot.ly"
              }
            }
          },
          "metadata": {},
          "output_type": "display_data"
        }
      ],
      "metadata": {
        "datalore": {
          "node_id": "gbuGOMLS21OpAm7dOe0n5F",
          "type": "CODE",
          "hide_input_from_viewers": false,
          "hide_output_from_viewers": false,
          "report_properties": {
            "rowId": "X5mdpcI9i0yG6WjqRhmezZ"
          }
        },
        "id": "1xhEhc0h6eHD",
        "outputId": "efb3cc05-e0c3-4498-c21b-05a721bc7635"
      }
    },
    {
      "cell_type": "markdown",
      "source": [
        "## Summary\n",
        "\n",
        "As a result of first lab we have:\n",
        "- Determined the «survival» rates for all age groups according to 2000-2005 years for South Korea\n",
        "- Determined the fertility rate for women using the formula\n",
        "```\n",
        "# Pseudo\n",
        "women_df[AGE_GROUPS] / women_df[AGE_GROUPS].sum()\n",
        "```\n",
        "- Calculated boys/girls ratio for newborn children\n",
        "- Predicted the change in the country's population!"
      ],
      "metadata": {
        "datalore": {
          "node_id": "Kt5fxUxPLNtJKjSiCbkpyU",
          "type": "MD",
          "hide_input_from_viewers": true,
          "hide_output_from_viewers": true
        },
        "id": "jUEJF75L6eHD"
      }
    },
    {
      "cell_type": "code",
      "source": [
        "both_cleaned_2010_2050_df.head(100)"
      ],
      "execution_count": null,
      "outputs": [
        {
          "data": {
            "text/html": [
              "<div>\n",
              "<style scoped>\n",
              "    .dataframe tbody tr th:only-of-type {\n",
              "        vertical-align: middle;\n",
              "    }\n",
              "\n",
              "    .dataframe tbody tr th {\n",
              "        vertical-align: top;\n",
              "    }\n",
              "\n",
              "    .dataframe thead th {\n",
              "        text-align: right;\n",
              "    }\n",
              "</style>\n",
              "<table border=\"1\" class=\"dataframe\">\n",
              "  <thead>\n",
              "    <tr style=\"text-align: right;\">\n",
              "      <th></th>\n",
              "      <th>Index</th>\n",
              "      <th>Variant</th>\n",
              "      <th>Region</th>\n",
              "      <th>Notes</th>\n",
              "      <th>Country code</th>\n",
              "      <th>Year</th>\n",
              "      <th>0 - 4</th>\n",
              "      <th>5 - 9</th>\n",
              "      <th>10 - 14</th>\n",
              "      <th>15 - 19</th>\n",
              "      <th>...</th>\n",
              "      <th>SR: 55 - 59</th>\n",
              "      <th>SR: 60 - 64</th>\n",
              "      <th>SR: 65 - 69</th>\n",
              "      <th>SR: 70 - 74</th>\n",
              "      <th>SR: 75 - 79</th>\n",
              "      <th>SR: 80 - 84</th>\n",
              "      <th>SR: 85 - 89</th>\n",
              "      <th>SR: 90 - 94</th>\n",
              "      <th>SR: 95 - 99</th>\n",
              "      <th>FR</th>\n",
              "    </tr>\n",
              "  </thead>\n",
              "  <tbody>\n",
              "    <tr>\n",
              "      <th>0</th>\n",
              "      <td>77</td>\n",
              "      <td>Medium</td>\n",
              "      <td>Republic of Korea</td>\n",
              "      <td>NaN</td>\n",
              "      <td>410</td>\n",
              "      <td>2010</td>\n",
              "      <td>2223.961</td>\n",
              "      <td>2409.136</td>\n",
              "      <td>3062.623</td>\n",
              "      <td>3406.574</td>\n",
              "      <td>...</td>\n",
              "      <td>NaN</td>\n",
              "      <td>NaN</td>\n",
              "      <td>NaN</td>\n",
              "      <td>NaN</td>\n",
              "      <td>NaN</td>\n",
              "      <td>NaN</td>\n",
              "      <td>NaN</td>\n",
              "      <td>NaN</td>\n",
              "      <td>NaN</td>\n",
              "      <td>0.149204</td>\n",
              "    </tr>\n",
              "    <tr>\n",
              "      <th>1</th>\n",
              "      <td>77</td>\n",
              "      <td>Medium</td>\n",
              "      <td>Republic of Korea</td>\n",
              "      <td>NaN</td>\n",
              "      <td>410</td>\n",
              "      <td>2015</td>\n",
              "      <td>2175.622</td>\n",
              "      <td>2221.257</td>\n",
              "      <td>2407.181</td>\n",
              "      <td>3057.939</td>\n",
              "      <td>...</td>\n",
              "      <td>0.975775</td>\n",
              "      <td>0.960360</td>\n",
              "      <td>0.939552</td>\n",
              "      <td>0.901500</td>\n",
              "      <td>0.837870</td>\n",
              "      <td>0.747527</td>\n",
              "      <td>0.629097</td>\n",
              "      <td>0.486259</td>\n",
              "      <td>0.339103</td>\n",
              "      <td>0.154850</td>\n",
              "    </tr>\n",
              "    <tr>\n",
              "      <th>2</th>\n",
              "      <td>77</td>\n",
              "      <td>Medium</td>\n",
              "      <td>Republic of Korea</td>\n",
              "      <td>NaN</td>\n",
              "      <td>410</td>\n",
              "      <td>2020</td>\n",
              "      <td>2139.442</td>\n",
              "      <td>2173.203</td>\n",
              "      <td>2219.615</td>\n",
              "      <td>2403.462</td>\n",
              "      <td>...</td>\n",
              "      <td>0.978335</td>\n",
              "      <td>0.964539</td>\n",
              "      <td>0.944952</td>\n",
              "      <td>0.909980</td>\n",
              "      <td>0.851154</td>\n",
              "      <td>0.765558</td>\n",
              "      <td>0.655924</td>\n",
              "      <td>0.524606</td>\n",
              "      <td>0.375392</td>\n",
              "      <td>0.160792</td>\n",
              "    </tr>\n",
              "    <tr>\n",
              "      <th>3</th>\n",
              "      <td>77</td>\n",
              "      <td>Medium</td>\n",
              "      <td>Republic of Korea</td>\n",
              "      <td>NaN</td>\n",
              "      <td>410</td>\n",
              "      <td>2025</td>\n",
              "      <td>2106.516</td>\n",
              "      <td>2137.241</td>\n",
              "      <td>2171.738</td>\n",
              "      <td>2216.314</td>\n",
              "      <td>...</td>\n",
              "      <td>0.980419</td>\n",
              "      <td>0.967901</td>\n",
              "      <td>0.949823</td>\n",
              "      <td>0.917149</td>\n",
              "      <td>0.862665</td>\n",
              "      <td>0.783053</td>\n",
              "      <td>0.676976</td>\n",
              "      <td>0.551995</td>\n",
              "      <td>0.407866</td>\n",
              "      <td>0.175824</td>\n",
              "    </tr>\n",
              "    <tr>\n",
              "      <th>4</th>\n",
              "      <td>77</td>\n",
              "      <td>Medium</td>\n",
              "      <td>Republic of Korea</td>\n",
              "      <td>NaN</td>\n",
              "      <td>410</td>\n",
              "      <td>2030</td>\n",
              "      <td>1985.182</td>\n",
              "      <td>2104.446</td>\n",
              "      <td>2135.886</td>\n",
              "      <td>2168.626</td>\n",
              "      <td>...</td>\n",
              "      <td>0.981996</td>\n",
              "      <td>0.970266</td>\n",
              "      <td>0.953255</td>\n",
              "      <td>0.922834</td>\n",
              "      <td>0.871243</td>\n",
              "      <td>0.796287</td>\n",
              "      <td>0.694935</td>\n",
              "      <td>0.570722</td>\n",
              "      <td>0.429273</td>\n",
              "      <td>0.180728</td>\n",
              "    </tr>\n",
              "    <tr>\n",
              "      <th>5</th>\n",
              "      <td>77</td>\n",
              "      <td>Medium</td>\n",
              "      <td>Republic of Korea</td>\n",
              "      <td>NaN</td>\n",
              "      <td>410</td>\n",
              "      <td>2035</td>\n",
              "      <td>1844.970</td>\n",
              "      <td>1983.253</td>\n",
              "      <td>2103.172</td>\n",
              "      <td>2132.907</td>\n",
              "      <td>...</td>\n",
              "      <td>0.983148</td>\n",
              "      <td>0.972142</td>\n",
              "      <td>0.955730</td>\n",
              "      <td>0.926865</td>\n",
              "      <td>0.878121</td>\n",
              "      <td>0.805673</td>\n",
              "      <td>0.707854</td>\n",
              "      <td>0.585348</td>\n",
              "      <td>0.441382</td>\n",
              "      <td>0.189085</td>\n",
              "    </tr>\n",
              "    <tr>\n",
              "      <th>6</th>\n",
              "      <td>77</td>\n",
              "      <td>Medium</td>\n",
              "      <td>Republic of Korea</td>\n",
              "      <td>NaN</td>\n",
              "      <td>410</td>\n",
              "      <td>2040</td>\n",
              "      <td>1779.273</td>\n",
              "      <td>1843.177</td>\n",
              "      <td>1982.080</td>\n",
              "      <td>2100.311</td>\n",
              "      <td>...</td>\n",
              "      <td>0.984218</td>\n",
              "      <td>0.973834</td>\n",
              "      <td>0.958173</td>\n",
              "      <td>0.930459</td>\n",
              "      <td>0.884131</td>\n",
              "      <td>0.815215</td>\n",
              "      <td>0.719721</td>\n",
              "      <td>0.599391</td>\n",
              "      <td>0.454714</td>\n",
              "      <td>0.201252</td>\n",
              "    </tr>\n",
              "    <tr>\n",
              "      <th>7</th>\n",
              "      <td>77</td>\n",
              "      <td>Medium</td>\n",
              "      <td>Republic of Korea</td>\n",
              "      <td>NaN</td>\n",
              "      <td>410</td>\n",
              "      <td>2045</td>\n",
              "      <td>1779.313</td>\n",
              "      <td>1777.566</td>\n",
              "      <td>1842.097</td>\n",
              "      <td>1979.359</td>\n",
              "      <td>...</td>\n",
              "      <td>0.985058</td>\n",
              "      <td>0.975426</td>\n",
              "      <td>0.960438</td>\n",
              "      <td>0.934061</td>\n",
              "      <td>0.889542</td>\n",
              "      <td>0.823657</td>\n",
              "      <td>0.731984</td>\n",
              "      <td>0.612756</td>\n",
              "      <td>0.468532</td>\n",
              "      <td>0.208310</td>\n",
              "    </tr>\n",
              "    <tr>\n",
              "      <th>8</th>\n",
              "      <td>77</td>\n",
              "      <td>Medium</td>\n",
              "      <td>Republic of Korea</td>\n",
              "      <td>NaN</td>\n",
              "      <td>410</td>\n",
              "      <td>2050</td>\n",
              "      <td>1799.760</td>\n",
              "      <td>1777.651</td>\n",
              "      <td>1776.540</td>\n",
              "      <td>1839.492</td>\n",
              "      <td>...</td>\n",
              "      <td>0.985961</td>\n",
              "      <td>0.976642</td>\n",
              "      <td>0.962508</td>\n",
              "      <td>0.937350</td>\n",
              "      <td>0.894952</td>\n",
              "      <td>0.831397</td>\n",
              "      <td>0.743333</td>\n",
              "      <td>0.627483</td>\n",
              "      <td>0.482757</td>\n",
              "      <td>0.216650</td>\n",
              "    </tr>\n",
              "  </tbody>\n",
              "</table>\n",
              "<p>9 rows × 47 columns</p>\n",
              "</div>"
            ]
          },
          "metadata": {},
          "output_type": "display_data"
        }
      ],
      "metadata": {
        "datalore": {
          "node_id": "ivQuo8Ra2dfZgPJknYCxKT",
          "type": "CODE",
          "hide_input_from_viewers": true,
          "hide_output_from_viewers": true
        },
        "id": "yalLrZp06eHD",
        "outputId": "391a50dc-d639-4737-edbd-c841807c3c00"
      }
    },
    {
      "cell_type": "code",
      "source": [
        "both_pred_2010_2050_df.head(10)"
      ],
      "execution_count": null,
      "outputs": [
        {
          "data": {
            "text/html": [
              "<div>\n",
              "<style scoped>\n",
              "    .dataframe tbody tr th:only-of-type {\n",
              "        vertical-align: middle;\n",
              "    }\n",
              "\n",
              "    .dataframe tbody tr th {\n",
              "        vertical-align: top;\n",
              "    }\n",
              "\n",
              "    .dataframe thead th {\n",
              "        text-align: right;\n",
              "    }\n",
              "</style>\n",
              "<table border=\"1\" class=\"dataframe\">\n",
              "  <thead>\n",
              "    <tr style=\"text-align: right;\">\n",
              "      <th></th>\n",
              "      <th>Year</th>\n",
              "      <th>0 - 4</th>\n",
              "      <th>5 - 9</th>\n",
              "      <th>10 - 14</th>\n",
              "      <th>15 - 19</th>\n",
              "      <th>20 - 24</th>\n",
              "      <th>25 - 29</th>\n",
              "      <th>30 - 34</th>\n",
              "      <th>35 - 39</th>\n",
              "      <th>40 - 44</th>\n",
              "      <th>...</th>\n",
              "      <th>55 - 59</th>\n",
              "      <th>60 - 64</th>\n",
              "      <th>65 - 69</th>\n",
              "      <th>70 - 74</th>\n",
              "      <th>75 - 79</th>\n",
              "      <th>80 - 84</th>\n",
              "      <th>85 - 89</th>\n",
              "      <th>90 - 94</th>\n",
              "      <th>95 - 99</th>\n",
              "      <th>100+</th>\n",
              "    </tr>\n",
              "  </thead>\n",
              "  <tbody>\n",
              "    <tr>\n",
              "      <th>0</th>\n",
              "      <td>2010</td>\n",
              "      <td>2610.143974</td>\n",
              "      <td>2404.015500</td>\n",
              "      <td>3055.890146</td>\n",
              "      <td>3383.283920</td>\n",
              "      <td>3172.339461</td>\n",
              "      <td>3653.100000</td>\n",
              "      <td>3726.470780</td>\n",
              "      <td>4189.358350</td>\n",
              "      <td>4047.181089</td>\n",
              "      <td>...</td>\n",
              "      <td>2827.197064</td>\n",
              "      <td>2295.480788</td>\n",
              "      <td>1933.285383</td>\n",
              "      <td>1609.722135</td>\n",
              "      <td>1040.791078</td>\n",
              "      <td>541.641069</td>\n",
              "      <td>245.501564</td>\n",
              "      <td>70.670046</td>\n",
              "      <td>12.565971</td>\n",
              "      <td>1.272695</td>\n",
              "    </tr>\n",
              "    <tr>\n",
              "      <th>1</th>\n",
              "      <td>2015</td>\n",
              "      <td>2410.488648</td>\n",
              "      <td>2600.973007</td>\n",
              "      <td>2396.532458</td>\n",
              "      <td>3029.899907</td>\n",
              "      <td>3331.038916</td>\n",
              "      <td>3106.577993</td>\n",
              "      <td>3594.361149</td>\n",
              "      <td>3690.251980</td>\n",
              "      <td>4146.980495</td>\n",
              "      <td>...</td>\n",
              "      <td>3821.239205</td>\n",
              "      <td>2747.735283</td>\n",
              "      <td>2164.748570</td>\n",
              "      <td>1727.378427</td>\n",
              "      <td>1308.437347</td>\n",
              "      <td>730.903103</td>\n",
              "      <td>305.472629</td>\n",
              "      <td>100.223342</td>\n",
              "      <td>18.828949</td>\n",
              "      <td>1.926914</td>\n",
              "    </tr>\n",
              "    <tr>\n",
              "      <th>2</th>\n",
              "      <td>2020</td>\n",
              "      <td>2248.835233</td>\n",
              "      <td>2402.019187</td>\n",
              "      <td>2592.876890</td>\n",
              "      <td>2376.206624</td>\n",
              "      <td>2983.224973</td>\n",
              "      <td>3261.929083</td>\n",
              "      <td>3056.468208</td>\n",
              "      <td>3559.414947</td>\n",
              "      <td>3652.901056</td>\n",
              "      <td>...</td>\n",
              "      <td>3949.566948</td>\n",
              "      <td>3714.779068</td>\n",
              "      <td>2591.180812</td>\n",
              "      <td>1934.174546</td>\n",
              "      <td>1403.315788</td>\n",
              "      <td>914.673380</td>\n",
              "      <td>410.160861</td>\n",
              "      <td>124.904523</td>\n",
              "      <td>26.708578</td>\n",
              "      <td>2.883490</td>\n",
              "    </tr>\n",
              "    <tr>\n",
              "      <th>3</th>\n",
              "      <td>2025</td>\n",
              "      <td>2007.007616</td>\n",
              "      <td>2240.933755</td>\n",
              "      <td>2394.542359</td>\n",
              "      <td>2570.885790</td>\n",
              "      <td>2339.711653</td>\n",
              "      <td>2921.444978</td>\n",
              "      <td>3209.271752</td>\n",
              "      <td>3026.610962</td>\n",
              "      <td>3523.367494</td>\n",
              "      <td>...</td>\n",
              "      <td>3869.364676</td>\n",
              "      <td>3839.673019</td>\n",
              "      <td>3504.281292</td>\n",
              "      <td>2315.104398</td>\n",
              "      <td>1571.297977</td>\n",
              "      <td>980.255535</td>\n",
              "      <td>510.444967</td>\n",
              "      <td>166.834862</td>\n",
              "      <td>33.333314</td>\n",
              "      <td>4.090737</td>\n",
              "    </tr>\n",
              "    <tr>\n",
              "      <th>4</th>\n",
              "      <td>2030</td>\n",
              "      <td>1908.215092</td>\n",
              "      <td>1999.955821</td>\n",
              "      <td>2233.958342</td>\n",
              "      <td>2374.233404</td>\n",
              "      <td>2531.400838</td>\n",
              "      <td>2291.368785</td>\n",
              "      <td>2874.364988</td>\n",
              "      <td>3177.884832</td>\n",
              "      <td>2995.703150</td>\n",
              "      <td>...</td>\n",
              "      <td>3964.855427</td>\n",
              "      <td>3761.226368</td>\n",
              "      <td>3622.271770</td>\n",
              "      <td>3132.361802</td>\n",
              "      <td>1880.659733</td>\n",
              "      <td>1097.577920</td>\n",
              "      <td>546.536898</td>\n",
              "      <td>206.406491</td>\n",
              "      <td>44.314540</td>\n",
              "      <td>5.110043</td>\n",
              "    </tr>\n",
              "    <tr>\n",
              "      <th>5</th>\n",
              "      <td>2035</td>\n",
              "      <td>1753.147284</td>\n",
              "      <td>1901.510412</td>\n",
              "      <td>1993.730506</td>\n",
              "      <td>2215.011357</td>\n",
              "      <td>2337.768738</td>\n",
              "      <td>2479.097309</td>\n",
              "      <td>2254.521337</td>\n",
              "      <td>2846.325284</td>\n",
              "      <td>3145.364812</td>\n",
              "      <td>...</td>\n",
              "      <td>3492.309309</td>\n",
              "      <td>3854.101463</td>\n",
              "      <td>3547.682447</td>\n",
              "      <td>3238.046489</td>\n",
              "      <td>2546.329170</td>\n",
              "      <td>1313.573344</td>\n",
              "      <td>611.937231</td>\n",
              "      <td>220.782100</td>\n",
              "      <td>54.533289</td>\n",
              "      <td>6.773050</td>\n",
              "    </tr>\n",
              "    <tr>\n",
              "      <th>6</th>\n",
              "      <td>2040</td>\n",
              "      <td>1622.768088</td>\n",
              "      <td>1746.987449</td>\n",
              "      <td>1895.591531</td>\n",
              "      <td>1976.820977</td>\n",
              "      <td>2180.992103</td>\n",
              "      <td>2289.466014</td>\n",
              "      <td>2439.231003</td>\n",
              "      <td>2232.598083</td>\n",
              "      <td>2817.328958</td>\n",
              "      <td>...</td>\n",
              "      <td>3368.312791</td>\n",
              "      <td>3394.640120</td>\n",
              "      <td>3635.349692</td>\n",
              "      <td>3170.639300</td>\n",
              "      <td>2632.508137</td>\n",
              "      <td>1780.265275</td>\n",
              "      <td>732.294534</td>\n",
              "      <td>247.196309</td>\n",
              "      <td>58.278643</td>\n",
              "      <td>8.306151</td>\n",
              "    </tr>\n",
              "    <tr>\n",
              "      <th>7</th>\n",
              "      <td>2045</td>\n",
              "      <td>1553.516998</td>\n",
              "      <td>1617.066351</td>\n",
              "      <td>1741.549555</td>\n",
              "      <td>1879.514353</td>\n",
              "      <td>1946.459971</td>\n",
              "      <td>2135.928681</td>\n",
              "      <td>2252.649165</td>\n",
              "      <td>2415.511609</td>\n",
              "      <td>2209.981119</td>\n",
              "      <td>...</td>\n",
              "      <td>2861.927590</td>\n",
              "      <td>3274.001545</td>\n",
              "      <td>3201.824981</td>\n",
              "      <td>3249.070754</td>\n",
              "      <td>2576.808897</td>\n",
              "      <td>1840.779368</td>\n",
              "      <td>993.658939</td>\n",
              "      <td>295.786318</td>\n",
              "      <td>65.249784</td>\n",
              "      <td>8.871405</td>\n",
              "    </tr>\n",
              "    <tr>\n",
              "      <th>8</th>\n",
              "      <td>2050</td>\n",
              "      <td>1436.083250</td>\n",
              "      <td>1548.058581</td>\n",
              "      <td>1612.032866</td>\n",
              "      <td>1726.778861</td>\n",
              "      <td>1850.647831</td>\n",
              "      <td>1906.242426</td>\n",
              "      <td>2101.580862</td>\n",
              "      <td>2230.744116</td>\n",
              "      <td>2391.041670</td>\n",
              "      <td>...</td>\n",
              "      <td>3004.395170</td>\n",
              "      <td>2780.441203</td>\n",
              "      <td>3087.903776</td>\n",
              "      <td>2861.433965</td>\n",
              "      <td>2640.651007</td>\n",
              "      <td>1800.949939</td>\n",
              "      <td>1027.613751</td>\n",
              "      <td>401.870529</td>\n",
              "      <td>78.068536</td>\n",
              "      <td>9.932454</td>\n",
              "    </tr>\n",
              "  </tbody>\n",
              "</table>\n",
              "<p>9 rows × 22 columns</p>\n",
              "</div>"
            ]
          },
          "metadata": {},
          "output_type": "display_data"
        }
      ],
      "metadata": {
        "datalore": {
          "node_id": "ijYBXiKtR4egSjKph4NmpV",
          "type": "CODE",
          "hide_input_from_viewers": true,
          "hide_output_from_viewers": true
        },
        "id": "QTAabMH66eHD",
        "outputId": "8c9633bd-7757-41ad-b2f0-40e89629eaf4"
      }
    },
    {
      "cell_type": "code",
      "source": [
        "# SAVE DATA 4 LAB 2\n",
        "both_cleaned_2010_2050_df.to_csv(f\"./both_cleaned_2010_2050_df.csv\", index=False)\n",
        "both_pred_2010_2050_df.to_csv(f\"./both_pred_2010_2050_df.csv\", index=False)"
      ],
      "execution_count": null,
      "outputs": [],
      "metadata": {
        "datalore": {
          "node_id": "eZzi8xdQigEUZ8gk5UIMEC",
          "type": "CODE",
          "hide_input_from_viewers": true,
          "hide_output_from_viewers": true
        },
        "id": "UhLxjEcb6eHD"
      }
    }
  ],
  "metadata": {
    "kernelspec": {
      "display_name": "Python",
      "language": "python",
      "name": "python"
    },
    "datalore": {
      "computation_mode": "JUPYTER",
      "package_manager": "pip",
      "base_environment": "default",
      "packages": [],
      "report_row_ids": [
        "0abSkfJBhMMDOckYgPfSfb",
        "bv6n6uafKENkrzIdbL1Hy4",
        "C5l7K9SPzjcGARgjWeHg0O",
        "COj9MrCF9jLYoc16ZmvMV9",
        "pCY5uxHHyT2RIJdD8ue2ao",
        "Lb0j8fsqBFHmT0JRKbSYsx",
        "n5IixPIMRKdzLpr2HBMr6K",
        "o85Z2nQF7zUEQj8BAAzaIb",
        "IN2XfQwQHftx0GLGYaVBUu",
        "ub6zPSCbTqoGklK3xxwnXB",
        "AY4DgESR3V6cMWP7lD59ab",
        "xE3e91Go86Vymc7UXFZSnJ",
        "bDK2ybYh4Pk5VNzm2jYpGP",
        "VyMAmRDREYn6euAF8Uf8LS",
        "V7YuqEi1SZm88vx9eLAvLq",
        "mB843l99zu6xsyke2BfKke",
        "LL2xpZpVMCzDLBA87RfKJ7",
        "QSb2HRCAn9xChK5T8oV3IY",
        "mTO5Qz5FGrZPCjN270VtYe",
        "wa9O70AH9vNK10JanuAoNZ",
        "vuGY13Jeh3xyqfKF1QsOsJ",
        "HpJ5g38oFeliU2mmk1gZsG",
        "inm7rLlTre8QreIZF9QgSY",
        "R5QQSCzqtLjLW2FsQvQLag",
        "jGD2afxcvob0oFptuz8hGb",
        "Unn3npPjB3rNeuuSovIlbE",
        "vuDwh7ZPMmEANJKBgHILzE",
        "5xupoEcNyxw763gKrTKR9E",
        "oQDRxu6mIPoOX7mAxoigRv",
        "3TPQ6Wyaupx4OWR8zZnr2D",
        "ehlP3iJxBzZjtdiFRMPBA9",
        "TsQPZXJ0dYDiCRMO2N7PcP",
        "QH4Klfl1BMZdgeEJkBMrZB",
        "rcpxRoTCRRSoj07w53jSOf",
        "lFMv9FhnsvNsarhJVqbdwV",
        "kYIyQvQF8xnOmNEr0dVPGc",
        "bu8WBQrI1eVXN8iSyiyurs",
        "4LZ9cp4DWASaiPOnGBpf8q",
        "ejPdfZr28Vy6zXO5LDs7bU",
        "4iyxBMLaYb7Q0LZQtmjt81",
        "35y0OEASH1yqimEfUNRu95",
        "iPoElqN9B08W173I3mP51t",
        "1g8AgNK5HOEzg3kdtPARfp",
        "Utat5tCR5EDiWse3dvqnB2",
        "Cw9lGyBSZOmtGcKS7jgcFy",
        "RRpP8eSbsU1MDLRvEhsBcU",
        "4q6geUo9ZaIxK8iWBw1EbV",
        "9RgXjODSOD6WKr8mnN6LEz",
        "98f1BksfkBzmRoF6freNl6",
        "X5mdpcI9i0yG6WjqRhmezZ"
      ],
      "version": 3
    },
    "colab": {
      "provenance": []
    }
  },
  "nbformat": 4,
  "nbformat_minor": 0
}